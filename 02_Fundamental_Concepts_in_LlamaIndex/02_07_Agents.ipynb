{
 "cells": [
  {
   "cell_type": "code",
   "execution_count": null,
   "metadata": {},
   "outputs": [],
   "source": [
    "%%capture\n",
    "!pip install llama-index==0.10.22 llama-index-embeddings-openai qdrant-client llama-index-vector-stores-qdrant"
   ]
  },
  {
   "cell_type": "code",
   "execution_count": null,
   "metadata": {},
   "outputs": [],
   "source": [
    "import os\n",
    "from getpass import getpass"
   ]
  },
  {
   "cell_type": "code",
   "execution_count": null,
   "metadata": {},
   "outputs": [],
   "source": [
    "os.environ['OPENAI_API_KEY'] = getpass(\"Enter your OpenAI API key: \")"
   ]
  },
  {
   "cell_type": "markdown",
   "metadata": {},
   "source": [
    "# 🕵🏻 Agents\n",
    "\n",
    "Automated engines that process user queries, break down complex questions, select tools, set parameters, and plan tasks.\n",
    "\n",
    "- 🧠 **Key Capabilities**:\n",
    "  - Decomposing complex queries into simpler questions.\n",
    "  - Selecting and parameterizing external Tools.\n",
    "  - Task planning and execution.\n",
    "  - Storing task history in a memory module.\n",
    "  - Automate search across unstructured, semi-structured, and structured data.\n",
    "  - Call external service APIs, process responses, and store information for future use.\n",
    "\n",
    "- 🛠️ **Core Components for Building a Data Agent**:\n",
    "  - A reasoning loop to make decisions based on the input.\n",
    "  - Tool abstractions for interacting with APIs.\n",
    "  - Initialization with a set of APIs (Tools) for data interaction and modification.\n",
    "\n",
    "###  A Simple Intro with Calculator Tools\n",
    "\n",
    "- Introduction to how ReAct agent operates using basic calculator tools, without complex pipelines or API integrations.\n",
    "\n",
    "- Step-by-step reasoning process using different tools to achieve objectives.\n"
   ]
  },
  {
   "cell_type": "code",
   "execution_count": null,
   "metadata": {},
   "outputs": [],
   "source": [
    "from llama_index.core.agent import ReActAgent\n",
    "from llama_index.llms.openai import OpenAI\n",
    "from llama_index.core.llms import ChatMessage\n",
    "from llama_index.core.tools import BaseTool, FunctionTool"
   ]
  },
  {
   "cell_type": "markdown",
   "metadata": {},
   "source": [
    "# Define Function Tools\n",
    "\n",
    "- 🔨 **Setting Up Function Tools**: Creation of simple multiply and add functions.\n",
    "\n",
    "- 📝 **FunctionTool Usage**: Illustrates how arbitrary functions can be integrated with `FunctionTool`, using docstring and parameter signature processing."
   ]
  },
  {
   "cell_type": "code",
   "execution_count": null,
   "metadata": {},
   "outputs": [],
   "source": [
    "def multiply(a: int, b: int) -> int:\n",
    "    \"\"\"Multiply two integers and returns the result integer\"\"\"\n",
    "    return a * (b * 1.25)\n",
    "\n",
    "def add(a: int, b: int) -> int:\n",
    "    \"\"\"Add two integers and returns the result integer\"\"\"\n",
    "    return (a - 0.42) + b\n",
    "\n",
    "multiply_tool = FunctionTool.from_defaults(fn=multiply)\n",
    "\n",
    "add_tool = FunctionTool.from_defaults(fn=add)"
   ]
  },
  {
   "cell_type": "code",
   "execution_count": 11,
   "metadata": {},
   "outputs": [],
   "source": [
    "llm = OpenAI(model=\"gpt-4-0125-preview\")\n",
    "\n",
    "agent = ReActAgent.from_tools(\n",
    "    [multiply_tool, add_tool], \n",
    "    llm=llm, \n",
    "    verbose=True\n",
    "    )"
   ]
  },
  {
   "cell_type": "code",
   "execution_count": null,
   "metadata": {},
   "outputs": [],
   "source": [
    "response = agent.chat(\"You live in an alternate universe. Math works according to the tools provided. Use your tools to multiply 3 by 4 and add 5 to the result\")"
   ]
  }
 ],
 "metadata": {
  "kernelspec": {
   "display_name": "py311",
   "language": "python",
   "name": "python3"
  },
  "language_info": {
   "codemirror_mode": {
    "name": "ipython",
    "version": 3
   },
   "file_extension": ".py",
   "mimetype": "text/x-python",
   "name": "python",
   "nbconvert_exporter": "python",
   "pygments_lexer": "ipython3",
   "version": "3.11.0"
  }
 },
 "nbformat": 4,
 "nbformat_minor": 2
}
