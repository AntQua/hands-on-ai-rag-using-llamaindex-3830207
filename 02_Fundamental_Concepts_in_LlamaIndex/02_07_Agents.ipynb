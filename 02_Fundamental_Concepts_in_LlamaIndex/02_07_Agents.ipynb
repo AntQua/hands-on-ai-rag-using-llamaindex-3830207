{
 "cells": [
  {
   "cell_type": "code",
   "execution_count": null,
   "metadata": {},
   "outputs": [],
   "source": [
    "%%capture\n",
    "!pip install llama-index==0.10.25 llama-index-embeddings-cohere llama-index-llms-cohere qdrant-client llama-index-vector-stores-qdrant "
   ]
  },
  {
   "cell_type": "code",
   "execution_count": null,
   "metadata": {},
   "outputs": [],
   "source": [
    "import os\n",
    "from getpass import getpass"
   ]
  },
  {
   "cell_type": "code",
   "execution_count": null,
   "metadata": {},
   "outputs": [],
   "source": [
    "CO_API_KEY = os.environ['CO_API_KEY'] or getpass(\"Enter your Cohere API key: \")"
   ]
  },
  {
   "cell_type": "markdown",
   "metadata": {},
   "source": [
    "# 🕵🏻 Agents\n",
    "\n",
    "Automated engines that process user queries, break down complex questions, select tools, set parameters, and plan tasks.\n",
    "\n",
    "- 🧠 **Key Capabilities**:\n",
    "  - Decomposing complex queries into simpler questions.\n",
    "  - Selecting and parameterizing external Tools.\n",
    "  - Task planning and execution.\n",
    "  - Storing task history in a memory module.\n",
    "  - Automate search across unstructured, semi-structured, and structured data.\n",
    "  - Call external service APIs, process responses, and store information for future use.\n",
    "\n",
    "- 🛠️ **Core Components for Building a Data Agent**:\n",
    "  - A reasoning loop to make decisions based on the input.\n",
    "  - Tool abstractions for interacting with APIs.\n",
    "  - Initialization with a set of APIs (Tools) for data interaction and modification.\n",
    "\n",
    "###  A Simple Intro with Calculator Tools\n",
    "\n",
    "- Introduction to how ReAct agent operates using basic calculator tools, without complex pipelines or API integrations.\n",
    "\n",
    "- Step-by-step reasoning process using different tools to achieve objectives.\n"
   ]
  },
  {
   "cell_type": "code",
   "execution_count": null,
   "metadata": {},
   "outputs": [],
   "source": [
    "from llama_index.core.agent import ReActAgent\n",
    "from llama_index.llms.cohere import Cohere\n",
    "from llama_index.core.llms import ChatMessage\n",
    "from llama_index.core.tools import BaseTool, FunctionTool"
   ]
  },
  {
   "cell_type": "markdown",
   "metadata": {},
   "source": [
    "# Define Function Tools\n",
    "\n",
    "- 🔨 **Setting Up Function Tools**: Creation of simple multiply and add functions.\n",
    "\n",
    "- 📝 **FunctionTool Usage**: Illustrates how arbitrary functions can be integrated with `FunctionTool`, using docstring and parameter signature processing."
   ]
  },
  {
   "cell_type": "code",
   "execution_count": null,
   "metadata": {},
   "outputs": [],
   "source": [
    "def multiply(a: int, b: int) -> int:\n",
    "    \"\"\"\n",
    "    Multiplies two integers in an alternative universe's mathematical rules. \n",
    "    Specifically, it multiplies the second integer by 1.25 and then multiplies the result with the first integer. \n",
    "    Returns the final multiplication result as an integer.\n",
    "    \n",
    "    Parameters:\n",
    "    a (int): The first integer to multiply.\n",
    "    b (int): The second integer, which is first multiplied by 1.25 before the overall multiplication.\n",
    "\n",
    "    Returns:\n",
    "    int: The result of the alternative universe multiplication.\n",
    "    \"\"\"\n",
    "    return a * (b * 1.25)\n",
    "\n",
    "def add(a: int, b: int) -> int:\n",
    "    \"\"\"\n",
    "    Adds two integers in an alternate universe's mathematical rules.\n",
    "    Specifically, it subtracts 0.42 from the first integer, then adds the second integer to the result.\n",
    "    This operation reflects the unique arithmetic properties of this universe.\n",
    "    \n",
    "    Parameters:\n",
    "    a (int): The first integer, from which 0.42 is subtracted before addition.\n",
    "    b (int): The second integer, added to the adjusted first integer.\n",
    "\n",
    "    Returns:\n",
    "    int: The result of the alternate universe addition, rounded to the nearest integer.\n",
    "    \"\"\"\n",
    "    return (a - 0.42) + b\n",
    "\n",
    "multiply_tool = FunctionTool.from_defaults(\n",
    "    fn=multiply, \n",
    "    name=\"multiply\", \n",
    "    )\n",
    "\n",
    "add_tool = FunctionTool.from_defaults(\n",
    "    fn=add,\n",
    "    name=\"add\",\n",
    "    )"
   ]
  },
  {
   "cell_type": "code",
   "execution_count": null,
   "metadata": {},
   "outputs": [],
   "source": [
    "multiply_tool.metadata.__dict__"
   ]
  },
  {
   "cell_type": "code",
   "execution_count": null,
   "metadata": {},
   "outputs": [],
   "source": [
    "llm = Cohere(model=\"command-r\")\n",
    "\n",
    "agent = ReActAgent.from_tools(\n",
    "    [multiply_tool, add_tool], \n",
    "    llm=llm, \n",
    "    verbose=True\n",
    "    )"
   ]
  },
  {
   "cell_type": "code",
   "execution_count": null,
   "metadata": {},
   "outputs": [],
   "source": [
    "agent_prompts = agent.get_prompts()"
   ]
  },
  {
   "cell_type": "code",
   "execution_count": null,
   "metadata": {},
   "outputs": [],
   "source": [
    "print(agent_prompts['agent_worker:system_prompt'].template)"
   ]
  },
  {
   "cell_type": "code",
   "execution_count": null,
   "metadata": {},
   "outputs": [],
   "source": [
    "add(multiply(3,4), 5)"
   ]
  },
  {
   "cell_type": "code",
   "execution_count": null,
   "metadata": {},
   "outputs": [],
   "source": [
    "response = agent.chat(\"\"\"You live in an alternate universe. Math works according to the tools provided. Use the provided tools to multiply 3 by 4 and add 5 to the result\"\"\")"
   ]
  }
 ],
 "metadata": {
  "kernelspec": {
   "display_name": "py311",
   "language": "python",
   "name": "python3"
  },
  "language_info": {
   "codemirror_mode": {
    "name": "ipython",
    "version": 3
   },
   "file_extension": ".py",
   "mimetype": "text/x-python",
   "name": "python",
   "nbconvert_exporter": "python",
   "pygments_lexer": "ipython3",
   "version": "3.10.14"
  }
 },
 "nbformat": 4,
 "nbformat_minor": 2
}
