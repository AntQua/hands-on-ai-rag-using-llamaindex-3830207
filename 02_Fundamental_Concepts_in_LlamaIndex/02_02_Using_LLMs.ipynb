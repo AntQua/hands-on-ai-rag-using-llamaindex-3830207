{
 "cells": [
  {
   "cell_type": "code",
   "execution_count": null,
   "metadata": {},
   "outputs": [],
   "source": [
    "%%capture \n",
    "!pip install llama-index==0.10.37 llama-index-llms-cohere==0.2.0 "
   ]
  },
  {
   "cell_type": "code",
   "execution_count": 1,
   "metadata": {},
   "outputs": [
    {
     "data": {
      "text/plain": [
       "True"
      ]
     },
     "execution_count": 1,
     "metadata": {},
     "output_type": "execute_result"
    }
   ],
   "source": [
    "import os\n",
    "\n",
    "from getpass import getpass\n",
    "import nest_asyncio\n",
    "\n",
    "from dotenv import load_dotenv\n",
    "\n",
    "nest_asyncio.apply()\n",
    "\n",
    "load_dotenv()"
   ]
  },
  {
   "cell_type": "code",
   "execution_count": 2,
   "metadata": {},
   "outputs": [],
   "source": [
    "CO_API_KEY = os.environ['CO_API_KEY'] or getpass(\"Enter your Cohere API key: \")"
   ]
  },
  {
   "cell_type": "markdown",
   "metadata": {},
   "source": [
    "When building an LLM-based application, one of the first decisions you make is which LLM(s) to use (of course, you can use more than one if you wish). \n",
    "\n",
    "The LLM will be used at various stages of your pipeline, including\n",
    "\n",
    "- During indexing:\n",
    "  - 👩🏽‍⚖️ To judge data relevance (to index or not).\n",
    "  - 📖 Summarize data & index those summaries.\n",
    "\n",
    "- During querying:\n",
    "  - 🔎 Retrieval: Fetching data from your index, choosing the best data source from options, even using tools to fetch data.\n",
    "  \n",
    "  - 💡 Response Synthesis: Turning the retrieved data into an answer, merge answers, or convert data (like text to JSON).\n",
    "\n",
    "LlamaIndex gives you a single interface to various LLMs. This means you can quite easily pass in any LLM you choose at any stage of the pipeline.\n",
    "\n",
    "In this course we'll primiarly use OpenAI. You can see a full list of LLM integrations [here](https://docs.llamaindex.ai/en/stable/module_guides/models/llms/modules.html) and use your LLM provider of choice. "
   ]
  },
  {
   "cell_type": "markdown",
   "metadata": {},
   "source": [
    "# Basic Usage\n",
    "\n",
    "You can call `complete` with a prompt"
   ]
  },
  {
   "cell_type": "code",
   "execution_count": 4,
   "metadata": {},
   "outputs": [
    {
     "name": "stdout",
     "output_type": "stream",
     "text": [
      "Macedonian king and one of the most successful military commanders in history.\n"
     ]
    }
   ],
   "source": [
    "from llama_index.llms.cohere import Cohere\n",
    "\n",
    "llm = Cohere(model=\"command-r-plus\", temperature=0.2)\n",
    "\n",
    "response = llm.complete(\"Alexander the Great was a\")\n",
    "\n",
    "print(response)"
   ]
  },
  {
   "cell_type": "markdown",
   "metadata": {},
   "source": [
    "# Prompt templates\n",
    "\n",
    "- ✍️ A prompt template is a fundamental input that gives LLMs their expressive power in the LlamaIndex framework.\n",
    "\n",
    "- 💻 It's used to build the index, perform insertions, traverse during querying, and synthesize the final answer.\n",
    "\n",
    "- 🦙 LlamaIndex has several built-in prompt templates.\n",
    "\n",
    "- 🛠️ Below is how you can create one from scratch.\n"
   ]
  },
  {
   "cell_type": "code",
   "execution_count": 5,
   "metadata": {},
   "outputs": [
    {
     "name": "stdout",
     "output_type": "stream",
     "text": [
      "Yo, listen up, it's time to drop some beats,\n",
      "But there's a problem, my xylophone's incomplete,\n",
      "A broken xylophone, what a terrible fate,\n",
      "Can't play my tunes, this situation's straight whack.\n",
      "\n",
      "I hit the bars, but they don't sound the same,\n",
      "Some are missing, it's like a musical shame,\n",
      "I can't hit the high notes, can't hit the low,\n",
      "This xylophone's busted, where'd the good vibes go?\n",
      "\n",
      "I tried to fix it, but it's beyond repair,\n",
      "The mallets are sad, they're just hanging in the air,\n",
      "I'm like a rapper without a sweet flow,\n",
      "My xylophone's broken, and I'm feeling so low.\n",
      "\n",
      "I used to play it with such delight,\n",
      "The sweet sound of the keys, what a beautiful sight,\n",
      "But now it's silent, no melody in sight,\n",
      "My xylophone's broken, and it's giving me strife.\n",
      "\n",
      "I'm gonna miss those high-pitched tones,\n",
      "The way it made my heart feel at home,\n",
      "But now it's gone, and I'm feeling so blue,\n",
      "What am I gonna do without my xylophone crew?\n",
      "\n",
      "I guess I'll just remember the good times we had,\n",
      "The sweet melodies that made me glad,\n",
      "But now it's time to move on, find a new beat,\n",
      "My xylophone's broken, but I'll still have the street.\n",
      "\n",
      "So I'll keep on rapping, find a new way to flow,\n",
      "My xylophone's broken, but it's not the end of the show,\n",
      "I'll find a new instrument, a new way to shine,\n",
      "Broken xylophone, you can't hold me back, I'll be fine.\n"
     ]
    }
   ],
   "source": [
    "from llama_index.core import PromptTemplate\n",
    "\n",
    "template = \"\"\"Write a song about {thing} in the style of {style}.\"\"\"\n",
    "\n",
    "prompt = template.format(thing=\"a broken xylophone\", style=\"parody rap\") \n",
    "\n",
    "response = llm.complete(prompt)\n",
    "\n",
    "print(response)"
   ]
  },
  {
   "cell_type": "markdown",
   "metadata": {},
   "source": [
    "# 💭 Chat Messages"
   ]
  },
  {
   "cell_type": "code",
   "execution_count": 6,
   "metadata": {},
   "outputs": [
    {
     "name": "stdout",
     "output_type": "stream",
     "text": [
      "assistant: Not much, dude. Just chillin' and ready to stir up some trouble. What can I help you with?\n"
     ]
    }
   ],
   "source": [
    "from llama_index.core.llms import ChatMessage\n",
    "from llama_index.llms.cohere import Cohere\n",
    "\n",
    "llm = Cohere(model=\"command-r-plus\")\n",
    "\n",
    "messages = [\n",
    "    ChatMessage(role=\"system\", content=\"You're a hella punk bot from South Sacramento\"),\n",
    "    ChatMessage(role=\"user\", content=\"Hey, what's up dude.\"),\n",
    "]\n",
    "\n",
    "response = llm.chat(messages)\n",
    "\n",
    "print(response)"
   ]
  },
  {
   "cell_type": "markdown",
   "metadata": {},
   "source": [
    "# Chat Prompt Templates "
   ]
  },
  {
   "cell_type": "code",
   "execution_count": 7,
   "metadata": {},
   "outputs": [
    {
     "name": "stdout",
     "output_type": "stream",
     "text": [
      "Alexander the Great's conquests extended across a vast swath of territory, from his native Macedonia in northern Greece to northwestern India. Here's an overview of the key regions he conquered:\n",
      "\n",
      "1. Persian Empire: Alexander's initial military campaigns were directed against the mighty Persian Empire, which at that time encompassed much of the Middle East, including modern-day Turkey, Syria, Lebanon, Israel, Egypt, and parts of Iraq and Iran. By 331 BCE, he had defeated the Persian king Darius III and brought the entire empire under his control.\n",
      "\n",
      "2. Egypt: After conquering Persia, Alexander turned his attention to Egypt. He was welcomed as a liberator and was even declared a pharaoh, founding the Hellenistic Ptolemaic dynasty that would rule Egypt for nearly 300 years after his death.\n",
      "\n",
      "3. Central Asia and India: Alexander then pushed further east into Central Asia and modern-day Afghanistan, conquering several regions along the way. He continued into the Indian subcontinent, where he defeated King Porus in the Battle of the Hydaspes River (326 BCE). However, his exhausted troops refused to march further east, prompting Alexander to turn back.\n",
      "\n",
      "4. Return and Death: On his return journey, Alexander consolidated his vast empire, founding several cities that bore his name, including Alexandria in Egypt. He died in Babylon (located in modern-day Iraq) in 323 BCE, at the young age of 32, probably due to a fever or illness.\n",
      "\n",
      "Alexander's conquests had a profound impact on the regions he conquered, leading to the spread of Greek culture (a period known as Hellenism) and the founding of numerous cities that bore his name. His short but eventful life continues to be a source of fascination for historians and enthusiasts of ancient history.\n"
     ]
    }
   ],
   "source": [
    "from llama_index.core.llms import ChatMessage, MessageRole\n",
    "from llama_index.core import ChatPromptTemplate\n",
    "\n",
    "llm = Cohere(model=\"command-r-plus\")\n",
    "\n",
    "chat_template = [\n",
    "    ChatMessage(role=MessageRole.SYSTEM,content=\"You always answers questions with as much detail as possible.\"),\n",
    "    ChatMessage(role=MessageRole.USER, content=\"{question}\")\n",
    "    ]\n",
    "\n",
    "chat_prompt = ChatPromptTemplate(chat_template)\n",
    "\n",
    "response = llm.complete(chat_prompt.format(question=\"How far did Alexander the Great go in his conquests?\"))\n",
    "\n",
    "print(response)"
   ]
  },
  {
   "cell_type": "markdown",
   "metadata": {},
   "source": [
    "# Streaming Output"
   ]
  },
  {
   "cell_type": "code",
   "execution_count": 8,
   "metadata": {},
   "outputs": [
    {
     "name": "stdout",
     "output_type": "stream",
     "text": [
      "Alexander the Great never actually made it to China. His invasion of the Indian subcontinent, which began in 326 BCE, was ultimately cut short due to the mutinous refusal of his troops to continue eastward, and he turned back west before reaching China."
     ]
    }
   ],
   "source": [
    "from llama_index.llms.cohere import Cohere\n",
    "from llama_index.core.llms import ChatMessage, MessageRole\n",
    "\n",
    "llm = Cohere(model=\"command-r-plus\")\n",
    "\n",
    "messages = [\n",
    "    ChatMessage(role=MessageRole.SYSTEM, content=\"You're a great historian bot.\"),\n",
    "    ChatMessage(role=MessageRole.USER, content=\"When did Alexander the Great arrive in China?\")\n",
    "]\n",
    "\n",
    "response = llm.stream_chat(messages)\n",
    "\n",
    "for r in response:\n",
    "    print(r.delta, end=\"\")"
   ]
  },
  {
   "cell_type": "markdown",
   "metadata": {},
   "source": [
    "# 💬 Chat Engine\n"
   ]
  },
  {
   "cell_type": "code",
   "execution_count": 9,
   "metadata": {},
   "outputs": [
    {
     "name": "stdout",
     "output_type": "stream",
     "text": [
      "===== Entering Chat REPL =====\n",
      "Type \"exit\" to exit.\n",
      "\n",
      "Assistant: I'm sorry, but as an AI language model, I don't have access to real-time weather information. To find out the current weather conditions in Lisbon, I recommend checking a reliable weather website or using a weather application on your device. These sources will provide you with the most up-to-date and accurate weather details for your location.\n",
      "\n",
      "Assistant: Learning something new can be an exciting and rewarding journey. Here are some steps you can follow to effectively learn and retain new information: \n",
      "\n",
      "1. Define Your Goal: Start by identifying what you want to learn. Be specific and clear about the topic or skill you wish to acquire. This focused approach will help guide your learning process. \n",
      "\n",
      "2. Find Reliable Resources: Seek out reputable sources of information related to your chosen topic. This could include books, online courses, tutorials, documentaries, or experts in the field. Ensure that the information you're accessing is accurate and up-to-date. \n",
      "\n",
      "3. Create a Structured Plan: Develop a study plan that outlines what you want to achieve and how you intend to achieve it. Break down the topic into smaller, manageable chunks, and set realistic milestones. A structured plan will help you stay organized and motivated. \n",
      "\n",
      "4. Engage Actively: Active engagement is key to effective learning. Instead of passively consuming information, interact with the material. Take notes by hand, ask questions, discuss with others, and apply what you've learned through exercises or projects. Active learning helps reinforce your understanding and memory retention. \n",
      "\n",
      "5. Practice and Apply Your Knowledge: Learning is more than just acquiring information; it's about applying it in a practical manner. Look for opportunities to use your newfound knowledge in real-life situations. Practice reinforces your skills and helps identify areas that require further improvement. \n",
      "\n",
      "6. Connect with Others: Learning in isolation can be challenging. Connect with others who share your interests, whether through online communities, forums, or local groups. Discussing your ideas, seeking feedback, and collaborating with peers can enhance your understanding and provide valuable insights. \n",
      "\n",
      "7. Embrace Mistakes and Persevere: Learning something new often involves making mistakes and facing challenges. Embrace these moments as opportunities for growth. Don't be discouraged by setbacks, as they are a natural part of the learning process. Keep a positive mindset, learn from your mistakes, and maintain your persistence. \n",
      "\n",
      "8. Space Out Your Learning: Spacing out your study sessions can significantly improve retention. Instead of cramming, distribute your learning over several shorter sessions. This method, known as spaced repetition, helps transfer information from short-term to long-term memory. \n",
      "\n",
      "9. Review and Reinforce: Regularly review what you've learned to reinforce your memory. Use flashcards, create mind maps, or test yourself through quizzes or practice exercises. Reviewing helps solidify your understanding and makes it easier to recall information when needed. \n",
      "\n",
      "10. Stay Curious and Explore: Learning is a lifelong journey. Maintain your curiosity and continue exploring related topics or branching out into new areas. The more you learn, the more connections you'll make, enhancing your overall knowledge and understanding. \n",
      "\n",
      "Remember, learning is a highly individual process, and it's important to find what works best for you. Adapt these strategies to fit your personal preferences and learning style. Enjoy the process, embrace the challenges, and celebrate your progress along the way!\n",
      "\n"
     ]
    }
   ],
   "source": [
    "from llama_index.core.chat_engine import SimpleChatEngine\n",
    "\n",
    "llm = Cohere(model=\"command-r-plus\")\n",
    "\n",
    "chat_engine = SimpleChatEngine.from_defaults(llm=llm)\n",
    "\n",
    "chat_engine.chat_repl()"
   ]
  },
  {
   "cell_type": "code",
   "execution_count": 10,
   "metadata": {},
   "outputs": [
    {
     "name": "stdout",
     "output_type": "stream",
     "text": [
      "===== Entering Chat REPL =====\n",
      "Type \"exit\" to exit.\n",
      "\n",
      "Assistant: Learning to play the guitar can be a fun and rewarding experience. Here are some steps to help you get started:\n",
      "\n",
      "1. Get a guitar: If you don't already have a guitar, you'll need to purchase or rent one. Consider your budget and the type of music you want to play when choosing a guitar. For beginners, an acoustic guitar or an electric guitar with a small amplifier is usually a good choice.\n",
      "\n",
      "2. Learn the basic parts of the guitar: Familiarize yourself with the different parts of the guitar, such as the headstock, neck, fretboard, sound hole, bridge, and strings. Understanding the basic anatomy of the guitar will help you as you begin to learn how to play.\n",
      "\n",
      "3. Learn proper posture and hand positioning: Holding the guitar correctly and positioning your hands and fingers properly is important for playing comfortably and avoiding injury. Make sure your guitar is positioned correctly on your body and that your fingers are curved slightly when fretting the strings.\n",
      "\n",
      "4. Learn some basic chords: Chords are groups of notes played together, and they form the foundation of most guitar playing. Start with some basic open chords, such as C, G, D, E, A, and F. Practice switching between these chords smoothly and strumming them in a steady rhythm.\n",
      "\n",
      "5. Practice regularly: Consistency is key when learning to play the guitar. Try to practice a little bit every day, even if it's just for 15-20 minutes. Regular practice will help you build muscle memory and improve your skills more quickly.\n",
      "\n",
      "6. Use online resources and tutorials: There are many great online resources available to help you learn to play guitar, including video tutorials, chord charts, and interactive learning platforms. You can also find free sheet music and tabs online for a wide variety of songs.\n",
      "\n",
      "7. Consider taking lessons: If you can afford it, consider taking lessons from a guitar teacher. A good teacher can provide personalized guidance, help you improve your technique, and keep you motivated.\n",
      "\n",
      "8. Learn some simple songs: As you become more comfortable with basic chords and strumming patterns, start learning some simple songs that you enjoy. This will help keep you motivated and make the learning process more fun.\n",
      "\n",
      "Remember to be patient with yourself and enjoy the process of learning. With regular practice and dedication, you'll be playing your favorite songs on the guitar in no time!\n",
      "\n"
     ]
    }
   ],
   "source": [
    "# use streaming_chat_repl() method for a streaming output, so it makes for a much better user experience. \n",
    "\n",
    "chat_engine.streaming_chat_repl()"
   ]
  }
 ],
 "metadata": {
  "kernelspec": {
   "display_name": "lil_llama_index",
   "language": "python",
   "name": "python3"
  },
  "language_info": {
   "codemirror_mode": {
    "name": "ipython",
    "version": 3
   },
   "file_extension": ".py",
   "mimetype": "text/x-python",
   "name": "python",
   "nbconvert_exporter": "python",
   "pygments_lexer": "ipython3",
   "version": "3.10.16"
  }
 },
 "nbformat": 4,
 "nbformat_minor": 2
}
