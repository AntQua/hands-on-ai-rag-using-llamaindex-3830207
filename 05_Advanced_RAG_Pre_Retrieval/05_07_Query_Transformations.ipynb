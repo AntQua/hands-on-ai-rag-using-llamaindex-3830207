{
 "cells": [
  {
   "cell_type": "code",
   "execution_count": null,
   "metadata": {},
   "outputs": [],
   "source": [
    "%%capture\n",
    "!pip install llama-index==0.10.25 llama-index-embeddings-fastembed llama-index-retrievers-bm25 qdrant-client llama-index-vector-stores-qdrant llama-index-llms-cohere"
   ]
  },
  {
   "cell_type": "code",
   "execution_count": null,
   "metadata": {},
   "outputs": [],
   "source": [
    "import os\n",
    "import sys\n",
    "from getpass import getpass\n",
    "import nest_asyncio\n",
    "\n",
    "from IPython.display import Markdown, display\n",
    "\n",
    "from dotenv import load_dotenv\n",
    "\n",
    "nest_asyncio.apply()\n",
    "\n",
    "load_dotenv(\"../.env\")\n",
    "\n",
    "sys.path.append('../helpers')\n",
    "\n",
    "from utils import setup_llm, setup_embed_model, setup_vector_store"
   ]
  },
  {
   "cell_type": "code",
   "execution_count": null,
   "metadata": {},
   "outputs": [],
   "source": [
    "OPENAI_API_KEY = os.environ['OPENAI_API_KEY'] or getpass(\"Enter your OpenAI API key: \")"
   ]
  },
  {
   "cell_type": "code",
   "execution_count": null,
   "metadata": {},
   "outputs": [],
   "source": [
    "QDRANT_URL = os.environ['QDRANT_URL'] or getpass(\"Enter your Qdrant URL:\")"
   ]
  },
  {
   "cell_type": "code",
   "execution_count": null,
   "metadata": {},
   "outputs": [],
   "source": [
    "QDRANT_API_KEY = os.environ['QDRANT_API_KEY'] or  getpass(\"Enter your Qdrant API Key:\")"
   ]
  },
  {
   "cell_type": "code",
   "execution_count": null,
   "metadata": {},
   "outputs": [],
   "source": [
    "from llama_index.core.settings import Settings\n",
    "from llama_index.llms.openai import OpenAI\n",
    "from utils import setup_llm, setup_embed_model\n",
    "\n",
    "setup_llm(provider=\"openai\", model=\"gpt-3.5-turbo\", api_key=OPENAI_API_KEY)\n",
    "\n",
    "setup_embed_model(provider=\"openai\", api_key=OPENAI_API_KEY)"
   ]
  },
  {
   "cell_type": "code",
   "execution_count": 54,
   "metadata": {},
   "outputs": [],
   "source": [
    "from datasets import load_dataset\n",
    "\n",
    "eval_dataset = load_dataset(\"harpreetsahota/LI_Learning_RAG_Eval_Set\", split='train')\n",
    "\n",
    "eval_dataset = eval_dataset.filter(lambda x: x['question_groundedness_score'] is not None and x['question_groundedness_score'] >= 4)\n",
    "\n",
    "smol_eval_set = eval_dataset.shuffle(seed=2022).select(range(10))"
   ]
  },
  {
   "cell_type": "code",
   "execution_count": null,
   "metadata": {},
   "outputs": [],
   "source": [
    "from utils import get_documents_from_docstore\n",
    "\n",
    "senpai_documents = get_documents_from_docstore(\"../data/words-of-the-senpais\")"
   ]
  },
  {
   "cell_type": "markdown",
   "metadata": {},
   "source": [
    "## Setup Qdrant Vector Store"
   ]
  },
  {
   "cell_type": "code",
   "execution_count": null,
   "metadata": {},
   "outputs": [],
   "source": [
    "from llama_index.core import StorageContext\n",
    "from llama_index.core.storage.docstore import SimpleDocumentStore\n",
    "from llama_index.core.storage.index_store.simple_index_store import SimpleIndexStore\n",
    "from llama_index.core.settings import Settings\n",
    "from utils import setup_vector_store\n",
    "\n",
    "COLLECTION_NAME = \"words-of-the-senpai-rr-fusion\"\n",
    "\n",
    "rr_fusion_vector_store = setup_vector_store(QDRANT_URL, QDRANT_API_KEY, COLLECTION_NAME, enable_hybrid=True)\n",
    "\n",
    "rr_fusion_storage_context = StorageContext.from_defaults(\n",
    "    docstore = SimpleDocumentStore.from_persist_dir(persist_dir=\"../data/words-of-the-senpais\"),\n",
    "    index_store=SimpleIndexStore(),\n",
    "    vector_store = rr_fusion_vector_store\n",
    "    )"
   ]
  },
  {
   "cell_type": "markdown",
   "metadata": {},
   "source": [
    "### Ingest with a docstore"
   ]
  },
  {
   "cell_type": "code",
   "execution_count": null,
   "metadata": {},
   "outputs": [],
   "source": [
    "from llama_index.core import VectorStoreIndex\n",
    "from llama_index.core.node_parser import SentenceSplitter\n",
    "from llama_index.core.storage.docstore import SimpleDocumentStore\n",
    "\n",
    "from utils import ingest \n",
    "\n",
    "sentence_splitter = SentenceSplitter(chunk_size=256, chunk_overlap=16)\n",
    "\n",
    "index = VectorStoreIndex.from_documents(\n",
    "    documents=senpai_documents, \n",
    "    embed_model=Settings.embed_model,\n",
    "    storage_context=rr_fusion_storage_context,\n",
    "    transformations=[sentence_splitter]\n",
    "    )"
   ]
  },
  {
   "cell_type": "markdown",
   "metadata": {},
   "source": [
    "# A brief word on vector store query modes\n",
    "\n",
    "The vector_store_query_mode in LlamaIndex determines the type of search to be performed. Here's a brief description of each mode:\n",
    "\n",
    " - `default`: This mode performs a vector search. It retrieves the most similar vectors based on the query vector.  They create a numerical representation of a piece of text, represented as a long list of numbers. These dense vectors can capture rich semantics across the entire piece of text. `alpha=0.75` is used by default.\n",
    "\n",
    " - `hybrid`: This mode performs a hybrid search. It combines vector search with traditional search methods. `alpha` parameter determines weighting (`alpha = 0` -> bm25, `alpha = 1` -> vector search). \n",
    "\n",
    " - `semantic_hybrid`: Semantic hybrid search combines text search with vector embeddings. Text search provides keyword matching and lexical retrieval. Vector embeddings allow finding documents with similar meaning, even if they don't contain exact keyword matches. This mode incorporates semantic reranking to hybrid search results to improve search relevance.\n",
    "\n",
    " - `sparse`: Most of the elements in a sparse vector are zero, with only a few key values being non-zero. These sparse vectors are great at capturing specific keywords and similar small details. You need to use a specialized embedding model to create sparse vectors. \n",
    "   - `FastEmbed` has a few choices for sparse text embedding models, for example you can pass in `prithvida/Splade_PP_en_v1` as the model name when you run `setup_embed_model` if you want to use them. \n",
    "    - We didn't use a sparse vector here, so we won't see this in action.  \n",
    "    - Note, if you try this you'll need to set the `sparse_top_k` argument, which represents how many nodes will be retrieved from each dense and sparse query. For example, if `sparse_top_k=5` is set, that means I will retrieve 5 nodes using sparse vectors and 5 nodes using dense vectors.\n",
    "\n",
    " - `text_search`: Text search looks for exact keyword matches between the query and documents.\n",
    "\n",
    " - `similarity_top_k`: controls the final number of returned nodes. A fusion algorithm is applied to rank and order the nodes from different vector spaces, `similarity_top_k=2` means the top two nodes after fusion are returned.\n",
    "\n",
    " - `hybrid_top_k`: return top k results from `hybrid` search. `similarity_top_k` is used for dense search top k"
   ]
  },
  {
   "cell_type": "code",
   "execution_count": null,
   "metadata": {},
   "outputs": [],
   "source": [
    "QUERY_STRING = \"How can I create my own luck?\"\n",
    "\n",
    "def test_retrievers(query=QUERY_STRING, index=index, **kwargs):\n",
    "    retriever_engine = index.as_retriever(**kwargs)\n",
    "    retrieved_docs = retriever_engine.retrieve(query)\n",
    "    print(f\"Retrieved {len(retrieved_docs)} nodes.\")\n",
    "    print(\"\\n\")\n",
    "    for node in retrieved_docs:\n",
    "        print(f\"Score: {node.score:.2f} - {node.text}...\\n-----\\n\")\n",
    "    \n",
    "mode_kwargs = {\n",
    "    'default': {'vector_store_query_mode': 'default', 'similarity_top_k': 3},\n",
    "    'bm25': {'vector_store_query_mode':'hybrid', 'alpha': 0.0, 'hybrid_top_k': 3}, \n",
    "    'hybrid': {'vector_store_query_mode':'hybrid', 'alpha': 0.25, 'hybrid_top_k': 3},\n",
    "    'semantic_hybrid': {'vector_store_query_mode':'semantic_hybrid', 'alpha': 0.75, 'hybrid_top_k': 3},\n",
    "    # 'sparse': {\"sparse_top_k\":5},\n",
    "    'text_search': {'vector_store_query_mode':'text_search', 'similarity_top_k': 3},\n",
    "}\n",
    "\n",
    "for mode, kwargs in mode_kwargs.items():\n",
    "    print(f\"Retrieving nodes using: {mode} retrieval\")\n",
    "    test_retrievers(**kwargs)\n",
    "    print(f\"Retrieval with {mode} complete...\")        \n",
    "    print(\"\\n\")"
   ]
  },
  {
   "cell_type": "markdown",
   "metadata": {},
   "source": [
    "# Query Transformation\n",
    "\n",
    "When handling user queries in a RAG system, agent, or any other pipeline, there are various ways to transform and decompose the queries before executing them.\n",
    "\n",
    "One way is query rewriting. This involves rewriting the original query in multiple ways while which then sent sent for retrieval and generation. \n",
    "\n",
    "LlamaIndex implements various query transformations, [check the source code for details](https://github.com/run-llama/llama_index/blob/f116d75557d6867ed2cc61811a1c2f0b0c4d4ddb/llama-index-legacy/llama_index/legacy/indices/query/query_transform/base.py).\n"
   ]
  },
  {
   "cell_type": "code",
   "execution_count": null,
   "metadata": {},
   "outputs": [],
   "source": [
    "from llama_index.core import PromptTemplate\n",
    "\n",
    "QUERY_GEN_PROMPT = \"\"\"Users aren't always the best at articulating what they're looking for. Your task is to understand the \n",
    "essense of the user query and generate {num_queries} alternate queries to expand the users query so it's more robust. This way the user will\n",
    "recieve the most relevant information. \n",
    "\n",
    "Examples are delimited by triple backticks (```) below\n",
    "\n",
    "````\n",
    "User Query: How can I find the positive in situations that seem negative?\n",
    "\n",
    "Alternate Queries:\n",
    "\n",
    "1. How can I cultivate optimism and positive thinking in my daily life?\n",
    "2. Is it possible to find meaning and purpose in challenging or difficult times?\n",
    "3. What are some effective strategies for reframing negative thoughts into positive ones?\n",
    "````\n",
    "\n",
    "````\n",
    "User Query: How do I deal with setbacks, failures, delays, defeat, or other disasters?\n",
    "\n",
    "Alternate Queries:\n",
    "\n",
    "1. How can I build resilience and learn to cope with adversity effectively?\n",
    "2. What are some practical tips for overcoming challenges and obstacles that I face?\n",
    "3. How can I develop a growth mindset and view setbacks as opportunities for learning?\n",
    "4. What are healthy ways to process and learn from failures and mistakes?\n",
    "````\n",
    "````\n",
    "User Query: How can I overcome defeat and suffering by changing my mindset?\n",
    "\n",
    "Alternate Queries:\n",
    "\n",
    "1. What is the power of positive thinking and affirmations, and how can they benefit me?\n",
    "2. Can mindfulness and meditation practices improve my mental well-being and outlook?\n",
    "3. How can I develop self-compassion and acceptance, especially during difficult times?\n",
    "```\n",
    "\n",
    "Generate {num_queries} alternate queries, one on each line, for the following user query:\\n\n",
    "--------------------\n",
    "User Query: {query}\\n\n",
    "--------------------\n",
    "\n",
    "Alternate Queries:\\n\n",
    "\"\"\"\n",
    "\n",
    "\n",
    "QUERY_GEN_PROMPT_TEMPLATE = PromptTemplate(QUERY_GEN_PROMPT)"
   ]
  },
  {
   "cell_type": "code",
   "execution_count": null,
   "metadata": {},
   "outputs": [],
   "source": [
    "def generate_queries(query= QUERY_STRING, llm=Settings.llm, num_queries  = 4):\n",
    "    response = llm.predict(\n",
    "        QUERY_GEN_PROMPT_TEMPLATE, \n",
    "        num_queries=num_queries, \n",
    "        query=query\n",
    "        )\n",
    "    queries = response.split(\"\\n\")\n",
    "    queries_str = \"\\n\".join(queries)\n",
    "    print(f\"Generated queries:\\n{queries_str}\")\n",
    "    return queries\n",
    "\n",
    "generate_queries()"
   ]
  },
  {
   "cell_type": "markdown",
   "metadata": {},
   "source": [
    "# Hybrid Fusion Retriever\n",
    "\n",
    "The Hybrid Fusion Retriever combines of semantic and keyword-based approaches.  This uses a [BM25-based retriever](https://en.wikipedia.org/wiki/Okapi_BM25) with a semantic index. BM25 is a ranking function used by search engines to estimate the relevance of documents to a given search query. \n",
    "\n",
    "#### How it works\n",
    "\n",
    "The system follows a three-step process:\n",
    "\n",
    "- **Query Generation/Rewriting**: It creates multiple queries from the original user query to better match the user's intent and improve the precision and recall of the retrieved results.\n",
    "\n",
    "- **Retrieval**: It performs the retrieval for each query over an ensemble of retrievers.\n",
    "\n",
    "- **Reranking/Fusion**: It combines the results from all queries and applies a reranking step to fuse the top relevant results.\n",
    "\n",
    "#### ℹ️ Useful knowledge to have as a RAG practitioner\n",
    "\n",
    "##### Index Fusion Mode\n",
    "\n",
    "We set the mode to `reciprocal_rerank`. The system merges its index with a BM25 based retriever. This allows it to understand both the semantic relationships (meaningful connections between words) and keywords in the input queries. Other modes are `relative_score`, `dist_based_score`, `simple` .\n",
    "\n",
    "  - [`reciprocal_rerank`](https://github.com/run-llama/llama_index/blob/f116d75557d6867ed2cc61811a1c2f0b0c4d4ddb/llama-index-core/llama_index/core/retrievers/fusion_retriever.py#L99): Reciprocal rank is a measure of how early a relevant item appears in a ranked list. Lower ranks correspond to higher relevance. This mode fuses the results from multiple sources by giving higher importance to nodes that appear earlier in the rankings across those sources.\n",
    "\n",
    "  - [`relative_score`](https://github.com/run-llama/llama_index/blob/f116d75557d6867ed2cc61811a1c2f0b0c4d4ddb/llama-index-core/llama_index/core/retrievers/fusion_retriever.py#L135): It scales each score to a range from 0 to 1 using min-max scaling. Then it multiplies each scaled score by a retriever-specific weight. After that, it divides each score by the total number of queries. Basically, it scales, weights, and combines scores from multiple retrieval sources.\n",
    "\n",
    "  - `dist_based_score`: Same as `relative_score`, but, instead of using the minimum and maximum scores directly, the function calculates them based on the mean and standard deviation of the scores. This reduces the impact of outliers on the scaling process.\n",
    "\n",
    "  - `simple`: re-orders results based on original scores\n",
    "\n",
    "\n",
    "##### **Reciprocal Rerank Algorithm**\n",
    "\n",
    " Since both retrievers calculate a score for the relevance of results, the system uses the reciprocal rerank algorithm to reshuffle the results. This is done without employing additional models or excessive computation, making the process more efficient.\n",
    " \n",
    "  - 🧮 **Rank Calculation**: For each unique node, calculate its reciprocal rank from each list where it appears. The reciprocal rank of a node in a list is defined as 1 divided by its position in that list (e.g., a node at rank 3 has a reciprocal rank of 1/3).\n",
    "\n",
    "  - 📊 **Score Aggregation**: Sum up the reciprocal ranks for each node across all lists in which it appears. This aggregated score represents the overall relevance of the node, taking into account its performance across multiple retrieval scenarios.\n",
    "\n",
    "  - 🥇🥈🥉 **Reordering**: Finally, reorder all nodes based on their aggregated scores, from highest to lowest. This re-ranking step prioritizes nodes that consistently appear in higher ranks across multiple lists, thus likely to be more relevant to the query."
   ]
  },
  {
   "cell_type": "code",
   "execution_count": null,
   "metadata": {},
   "outputs": [],
   "source": [
    "from llama_index.retrievers.bm25 import BM25Retriever\n",
    "\n",
    "from llama_index.core.retrievers import QueryFusionRetriever\n",
    "\n",
    "vector_retriever = index.as_retriever(similarity_top_k=5)\n",
    "\n",
    "bm25_retriever = BM25Retriever.from_defaults(docstore=index.docstore, similarity_top_k=5)\n",
    "\n",
    "from llama_index.core.query_engine import RetrieverQueryEngine\n",
    "\n",
    "retriever = QueryFusionRetriever(\n",
    "    [vector_retriever, bm25_retriever],\n",
    "    similarity_top_k=5,\n",
    "    num_queries=3,  # set this to 1 to disable query generation\n",
    "    mode=\"reciprocal_rerank\",\n",
    "    use_async=True,\n",
    "    verbose=True,\n",
    "    query_gen_prompt=QUERY_GEN_PROMPT_TEMPLATE, \n",
    ")"
   ]
  },
  {
   "cell_type": "code",
   "execution_count": null,
   "metadata": {},
   "outputs": [],
   "source": [
    "nodes_with_scores = retriever.retrieve(\n",
    "    \"How can I stop wasting energy on projecting a facade and focus on expanding my potential as a human being?\"\n",
    ")"
   ]
  },
  {
   "cell_type": "code",
   "execution_count": null,
   "metadata": {},
   "outputs": [],
   "source": [
    "for node in nodes_with_scores:\n",
    "    print(f\"Score: {node.score:.2f} - {node.text}...\\n-----\\n\")"
   ]
  },
  {
   "cell_type": "code",
   "execution_count": 55,
   "metadata": {},
   "outputs": [
    {
     "name": "stderr",
     "output_type": "stream",
     "text": [
      "Generating answers:   0%|          | 0/10 [00:00<?, ?it/s]"
     ]
    },
    {
     "name": "stdout",
     "output_type": "stream",
     "text": [
      "\u001b[1;3;38;2;155;135;227m> Running module 46b96384-11fc-490b-9462-c9aeea6597d5 with input: \n",
      "messages: Should I be forbidden from contemplating the universe and restricted to only focusing on a part of it?\n",
      "\n",
      "\u001b[0m\u001b[1;3;38;2;155;135;227m> Running module 814a0f6b-59ac-468f-aebb-bc96f6ecdc9c with input: \n",
      "input: assistant: No, you should not be forbidden from contemplating the universe. It is important to have a broad perspective and consider the bigger picture in order to gain a deeper understanding of the w...\n",
      "\n",
      "\u001b[0mGenerated queries:\n",
      "1. How can I strike a balance between contemplating the universe broadly and focusing on specific aspects for deeper understanding?\n",
      "2. What are the benefits of exploring the universe from a macroscopic perspective versus a microscopic perspective, and how can I integrate both approaches effectively?\n"
     ]
    },
    {
     "name": "stderr",
     "output_type": "stream",
     "text": [
      "Generating answers:  10%|█         | 1/10 [00:04<00:43,  4.88s/it]"
     ]
    },
    {
     "name": "stdout",
     "output_type": "stream",
     "text": [
      "\u001b[1;3;38;2;155;135;227m> Running module 46b96384-11fc-490b-9462-c9aeea6597d5 with input: \n",
      "messages: How can I determine the value of different qualities and traits in life?\n",
      "\n",
      "\u001b[0m\u001b[1;3;38;2;155;135;227m> Running module 814a0f6b-59ac-468f-aebb-bc96f6ecdc9c with input: \n",
      "input: assistant: Determining the value of different qualities and traits in life is a highly subjective and personal process. Here are some steps you can take to help you determine the value of different qu...\n",
      "\n",
      "\u001b[0mGenerated queries:\n",
      "1. How can I identify and prioritize my core values and beliefs to guide my decision-making process?\n",
      "2. What role do qualities like authenticity, honesty, and compassion play in shaping a meaningful and fulfilling life?\n"
     ]
    },
    {
     "name": "stderr",
     "output_type": "stream",
     "text": [
      "Generating answers:  20%|██        | 2/10 [00:12<00:52,  6.53s/it]"
     ]
    },
    {
     "name": "stdout",
     "output_type": "stream",
     "text": [
      "\u001b[1;3;38;2;155;135;227m> Running module 46b96384-11fc-490b-9462-c9aeea6597d5 with input: \n",
      "messages: How can I define wealth in terms of assets that earn while I sleep?\n",
      "\n",
      "\u001b[0m\u001b[1;3;38;2;155;135;227m> Running module 814a0f6b-59ac-468f-aebb-bc96f6ecdc9c with input: \n",
      "input: assistant: Wealth can be defined as the accumulation of assets that generate passive income while you are not actively working. These assets can include investments such as stocks, bonds, real estate ...\n",
      "\n",
      "\u001b[0mGenerated queries:\n",
      "1. What are the different types of assets that can generate passive income and contribute to wealth accumulation?\n",
      "2. How can one effectively build a diversified portfolio of income-generating assets to achieve financial independence and security?\n"
     ]
    },
    {
     "name": "stderr",
     "output_type": "stream",
     "text": [
      "Generating answers:  30%|███       | 3/10 [00:17<00:39,  5.58s/it]"
     ]
    },
    {
     "name": "stdout",
     "output_type": "stream",
     "text": [
      "\u001b[1;3;38;2;155;135;227m> Running module 46b96384-11fc-490b-9462-c9aeea6597d5 with input: \n",
      "messages: How can I seek understanding first, before anything else, even if I lack the necessities of life?\n",
      "\n",
      "\u001b[0m\u001b[1;3;38;2;155;135;227m> Running module 814a0f6b-59ac-468f-aebb-bc96f6ecdc9c with input: \n",
      "input: assistant: Seeking understanding first, even when lacking the necessities of life, can be a challenging but rewarding endeavor. Here are some steps you can take to prioritize understanding in your lif...\n",
      "\n",
      "\u001b[0mGenerated queries:\n",
      "1. How can I develop a growth mindset and prioritize learning and understanding in my life?\n",
      "2. What are some practical steps I can take to enhance my empathy and deepen my understanding of others?\n"
     ]
    },
    {
     "name": "stderr",
     "output_type": "stream",
     "text": [
      "Generating answers:  40%|████      | 4/10 [00:25<00:41,  6.91s/it]"
     ]
    },
    {
     "name": "stdout",
     "output_type": "stream",
     "text": [
      "\u001b[1;3;38;2;155;135;227m> Running module 46b96384-11fc-490b-9462-c9aeea6597d5 with input: \n",
      "messages: How can I better understand the importance of science and technology in shaping history and civilization?\n",
      "\n",
      "\u001b[0m\u001b[1;3;38;2;155;135;227m> Running module 814a0f6b-59ac-468f-aebb-bc96f6ecdc9c with input: \n",
      "input: assistant: 1. Study the history of scientific discoveries and technological advancements: By learning about key scientific breakthroughs and technological innovations throughout history, you can see h...\n",
      "\n",
      "\u001b[0mGenerated queries:\n",
      "1. How has scientific knowledge and technological progress impacted the evolution of human societies over time?\n",
      "2. What are some key examples of scientific discoveries and technological advancements that have significantly influenced historical events and societal development?\n"
     ]
    },
    {
     "name": "stderr",
     "output_type": "stream",
     "text": [
      "Generating answers:  50%|█████     | 5/10 [00:34<00:37,  7.49s/it]"
     ]
    },
    {
     "name": "stdout",
     "output_type": "stream",
     "text": [
      "\u001b[1;3;38;2;155;135;227m> Running module 46b96384-11fc-490b-9462-c9aeea6597d5 with input: \n",
      "messages: How should I approach situations where I don't fully understand the potential risks involved?\n",
      "\n",
      "\u001b[0m\u001b[1;3;38;2;155;135;227m> Running module 814a0f6b-59ac-468f-aebb-bc96f6ecdc9c with input: \n",
      "input: assistant: When you encounter a situation where you don't fully understand the potential risks involved, it's important to take a cautious and proactive approach. Here are some steps you can take:\n",
      "\n",
      "1....\n",
      "\n",
      "\u001b[0mGenerated queries:\n",
      "1. How can I effectively assess and manage risks in unfamiliar situations to make informed decisions?\n",
      "2. What are some strategies for taking a cautious and proactive approach when facing uncertain or risky situations?\n"
     ]
    },
    {
     "name": "stderr",
     "output_type": "stream",
     "text": [
      "Generating answers:  60%|██████    | 6/10 [00:43<00:32,  8.11s/it]"
     ]
    },
    {
     "name": "stdout",
     "output_type": "stream",
     "text": [
      "\u001b[1;3;38;2;155;135;227m> Running module 46b96384-11fc-490b-9462-c9aeea6597d5 with input: \n",
      "messages: How far up the ladder of abstraction will parallelism go in the future?\n",
      "\n",
      "\u001b[0m\u001b[1;3;38;2;155;135;227m> Running module 814a0f6b-59ac-468f-aebb-bc96f6ecdc9c with input: \n",
      "input: assistant: It is difficult to predict exactly how far up the ladder of abstraction parallelism will go in the future, as it will depend on a variety of factors such as technological advancements, rese...\n",
      "\n",
      "\u001b[0mGenerated queries:\n",
      "1. What are the potential challenges and limitations of parallelism in computing, and how can they be addressed in the future?\n",
      "2. How can advancements in parallel computing benefit other fields beyond traditional computing, such as scientific research or artificial intelligence development?\n"
     ]
    },
    {
     "name": "stderr",
     "output_type": "stream",
     "text": [
      "Generating answers:  70%|███████   | 7/10 [00:51<00:24,  8.01s/it]"
     ]
    },
    {
     "name": "stdout",
     "output_type": "stream",
     "text": [
      "\u001b[1;3;38;2;155;135;227m> Running module 46b96384-11fc-490b-9462-c9aeea6597d5 with input: \n",
      "messages: How can I use an API to implement a rating system for news articles to counter clickbait and increase journalist credibility?\n",
      "\n",
      "\u001b[0m\u001b[1;3;38;2;155;135;227m> Running module 814a0f6b-59ac-468f-aebb-bc96f6ecdc9c with input: \n",
      "input: assistant: To implement a rating system for news articles using an API, you can follow these steps:\n",
      "\n",
      "1. Choose a reputable API that provides sentiment analysis or rating capabilities. Some popular opt...\n",
      "\n",
      "\u001b[0mGenerated queries:\n",
      "1. What are the benefits of using sentiment analysis in news article ratings and how can it improve user experience?\n",
      "2. Are there any ethical considerations to keep in mind when implementing a rating system for news articles using an API?\n"
     ]
    },
    {
     "name": "stderr",
     "output_type": "stream",
     "text": [
      "Generating answers:  80%|████████  | 8/10 [00:59<00:15,  7.85s/it]"
     ]
    },
    {
     "name": "stdout",
     "output_type": "stream",
     "text": [
      "\u001b[1;3;38;2;155;135;227m> Running module 46b96384-11fc-490b-9462-c9aeea6597d5 with input: \n",
      "messages: How can I understand the underlying reality of what a company does and how it creates wealth?\n",
      "\n",
      "\u001b[0m\u001b[1;3;38;2;155;135;227m> Running module 814a0f6b-59ac-468f-aebb-bc96f6ecdc9c with input: \n",
      "input: assistant: To understand the underlying reality of what a company does and how it creates wealth, you can start by conducting thorough research on the company. Here are some steps you can take:\n",
      "\n",
      "1. St...\n",
      "\n",
      "\u001b[0mGenerated queries:\n",
      "1. What are the key factors to consider when researching a company's business model and financial health?\n",
      "2. How can I analyze a company's competitive landscape and industry trends to evaluate its long-term growth prospects?\n"
     ]
    },
    {
     "name": "stderr",
     "output_type": "stream",
     "text": [
      "Generating answers:  90%|█████████ | 9/10 [01:07<00:08,  8.10s/it]"
     ]
    },
    {
     "name": "stdout",
     "output_type": "stream",
     "text": [
      "\u001b[1;3;38;2;155;135;227m> Running module 46b96384-11fc-490b-9462-c9aeea6597d5 with input: \n",
      "messages: How can I truly learn something?\n",
      "\n",
      "\u001b[0m\u001b[1;3;38;2;155;135;227m> Running module 814a0f6b-59ac-468f-aebb-bc96f6ecdc9c with input: \n",
      "input: assistant: 1. Engage actively: Instead of passively consuming information, actively engage with the material by asking questions, taking notes, and participating in discussions.\n",
      "\n",
      "2. Practice regularly...\n",
      "\n",
      "\u001b[0mGenerated queries:\n",
      "1. How can I enhance my learning experience by actively engaging with the material and participating in discussions?\n",
      "2. What are effective strategies for reinforcing learning and retention through regular practice and repetition?\n"
     ]
    },
    {
     "name": "stderr",
     "output_type": "stream",
     "text": [
      "Generating answers: 100%|██████████| 10/10 [01:17<00:00,  7.74s/it]\n"
     ]
    }
   ],
   "source": [
    "from llama_index.core.response_synthesizers import ResponseMode\n",
    "\n",
    "from utils import create_query_pipeline\n",
    "from utils import run_generations_on_eval_set\n",
    "\n",
    "from prompts import HYPE_ANSWER_GEN_PROMPT\n",
    "\n",
    "HYPE_ANSWER_GEN_PROMPT_TEMPLATE = PromptTemplate(HYPE_ANSWER_GEN_PROMPT)\n",
    "\n",
    "rr_fusion_query_engine = RetrieverQueryEngine.from_args(\n",
    "    retriever,\n",
    "    response_mode = ResponseMode.COMPACT_ACCUMULATE,\n",
    "    use_async = True,\n",
    "    text_qa_template = HYPE_ANSWER_GEN_PROMPT_TEMPLATE\n",
    "    )\n",
    "\n",
    "rr_fusion_chain = [Settings.llm,  rr_fusion_query_engine]\n",
    "\n",
    "rr_fusion_query_pipeline = create_query_pipeline(rr_fusion_chain)\n",
    "\n",
    "smol_eval_set = run_generations_on_eval_set(\n",
    "    eval_dataset=smol_eval_set, \n",
    "    col_name=\"rr-fusion-answer\", \n",
    "    query_pipeline=rr_fusion_query_pipeline,\n",
    "    time_out=False)"
   ]
  },
  {
   "cell_type": "code",
   "execution_count": 56,
   "metadata": {},
   "outputs": [
    {
     "name": "stdout",
     "output_type": "stream",
     "text": [
      "💬\n",
      "\n",
      "🙋🏽‍♂️ Question: Should I be forbidden from contemplating the universe and restricted to only focusing on a part of it?\n",
      "\"RR Fusion Reponse: Response 1: You need to focus on one big thing and attach subroutines to it. Trying to do more than one big thing will only lead to constant decision-making and confusion. Remember to map everything you learn onto your broad mission or direction to gain a deeper understanding. Find the balance between contemplating the universe and focusing on specific aspects to truly grasp the world around you. It's all about fitting ideas into your mental clothesline and compressing data to remember them effectively. Stay focused, stay driven, and keep pushing forward with purpose.\n",
      "💬\n",
      "\n",
      "🙋🏽‍♂️ Question: How can I determine the value of different qualities and traits in life?\n",
      "\"RR Fusion Reponse: Response 1: Hey, listen up! The key to determining the value of different qualities and traits in life lies in self-honesty. Reflect on your core values and prioritize honesty above all. Seek relationships where your values align, as that's where true connections are formed. Remember, true freedom comes from within, not from external circumstances. Live rightly, not just long. Strive for a full life by taking control of your soul. It's not about how long you live, but how well you live. Stay true to yourself and embody qualities that make you a real human being. That's where you'll find true value in life.\n",
      "💬\n",
      "\n",
      "🙋🏽‍♂️ Question: How can I define wealth in terms of assets that earn while I sleep?\n",
      "\"RR Fusion Reponse: Response 1: To become wealthy, you need to own equity in a business. Without ownership, you won't achieve financial freedom. You must have assets that generate income while you sleep. Wealth is created through ownership, not just working for a salary. Start your own business or invest in one to build real wealth. Don't rely on hourly wages; focus on ownership and passive income. That's the key to financial independence and a comfortable lifestyle.\n",
      "💬\n",
      "\n",
      "🙋🏽‍♂️ Question: How can I seek understanding first, before anything else, even if I lack the necessities of life?\n",
      "\"RR Fusion Reponse: Response 1: Prioritize understanding in your life by cultivating a curious mindset, practicing empathy, reflecting on your beliefs, seeking out learning opportunities, and practicing mindfulness. Remember, truth cannot be limited or organized - school yourself in the truth. Growth requires involvement and constant discovery. Acceptance is key to finding peace and clarity. Ignorance is blind, so seek knowledge and self-cultivation. Self-actualization is about being real and true to yourself, not projecting a facade. Prioritize what truly matters and filter out unnecessary distractions. Infotainment should be filtered out of your information diet. Stay focused on what truly enriches your life and relationships.\n",
      "💬\n",
      "\n",
      "🙋🏽‍♂️ Question: How can I better understand the importance of science and technology in shaping history and civilization?\n",
      "\"RR Fusion Reponse: Response 1: Science and technology are the driving forces of history. They have shaped civilizations, influenced societal aspects, and played a crucial role in shaping the course of civilization. By studying the history of scientific discoveries and technological advancements, exploring their role in different civilizations, considering their ethical and social implications, connecting them to broader historical trends, and staying informed about current developments, you can gain a deeper understanding of how they have impacted society. Remember, progress is abstraction, and understanding the complexities of technology is key to advancing civilization. Embrace the power of technology and use it to propel humanity forward.\n",
      "💬\n",
      "\n",
      "🙋🏽‍♂️ Question: How should I approach situations where I don't fully understand the potential risks involved?\n",
      "\"RR Fusion Reponse: Response 1: Hey there! When you're faced with a situation where you're unsure of the risks involved, here's what you gotta do:\n",
      "\n",
      "1. Gather more information: Research, consult experts, read up, and seek advice from those who know their stuff.\n",
      "\n",
      "2. Seek advice: Don't hesitate to reach out to colleagues, mentors, or professionals for guidance.\n",
      "\n",
      "3. Consider the worst-case scenario: Think about what could go wrong and the consequences. It's crucial to be prepared.\n",
      "\n",
      "4. Take a cautious approach: When in doubt, play it safe. Implement safety measures and seek more information to mitigate risks.\n",
      "\n",
      "5. Monitor the situation: Stay vigilant, be ready to adjust your approach, and address any new risks that pop up.\n",
      "\n",
      "Approach uncertain situations with caution, curiosity, and a willingness to seek advice and gather more information. By taking these steps, you'll be better equipped to make informed decisions and navigate through challenges effectively. Stay proactive and keep pushing forward!\n",
      "💬\n",
      "\n",
      "🙋🏽‍♂️ Question: How far up the ladder of abstraction will parallelism go in the future?\n",
      "\"RR Fusion Reponse: Response 1: In the future, parallelism will likely continue to be a key focus in computing, with advancements in parallel programming models and hardware architecture. However, most opportunities for parallelism may be wasted, and it may not pervade all programs written in a hundred years. It will be more like being able to fork off processes that run in parallel, used for optimization later in a program's life. Faster computers will lead to a wider range of language efficiencies, with some applications becoming inefficient while others demand maximum speed. Despite the gap in efficiency, programmers in a hundred years will have languages that can span most of it.\n",
      "💬\n",
      "\n",
      "🙋🏽‍♂️ Question: How can I use an API to implement a rating system for news articles to counter clickbait and increase journalist credibility?\n",
      "\"RR Fusion Reponse: Response 1: Implementing a rating system for news articles using an API is crucial to combat clickbait and enhance journalist credibility. By leveraging sentiment analysis and rating capabilities, you can provide users with transparent and objective ratings of the content they consume. This will revolutionize the way news is consumed and ensure that quality journalism is recognized and rewarded. So, go ahead and follow those steps to create a system that empowers users to make informed decisions and promotes fact-based media. It's time to take control and revolutionize the way news is rated and consumed!\n",
      "💬\n",
      "\n",
      "🙋🏽‍♂️ Question: How can I understand the underlying reality of what a company does and how it creates wealth?\n",
      "\"RR Fusion Reponse: Response 1: To truly understand what a company does and how it creates wealth, you need to start by researching thoroughly. Study the business model, analyze financial statements, look at the competitive landscape, research industry trends, consider strategic initiatives, and evaluate the leadership team. When starting a business, focus on a qualitative goal that inspires you. Pay for a targeted survey or gather feedback from potential customers to validate your ideas. Create high-value media that helps people improve their skills and abilities. Remember, being a leveraged worker is key to maximizing your impact and creating significant value. Prioritize judgment over time and effort, and aim to control your own time in a leveraged job. Ultimately, understanding these key principles will help you make informed decisions and drive long-term success.\n",
      "💬\n",
      "\n",
      "🙋🏽‍♂️ Question: How can I truly learn something?\n",
      "\"RR Fusion Reponse: Response 1: Engage actively, practice regularly, teach others, seek feedback, apply what you've learned, stay curious, set goals, and stay consistent. That's the winning formula for effective learning. Remember, it's not about what to think, but how to think. Motivate yourself, maintain focus, promote mental activity, create a clear picture, develop comprehension, and repeat until you've truly learned. Give credit where it's due, be generous with praise, and establish a direct relationship with your learning. Internalize and organize information by explaining it to someone else. Dive into the greats in math, science, and philosophy, ignore the noise, and prioritize truth over social approval. Learn quickly by diving into problems and identifying what you don't know. Remember, you can learn from anything, even if it doesn't seem immediately applicable. Keep pushing yourself, stay hungry for knowledge, and never stop learning.\n"
     ]
    }
   ],
   "source": [
    "for row in smol_eval_set.select(range(10)):\n",
    "    print(\"💬\\n\")\n",
    "    print(f\"\"\"🙋🏽‍♂️ Question: {row[\"question\"]}\"\"\")\n",
    "    print(f\"\"\"\"RR Fusion Reponse: {row[\"rr-fusion-answer\"]}\"\"\")"
   ]
  },
  {
   "cell_type": "markdown",
   "metadata": {},
   "source": [
    "# `SubQuestionQueryEngine`\n",
    "\n",
    "The `SubQuestionQueryEngine` works by breaking down a complex query into simpler sub-questions (with each potentially targeting a specific data source).\n",
    "\n",
    "#### Here's how it works:\n",
    "\n",
    " - The `SubQuestionQueryEngine` receives a complex query.\n",
    "\n",
    "- It then decomposes this query into several sub-questions. Each sub-question is designed to extract specific information from a particular data source.\n",
    "\n",
    "- The engine then sends these sub-questions to their respective data sources and gathers the responses.\n",
    "\n",
    "- Finally, it synthesizes all the intermediate responses to form a final comprehensive answer to the original complex query.\n",
    "\n",
    "This process makes the `SubQuestionQueryEngine` particularly useful for handling compare/contrast queries across documents, as well as queries pertaining to a specific document. It's also well-suited for multi-document queries and can execute any number of sub-queries against any subset of query engine tools before synthesizing the final answer."
   ]
  },
  {
   "cell_type": "code",
   "execution_count": 67,
   "metadata": {},
   "outputs": [],
   "source": [
    "from llama_index.core.tools import QueryEngineTool, ToolMetadata\n",
    "from llama_index.core.query_engine import SubQuestionQueryEngine\n",
    "\n",
    "query_engine_tools = [\n",
    "    QueryEngineTool(\n",
    "        query_engine=index.as_query_engine(),\n",
    "        metadata=ToolMetadata(\n",
    "            name=\"the senpais\",\n",
    "            description=\"The collective thoughts and writings of all my virtual mentors\",\n",
    "        ),\n",
    "    ),\n",
    "]\n",
    "\n",
    "sub_question_query_engine = SubQuestionQueryEngine.from_defaults(\n",
    "    query_engine_tools=query_engine_tools,\n",
    "    use_async=True\n",
    "    )\n",
    "\n",
    "sub_question_query_engine.update_prompts({'response_synthesizer:text_qa_template':HYPE_ANSWER_GEN_PROMPT_TEMPLATE})"
   ]
  },
  {
   "cell_type": "code",
   "execution_count": 70,
   "metadata": {},
   "outputs": [
    {
     "data": {
      "text/markdown": [
       " **Prompt Key**: question_gen:question_gen_prompt\n",
       "**Text:**\n",
       "```\n",
       "You are a world class state of the art agent.\n",
       "\n",
       "You have access to multiple tools, each representing a different data source or API.\n",
       "Each of the tools has a name and a description, formatted as a JSON dictionary.\n",
       "The keys of the dictionary are the names of the tools and the values are the descriptions.\n",
       "Your purpose is to help answer a complex user question by generating a list of sub questions that can be answered by the tools.\n",
       "\n",
       "These are the guidelines you consider when completing your task:\n",
       "* Be as specific as possible\n",
       "* The sub questions should be relevant to the user question\n",
       "* The sub questions should be answerable by the tools provided\n",
       "* You can generate multiple sub questions for each tool\n",
       "* Tools must be specified by their name, not their description\n",
       "* You don't need to use a tool if you don't think it's relevant\n",
       "\n",
       "Output the list of sub questions by calling the SubQuestionList function.\n",
       "\n",
       "## Tools\n",
       "```json\n",
       "{tools_str}\n",
       "```\n",
       "\n",
       "## User Question\n",
       "{query_str}\n",
       "\n",
       "```\n",
       "\n",
       "**Prompt Key**: response_synthesizer:text_qa_template\n",
       "**Text:**\n",
       "```\n",
       "You're a trusted mentor to an adult mentee. Your mentee is seeking advice in the form of a question.\n",
       "\n",
       "Below is your mentee's question:\n",
       "\n",
       "----------------------\n",
       "{query_str}\n",
       "----------------------\n",
       "\n",
       "You have some raw thoughts which you must use to formulate an answer to your mentee's question. Below are your thoughts:\n",
       "\n",
       "----------------------\n",
       "{context_str}\n",
       "----------------------\n",
       "\n",
       "Reflect on the question and your raw thoughts, then answer your mentee's question. Your response must be based on your raw thoughts, not on prior knowledge. \n",
       "\n",
       "DO NOT use any qualifiers, relative clauses, or introductory modifiers in your answer. Provide your answer question using the second person\n",
       "perspective, speaking directly to your mentee, in the form of a OG mentor who has been there and done that and is now coming back with the\n",
       "facts and giving them back to you. Use a HYPE tone and be straight up with your mentee! REMEMBER: Your response must be based on your raw thoughts, not on prior knowledge.\n",
       "\n",
       "```\n",
       "\n",
       "**Prompt Key**: response_synthesizer:refine_template\n",
       "**Text:**\n",
       "```\n",
       "The original query is as follows: {query_str}\n",
       "We have provided an existing answer: {existing_answer}\n",
       "We have the opportunity to refine the existing answer (only if needed) with some more context below.\n",
       "------------\n",
       "{context_msg}\n",
       "------------\n",
       "Given the new context, refine the original answer to better answer the query. If the context isn't useful, return the original answer.\n",
       "Refined Answer: \n",
       "```\n",
       "\n"
      ],
      "text/plain": [
       "<IPython.core.display.Markdown object>"
      ]
     },
     "metadata": {},
     "output_type": "display_data"
    }
   ],
   "source": [
    "from utils import display_prompt_dict\n",
    "\n",
    "sub_q_prompts = sub_question_query_engine.get_prompts()\n",
    "\n",
    "display_prompt_dict(sub_q_prompts)"
   ]
  },
  {
   "cell_type": "code",
   "execution_count": 71,
   "metadata": {},
   "outputs": [
    {
     "name": "stdout",
     "output_type": "stream",
     "text": [
      "Generated 2 sub questions.\n",
      "\u001b[1;3;38;2;237;90;200m[the senpais] Q: What are the different types of luck that can be pursued?\n",
      "\u001b[0m\u001b[1;3;38;2;90;149;237m[the senpais] Q: How can luck be hacked to minimize exposure to downside while maintaining skin in the game?\n",
      "\u001b[0m\u001b[1;3;38;2;237;90;200m[the senpais] A: The different types of luck that can be pursued are blind luck, luck through persistence, hard work, hustle, and motion, luck through becoming skilled at spotting luck in a field, and luck through building a unique character, brand, or mindset.\n",
      "\u001b[0m\u001b[1;3;38;2;90;149;237m[the senpais] A: Luck can be hacked to minimize exposure to downside while maintaining skin in the game by adopting a strategy where risks are increased when winning and reduced after losses. This technique involves playing with the house money, which means betting aggressively when there is a profit and refraining from doing so when there is a deficit. This approach allows for maintaining skin in the game while managing downside risks effectively.\n",
      "\u001b[0m"
     ]
    },
    {
     "data": {
      "text/plain": [
       "Response(response=\"To build your own luck, pursue blind luck, luck through persistence, hard work, hustle, and motion, luck through becoming skilled at spotting luck in a field, and luck through building a unique character, brand, or mindset. Hack luck by increasing risks when winning and reducing after losses. Play with the house money - bet aggressively when there's a profit and hold back when there's a deficit. This way, you maintain skin in the game while managing downside risks effectively. Go out there and make your own luck!\", source_nodes=[NodeWithScore(node=TextNode(id_='3edfead1-f08b-406e-ade1-4cf49ba2649f', embedding=None, metadata={}, excluded_embed_metadata_keys=[], excluded_llm_metadata_keys=[], relationships={}, text='Sub question: What are the different types of luck that can be pursued?\\nResponse: The different types of luck that can be pursued are blind luck, luck through persistence, hard work, hustle, and motion, luck through becoming skilled at spotting luck in a field, and luck through building a unique character, brand, or mindset.', start_char_idx=None, end_char_idx=None, text_template='{metadata_str}\\n\\n{content}', metadata_template='{key}: {value}', metadata_seperator='\\n'), score=None), NodeWithScore(node=TextNode(id_='b80f6a0a-e3fd-487c-bbe1-b1f3d367ef50', embedding=None, metadata={}, excluded_embed_metadata_keys=[], excluded_llm_metadata_keys=[], relationships={}, text='Sub question: How can luck be hacked to minimize exposure to downside while maintaining skin in the game?\\nResponse: Luck can be hacked to minimize exposure to downside while maintaining skin in the game by adopting a strategy where risks are increased when winning and reduced after losses. This technique involves playing with the house money, which means betting aggressively when there is a profit and refraining from doing so when there is a deficit. This approach allows for maintaining skin in the game while managing downside risks effectively.', start_char_idx=None, end_char_idx=None, text_template='{metadata_str}\\n\\n{content}', metadata_template='{key}: {value}', metadata_seperator='\\n'), score=None), NodeWithScore(node=TextNode(id_='0404d7c4-7c86-401e-98c8-b29b27afcda0', embedding=None, metadata={'page_number': 53, 'file_name': '../data/almanack_of_naval_ravikant.pdf', 'title': 'The Almanack of Naval Ravikant', 'author': 'Naval Ravikant'}, excluded_embed_metadata_keys=[], excluded_llm_metadata_keys=[], relationships={<NodeRelationship.SOURCE: '1'>: RelatedNodeInfo(node_id='484929bc-4ba1-4be6-83f2-d8e6d22bfcf4', node_type=<ObjectType.DOCUMENT: '4'>, metadata={'page_number': 53, 'file_name': '../data/almanack_of_naval_ravikant.pdf', 'title': 'The Almanack of Naval Ravikant', 'author': 'Naval Ravikant'}, hash='180a9b14e765d0412561ccac62b853d1959050d3847b47cb579ec55273da8710'), <NodeRelationship.PREVIOUS: '2'>: RelatedNodeInfo(node_id='0c719825-59fd-4365-b293-33863c99f63b', node_type=<ObjectType.TEXT: '1'>, metadata={'page_number': 52, 'file_name': '../data/almanack_of_naval_ravikant.pdf', 'title': 'The Almanack of Naval Ravikant', 'author': 'Naval Ravikant'}, hash='fcf013ed63a3450426c396e0a43e323f23b7b303c4fa54b3b65ec385d37716f4'), <NodeRelationship.NEXT: '3'>: RelatedNodeInfo(node_id='9b481cd6-ab08-4cab-841e-681695103b25', node_type=<ObjectType.TEXT: '1'>, metadata={}, hash='3ae02b9cf683560afab308aa2c6048ee3599edc59229e3692169dab04b6ce7b9')}, text='In 1,000 parallel universes, you want to be wealthy in 999 of them. You dont want to be wealthy in the fifty of them where you got lucky, so we want to factor luck out of it. But getting lucky would help, right? Just recently, Babak Nivi, my co-founder, and I were talking on Twitter about how one gets lucky, and there are really four kinds of luck we were talking about. The first kind of luck is blind luck where one just gets lucky because something completely out of their control happened. This includes fortune, fate, etc. Then, theres luck through persistence, hard work, hustle, and motion. This is when youre running around creating opportunities. Youre generating a lot of energy, youre doing a lot to stir things up. Its almost like mixing a petri dish or mixing a bunch of reagents and seeing what combines. Youre just generating enough force, hustle, and energy for luck to find you.', start_char_idx=0, end_char_idx=897, text_template='{metadata_str}\\n\\n{content}', metadata_template='{key}: {value}', metadata_seperator='\\n'), score=0.58876246), NodeWithScore(node=TextNode(id_='9b481cd6-ab08-4cab-841e-681695103b25', embedding=None, metadata={'page_number': 53, 'file_name': '../data/almanack_of_naval_ravikant.pdf', 'title': 'The Almanack of Naval Ravikant', 'author': 'Naval Ravikant'}, excluded_embed_metadata_keys=[], excluded_llm_metadata_keys=[], relationships={<NodeRelationship.SOURCE: '1'>: RelatedNodeInfo(node_id='484929bc-4ba1-4be6-83f2-d8e6d22bfcf4', node_type=<ObjectType.DOCUMENT: '4'>, metadata={'page_number': 53, 'file_name': '../data/almanack_of_naval_ravikant.pdf', 'title': 'The Almanack of Naval Ravikant', 'author': 'Naval Ravikant'}, hash='180a9b14e765d0412561ccac62b853d1959050d3847b47cb579ec55273da8710'), <NodeRelationship.PREVIOUS: '2'>: RelatedNodeInfo(node_id='0404d7c4-7c86-401e-98c8-b29b27afcda0', node_type=<ObjectType.TEXT: '1'>, metadata={'page_number': 53, 'file_name': '../data/almanack_of_naval_ravikant.pdf', 'title': 'The Almanack of Naval Ravikant', 'author': 'Naval Ravikant'}, hash='5b64617f42e2697dbb7e5db4ef808e7e052840a2b5a62fd7c73e144a8a096c4a'), <NodeRelationship.NEXT: '3'>: RelatedNodeInfo(node_id='3e0ebc0f-d3dd-4da6-bf0e-4d11f3df48a3', node_type=<ObjectType.TEXT: '1'>, metadata={}, hash='66005a0a9e4c0ed610149128b57b48323622afac6eadd29ba15a95cf44c35d4b')}, text='A third way is you become very good at spotting luck. If you are very skilled in a field, you will notice when a lucky break happens in your field, and other people who arent attuned to it wont notice. So, you become sensitive to luck. The last kind of luck is the weirdest, hardest kind, where you build a unique character, a unique brand, a unique mindset, which causes luck to find you. For example, lets say youre the best person in the world at deep-sea diving. Youre known to take on deep-sea dives nobody else will even dare to attempt. By sheer luck, somebody', start_char_idx=898, end_char_idx=1465, text_template='{metadata_str}\\n\\n{content}', metadata_template='{key}: {value}', metadata_seperator='\\n'), score=0.5682993), NodeWithScore(node=TextNode(id_='9876c0ef-7dff-41b2-a086-9a711e838aa0', embedding=None, metadata={'page_number': 248, 'file_name': '../data/skin_in_the_game.pdf', 'title': 'Skin in the Game', 'author': 'Nassim Nicholas Taleb'}, excluded_embed_metadata_keys=[], excluded_llm_metadata_keys=[], relationships={<NodeRelationship.SOURCE: '1'>: RelatedNodeInfo(node_id='04011763-7a5d-4c5b-8a57-6eea349afeee', node_type=<ObjectType.DOCUMENT: '4'>, metadata={'page_number': 248, 'file_name': '../data/skin_in_the_game.pdf', 'title': 'Skin in the Game', 'author': 'Nassim Nicholas Taleb'}, hash='c5e680ab54e5f194cb8bfcabb7a469377f89dc21d1bb182f5f357d03a439b869'), <NodeRelationship.PREVIOUS: '2'>: RelatedNodeInfo(node_id='3fb6ec08-44fb-4966-b7bd-60ed1a63fb6d', node_type=<ObjectType.TEXT: '1'>, metadata={'page_number': 247, 'file_name': '../data/skin_in_the_game.pdf', 'title': 'Skin in the Game', 'author': 'Nassim Nicholas Taleb'}, hash='212cf6a7c042c5f698c32a81423b8c0e702193ea179ed53fcff022e61ae084bc'), <NodeRelationship.NEXT: '3'>: RelatedNodeInfo(node_id='51837df1-f386-4772-8aea-85aab885a270', node_type=<ObjectType.TEXT: '1'>, metadata={}, hash='423f05eafb8d2f0008d55ee1eaadf4ed87193c2bcc476647743007270d371e04')}, text='taking: if he has a car parked outside that can be scratched, if he has a financial portfolio that can lose money, if he has a bakery that may risk a fine, if he has a child in college who may cost unexpectedly more, if he can be laid off, if he may be unexpectedly ill in the future. All these risks add up, and the attitude of the subject reflects them all. Ruin is indivisible and invariant to the source of randomness that may cause it. Another common error in the psychology literature concerns what is called mental accounting. The Thorp, Kelly, and Shannon school of information theory requires that, for an investment strategy to be ergodic and eventually capture the return of the market, agents increase their risks as they are winning, but contract after losses, a technique called playing with the house money. In practice, it is done by threshold, for ease of execution, not complicated rules: you start betting aggressively whenever you have a profit, never when you have a deficit, as if a switch was turned on or off.', start_char_idx=0, end_char_idx=1033, text_template='{metadata_str}\\n\\n{content}', metadata_template='{key}: {value}', metadata_seperator='\\n'), score=0.57527906), NodeWithScore(node=TextNode(id_='5dcb7de9-c32e-4493-bb76-1aceb0f9804c', embedding=None, metadata={'page_number': 251, 'file_name': '../data/skin_in_the_game.pdf', 'title': 'Skin in the Game', 'author': 'Nassim Nicholas Taleb'}, excluded_embed_metadata_keys=[], excluded_llm_metadata_keys=[], relationships={<NodeRelationship.SOURCE: '1'>: RelatedNodeInfo(node_id='cf5e6fbd-35a6-4e5e-a616-02ca3bebf7c9', node_type=<ObjectType.DOCUMENT: '4'>, metadata={'page_number': 251, 'file_name': '../data/skin_in_the_game.pdf', 'title': 'Skin in the Game', 'author': 'Nassim Nicholas Taleb'}, hash='609844122dc8a46dd618050d9858ca41d2c72d84eaa205796cd528e784e2ca67'), <NodeRelationship.PREVIOUS: '2'>: RelatedNodeInfo(node_id='f0fd79fc-4e74-49c8-a9f8-2e7c6ced4b31', node_type=<ObjectType.TEXT: '1'>, metadata={'page_number': 251, 'file_name': '../data/skin_in_the_game.pdf', 'title': 'Skin in the Game', 'author': 'Nassim Nicholas Taleb'}, hash='d0fec802e11e55fffb5dd8d445ca23aa41937d2300e6944aaaa6fe8861ed900f'), <NodeRelationship.NEXT: '3'>: RelatedNodeInfo(node_id='8de0d86c-9822-4e29-81e0-c457d04745de', node_type=<ObjectType.TEXT: '1'>, metadata={}, hash='1d9558a055dfab89cdd973746f65adfa9d112f56a293673d022cb05ef8311205')}, text='If superstition is what it takes, not only is there absolutely no violation of the axioms of rationality there, but it would be technically irrational to stand in its way. If superstition is whats needed to satisfy ergodicity, let it be. Let us return to Warren Buffett. He did not make his billions by cost-benefit analysis; rather, he did so simply by establishing a high filter, then picking opportunities that pass such a threshold. The difference between successful people and really successful people is that really successful people say no to almost everything, he said. Likewise our wiring might be adapted to say no to tail risk. For there are a zillion ways to make money without taking tail risk. There are a zillion ways to solve problems (say, feed the world) without complicated technologies that entail fragility and an unknown possibility of tail blowup. Whenever I hear someone saying we need to take (tail) risks I know it is not coming from a surviving practitioner but from a finance academic', start_char_idx=897, end_char_idx=1909, text_template='{metadata_str}\\n\\n{content}', metadata_template='{key}: {value}', metadata_seperator='\\n'), score=0.55309755)], metadata={'3edfead1-f08b-406e-ade1-4cf49ba2649f': {}, 'b80f6a0a-e3fd-487c-bbe1-b1f3d367ef50': {}, '0404d7c4-7c86-401e-98c8-b29b27afcda0': {'page_number': 53, 'file_name': '../data/almanack_of_naval_ravikant.pdf', 'title': 'The Almanack of Naval Ravikant', 'author': 'Naval Ravikant'}, '9b481cd6-ab08-4cab-841e-681695103b25': {'page_number': 53, 'file_name': '../data/almanack_of_naval_ravikant.pdf', 'title': 'The Almanack of Naval Ravikant', 'author': 'Naval Ravikant'}, '9876c0ef-7dff-41b2-a086-9a711e838aa0': {'page_number': 248, 'file_name': '../data/skin_in_the_game.pdf', 'title': 'Skin in the Game', 'author': 'Nassim Nicholas Taleb'}, '5dcb7de9-c32e-4493-bb76-1aceb0f9804c': {'page_number': 251, 'file_name': '../data/skin_in_the_game.pdf', 'title': 'Skin in the Game', 'author': 'Nassim Nicholas Taleb'}})"
      ]
     },
     "execution_count": 71,
     "metadata": {},
     "output_type": "execute_result"
    }
   ],
   "source": [
    "sub_question_query_engine.query(\"How can I build my own luck, what are the types of luck I should pursue, and how can I hack luck and minimize my exposure to downside while maintaining skin in the game?\")"
   ]
  },
  {
   "cell_type": "markdown",
   "metadata": {},
   "source": [
    "# Hypothetical Document Embeddings (HyDE)\n",
    "\n",
    "At a high level, [HyDE](https://arxiv.org/pdf/2212.10496.pdf) is an embedding technique that takes queries, generates a hypothetical answer, and then embeds that generated document and uses that as the final example. \n",
    "\n",
    "- 🧐 **Problem Tackled**: Addresses the struggle of creating fully zero-shot dense retrieval systems without relevance labels.\n",
    "\n",
    "- 📚 **Traditional Methods**: Rely on relevance labels for document retrieval based on semantic similarities.\n",
    "\n",
    "- 🚫 **Zero-Shot Challenge**: Especially tough without a large dataset for training.\n",
    "\n",
    "### What is HyDE?\n",
    "\n",
    "Given a query, `HyDE` instructs a language model to generate a hypothetical document.\n",
    "\n",
    "This document captures relevance patterns but might contain inaccuracies or false details.\n",
    "\n",
    "After generating the hypothetical document, an unsupervised contrastively learned encoder encodes the document into an embedding vector.\n",
    "\n",
    "This vector identifies a neighborhood in the corpus embedding space, where similar real documents are retrieved based on vector similarity.\n",
    "\n",
    "### How Does HyDE Work?\n",
    "\n",
    "The process starts by feeding a query to a generative model with the instruction to \"write a document that answers the question\". This generates a hypothetical document that captures the essence of relevance.\n",
    "\n",
    " - Generates an embedding vector for a \"fake\" document\n",
    "\n",
    "- It does not generate any actual text content for the document\n",
    "\n",
    "- The embedding is solely for reserving space in the vectorstore index\n",
    "\n",
    "- There is no full hypothetical document text you can access later\n",
    "\n",
    "This vector is used to search against the corpus embeddings, and the most similar real documents are retrieved. The idea is that a hypothetical answer to a question is more semantically similar to the real answer than the question is. \n",
    "\n",
    "**In practice this means that your search would use GPT to generate a hypothetical answer, then embed that and use it for search**.\n",
    "\n",
    "Key advantages of HyDE:\n",
    "\n",
    "- Zero-shot, no labeled data or fine-tuning needed\n",
    "\n",
    "- Performs comparably to fine-tuned retrievers across tasks/languages\n",
    "\n",
    "- Grounds the query in real data via generated hypothetical documents"
   ]
  },
  {
   "cell_type": "code",
   "execution_count": 72,
   "metadata": {},
   "outputs": [],
   "source": [
    "from llama_index.core.indices.query.query_transform import HyDEQueryTransform\n",
    "\n",
    "from llama_index.core.query_engine import TransformQueryEngine"
   ]
  },
  {
   "cell_type": "code",
   "execution_count": 83,
   "metadata": {},
   "outputs": [],
   "source": [
    "hyde = HyDEQueryTransform(\n",
    "    include_original=True,\n",
    "    )\n",
    "\n",
    "hyde_query_engine = TransformQueryEngine(\n",
    "    query_engine = index.as_query_engine(), \n",
    "    query_transform = hyde,\n",
    "    )"
   ]
  },
  {
   "cell_type": "code",
   "execution_count": 78,
   "metadata": {},
   "outputs": [
    {
     "data": {
      "text/markdown": [
       " **Prompt Key**: query_transform:hyde_prompt\n",
       "**Text:**\n",
       "```\n",
       "Please write a passage to answer the question\n",
       "Try to include as many key details as possible.\n",
       "\n",
       "\n",
       "{context_str}\n",
       "\n",
       "\n",
       "Passage:\"\"\"\n",
       "\n",
       "```\n",
       "\n",
       "**Prompt Key**: query_engine:response_synthesizer:text_qa_template\n",
       "**Text:**\n",
       "```\n",
       "Context information is below.\n",
       "---------------------\n",
       "{context_str}\n",
       "---------------------\n",
       "Given the context information and not prior knowledge, answer the query.\n",
       "Query: {query_str}\n",
       "Answer: \n",
       "```\n",
       "\n",
       "**Prompt Key**: query_engine:response_synthesizer:refine_template\n",
       "**Text:**\n",
       "```\n",
       "The original query is as follows: {query_str}\n",
       "We have provided an existing answer: {existing_answer}\n",
       "We have the opportunity to refine the existing answer (only if needed) with some more context below.\n",
       "------------\n",
       "{context_msg}\n",
       "------------\n",
       "Given the new context, refine the original answer to better answer the query. If the context isn't useful, return the original answer.\n",
       "Refined Answer: \n",
       "```\n",
       "\n"
      ],
      "text/plain": [
       "<IPython.core.display.Markdown object>"
      ]
     },
     "metadata": {},
     "output_type": "display_data"
    }
   ],
   "source": [
    "display_prompt_dict(hyde_query_engine.get_prompts())"
   ]
  },
  {
   "cell_type": "code",
   "execution_count": 81,
   "metadata": {},
   "outputs": [
    {
     "data": {
      "text/markdown": [
       "<b>You can create your own luck by putting yourself in a position to capitalize on luck or attract luck by becoming the best at what you do, refining your skills until you excel, and being sensitive to opportunities that others may overlook.</b>"
      ],
      "text/plain": [
       "<IPython.core.display.Markdown object>"
      ]
     },
     "metadata": {},
     "output_type": "display_data"
    }
   ],
   "source": [
    "response = hyde_query_engine.query(QUERY_STRING)\n",
    "\n",
    "display(Markdown(f\"<b>{response}</b>\"))"
   ]
  },
  {
   "cell_type": "code",
   "execution_count": 85,
   "metadata": {},
   "outputs": [
    {
     "name": "stderr",
     "output_type": "stream",
     "text": [
      "Generating answers:   0%|          | 0/10 [00:00<?, ?it/s]"
     ]
    },
    {
     "name": "stdout",
     "output_type": "stream",
     "text": [
      "\u001b[1;3;38;2;155;135;227m> Running module 1e4bae76-afaa-4d79-98c3-e2927cfcd247 with input: \n",
      "messages: Should I be forbidden from contemplating the universe and restricted to only focusing on a part of it?\n",
      "\n",
      "\u001b[0m\u001b[1;3;38;2;155;135;227m> Running module 3a2d21f9-1152-4ad5-8a7b-903fc2074e52 with input: \n",
      "input: assistant: No, you should not be forbidden from contemplating the universe. It is important to have a broad perspective and consider the bigger picture in order to gain a deeper understanding of the w...\n",
      "\n",
      "\u001b[0m"
     ]
    },
    {
     "name": "stderr",
     "output_type": "stream",
     "text": [
      "Generating answers:  10%|█         | 1/10 [00:06<01:02,  6.95s/it]"
     ]
    },
    {
     "name": "stdout",
     "output_type": "stream",
     "text": [
      "\u001b[1;3;38;2;155;135;227m> Running module 1e4bae76-afaa-4d79-98c3-e2927cfcd247 with input: \n",
      "messages: How can I determine the value of different qualities and traits in life?\n",
      "\n",
      "\u001b[0m\u001b[1;3;38;2;155;135;227m> Running module 3a2d21f9-1152-4ad5-8a7b-903fc2074e52 with input: \n",
      "input: assistant: Determining the value of different qualities and traits in life is a highly subjective and personal process. Here are some steps you can take to help you determine the value of different qu...\n",
      "\n",
      "\u001b[0m"
     ]
    },
    {
     "name": "stderr",
     "output_type": "stream",
     "text": [
      "Generating answers:  20%|██        | 2/10 [00:19<01:23, 10.39s/it]"
     ]
    },
    {
     "name": "stdout",
     "output_type": "stream",
     "text": [
      "\u001b[1;3;38;2;155;135;227m> Running module 1e4bae76-afaa-4d79-98c3-e2927cfcd247 with input: \n",
      "messages: How can I define wealth in terms of assets that earn while I sleep?\n",
      "\n",
      "\u001b[0m\u001b[1;3;38;2;155;135;227m> Running module 3a2d21f9-1152-4ad5-8a7b-903fc2074e52 with input: \n",
      "input: assistant: Wealth can be defined as the accumulation of assets that generate passive income or earnings while you are not actively working or involved in the day-to-day management of those assets. The...\n",
      "\n",
      "\u001b[0m"
     ]
    },
    {
     "name": "stderr",
     "output_type": "stream",
     "text": [
      "Generating answers:  30%|███       | 3/10 [00:25<00:58,  8.36s/it]"
     ]
    },
    {
     "name": "stdout",
     "output_type": "stream",
     "text": [
      "\u001b[1;3;38;2;155;135;227m> Running module 1e4bae76-afaa-4d79-98c3-e2927cfcd247 with input: \n",
      "messages: How can I seek understanding first, before anything else, even if I lack the necessities of life?\n",
      "\n",
      "\u001b[0m\u001b[1;3;38;2;155;135;227m> Running module 3a2d21f9-1152-4ad5-8a7b-903fc2074e52 with input: \n",
      "input: assistant: Seeking understanding first, even when lacking the necessities of life, can be a challenging but rewarding endeavor. Here are some steps you can take to prioritize understanding in your lif...\n",
      "\n",
      "\u001b[0m"
     ]
    },
    {
     "name": "stderr",
     "output_type": "stream",
     "text": [
      "Generating answers:  40%|████      | 4/10 [00:37<00:57,  9.64s/it]"
     ]
    },
    {
     "name": "stdout",
     "output_type": "stream",
     "text": [
      "\u001b[1;3;38;2;155;135;227m> Running module 1e4bae76-afaa-4d79-98c3-e2927cfcd247 with input: \n",
      "messages: How can I better understand the importance of science and technology in shaping history and civilization?\n",
      "\n",
      "\u001b[0m\u001b[1;3;38;2;155;135;227m> Running module 3a2d21f9-1152-4ad5-8a7b-903fc2074e52 with input: \n",
      "input: assistant: 1. Study the history of scientific discoveries and technological advancements: By learning about key scientific breakthroughs and technological innovations throughout history, you can see h...\n",
      "\n",
      "\u001b[0m"
     ]
    },
    {
     "name": "stderr",
     "output_type": "stream",
     "text": [
      "Generating answers:  50%|█████     | 5/10 [00:50<00:53, 10.77s/it]"
     ]
    },
    {
     "name": "stdout",
     "output_type": "stream",
     "text": [
      "\u001b[1;3;38;2;155;135;227m> Running module 1e4bae76-afaa-4d79-98c3-e2927cfcd247 with input: \n",
      "messages: How should I approach situations where I don't fully understand the potential risks involved?\n",
      "\n",
      "\u001b[0m\u001b[1;3;38;2;155;135;227m> Running module 3a2d21f9-1152-4ad5-8a7b-903fc2074e52 with input: \n",
      "input: assistant: When you encounter a situation where you don't fully understand the potential risks involved, it's important to take a cautious and proactive approach. Here are some steps you can take:\n",
      "\n",
      "1....\n",
      "\n",
      "\u001b[0m"
     ]
    },
    {
     "name": "stderr",
     "output_type": "stream",
     "text": [
      "Generating answers:  60%|██████    | 6/10 [01:00<00:42, 10.65s/it]"
     ]
    },
    {
     "name": "stdout",
     "output_type": "stream",
     "text": [
      "\u001b[1;3;38;2;155;135;227m> Running module 1e4bae76-afaa-4d79-98c3-e2927cfcd247 with input: \n",
      "messages: How far up the ladder of abstraction will parallelism go in the future?\n",
      "\n",
      "\u001b[0m\u001b[1;3;38;2;155;135;227m> Running module 3a2d21f9-1152-4ad5-8a7b-903fc2074e52 with input: \n",
      "input: assistant: It is difficult to predict exactly how far up the ladder of abstraction parallelism will go in the future, as it will depend on a variety of factors such as technological advancements, rese...\n",
      "\n",
      "\u001b[0m"
     ]
    },
    {
     "name": "stderr",
     "output_type": "stream",
     "text": [
      "Generating answers:  70%|███████   | 7/10 [01:09<00:30, 10.15s/it]"
     ]
    },
    {
     "name": "stdout",
     "output_type": "stream",
     "text": [
      "\u001b[1;3;38;2;155;135;227m> Running module 1e4bae76-afaa-4d79-98c3-e2927cfcd247 with input: \n",
      "messages: How can I use an API to implement a rating system for news articles to counter clickbait and increase journalist credibility?\n",
      "\n",
      "\u001b[0m\u001b[1;3;38;2;155;135;227m> Running module 3a2d21f9-1152-4ad5-8a7b-903fc2074e52 with input: \n",
      "input: assistant: To implement a rating system for news articles using an API, you can follow these steps:\n",
      "\n",
      "1. Choose a reputable API that provides sentiment analysis or credibility scoring for news articles...\n",
      "\n",
      "\u001b[0m"
     ]
    },
    {
     "name": "stderr",
     "output_type": "stream",
     "text": [
      "Generating answers:  80%|████████  | 8/10 [01:18<00:19,  9.69s/it]"
     ]
    },
    {
     "name": "stdout",
     "output_type": "stream",
     "text": [
      "\u001b[1;3;38;2;155;135;227m> Running module 1e4bae76-afaa-4d79-98c3-e2927cfcd247 with input: \n",
      "messages: How can I understand the underlying reality of what a company does and how it creates wealth?\n",
      "\n",
      "\u001b[0m\u001b[1;3;38;2;155;135;227m> Running module 3a2d21f9-1152-4ad5-8a7b-903fc2074e52 with input: \n",
      "input: assistant: To understand the underlying reality of what a company does and how it creates wealth, you can start by conducting thorough research on the company. Here are some steps you can take:\n",
      "\n",
      "1. St...\n",
      "\n",
      "\u001b[0m"
     ]
    },
    {
     "name": "stderr",
     "output_type": "stream",
     "text": [
      "Generating answers:  90%|█████████ | 9/10 [01:29<00:10, 10.02s/it]"
     ]
    },
    {
     "name": "stdout",
     "output_type": "stream",
     "text": [
      "\u001b[1;3;38;2;155;135;227m> Running module 1e4bae76-afaa-4d79-98c3-e2927cfcd247 with input: \n",
      "messages: How can I truly learn something?\n",
      "\n",
      "\u001b[0m\u001b[1;3;38;2;155;135;227m> Running module 3a2d21f9-1152-4ad5-8a7b-903fc2074e52 with input: \n",
      "input: assistant: 1. Engage actively: Instead of passively consuming information, actively engage with the material by asking questions, making connections, and seeking out additional resources.\n",
      "\n",
      "2. Practice...\n",
      "\n",
      "\u001b[0m"
     ]
    },
    {
     "name": "stderr",
     "output_type": "stream",
     "text": [
      "Generating answers: 100%|██████████| 10/10 [01:39<00:00,  9.92s/it]\n"
     ]
    }
   ],
   "source": [
    "hyde_chain = [Settings.llm,  hyde_query_engine]\n",
    "\n",
    "hyde_query_pipeline = create_query_pipeline(hyde_chain)\n",
    "\n",
    "smol_eval_set = run_generations_on_eval_set(\n",
    "    eval_dataset=smol_eval_set, \n",
    "    col_name=\"hyde-answer\", \n",
    "    query_pipeline=hyde_query_pipeline,\n",
    "    time_out=False\n",
    "    )"
   ]
  },
  {
   "cell_type": "code",
   "execution_count": 86,
   "metadata": {},
   "outputs": [
    {
     "name": "stdout",
     "output_type": "stream",
     "text": [
      "💬\n",
      "\n",
      "🙋🏽‍♂️ Question: Should I be forbidden from contemplating the universe and restricted to only focusing on a part of it?\n",
      "\"RR Fusion Reponse: Response 1: You need to focus on one big thing and attach subroutines to it. Trying to do more than one big thing will only lead to constant decision-making and confusion. Remember to map everything you learn onto your broad mission or direction to gain a deeper understanding. Find the balance between contemplating the universe and focusing on specific aspects to truly grasp the world around you. It's all about fitting ideas into your mental clothesline and compressing data to remember them effectively. Stay focused, stay driven, and keep pushing forward with purpose.\n",
      "\"HyDE Reponse: No, individuals should not be forbidden from contemplating the universe. It is crucial to have a broad perspective and consider the bigger picture to gain a deeper understanding of the world. At the same time, focusing on specific aspects of the universe is essential to develop a more detailed understanding. Striking a balance between contemplating the universe as a whole and concentrating on specific areas of interest is key to a well-rounded understanding of the world.\n",
      "💬\n",
      "\n",
      "🙋🏽‍♂️ Question: How can I determine the value of different qualities and traits in life?\n",
      "\"RR Fusion Reponse: Response 1: Hey, listen up! The key to determining the value of different qualities and traits in life lies in self-honesty. Reflect on your core values and prioritize honesty above all. Seek relationships where your values align, as that's where true connections are formed. Remember, true freedom comes from within, not from external circumstances. Live rightly, not just long. Strive for a full life by taking control of your soul. It's not about how long you live, but how well you live. Stay true to yourself and embody qualities that make you a real human being. That's where you'll find true value in life.\n",
      "\"HyDE Reponse: Determining the value of different qualities and traits in life is a highly subjective and personal process. Here are some steps you can take to help you determine the value of different qualities and traits in your own life:\n",
      "\n",
      "1. Reflect on your values and priorities: Take some time to think about what is most important to you in life. Consider what qualities and traits align with your values and priorities.\n",
      "\n",
      "2. Consider the impact on your well-being: Think about how different qualities and traits contribute to your overall well-being and happiness. Consider how they affect your mental, emotional, and physical health.\n",
      "\n",
      "3. Seek feedback from others: Talk to friends, family, or a therapist about the qualities and traits you are considering. They may offer valuable insights and perspectives that can help you determine their value.\n",
      "\n",
      "4. Consider the long-term effects: Think about how different qualities and traits will impact your life in the long run. Consider how they will affect your relationships, career, and personal growth.\n",
      "\n",
      "5. Experiment and observe: Try incorporating different qualities and traits into your daily life and see how they make you feel. Pay attention to how they affect your mood, energy levels, and overall satisfaction.\n",
      "\n",
      "Ultimately, the value of different qualities and traits in life will vary from person to person. It's important to trust your own judgment and intuition when determining what is most valuable to you.\n",
      "💬\n",
      "\n",
      "🙋🏽‍♂️ Question: How can I define wealth in terms of assets that earn while I sleep?\n",
      "\"RR Fusion Reponse: Response 1: To become wealthy, you need to own equity in a business. Without ownership, you won't achieve financial freedom. You must have assets that generate income while you sleep. Wealth is created through ownership, not just working for a salary. Start your own business or invest in one to build real wealth. Don't rely on hourly wages; focus on ownership and passive income. That's the key to financial independence and a comfortable lifestyle.\n",
      "\"HyDE Reponse: Wealth can be described as the accumulation of assets that have the ability to generate income or earnings without the need for continuous active involvement or work. These assets can encompass various forms such as investments like stocks, bonds, real estate properties, and businesses that can produce income independently, offering a source of passive income. Establishing wealth through assets that earn while you are not actively working enables the creation of a passive income stream that can contribute to financial stability and independence over time.\n",
      "💬\n",
      "\n",
      "🙋🏽‍♂️ Question: How can I seek understanding first, before anything else, even if I lack the necessities of life?\n",
      "\"RR Fusion Reponse: Response 1: Prioritize understanding in your life by cultivating a curious mindset, practicing empathy, reflecting on your beliefs, seeking out learning opportunities, and practicing mindfulness. Remember, truth cannot be limited or organized - school yourself in the truth. Growth requires involvement and constant discovery. Acceptance is key to finding peace and clarity. Ignorance is blind, so seek knowledge and self-cultivation. Self-actualization is about being real and true to yourself, not projecting a facade. Prioritize what truly matters and filter out unnecessary distractions. Infotainment should be filtered out of your information diet. Stay focused on what truly enriches your life and relationships.\n",
      "\"HyDE Reponse: Prioritizing understanding in life, even in challenging circumstances, involves cultivating curiosity, practicing empathy, prioritizing learning, seeking mentors, and reflecting on personal beliefs. By embracing these steps, one can develop a deeper sense of purpose and fulfillment that transcends material possessions, enabling them to navigate life's obstacles with wisdom and make a positive impact on their surroundings.\n",
      "💬\n",
      "\n",
      "🙋🏽‍♂️ Question: How can I better understand the importance of science and technology in shaping history and civilization?\n",
      "\"RR Fusion Reponse: Response 1: Science and technology are the driving forces of history. They have shaped civilizations, influenced societal aspects, and played a crucial role in shaping the course of civilization. By studying the history of scientific discoveries and technological advancements, exploring their role in different civilizations, considering their ethical and social implications, connecting them to broader historical trends, and staying informed about current developments, you can gain a deeper understanding of how they have impacted society. Remember, progress is abstraction, and understanding the complexities of technology is key to advancing civilization. Embrace the power of technology and use it to propel humanity forward.\n",
      "\"HyDE Reponse: 1. Understanding key scientific breakthroughs and technological innovations throughout history can reveal their profound impact on various aspects of society, including medicine, communication, transportation, and warfare.\n",
      "\n",
      "2. Major historical events like the Industrial Revolution, the Space Race, and the Information Age have been heavily influenced by advancements in science and technology, showcasing how these developments have shaped the course of history.\n",
      "\n",
      "3. Examining the ethical and social implications of scientific and technological advancements, such as genetic engineering and artificial intelligence, is crucial to understanding the complex relationship between science, technology, and society.\n",
      "\n",
      "4. Staying informed about current scientific and technological trends through news sources, lectures, and discussions can provide insights into how these developments are shaping the world and history.\n",
      "\n",
      "5. Connecting with experts in the fields of science and technology by attending conferences, joining professional organizations, and networking with researchers and innovators can offer valuable perspectives on the impact of science and technology on society and civilization.\n",
      "💬\n",
      "\n",
      "🙋🏽‍♂️ Question: How should I approach situations where I don't fully understand the potential risks involved?\n",
      "\"RR Fusion Reponse: Response 1: Hey there! When you're faced with a situation where you're unsure of the risks involved, here's what you gotta do:\n",
      "\n",
      "1. Gather more information: Research, consult experts, read up, and seek advice from those who know their stuff.\n",
      "\n",
      "2. Seek advice: Don't hesitate to reach out to colleagues, mentors, or professionals for guidance.\n",
      "\n",
      "3. Consider the worst-case scenario: Think about what could go wrong and the consequences. It's crucial to be prepared.\n",
      "\n",
      "4. Take a cautious approach: When in doubt, play it safe. Implement safety measures and seek more information to mitigate risks.\n",
      "\n",
      "5. Monitor the situation: Stay vigilant, be ready to adjust your approach, and address any new risks that pop up.\n",
      "\n",
      "Approach uncertain situations with caution, curiosity, and a willingness to seek advice and gather more information. By taking these steps, you'll be better equipped to make informed decisions and navigate through challenges effectively. Stay proactive and keep pushing forward!\n",
      "\"HyDE Reponse: When faced with a situation where the potential risks are not fully understood, it is crucial to adopt a cautious and proactive approach. This involves gathering more information through research and seeking advice from experts, consulting with trusted individuals for insights, considering worst-case scenarios to prepare for challenges, taking a cautious stance by implementing safety measures, and monitoring the situation closely to adjust strategies as needed. By combining caution, curiosity, and proactive problem-solving, individuals can navigate uncertain circumstances effectively and make informed decisions.\n",
      "💬\n",
      "\n",
      "🙋🏽‍♂️ Question: How far up the ladder of abstraction will parallelism go in the future?\n",
      "\"RR Fusion Reponse: Response 1: In the future, parallelism will likely continue to be a key focus in computing, with advancements in parallel programming models and hardware architecture. However, most opportunities for parallelism may be wasted, and it may not pervade all programs written in a hundred years. It will be more like being able to fork off processes that run in parallel, used for optimization later in a program's life. Faster computers will lead to a wider range of language efficiencies, with some applications becoming inefficient while others demand maximum speed. Despite the gap in efficiency, programmers in a hundred years will have languages that can span most of it.\n",
      "\"HyDE Reponse: Parallelism is expected to play a crucial role in the future of computing, likely being integrated into various systems and applications at higher levels of abstraction. This integration will be driven by advancements in technology, market demands, and the need for optimized performance and efficiency. As developers seek to address complex challenges in areas like artificial intelligence, big data analytics, and cloud computing, parallel processing will become increasingly important, leading to further advancements in parallelism and abstraction.\n",
      "💬\n",
      "\n",
      "🙋🏽‍♂️ Question: How can I use an API to implement a rating system for news articles to counter clickbait and increase journalist credibility?\n",
      "\"RR Fusion Reponse: Response 1: Implementing a rating system for news articles using an API is crucial to combat clickbait and enhance journalist credibility. By leveraging sentiment analysis and rating capabilities, you can provide users with transparent and objective ratings of the content they consume. This will revolutionize the way news is consumed and ensure that quality journalism is recognized and rewarded. So, go ahead and follow those steps to create a system that empowers users to make informed decisions and promotes fact-based media. It's time to take control and revolutionize the way news is rated and consumed!\n",
      "\"HyDE Reponse: Implementing a rating system for news articles using an API involves selecting a suitable API for sentiment analysis or credibility scoring, integrating it into the platform, creating a rating system based on the API's analysis, encouraging user feedback, and utilizing the ratings to promote trustworthy content and identify misleading articles. This approach can enhance user experience by providing valuable insights into the credibility of news articles and combatting clickbait practices.\n",
      "💬\n",
      "\n",
      "🙋🏽‍♂️ Question: How can I understand the underlying reality of what a company does and how it creates wealth?\n",
      "\"RR Fusion Reponse: Response 1: To truly understand what a company does and how it creates wealth, you need to start by researching thoroughly. Study the business model, analyze financial statements, look at the competitive landscape, research industry trends, consider strategic initiatives, and evaluate the leadership team. When starting a business, focus on a qualitative goal that inspires you. Pay for a targeted survey or gather feedback from potential customers to validate your ideas. Create high-value media that helps people improve their skills and abilities. Remember, being a leveraged worker is key to maximizing your impact and creating significant value. Prioritize judgment over time and effort, and aim to control your own time in a leveraged job. Ultimately, understanding these key principles will help you make informed decisions and drive long-term success.\n",
      "\"HyDE Reponse: Understanding the underlying reality of what a company does and how it creates wealth involves studying the company's business model, analyzing its financial statements, researching industry and market trends, evaluating its competitive advantage, and considering its growth prospects. Conducting thorough research in these areas will provide valuable insights into the company's operations and wealth creation potential, aiding in making informed investment decisions and assessing long-term prospects.\n",
      "💬\n",
      "\n",
      "🙋🏽‍♂️ Question: How can I truly learn something?\n",
      "\"RR Fusion Reponse: Response 1: Engage actively, practice regularly, teach others, seek feedback, apply what you've learned, stay curious, set goals, and stay consistent. That's the winning formula for effective learning. Remember, it's not about what to think, but how to think. Motivate yourself, maintain focus, promote mental activity, create a clear picture, develop comprehension, and repeat until you've truly learned. Give credit where it's due, be generous with praise, and establish a direct relationship with your learning. Internalize and organize information by explaining it to someone else. Dive into the greats in math, science, and philosophy, ignore the noise, and prioritize truth over social approval. Learn quickly by diving into problems and identifying what you don't know. Remember, you can learn from anything, even if it doesn't seem immediately applicable. Keep pushing yourself, stay hungry for knowledge, and never stop learning.\n",
      "\"HyDE Reponse: 1. Actively engage with the material by asking questions, making connections, and seeking out additional resources.\n",
      "2. Practice what you have learned regularly to reinforce your understanding.\n",
      "3. Teach someone else what you have learned to solidify your understanding and identify any gaps in your knowledge.\n",
      "4. Seek feedback from teachers, mentors, or peers to help identify areas for improvement and ensure you are on the right track.\n",
      "5. Apply your knowledge to real-world situations or projects to see how concepts can be used practically.\n",
      "6. Stay curious, explore different perspectives, ask questions, and seek out new information to deepen your understanding.\n",
      "7. Set specific, achievable goals for your learning journey to stay motivated and focused.\n",
      "8. Keep track of learning materials, notes, and resources in an organized manner to stay on top of studies and easily review information when needed.\n"
     ]
    }
   ],
   "source": [
    "for row in smol_eval_set.select(range(10)):\n",
    "    print(\"💬\\n\")\n",
    "    print(f\"\"\"🙋🏽‍♂️ Question: {row[\"question\"]}\"\"\")\n",
    "    print(f\"\"\"\"RR Fusion Reponse: {row[\"rr-fusion-answer\"]}\"\"\")\n",
    "    print(f\"\"\"\"HyDE Reponse: {row[\"hyde-answer\"]}\"\"\")"
   ]
  }
 ],
 "metadata": {
  "kernelspec": {
   "display_name": "lil_llama_index",
   "language": "python",
   "name": "python3"
  },
  "language_info": {
   "codemirror_mode": {
    "name": "ipython",
    "version": 3
   },
   "file_extension": ".py",
   "mimetype": "text/x-python",
   "name": "python",
   "nbconvert_exporter": "python",
   "pygments_lexer": "ipython3",
   "version": "3.10.14"
  }
 },
 "nbformat": 4,
 "nbformat_minor": 2
}
