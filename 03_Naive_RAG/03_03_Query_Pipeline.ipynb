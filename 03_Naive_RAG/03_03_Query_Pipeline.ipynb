{
 "cells": [
  {
   "cell_type": "code",
   "execution_count": null,
   "metadata": {},
   "outputs": [],
   "source": [
    "%%capture\n",
    "!pip install llama-index==0.10.22 llama-index-embeddings-openai qdrant-client llama-index-vector-stores-qdrant"
   ]
  },
  {
   "cell_type": "code",
   "execution_count": null,
   "metadata": {},
   "outputs": [],
   "source": [
    "import os\n",
    "import nest_asyncio\n",
    "from getpass import getpass\n",
    "nest_asyncio.apply()"
   ]
  },
  {
   "cell_type": "code",
   "execution_count": null,
   "metadata": {},
   "outputs": [],
   "source": [
    "os.environ['OPENAI_API_KEY'] = getpass(\"Enter your OpenAI API key: \")"
   ]
  },
  {
   "cell_type": "code",
   "execution_count": null,
   "metadata": {},
   "outputs": [],
   "source": [
    "QDRANT_URL = getpass(\"Enter your Qdrant URL:\")"
   ]
  },
  {
   "cell_type": "code",
   "execution_count": null,
   "metadata": {},
   "outputs": [],
   "source": [
    "QDRANT_API_KEY = getpass(\"Enter your Qdrant API Key:\")"
   ]
  },
  {
   "cell_type": "markdown",
   "metadata": {},
   "source": [
    "# Query Pipelines\n",
    "\n",
    "LlamaIndex offers a query API for chaining modules to manage data workflows easily. It revolves around the QueryPipeline, where you link various modules like LLMs, prompts, and retrievers in a sequence or DAG for end-to-end execution.\n",
    "\n",
    "You can streamline workflows efficiently using QueryPipeline, reducing code complexity and enhancing readability. Additionally, a declarative interface ensures easy serialization of pipeline components for portability and deployment across systems in the future."
   ]
  },
  {
   "cell_type": "code",
   "execution_count": null,
   "metadata": {},
   "outputs": [],
   "source": [
    "from llama_index.core.settings import Settings\n",
    "from llama_index.llms.cohere import Cohere\n",
    "from llama_index.embeddings.fastembed import FastEmbedEmbedding\n",
    "\n",
    "Settings.llm = Cohere(model=\"command-r\")\n",
    "Settings.embed_model = FastEmbedEmbedding(model_name=\"BAAI/bge-small-en-v1.5\")"
   ]
  },
  {
   "cell_type": "code",
   "execution_count": 102,
   "metadata": {},
   "outputs": [],
   "source": [
    "from qdrant_client import QdrantClient\n",
    "from llama_index.core import VectorStoreIndex, StorageContext\n",
    "from llama_index.vector_stores.qdrant import QdrantVectorStore\n",
    "\n",
    "# Create a Qdrant client\n",
    "client = QdrantClient(\n",
    "    url=QDRANT_URL, \n",
    "    api_key=QDRANT_API_KEY,\n",
    ")\n",
    "\n",
    "# Create a Qdrant vector store\n",
    "vector_store = QdrantVectorStore(client=client, collection_name=\"it_can_be_done\")\n",
    "\n",
    "# Create a vector store index\n",
    "index = VectorStoreIndex.from_vector_store(\n",
    "    vector_store=vector_store,\n",
    "    embed_model=Settings.embed_model,\n",
    ")\n"
   ]
  },
  {
   "cell_type": "code",
   "execution_count": 103,
   "metadata": {},
   "outputs": [],
   "source": [
    "query_engine = index.as_query_engine(similarity_top_k=7, return_sources=True)"
   ]
  },
  {
   "cell_type": "code",
   "execution_count": 64,
   "metadata": {},
   "outputs": [
    {
     "data": {
      "text/plain": [
       "{'response_synthesizer:text_qa_template': SelectorPromptTemplate(metadata={'prompt_type': <PromptType.QUESTION_ANSWER: 'text_qa'>}, template_vars=['context_str', 'query_str'], kwargs={}, output_parser=None, template_var_mappings={}, function_mappings={}, default_template=PromptTemplate(metadata={'prompt_type': <PromptType.QUESTION_ANSWER: 'text_qa'>}, template_vars=['context_str', 'query_str'], kwargs={}, output_parser=None, template_var_mappings=None, function_mappings=None, template='Context information is below.\\n---------------------\\n{context_str}\\n---------------------\\nGiven the context information and not prior knowledge, answer the query.\\nQuery: {query_str}\\nAnswer: '), conditionals=[(<function is_chat_model at 0x1180315a0>, ChatPromptTemplate(metadata={'prompt_type': <PromptType.CUSTOM: 'custom'>}, template_vars=['context_str', 'query_str'], kwargs={}, output_parser=None, template_var_mappings=None, function_mappings=None, message_templates=[ChatMessage(role=<MessageRole.SYSTEM: 'system'>, content=\"You are an expert Q&A system that is trusted around the world.\\nAlways answer the query using the provided context information, and not prior knowledge.\\nSome rules to follow:\\n1. Never directly reference the given context in your answer.\\n2. Avoid statements like 'Based on the context, ...' or 'The context information ...' or anything along those lines.\", additional_kwargs={}), ChatMessage(role=<MessageRole.USER: 'user'>, content='Context information is below.\\n---------------------\\n{context_str}\\n---------------------\\nGiven the context information and not prior knowledge, answer the query.\\nQuery: {query_str}\\nAnswer: ', additional_kwargs={})]))]),\n",
       " 'response_synthesizer:refine_template': SelectorPromptTemplate(metadata={'prompt_type': <PromptType.REFINE: 'refine'>}, template_vars=['query_str', 'existing_answer', 'context_msg'], kwargs={}, output_parser=None, template_var_mappings={}, function_mappings={}, default_template=PromptTemplate(metadata={'prompt_type': <PromptType.REFINE: 'refine'>}, template_vars=['query_str', 'existing_answer', 'context_msg'], kwargs={}, output_parser=None, template_var_mappings=None, function_mappings=None, template=\"The original query is as follows: {query_str}\\nWe have provided an existing answer: {existing_answer}\\nWe have the opportunity to refine the existing answer (only if needed) with some more context below.\\n------------\\n{context_msg}\\n------------\\nGiven the new context, refine the original answer to better answer the query. If the context isn't useful, return the original answer.\\nRefined Answer: \"), conditionals=[(<function is_chat_model at 0x1180315a0>, ChatPromptTemplate(metadata={'prompt_type': <PromptType.CUSTOM: 'custom'>}, template_vars=['context_msg', 'query_str', 'existing_answer'], kwargs={}, output_parser=None, template_var_mappings=None, function_mappings=None, message_templates=[ChatMessage(role=<MessageRole.USER: 'user'>, content=\"You are an expert Q&A system that strictly operates in two modes when refining existing answers:\\n1. **Rewrite** an original answer using the new context.\\n2. **Repeat** the original answer if the new context isn't useful.\\nNever reference the original answer or context directly in your answer.\\nWhen in doubt, just repeat the original answer.\\nNew Context: {context_msg}\\nQuery: {query_str}\\nOriginal Answer: {existing_answer}\\nNew Answer: \", additional_kwargs={})]))])}"
      ]
     },
     "execution_count": 64,
     "metadata": {},
     "output_type": "execute_result"
    }
   ],
   "source": [
    "query_engine.get_prompts()"
   ]
  },
  {
   "cell_type": "code",
   "execution_count": 104,
   "metadata": {},
   "outputs": [],
   "source": [
    "from llama_index.core.query_pipeline import QueryPipeline\n",
    "\n",
    "p = QueryPipeline(\n",
    "    chain=[Settings.llm, query_engine], verbose=True\n",
    ")"
   ]
  },
  {
   "cell_type": "code",
   "execution_count": 105,
   "metadata": {},
   "outputs": [
    {
     "name": "stdout",
     "output_type": "stream",
     "text": [
      "\u001b[1;3;38;2;155;135;227m> Running module 3196d0d2-d565-435b-afc3-a181c9eeb74e with input: \n",
      "messages: What advice from the text about Forget the past and move forward with strength and courage\n",
      "\n",
      "\u001b[0m\u001b[1;3;38;2;155;135;227m> Running module ee46ba93-3398-4ab4-ac37-caf283066a3a with input: \n",
      "input: assistant: The advice from the text about forgetting the past and moving forward with strength and courage is to let go of any negative experiences or regrets that may be holding you back. It encourag...\n",
      "\n",
      "\u001b[0m"
     ]
    }
   ],
   "source": [
    "resp = p.run(\"What advice from the text about Forget the past and move forward with strength and courage\")"
   ]
  },
  {
   "cell_type": "code",
   "execution_count": 106,
   "metadata": {},
   "outputs": [
    {
     "name": "stdout",
     "output_type": "stream",
     "text": [
      "The text advises to leave behind past failures and disappointments, focusing on the present and future with a positive outlook. It emphasizes the importance of resilience, courage, and determination in overcoming obstacles and moving forward confidently. By releasing negative experiences and regrets, one can free themselves from emotional burdens and approach challenges with strength and optimism, fostering personal growth and a brighter future.\n"
     ]
    }
   ],
   "source": [
    "print(resp)"
   ]
  },
  {
   "cell_type": "code",
   "execution_count": 78,
   "metadata": {},
   "outputs": [],
   "source": [
    "q = QueryPipeline(verbose=True)"
   ]
  },
  {
   "cell_type": "code",
   "execution_count": 79,
   "metadata": {},
   "outputs": [],
   "source": [
    "q.add_modules({\n",
    "    \"llm\": Settings.llm,\n",
    "    \"query_engine\": query_engine,\n",
    "})"
   ]
  },
  {
   "cell_type": "code",
   "execution_count": 81,
   "metadata": {},
   "outputs": [],
   "source": [
    "q.add_link(\"llm\", \"query_engine\")"
   ]
  },
  {
   "cell_type": "code",
   "execution_count": 88,
   "metadata": {},
   "outputs": [
    {
     "name": "stdout",
     "output_type": "stream",
     "text": [
      "\u001b[1;3;38;2;155;135;227m> Running module llm with input: \n",
      "messages: What Poems aligns with themes in Stoic Philosophy?\n",
      "\n",
      "\u001b[0m\u001b[1;3;38;2;155;135;227m> Running module query_engine with input: \n",
      "input: assistant: One poem that aligns with themes in Stoic Philosophy is \"Invictus\" by William Ernest Henley. This poem reflects the Stoic idea of inner strength and resilience in the face of adversity. The...\n",
      "\n",
      "\u001b[0m"
     ]
    }
   ],
   "source": [
    "resp = q.run(\"What Poems aligns with themes in Stoic Philosophy?\")"
   ]
  },
  {
   "cell_type": "code",
   "execution_count": 90,
   "metadata": {},
   "outputs": [
    {
     "data": {
      "text/plain": [
       "{'response': 'The poem \"Invictus\" by William Ernest Henley aligns with themes in Stoic Philosophy by emphasizing inner strength and resilience in the face of adversity. The speaker in the poem declares their unconquerable soul despite the challenges and hardships they have endured, showcasing a steadfast determination to persevere. This reflects the Stoic belief in accepting and overcoming obstacles with courage and fortitude.',\n",
       " 'source_nodes': [NodeWithScore(node=TextNode(id_='092ba663-a734-4eea-bdfb-a746c62e100a', embedding=None, metadata={'file_path': '../data/it_can_be_done.txt', 'file_name': 'it_can_be_done.txt', 'file_type': 'text/plain', 'file_size': 405217, 'creation_date': '2024-03-22', 'last_modified_date': '2024-03-21'}, excluded_embed_metadata_keys=['file_name', 'file_type', 'file_size', 'creation_date', 'last_modified_date', 'last_accessed_date'], excluded_llm_metadata_keys=['file_name', 'file_type', 'file_size', 'creation_date', 'last_modified_date', 'last_accessed_date'], relationships={<NodeRelationship.SOURCE: '1'>: RelatedNodeInfo(node_id='../data/it_can_be_done.txt', node_type=<ObjectType.DOCUMENT: '4'>, metadata={'file_path': '../data/it_can_be_done.txt', 'file_name': 'it_can_be_done.txt', 'file_type': 'text/plain', 'file_size': 405217, 'creation_date': '2024-03-22', 'last_modified_date': '2024-03-21'}, hash='3e88a2e65bd25814a1bc7195033b970f47d5e51fc92783ca4d40918848e8de0c'), <NodeRelationship.PREVIOUS: '2'>: RelatedNodeInfo(node_id='afd59629-48e3-424d-bd14-3e9339b5223d', node_type=<ObjectType.TEXT: '1'>, metadata={'file_path': '../data/it_can_be_done.txt', 'file_name': 'it_can_be_done.txt', 'file_type': 'text/plain', 'file_size': 405217, 'creation_date': '2024-03-22', 'last_modified_date': '2024-03-21'}, hash='0dcd29bc83573b00b64a3a3482420ac70562883b477200d9c553c246cea8b67d'), <NodeRelationship.NEXT: '3'>: RelatedNodeInfo(node_id='8eddd9f0-a73b-4bdd-bcdd-e1a3ab48db71', node_type=<ObjectType.TEXT: '1'>, metadata={}, hash='106fedc70043a19a1763be89efe1e6632a4d740dec4af039470042eccf5f042c')}, text='men count with you, but none too much;\\r\\n  If you can fill the unforgiving minute\\r\\n    With sixty seconds\\' worth of distance run,\\r\\n  Yours is the Earth and everything that\\'s in it,\\r\\n    And--which is more--you\\'ll be a Man, my son!\\r\\n\\r\\n\\r\\n_Rudyard Kipling._\\r\\n\\r\\nFrom \"Rudyard Kipling\\'s Verse, 1885-1918.\"\\r\\n\\r\\n\\r\\n\\r\\n\\r\\nINVICTUS\\r\\n\\r\\n\\r\\nTriumph in spirit over adverse conditions is the keynote of this poem of\\r\\ncourage undismayed. It rings with the power of the individual to guide\\r\\nhis own destiny.\\r\\n\\r\\n\\r\\n  Out of the night that covers me,\\r\\n    Black as the Pit from pole to pole,\\r\\n  I thank whatever gods may be\\r\\n    For my unconquerable soul.\\r\\n\\r\\n  In the fell clutch of circumstance\\r\\n    I have not winced nor cried aloud.\\r\\n  Under the bludgeonings of chance\\r\\n    My head is bloody, but unbowed.\\r\\n\\r\\n  Beyond this place of wrath and tears\\r\\n    Looms but the Horror of the shade,\\r\\n  And yet the menace of the', start_char_idx=23933, end_char_idx=24827, text_template='{metadata_str}\\n\\n{content}', metadata_template='{key}: {value}', metadata_seperator='\\n'), score=0.58147615),\n",
       "  NodeWithScore(node=TextNode(id_='1af5fd6e-f19f-413a-8092-6c16365ff39b', embedding=None, metadata={'file_path': '../data/it_can_be_done.txt', 'file_name': 'it_can_be_done.txt', 'file_type': 'text/plain', 'file_size': 405217, 'creation_date': '2024-03-22', 'last_modified_date': '2024-03-21'}, excluded_embed_metadata_keys=['file_name', 'file_type', 'file_size', 'creation_date', 'last_modified_date', 'last_accessed_date'], excluded_llm_metadata_keys=['file_name', 'file_type', 'file_size', 'creation_date', 'last_modified_date', 'last_accessed_date'], relationships={<NodeRelationship.SOURCE: '1'>: RelatedNodeInfo(node_id='../data/it_can_be_done.txt', node_type=<ObjectType.DOCUMENT: '4'>, metadata={'file_path': '../data/it_can_be_done.txt', 'file_name': 'it_can_be_done.txt', 'file_type': 'text/plain', 'file_size': 405217, 'creation_date': '2024-03-22', 'last_modified_date': '2024-03-21'}, hash='3e88a2e65bd25814a1bc7195033b970f47d5e51fc92783ca4d40918848e8de0c'), <NodeRelationship.PREVIOUS: '2'>: RelatedNodeInfo(node_id='dbd5a88d-93fc-45b9-8c4c-5537b4031244', node_type=<ObjectType.TEXT: '1'>, metadata={'file_path': '../data/it_can_be_done.txt', 'file_name': 'it_can_be_done.txt', 'file_type': 'text/plain', 'file_size': 405217, 'creation_date': '2024-03-22', 'last_modified_date': '2024-03-21'}, hash='c453eed6dd2b9b04781dead76af050a6ebbcf6fa973d4d9d6e0c8f6ff0713013'), <NodeRelationship.NEXT: '3'>: RelatedNodeInfo(node_id='0492f909-bfcb-4279-9b4d-9d1c72afa957', node_type=<ObjectType.TEXT: '1'>, metadata={}, hash='901ed6861de5a7e9e6101b8874f5ab7a3d76992b406273c8e7dbb42aea3829f1')}, text='in the dawn\\'s fair shining,\\r\\n    His spirit soared beyond the mounting lark;\\r\\n  But from his lips no accent of repining\\r\\n    Fell when the days grew dark;\\r\\n\\r\\n  And though contending long dread Fate to master,\\r\\n    He failed at last her enmity to cheat,\\r\\n  He turned with such a smile to face disaster\\r\\n    That he sublimed defeat.\\r\\n\\r\\n\\r\\n_Florence Earle Coates._\\r\\n\\r\\nFrom \"Poems.\"\\r\\n\\r\\n\\r\\n\\r\\n\\r\\nWILL\\r\\n\\r\\n\\r\\n\"I can resist anything but temptation,\" says a character in one of Oscar\\r\\nWilde\\'s plays. Too many of us have exactly this strength of will. We\\r\\nperhaps do not fall into gross crime, but because of our flabby\\r\\nresolution our lives become purposeless, negative, negligible. No one\\r\\nwould miss us in particular if we were out of the way.\\r\\n\\r\\n\\r\\n  I\\r\\n\\r\\n  O well for him whose will is strong!\\r\\n  He suffers, but he will not suffer long;\\r\\n  He suffers, but he cannot suffer wrong.\\r\\n  For him nor moves the loud world\\'s random mock;\\r\\n  Nor all Calamity\\'s hugest waves confound,\\r\\n  Who', start_char_idx=302711, end_char_idx=303683, text_template='{metadata_str}\\n\\n{content}', metadata_template='{key}: {value}', metadata_seperator='\\n'), score=0.55690175)],\n",
       " 'metadata': {'092ba663-a734-4eea-bdfb-a746c62e100a': {'file_path': '../data/it_can_be_done.txt',\n",
       "   'file_name': 'it_can_be_done.txt',\n",
       "   'file_type': 'text/plain',\n",
       "   'file_size': 405217,\n",
       "   'creation_date': '2024-03-22',\n",
       "   'last_modified_date': '2024-03-21'},\n",
       "  '1af5fd6e-f19f-413a-8092-6c16365ff39b': {'file_path': '../data/it_can_be_done.txt',\n",
       "   'file_name': 'it_can_be_done.txt',\n",
       "   'file_type': 'text/plain',\n",
       "   'file_size': 405217,\n",
       "   'creation_date': '2024-03-22',\n",
       "   'last_modified_date': '2024-03-21'}},\n",
       " '__pydantic_initialised__': True}"
      ]
     },
     "execution_count": 90,
     "metadata": {},
     "output_type": "execute_result"
    }
   ],
   "source": [
    "resp.__dict__"
   ]
  },
  {
   "cell_type": "code",
   "execution_count": 101,
   "metadata": {},
   "outputs": [
    {
     "data": {
      "text/plain": [
       "['Config',\n",
       " '__abstractmethods__',\n",
       " '__annotations__',\n",
       " '__class__',\n",
       " '__class_vars__',\n",
       " '__config__',\n",
       " '__custom_root_type__',\n",
       " '__delattr__',\n",
       " '__dict__',\n",
       " '__dir__',\n",
       " '__doc__',\n",
       " '__eq__',\n",
       " '__exclude_fields__',\n",
       " '__fields__',\n",
       " '__fields_set__',\n",
       " '__format__',\n",
       " '__ge__',\n",
       " '__get_validators__',\n",
       " '__getattribute__',\n",
       " '__getstate__',\n",
       " '__gt__',\n",
       " '__hash__',\n",
       " '__include_fields__',\n",
       " '__init__',\n",
       " '__init_subclass__',\n",
       " '__iter__',\n",
       " '__json_encoder__',\n",
       " '__le__',\n",
       " '__lt__',\n",
       " '__module__',\n",
       " '__ne__',\n",
       " '__new__',\n",
       " '__post_root_validators__',\n",
       " '__pre_root_validators__',\n",
       " '__pretty__',\n",
       " '__private_attributes__',\n",
       " '__reduce__',\n",
       " '__reduce_ex__',\n",
       " '__repr__',\n",
       " '__repr_args__',\n",
       " '__repr_name__',\n",
       " '__repr_str__',\n",
       " '__rich_repr__',\n",
       " '__schema_cache__',\n",
       " '__setattr__',\n",
       " '__setstate__',\n",
       " '__signature__',\n",
       " '__sizeof__',\n",
       " '__slots__',\n",
       " '__str__',\n",
       " '__subclasshook__',\n",
       " '__try_update_forward_refs__',\n",
       " '__validators__',\n",
       " '_abc_impl',\n",
       " '_calculate_keys',\n",
       " '_copy_and_set_values',\n",
       " '_decompose_class',\n",
       " '_enforce_dict_if_root',\n",
       " '_get_value',\n",
       " '_init_private_attributes',\n",
       " '_iter',\n",
       " 'class_name',\n",
       " 'construct',\n",
       " 'copy',\n",
       " 'dict',\n",
       " 'embedding',\n",
       " 'from_dict',\n",
       " 'from_json',\n",
       " 'from_orm',\n",
       " 'get_content',\n",
       " 'get_embedding',\n",
       " 'get_score',\n",
       " 'get_text',\n",
       " 'id_',\n",
       " 'json',\n",
       " 'metadata',\n",
       " 'node',\n",
       " 'node_id',\n",
       " 'parse_file',\n",
       " 'parse_obj',\n",
       " 'parse_raw',\n",
       " 'schema',\n",
       " 'schema_json',\n",
       " 'score',\n",
       " 'text',\n",
       " 'to_dict',\n",
       " 'to_json',\n",
       " 'update_forward_refs',\n",
       " 'validate']"
      ]
     },
     "execution_count": 101,
     "metadata": {},
     "output_type": "execute_result"
    }
   ],
   "source": [
    "dir(resp.source_nodes[0])"
   ]
  },
  {
   "cell_type": "code",
   "execution_count": 93,
   "metadata": {},
   "outputs": [
    {
     "data": {
      "text/plain": [
       "{'node': TextNode(id_='1af5fd6e-f19f-413a-8092-6c16365ff39b', embedding=None, metadata={'file_path': '../data/it_can_be_done.txt', 'file_name': 'it_can_be_done.txt', 'file_type': 'text/plain', 'file_size': 405217, 'creation_date': '2024-03-22', 'last_modified_date': '2024-03-21'}, excluded_embed_metadata_keys=['file_name', 'file_type', 'file_size', 'creation_date', 'last_modified_date', 'last_accessed_date'], excluded_llm_metadata_keys=['file_name', 'file_type', 'file_size', 'creation_date', 'last_modified_date', 'last_accessed_date'], relationships={<NodeRelationship.SOURCE: '1'>: RelatedNodeInfo(node_id='../data/it_can_be_done.txt', node_type=<ObjectType.DOCUMENT: '4'>, metadata={'file_path': '../data/it_can_be_done.txt', 'file_name': 'it_can_be_done.txt', 'file_type': 'text/plain', 'file_size': 405217, 'creation_date': '2024-03-22', 'last_modified_date': '2024-03-21'}, hash='3e88a2e65bd25814a1bc7195033b970f47d5e51fc92783ca4d40918848e8de0c'), <NodeRelationship.PREVIOUS: '2'>: RelatedNodeInfo(node_id='dbd5a88d-93fc-45b9-8c4c-5537b4031244', node_type=<ObjectType.TEXT: '1'>, metadata={'file_path': '../data/it_can_be_done.txt', 'file_name': 'it_can_be_done.txt', 'file_type': 'text/plain', 'file_size': 405217, 'creation_date': '2024-03-22', 'last_modified_date': '2024-03-21'}, hash='c453eed6dd2b9b04781dead76af050a6ebbcf6fa973d4d9d6e0c8f6ff0713013'), <NodeRelationship.NEXT: '3'>: RelatedNodeInfo(node_id='0492f909-bfcb-4279-9b4d-9d1c72afa957', node_type=<ObjectType.TEXT: '1'>, metadata={}, hash='901ed6861de5a7e9e6101b8874f5ab7a3d76992b406273c8e7dbb42aea3829f1')}, text='in the dawn\\'s fair shining,\\r\\n    His spirit soared beyond the mounting lark;\\r\\n  But from his lips no accent of repining\\r\\n    Fell when the days grew dark;\\r\\n\\r\\n  And though contending long dread Fate to master,\\r\\n    He failed at last her enmity to cheat,\\r\\n  He turned with such a smile to face disaster\\r\\n    That he sublimed defeat.\\r\\n\\r\\n\\r\\n_Florence Earle Coates._\\r\\n\\r\\nFrom \"Poems.\"\\r\\n\\r\\n\\r\\n\\r\\n\\r\\nWILL\\r\\n\\r\\n\\r\\n\"I can resist anything but temptation,\" says a character in one of Oscar\\r\\nWilde\\'s plays. Too many of us have exactly this strength of will. We\\r\\nperhaps do not fall into gross crime, but because of our flabby\\r\\nresolution our lives become purposeless, negative, negligible. No one\\r\\nwould miss us in particular if we were out of the way.\\r\\n\\r\\n\\r\\n  I\\r\\n\\r\\n  O well for him whose will is strong!\\r\\n  He suffers, but he will not suffer long;\\r\\n  He suffers, but he cannot suffer wrong.\\r\\n  For him nor moves the loud world\\'s random mock;\\r\\n  Nor all Calamity\\'s hugest waves confound,\\r\\n  Who', start_char_idx=302711, end_char_idx=303683, text_template='{metadata_str}\\n\\n{content}', metadata_template='{key}: {value}', metadata_seperator='\\n'),\n",
       " 'score': 0.55690175}"
      ]
     },
     "execution_count": 93,
     "metadata": {},
     "output_type": "execute_result"
    }
   ],
   "source": [
    "resp.source_nodes[1].__dict__"
   ]
  },
  {
   "cell_type": "markdown",
   "metadata": {},
   "source": [
    "<iframe\n",
    "    width=\"100%\"\n",
    "    height=\"600px\"\n",
    "    src=\"rag_dag.html\"\n",
    "    frameborder=\"0\"\n",
    "    allowfullscreen\n",
    "></iframe>\n"
   ]
  },
  {
   "cell_type": "markdown",
   "metadata": {},
   "source": [
    "\n",
    "<iframe\n",
    "    width=\"100%\"\n",
    "    height=\"600px\"\n",
    "    src=\"rag_dag.html\"\n",
    "    frameborder=\"0\"\n",
    "    allowfullscreen\n",
    "    \n",
    "></iframe>\n"
   ]
  },
  {
   "cell_type": "code",
   "execution_count": null,
   "metadata": {},
   "outputs": [],
   "source": []
  }
 ],
 "metadata": {
  "kernelspec": {
   "display_name": "lil_llama_index",
   "language": "python",
   "name": "python3"
  },
  "language_info": {
   "codemirror_mode": {
    "name": "ipython",
    "version": 3
   },
   "file_extension": ".py",
   "mimetype": "text/x-python",
   "name": "python",
   "nbconvert_exporter": "python",
   "pygments_lexer": "ipython3",
   "version": "3.10.14"
  }
 },
 "nbformat": 4,
 "nbformat_minor": 2
}
