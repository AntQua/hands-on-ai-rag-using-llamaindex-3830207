{
 "cells": [
  {
   "cell_type": "markdown",
   "metadata": {},
   "source": [
    "# Ensemble Query Engine\n",
    "\n",
    "When building a retrieval-augmented generation (RAG) application, experimenting with various query pipelines—such as top-k retrieval, keyword search, and knowledge graphs—is often necessary.\n",
    "\n",
    "**Concept**: What if we could simultaneously use multiple strategies and have a language model (LLM):\n",
    "\n",
    "1. Rate the relevance of each query result.\n",
    "\n",
    "2. Synthesize the results into a coherent answer.\n",
    "\n",
    "The Ensemble Query Engine allows you to do just that. This guide explains how to experiment with different query pipelines and strategies, have the LLM evaluate the relevance of each result, and synthesize the final response.\n",
    "\n",
    "## Key Purposes\n",
    "\n",
    "1. **Multi-Strategy Retrieval**: Try multiple retrieval strategies at once, such as top-k retrieval, keyword search, and knowledge graphs. This helps compare the effectiveness of various approaches.\n",
    "\n",
    "2. **Relevance Evaluation**: Have the LLM rate how pertinent each retrieved result is to the original query, ensuring only the most relevant information is considered.\n",
    "\n",
    "3. **Result Synthesis**: Let the LLM combine the most relevant information from different retrieval methods, leveraging its language understanding to create a comprehensive final answer.\n",
    "\n",
    "## How to Use the Ensemble Query Engine\n",
    "\n",
    "1. **Set Up Retrieval Tools**: Configure different retrieval tools, such as a keyword search tool and a vector search tool.\n",
    "\n",
    "2. **Configure the Router Query Engine**: Set up a router query engine with a selector to choose the relevant retrievals and a summarizer to synthesize the final answer.\n",
    "\n",
    "3. **Run Queries**: Use the router query engine to process queries and return synthesized responses that leverage multiple retrieval strategies evaluated by the LLM.\n",
    "\n",
    "## Benefits\n",
    "\n",
    "The Ensemble Query Engine enables you to harness the strengths of different retrieval methods and the reasoning capabilities of LLMs in a unified querying interface. It simplifies experimentation with various approaches, helping you find the optimal configuration for your RAG application."
   ]
  },
  {
   "cell_type": "code",
   "execution_count": null,
   "metadata": {},
   "outputs": [],
   "source": [
    "%%capture\n",
    "!pip install llama-index==0.10.37 llama-index-embeddings-openai==0.1.9 qdrant-client==1.9.1 llama-index-vector-stores-qdrant==0.2.8 llama-index-llms-openai==0.1.19"
   ]
  },
  {
   "cell_type": "code",
   "execution_count": 1,
   "metadata": {},
   "outputs": [],
   "source": [
    "import os\n",
    "import sys\n",
    "from getpass import getpass\n",
    "import nest_asyncio\n",
    "\n",
    "from IPython.display import Markdown, display\n",
    "\n",
    "from dotenv import load_dotenv\n",
    "\n",
    "nest_asyncio.apply()\n",
    "\n",
    "load_dotenv(\"\")\n",
    "\n",
    "sys.path.append('../helpers')\n",
    "\n",
    "from utils import setup_llm, setup_embed_model, setup_vector_store"
   ]
  },
  {
   "cell_type": "code",
   "execution_count": 2,
   "metadata": {},
   "outputs": [],
   "source": [
    "OPENAI_API_KEY = os.environ['OPENAI_API_KEY'] or getpass(\"Enter your OpenAI API key: \")"
   ]
  },
  {
   "cell_type": "code",
   "execution_count": 3,
   "metadata": {},
   "outputs": [],
   "source": [
    "CO_API_KEY = os.environ['CO_API_KEY'] or getpass(\"Enter your Cohere API key: \")"
   ]
  },
  {
   "cell_type": "code",
   "execution_count": 4,
   "metadata": {},
   "outputs": [],
   "source": [
    "# QDRANT_URL = os.environ['QDRANT_URL'] or getpass(\"Enter your Qdrant URL:\")\n",
    "\n",
    "QDRANT_URL=\":memory:\""
   ]
  },
  {
   "cell_type": "code",
   "execution_count": 5,
   "metadata": {},
   "outputs": [],
   "source": [
    "QDRANT_API_KEY = os.environ['QDRANT_API_KEY'] or  getpass(\"Enter your Qdrant API Key:\")"
   ]
  },
  {
   "cell_type": "code",
   "execution_count": 6,
   "metadata": {},
   "outputs": [],
   "source": [
    "from llama_index.core.settings import Settings\n",
    "from utils import setup_llm, setup_embed_model\n",
    "\n",
    "setup_llm(\n",
    "    provider=\"openai\",\n",
    "    api_key=OPENAI_API_KEY, \n",
    "    model=\"gpt-4o\", \n",
    "    temperature=0.75, \n",
    "    system_prompt=\"\"\"Use ONLY the provided context and generate a complete, coherent answer to the user's query. \n",
    "    Your response must be grounded in the provided context and relevant to the essence of the user's query.\n",
    "    \"\"\"\n",
    "    )\n",
    "\n",
    "setup_embed_model(\n",
    "    provider=\"openai\", \n",
    "    model=\"text-embedding-3-small\",\n",
    "    api_key=OPENAI_API_KEY\n",
    "    )"
   ]
  },
  {
   "cell_type": "code",
   "execution_count": 7,
   "metadata": {},
   "outputs": [],
   "source": [
    "import random\n",
    "from llama_index.core.storage.docstore import SimpleDocumentStore\n",
    "from utils import get_documents_from_docstore, group_documents_by_author, sample_documents\n",
    "\n",
    "documents = get_documents_from_docstore(\"../data/words-of-the-senpais\")\n",
    "\n",
    "random.seed(42)\n",
    "\n",
    "documents_by_author = group_documents_by_author(documents)\n",
    "\n",
    "senpai_documents = sample_documents(documents_by_author, num_samples=10)"
   ]
  },
  {
   "cell_type": "code",
   "execution_count": 8,
   "metadata": {},
   "outputs": [],
   "source": [
    "from llama_index.core.node_parser import SentenceSplitter\n",
    "\n",
    "splitter = SentenceSplitter(chunk_size=128, chunk_overlap=8)\n",
    "\n",
    "nodes = splitter.get_nodes_from_documents(senpai_documents)"
   ]
  },
  {
   "cell_type": "code",
   "execution_count": 9,
   "metadata": {},
   "outputs": [],
   "source": [
    "from llama_index.core import StorageContext\n",
    "\n",
    "storage_context = StorageContext.from_defaults()\n",
    "\n",
    "storage_context.docstore.add_documents(nodes)"
   ]
  },
  {
   "cell_type": "markdown",
   "metadata": {},
   "source": [
    "### [`SimpleKeywordTableIndex`](https://github.com/run-llama/llama_index/blob/main/llama-index-core/llama_index/core/indices/keyword_table/simple_base.py) Class Overview\n",
    "\n",
    "The `SimpleKeywordTableIndex` class is a simplified version of a keyword-based indexing system. \n",
    "\n",
    "During index construction, the KeywordTableIndex takes a dataset of text documents, chunks them, and uses GPT to extract relevant keywords. These keywords are stored in a table referencing the respective text chunk. \n",
    "\n",
    "During a query, the KeywordTableIndex extracts relevant keywords and uses them to retrieve a set of candidate text chunk IDs. The initial answer is constructed using the first text chunk and then refined with subsequent chunks.\n",
    "\n",
    "- **Index Construction**: \n",
    "    - Splits text documents into chunks.\n",
    "    - Extracts keywords for each chunk.\n",
    "    - Stores keywords in a table referencing the text chunks.\n",
    "\n",
    "- **Query Modes**:\n",
    "    - **Default**: Uses GPT for keyword extraction and constructs answers by refining text chunks.\n",
    "    - **Simple**: Uses regex for keyword extraction (implemented by `SimpleKeywordTableIndex`).\n"
   ]
  },
  {
   "cell_type": "code",
   "execution_count": null,
   "metadata": {},
   "outputs": [],
   "source": [
    "from llama_index.core import SimpleKeywordTableIndex, VectorStoreIndex\n",
    "\n",
    "keyword_index = SimpleKeywordTableIndex(\n",
    "    nodes,\n",
    "    storage_context=storage_context,\n",
    "    show_progress=True,\n",
    ")\n",
    "vector_index = VectorStoreIndex(\n",
    "    nodes,\n",
    "    storage_context=storage_context,\n",
    "    show_progress=True,\n",
    ")"
   ]
  },
  {
   "cell_type": "code",
   "execution_count": 11,
   "metadata": {},
   "outputs": [],
   "source": [
    "from llama_index.core import PromptTemplate\n",
    "\n",
    "QA_PROMPT_TMPL = \"\"\"\n",
    "Context:\n",
    "---------------------\n",
    "{context_str}\n",
    "---------------------\n",
    "Based on the context above, answer the question below. If the answer is not in the context, \n",
    "inform the user without making up an answer. Additionally, provide a relevance score for the answer.\n",
    "\n",
    "Question: {query_str}\n",
    "Answer (with relevance score):\n",
    "\"\"\"\n",
    "\n",
    "\n",
    "QA_PROMPT = PromptTemplate(QA_PROMPT_TMPL)\n",
    "\n",
    "keyword_query_engine = keyword_index.as_query_engine(\n",
    "    text_qa_template=QA_PROMPT\n",
    ")\n",
    "\n",
    "vector_query_engine = vector_index.as_query_engine(text_qa_template=QA_PROMPT)"
   ]
  },
  {
   "cell_type": "code",
   "execution_count": 12,
   "metadata": {},
   "outputs": [],
   "source": [
    "response = vector_query_engine.query(\n",
    "    \"What is the importance of focusing on who you work with and what you work on, rather than just how hard you work?\"\n",
    ")"
   ]
  },
  {
   "cell_type": "code",
   "execution_count": 13,
   "metadata": {},
   "outputs": [
    {
     "name": "stdout",
     "output_type": "stream",
     "text": [
      "Focusing on who you work with and what you work on is important because these factors have a greater impact on your success than merely how hard you work. By choosing the right people and projects, you position yourself to utilize your unique skills and knowledge most effectively, potentially becoming the best in your field. This approach ensures that your efforts are not just about the quantity of work but about the quality and strategic value of the work you do.\n",
      "\n",
      "Relevance score: 9/10\n"
     ]
    }
   ],
   "source": [
    "print(response)"
   ]
  },
  {
   "cell_type": "code",
   "execution_count": 14,
   "metadata": {},
   "outputs": [],
   "source": [
    "response = keyword_query_engine.query(\n",
    "    \"What is the importance of focusing on who you work with and what you work on, rather than just how hard you work?\"\n",
    ")"
   ]
  },
  {
   "cell_type": "code",
   "execution_count": 15,
   "metadata": {},
   "outputs": [
    {
     "name": "stdout",
     "output_type": "stream",
     "text": [
      "The importance of focusing on who you work with and what you work on, rather than just how hard you work, is highlighted in \"The Almanack of Naval Ravikant.\" Naval emphasizes that while working hard is important, the people you collaborate with and the projects you undertake have a greater impact on your success. This perspective suggests that the quality and alignment of your work and relationships can lead to more meaningful and sustainable outcomes than merely the effort you put in.\n",
      "\n",
      "Relevance score: 10/10\n"
     ]
    }
   ],
   "source": [
    "print(response)"
   ]
  },
  {
   "cell_type": "markdown",
   "metadata": {},
   "source": [
    "### [QueryEngineTool](https://github.com/run-llama/llama_index/blob/7849b1a851d88ee28e1bfd05d19f18e40d5b8e10/llama-index-core/llama_index/core/tools/query_engine.py#L17)\n",
    "\n",
    "Tools are abstractions designed to be used by data agents or LLMs and provide a structured way for them to perform tasks\n",
    "\n",
    "A `QueryEngineTool` is a specific type of tool designed to interface with and wrap existing query engines. It enables agents to perform complex queries by leveraging the capabilities of the underlying query engine.\n",
    "\n",
    "#### Use Cases\n",
    "\n",
    "- **Integrating Query Engines**: Allows agents to interact with query engines and other agents.\n",
    "\n",
    "- **Complex Query Handling**: Helps execute sophisticated queries and data retrieval operations."
   ]
  },
  {
   "cell_type": "code",
   "execution_count": 23,
   "metadata": {},
   "outputs": [],
   "source": [
    "from llama_index.core.tools import QueryEngineTool\n",
    "\n",
    "keyword_tool = QueryEngineTool.from_defaults(\n",
    "    query_engine=keyword_query_engine,\n",
    "    description=\"Useful for answering finding documents based on keywords and incomplete thoughts from a user.\",\n",
    ")\n",
    "\n",
    "vector_tool = QueryEngineTool.from_defaults(\n",
    "    query_engine=vector_query_engine,\n",
    "    description=\"Useful for answering fully-formed questions from a user.\",\n",
    ")"
   ]
  },
  {
   "cell_type": "markdown",
   "metadata": {},
   "source": [
    "## Define a Router Query Engine\n",
    "\n",
    "The [`LLMMultiSelector`](https://github.com/run-llama/llama_index/blob/7849b1a851d88ee28e1bfd05d19f18e40d5b8e10/llama-index-core/llama_index/core/selectors/llm_selectors.py#L141) uses LLMs to make decisions. Uses a prompt to present choices to the LLM, which then selects the most relevant options based on the query. It can be used alone or integrated into query engines and retrievers. \n",
    "\n",
    "#### Key Functions:\n",
    "\n",
    "1. **Data Source Selection**: Chooses the best data source from multiple options.\n",
    "\n",
    "2. **Operational Decisions**: Decides whether to perform summarization or semantic search.\n",
    "\n",
    "3. **Multi-Routing**: Evaluates multiple choices simultaneously and combines the results.\n",
    "\n",
    "\n",
    "### Use Cases\n",
    "\n",
    "- Selecting the right data source.\n",
    "- Choosing between summarization and semantic search.\n",
    "- Combining results from multiple choices.\n"
   ]
  },
  {
   "cell_type": "code",
   "execution_count": 24,
   "metadata": {},
   "outputs": [],
   "source": [
    "from llama_index.core.query_engine import RouterQueryEngine\n",
    "from llama_index.core.selectors import LLMMultiSelector\n",
    "\n",
    "from llama_index.core.response_synthesizers import TreeSummarize\n",
    "\n",
    "TREE_SUMMARIZE_PROMPT_TMPL = \"\"\"\n",
    "Context from multiple sources is below. Each source may have a relevance score.\n",
    "\n",
    "---------------------\n",
    "{context_str}\n",
    "---------------------\n",
    "\n",
    "Based on the information from the sources above, answer the question below. \n",
    "\n",
    "If the answer is not in the context, inform the user without making up an answer.\n",
    "\n",
    "Question: {query_str}\n",
    "Answer:\n",
    "\"\"\"\n",
    "\n",
    "tree_summarize = TreeSummarize(\n",
    "    summary_template=PromptTemplate(TREE_SUMMARIZE_PROMPT_TMPL)\n",
    ")\n",
    "\n",
    "query_engine = RouterQueryEngine(\n",
    "    selector=LLMMultiSelector.from_defaults(),\n",
    "    query_engine_tools=[\n",
    "        keyword_tool,\n",
    "        vector_tool,\n",
    "    ],\n",
    "    summarizer=tree_summarize,\n",
    "    verbose=True,\n",
    ")"
   ]
  },
  {
   "cell_type": "code",
   "execution_count": 25,
   "metadata": {},
   "outputs": [
    {
     "name": "stdout",
     "output_type": "stream",
     "text": [
      "\u001b[1;3;38;5;200mSelecting query engine 1: The question is a fully-formed query asking for specific knowledge on building wealth and achieving happiness..\n",
      "\u001b[0mBased on the provided context, the answer to your question is not explicitly stated. However, the context does suggest that making better decisions through accurate knowledge is crucial for achieving wealth and happiness. \n",
      "\n",
      "Relevance Score: 7/10\n"
     ]
    }
   ],
   "source": [
    "response = await query_engine.aquery(\n",
    "    \"How can I develop specific knowledge that will help me build wealth and achieve happiness?\"\n",
    ")\n",
    "print(response)"
   ]
  },
  {
   "cell_type": "code",
   "execution_count": null,
   "metadata": {},
   "outputs": [],
   "source": [
    "from llama_index.core.response.notebook_utils import display_response\n",
    "\n",
    "display_response(\n",
    "    response, show_source=True, source_length=500, show_source_metadata=True\n",
    ")"
   ]
  },
  {
   "cell_type": "code",
   "execution_count": 26,
   "metadata": {},
   "outputs": [
    {
     "data": {
      "text/plain": [
       "[NodeWithScore(node=TextNode(id_='07a70a38-393f-486d-a167-f2f0445bbb6c', embedding=None, metadata={'page_number': 76, 'file_name': '../data/almanack_of_naval_ravikant.pdf', 'title': 'The Almanack of Naval Ravikant', 'author': 'Naval Ravikant'}, excluded_embed_metadata_keys=[], excluded_llm_metadata_keys=[], relationships={<NodeRelationship.SOURCE: '1'>: RelatedNodeInfo(node_id='2b988748-3b49-47e9-bdc9-a991a881b36b', node_type=<ObjectType.DOCUMENT: '4'>, metadata={'page_number': 76, 'file_name': '../data/almanack_of_naval_ravikant.pdf', 'title': 'The Almanack of Naval Ravikant', 'author': 'Naval Ravikant'}, hash='3a49e6f7304356b26fde4a4bdd5ca2747beef954f087319476965d27832e485c'), <NodeRelationship.NEXT: '3'>: RelatedNodeInfo(node_id='5251b7d7-2c3f-4f9d-8613-e90d3c608936', node_type=<ObjectType.TEXT: '1'>, metadata={}, hash='2c7fb28a5b690ce69c33842bf7c7f83eb7164010e9a14f92d362072b45aff070')}, text='technology and large workforces and capital, our decisions are leveraged more and more. If you can be more right and more rational, youre going to get nonlinear returns in your life. I love the blog Farnam Street because it really focuses on helping you be more accurate, an overall better decision-maker. Decision-making is everything. The more you know, the less you diversify.', start_char_idx=0, end_char_idx=379, text_template='{metadata_str}\\n\\n{content}', metadata_template='{key}: {value}', metadata_seperator='\\n'), score=0.43911923617790255),\n",
       " NodeWithScore(node=TextNode(id_='7532d050-8d14-46af-9838-07c5c45f10ad', embedding=None, metadata={'page_number': 36, 'file_name': '../data/almanack_of_naval_ravikant.pdf', 'title': 'The Almanack of Naval Ravikant', 'author': 'Naval Ravikant'}, excluded_embed_metadata_keys=[], excluded_llm_metadata_keys=[], relationships={<NodeRelationship.SOURCE: '1'>: RelatedNodeInfo(node_id='9c6c372c-3f0b-4c93-ba99-20b561da532d', node_type=<ObjectType.DOCUMENT: '4'>, metadata={'page_number': 36, 'file_name': '../data/almanack_of_naval_ravikant.pdf', 'title': 'The Almanack of Naval Ravikant', 'author': 'Naval Ravikant'}, hash='1880bdfa1b259857590e842efed286cc664af622d3c8c81b1edc9feb1f94c555'), <NodeRelationship.PREVIOUS: '2'>: RelatedNodeInfo(node_id='d613d1c2-5ad4-482b-a16d-883f2394537b', node_type=<ObjectType.TEXT: '1'>, metadata={'page_number': 36, 'file_name': '../data/almanack_of_naval_ravikant.pdf', 'title': 'The Almanack of Naval Ravikant', 'author': 'Naval Ravikant'}, hash='ec639daaf7f291acdaa903d56a9740913dd6133e0c8b1d6505365c3f68465113')}, text='The combination of those over a long period of time with the magic of compound interest will make you wealthy. The one thing you have to avoid is the risk of ruin. Avoiding ruin means stay out of jail. So, dont do anything ille-', start_char_idx=1390, end_char_idx=1618, text_template='{metadata_str}\\n\\n{content}', metadata_template='{key}: {value}', metadata_seperator='\\n'), score=0.4302720925124722)]"
      ]
     },
     "execution_count": 26,
     "metadata": {},
     "output_type": "execute_result"
    }
   ],
   "source": [
    "response.source_nodes"
   ]
  },
  {
   "cell_type": "code",
   "execution_count": 27,
   "metadata": {},
   "outputs": [
    {
     "name": "stdout",
     "output_type": "stream",
     "text": [
      "\u001b[1;3;38;5;200mSelecting query engine 0: The query 'specific knowledge, build wealth, achieve happiness?' consists of keywords and incomplete thoughts rather than a fully-formed question..\n",
      "\u001b[0mTo build wealth and achieve happiness, you should apply specific knowledge with leverage and accountability. Naval Ravikant emphasizes that you must put in the time and effort, and position yourself to be the best at what you do with your unique skill set. This involves enjoying the process and continuously working at it. Success takes time, but with persistence and the right approach, you will eventually get what you deserve.\n",
      "\n",
      "Relevance score: 9/10\n"
     ]
    }
   ],
   "source": [
    "response = await query_engine.aquery(\n",
    "    \"specific knowledge, build wealth, achieve happiness?\"\n",
    ")\n",
    "print(response)"
   ]
  },
  {
   "cell_type": "code",
   "execution_count": 28,
   "metadata": {},
   "outputs": [
    {
     "data": {
      "text/plain": [
       "[NodeWithScore(node=TextNode(id_='962509bf-f9ec-46bb-838b-47f2a92bd1f3', embedding=None, metadata={'page_number': 58, 'file_name': '../data/almanack_of_naval_ravikant.pdf', 'title': 'The Almanack of Naval Ravikant', 'author': 'Naval Ravikant'}, excluded_embed_metadata_keys=[], excluded_llm_metadata_keys=[], relationships={<NodeRelationship.SOURCE: '1'>: RelatedNodeInfo(node_id='c39bf708-c7c5-4dfa-bb82-7b0dd8200809', node_type=<ObjectType.DOCUMENT: '4'>, metadata={'page_number': 58, 'file_name': '../data/almanack_of_naval_ravikant.pdf', 'title': 'The Almanack of Naval Ravikant', 'author': 'Naval Ravikant'}, hash='5c1815ed6e9e704ff80faac48a69863e93bd78cd88f248176a4a28ac5db2b993'), <NodeRelationship.NEXT: '3'>: RelatedNodeInfo(node_id='ed7d4818-0d2f-439a-8313-58c56676832f', node_type=<ObjectType.TEXT: '1'>, metadata={}, hash='879f09e151844c814f1b2e9ea14684ac92e91938a15afadf984cf6c51ba8b627')}, text='became extremely successful. You just had to give them a long enough timescale. It never happens in the timescale you want, or they want, but it does happen. Apply specific knowledge with leverage and eventually, you will get what you deserve. It takes timeeven once you have all of these pieces in place, there is an indeterminate amount of time you have to put in.', start_char_idx=0, end_char_idx=366, text_template='{metadata_str}\\n\\n{content}', metadata_template='{key}: {value}', metadata_seperator='\\n'), score=None),\n",
       " NodeWithScore(node=TextNode(id_='d9364422-52bc-4617-a0a0-a2e107ac3fcf', embedding=None, metadata={'page_number': 58, 'file_name': '../data/almanack_of_naval_ravikant.pdf', 'title': 'The Almanack of Naval Ravikant', 'author': 'Naval Ravikant'}, excluded_embed_metadata_keys=[], excluded_llm_metadata_keys=[], relationships={<NodeRelationship.SOURCE: '1'>: RelatedNodeInfo(node_id='c39bf708-c7c5-4dfa-bb82-7b0dd8200809', node_type=<ObjectType.DOCUMENT: '4'>, metadata={'page_number': 58, 'file_name': '../data/almanack_of_naval_ravikant.pdf', 'title': 'The Almanack of Naval Ravikant', 'author': 'Naval Ravikant'}, hash='5c1815ed6e9e704ff80faac48a69863e93bd78cd88f248176a4a28ac5db2b993'), <NodeRelationship.PREVIOUS: '2'>: RelatedNodeInfo(node_id='ed7d4818-0d2f-439a-8313-58c56676832f', node_type=<ObjectType.TEXT: '1'>, metadata={'page_number': 58, 'file_name': '../data/almanack_of_naval_ravikant.pdf', 'title': 'The Almanack of Naval Ravikant', 'author': 'Naval Ravikant'}, hash='0c96a7f3dfd79a6e6eb1551bc6cb6dd430b3315db838adb5919dad819aa2f700'), <NodeRelationship.NEXT: '3'>: RelatedNodeInfo(node_id='e9441d78-d7ba-473c-9bcc-a3c216b8e6ed', node_type=<ObjectType.TEXT: '1'>, metadata={}, hash='aa3c17a745f0b966e1b408f644d86d095c029f03d30377a6fa71a00487a9be38')}, text='You do have to put in the hours, and so I think you have to put yourself in the position with the specific knowledge, with accountability, with leverage, with the authentic skill set you have, to be the best in the world at what you do. You have to enjoy it and keep doing it, keep doing it, and keep doing it.', start_char_idx=578, end_char_idx=888, text_template='{metadata_str}\\n\\n{content}', metadata_template='{key}: {value}', metadata_seperator='\\n'), score=None),\n",
       " NodeWithScore(node=TextNode(id_='07eb9f7e-56ce-4cea-9984-cbdb97ab7b9e', embedding=None, metadata={'page_number': 76, 'file_name': '../data/taoofseneca_vol2.pdf', 'title': 'Letters From a Stoic Volume 2', 'author': 'Seneca'}, excluded_embed_metadata_keys=[], excluded_llm_metadata_keys=[], relationships={<NodeRelationship.SOURCE: '1'>: RelatedNodeInfo(node_id='617dfbd9-6cad-47fe-aeaa-b7320737d411', node_type=<ObjectType.DOCUMENT: '4'>, metadata={'page_number': 76, 'file_name': '../data/taoofseneca_vol2.pdf', 'title': 'Letters From a Stoic Volume 2', 'author': 'Seneca'}, hash='16c05cbdb57f661d0e4d61cc49af820cd0013a52a238d3f8fdbf50ca3e2746bb'), <NodeRelationship.PREVIOUS: '2'>: RelatedNodeInfo(node_id='62caa512-f3ac-40ec-b981-493d6415129e', node_type=<ObjectType.TEXT: '1'>, metadata={'page_number': 76, 'file_name': '../data/taoofseneca_vol2.pdf', 'title': 'Letters From a Stoic Volume 2', 'author': 'Seneca'}, hash='08f39bd2b833d5374596dded7de49464dee94142dd41a738a23ab7ec5d3deb33'), <NodeRelationship.NEXT: '3'>: RelatedNodeInfo(node_id='ab2f9963-1b9e-4ca4-9ba6-4d8a9f917311', node_type=<ObjectType.TEXT: '1'>, metadata={}, hash='537f4106330a4c72fb5b9ab752f4a0734877aee65f0acbee2a853d397c43311f')}, text='For its spirit is no less great and upright, its sagacity no less complete, its justice no less inflexible. It is, therefore, equally happy. For happiness has its abode in one place only, namely, in the mind itself, and is noble, steadfast, and calm; and this state cannot be attained without a knowledge of things divine and human.', start_char_idx=1441, end_char_idx=1773, text_template='{metadata_str}\\n\\n{content}', metadata_template='{key}: {value}', metadata_seperator='\\n'), score=None),\n",
       " NodeWithScore(node=TextNode(id_='5d832aca-fcd9-4a72-95bc-72920fa70f11', embedding=None, metadata={'page_number': 43, 'file_name': '../data/striking-thoughts.pdf', 'title': 'Striking Thoughts', 'author': 'Bruce Lee'}, excluded_embed_metadata_keys=[], excluded_llm_metadata_keys=[], relationships={<NodeRelationship.SOURCE: '1'>: RelatedNodeInfo(node_id='67165402-0cd1-4609-9caa-71c256e63422', node_type=<ObjectType.DOCUMENT: '4'>, metadata={'page_number': 43, 'file_name': '../data/striking-thoughts.pdf', 'title': 'Striking Thoughts', 'author': 'Bruce Lee'}, hash='c12ac78f3cfe07a229d059a34e23da85f9be6ff77cd680790029cfb171927a0d'), <NodeRelationship.PREVIOUS: '2'>: RelatedNodeInfo(node_id='1acaf638-e9ce-4a34-9a35-c3a9bc9d928e', node_type=<ObjectType.TEXT: '1'>, metadata={'page_number': 43, 'file_name': '../data/striking-thoughts.pdf', 'title': 'Striking Thoughts', 'author': 'Bruce Lee'}, hash='d8458d739e861d2370618f6eae30e8f71fc5b9a5e74ea583e0a9ca47b53e6456')}, text=\"Knowledge is of the mind. - By knowledge is meant knowing the emptiness and tranquillity of the mind. Insight means realising the one's original nature is not created. Knowledge is of the past. - Knowledge is of the past; learning is in the present, a constant movement, in relationship with the outward things, without the past.\", start_char_idx=1034, end_char_idx=1363, text_template='{metadata_str}\\n\\n{content}', metadata_template='{key}: {value}', metadata_seperator='\\n'), score=None),\n",
       " NodeWithScore(node=TextNode(id_='0867b9d5-4a02-4d04-9da5-ce81ac046c01', embedding=None, metadata={'page_number': 36, 'file_name': '../data/almanack_of_naval_ravikant.pdf', 'title': 'The Almanack of Naval Ravikant', 'author': 'Naval Ravikant'}, excluded_embed_metadata_keys=[], excluded_llm_metadata_keys=[], relationships={<NodeRelationship.SOURCE: '1'>: RelatedNodeInfo(node_id='9c6c372c-3f0b-4c93-ba99-20b561da532d', node_type=<ObjectType.DOCUMENT: '4'>, metadata={'page_number': 36, 'file_name': '../data/almanack_of_naval_ravikant.pdf', 'title': 'The Almanack of Naval Ravikant', 'author': 'Naval Ravikant'}, hash='1880bdfa1b259857590e842efed286cc664af622d3c8c81b1edc9feb1f94c555'), <NodeRelationship.NEXT: '3'>: RelatedNodeInfo(node_id='75409fc9-9bd8-4e0b-98bf-c1db80d2a222', node_type=<ObjectType.TEXT: '1'>, metadata={}, hash='0e2dca726d18b15c96f4dc42306ee7dbf2da54b894d5f9b70f94613e09418b16')}, text='Obviously, not a single person may know this. You may pull a team together to do it where each have different skill sets, but that combined entity would have specific knowledge in technology and in real estate. It would have massive accountability because that companys name would be a very high-risk, high-reward effort attached to the whole thing, and people would devote their lives to it and take on significant risk.', start_char_idx=0, end_char_idx=421, text_template='{metadata_str}\\n\\n{content}', metadata_template='{key}: {value}', metadata_seperator='\\n'), score=None),\n",
       " NodeWithScore(node=TextNode(id_='ca970cd0-1401-4e92-8e0e-81d4ed914a67', embedding=None, metadata={'page_number': 174, 'file_name': '../data/striking-thoughts.pdf', 'title': 'Striking Thoughts', 'author': 'Bruce Lee'}, excluded_embed_metadata_keys=[], excluded_llm_metadata_keys=[], relationships={<NodeRelationship.SOURCE: '1'>: RelatedNodeInfo(node_id='8effd132-4009-43d4-95f0-5aba435537e2', node_type=<ObjectType.DOCUMENT: '4'>, metadata={'page_number': 174, 'file_name': '../data/striking-thoughts.pdf', 'title': 'Striking Thoughts', 'author': 'Bruce Lee'}, hash='b3386ff25a717a5ac743926ca2837edec4c4003e7cd6a127602ae485690eeb7c'), <NodeRelationship.NEXT: '3'>: RelatedNodeInfo(node_id='d9972fe0-d1e6-462f-96eb-09c8f72e0f15', node_type=<ObjectType.TEXT: '1'>, metadata={}, hash='5173c2f2cdccd6056a5c38f9aa15d07c8c7eb49785e8b637a6d303b15f0f419b')}, text='Self-knowledge as the road to freedom. - Freedom lies in understanding yourself from moment to moment. Attend to the inner self - The pursuit of pleasures deranges the mind of man. The love for wealth perverts the conduct of man. Therefore the Sage attends to the Inner Self, and not to the outward appearance. Self-knowledge and intelligence. - Intelligence is the understanding of self Awareness vs. robotics.', start_char_idx=0, end_char_idx=411, text_template='{metadata_str}\\n\\n{content}', metadata_template='{key}: {value}', metadata_seperator='\\n'), score=None),\n",
       " NodeWithScore(node=TextNode(id_='a5bdfc99-5c2e-4ba1-b6e3-eb67ebba0e94', embedding=None, metadata={'page_number': 16, 'file_name': '../data/striking-thoughts.pdf', 'title': 'Striking Thoughts', 'author': 'Bruce Lee'}, excluded_embed_metadata_keys=[], excluded_llm_metadata_keys=[], relationships={<NodeRelationship.SOURCE: '1'>: RelatedNodeInfo(node_id='417ca5f4-6ba5-464f-aae7-469e94494555', node_type=<ObjectType.DOCUMENT: '4'>, metadata={'page_number': 16, 'file_name': '../data/striking-thoughts.pdf', 'title': 'Striking Thoughts', 'author': 'Bruce Lee'}, hash='7c3a8410b7801060a5881ca44d6ef70d64ebab41e7de39ef3b8f840012bb1b10'), <NodeRelationship.PREVIOUS: '2'>: RelatedNodeInfo(node_id='c3c2b71a-02bb-4062-87ff-8a487de11fe8', node_type=<ObjectType.TEXT: '1'>, metadata={'page_number': 16, 'file_name': '../data/striking-thoughts.pdf', 'title': 'Striking Thoughts', 'author': 'Bruce Lee'}, hash='25689f2e6de2eb4ea14dc5133469e387e8ea551b0393210337c1862018ee47a1'), <NodeRelationship.NEXT: '3'>: RelatedNodeInfo(node_id='3cf1fc58-0d47-4453-b9ea-03c3b095af7d', node_type=<ObjectType.TEXT: '1'>, metadata={}, hash='99d1cd62ed6e696544d087a8536c996e4e0f364ca58f271deed3baae3e50028d')}, text='the branches. - What we are after is the ROOT and not the branches. The root is the real knowledge; the branches are surface knowledge. Real knowledge breeds \"body feel\" and personal expression; surface knowledge breeds mechanical conditioning and imposing limitation and squelches creativity. Express your total presence from the root. - Be at once absorbingly open and rootily relaying your captivating total presence with appropriate inward time. The root is the starting point.', start_char_idx=763, end_char_idx=1244, text_template='{metadata_str}\\n\\n{content}', metadata_template='{key}: {value}', metadata_seperator='\\n'), score=None),\n",
       " NodeWithScore(node=TextNode(id_='e7d242ef-3d46-4b43-86fe-05392ac1d153', embedding=None, metadata={'page_number': 36, 'file_name': '../data/almanack_of_naval_ravikant.pdf', 'title': 'The Almanack of Naval Ravikant', 'author': 'Naval Ravikant'}, excluded_embed_metadata_keys=[], excluded_llm_metadata_keys=[], relationships={<NodeRelationship.SOURCE: '1'>: RelatedNodeInfo(node_id='9c6c372c-3f0b-4c93-ba99-20b561da532d', node_type=<ObjectType.DOCUMENT: '4'>, metadata={'page_number': 36, 'file_name': '../data/almanack_of_naval_ravikant.pdf', 'title': 'The Almanack of Naval Ravikant', 'author': 'Naval Ravikant'}, hash='1880bdfa1b259857590e842efed286cc664af622d3c8c81b1edc9feb1f94c555'), <NodeRelationship.PREVIOUS: '2'>: RelatedNodeInfo(node_id='75409fc9-9bd8-4e0b-98bf-c1db80d2a222', node_type=<ObjectType.TEXT: '1'>, metadata={'page_number': 36, 'file_name': '../data/almanack_of_naval_ravikant.pdf', 'title': 'The Almanack of Naval Ravikant', 'author': 'Naval Ravikant'}, hash='a5fc4d36626c1ac1f6b769a730274be4612cbea5183cc26bf1c52133dac3f6e7'), <NodeRelationship.NEXT: '3'>: RelatedNodeInfo(node_id='d613d1c2-5ad4-482b-a16d-883f2394537b', node_type=<ObjectType.TEXT: '1'>, metadata={}, hash='f02dd16af2fc8056abf7952bb849433b9f284440fcc0f08ab8fdc47300dde5f8')}, text='Then, you may end up with a Trulia, Redfin, or Zillow company, and then the upside could potentially be in the billions of dollars, or the hundreds of millions of dollars. Each level has increasing leverage, increasing accountability, increasingly specific knowledge. Youre adding in moneybased leverage on top of labor-based leverage.', start_char_idx=714, end_char_idx=1049, text_template='{metadata_str}\\n\\n{content}', metadata_template='{key}: {value}', metadata_seperator='\\n'), score=None),\n",
       " NodeWithScore(node=TextNode(id_='0850065f-0675-48ae-accb-27350dc6c966', embedding=None, metadata={'page_number': 107, 'file_name': '../data/hackers_and_painters.pdf', 'title': 'Hackers and Painters', 'author': 'Paul Graham'}, excluded_embed_metadata_keys=[], excluded_llm_metadata_keys=[], relationships={<NodeRelationship.SOURCE: '1'>: RelatedNodeInfo(node_id='5da44668-37ed-47a7-9155-5ab80bb70bdc', node_type=<ObjectType.DOCUMENT: '4'>, metadata={'page_number': 107, 'file_name': '../data/hackers_and_painters.pdf', 'title': 'Hackers and Painters', 'author': 'Paul Graham'}, hash='985ac70f873442d9de8e4280da057d8c0d29d709bb64099a191f8ecebf593dfc'), <NodeRelationship.PREVIOUS: '2'>: RelatedNodeInfo(node_id='46b0905b-3fc1-47dd-a8b3-847bc920793b', node_type=<ObjectType.TEXT: '1'>, metadata={'page_number': 107, 'file_name': '../data/hackers_and_painters.pdf', 'title': 'Hackers and Painters', 'author': 'Paul Graham'}, hash='4cf4bef2f941a580ddbfdc9a300d0b6cb175f801c940a1c8b6955fb15554edaa'), <NodeRelationship.NEXT: '3'>: RelatedNodeInfo(node_id='be1f6f4a-80a7-46f1-b330-8fd7d4b37dfe', node_type=<ObjectType.TEXT: '1'>, metadata={}, hash='d8542f18b6d612d4b736ac3cadcf158357234e9ea2304bac213f295a423e3b19')}, text='Was it that Europeans are somehow racially superior? Was it their religion? The answer (or at least the proximate cause) may be that the Europeans rode on the crest of a powerful new idea: allowing those who made a lot of money to keep it. Once youre allowed to do that, people who want to get rich can do it by generating wealth instead of stealing it. The resulting technological growth translates not only into wealth but into military power.', start_char_idx=756, end_char_idx=1201, text_template='{metadata_str}\\n\\n{content}', metadata_template='{key}: {value}', metadata_seperator='\\n'), score=None),\n",
       " NodeWithScore(node=TextNode(id_='9823c8a2-ed11-4222-a1ee-71361e3d7a13', embedding=None, metadata={'page_number': 27, 'file_name': '../data/almanack_of_naval_ravikant.pdf', 'title': 'The Almanack of Naval Ravikant', 'author': 'Naval Ravikant'}, excluded_embed_metadata_keys=[], excluded_llm_metadata_keys=[], relationships={<NodeRelationship.SOURCE: '1'>: RelatedNodeInfo(node_id='ff152da3-1392-4aef-914d-bffe1d4c9d6c', node_type=<ObjectType.DOCUMENT: '4'>, metadata={'page_number': 27, 'file_name': '../data/almanack_of_naval_ravikant.pdf', 'title': 'The Almanack of Naval Ravikant', 'author': 'Naval Ravikant'}, hash='e77cd6b8debf7f3142f6ea60242940c4e74cce6d9cc99d5030a2d940419e952d'), <NodeRelationship.PREVIOUS: '2'>: RelatedNodeInfo(node_id='8e17ae16-f211-4129-a1c0-745083d677bc', node_type=<ObjectType.TEXT: '1'>, metadata={'page_number': 27, 'file_name': '../data/almanack_of_naval_ravikant.pdf', 'title': 'The Almanack of Naval Ravikant', 'author': 'Naval Ravikant'}, hash='8f538ef2a3ca43f3aa913dcfbc211e9cc28a127c4c1be5553c44f4220cd3c09f')}, text='You are waiting for your moment when something emerges in the world, they need a skill set, and youre uniquely qualified. You build your brand in the meantime on Twitter, on YouTube, and by giving away free work. You make a name for yourself, and you take some risk in the process. When it is time to move', start_char_idx=1019, end_char_idx=1324, text_template='{metadata_str}\\n\\n{content}', metadata_template='{key}: {value}', metadata_seperator='\\n'), score=None)]"
      ]
     },
     "execution_count": 28,
     "metadata": {},
     "output_type": "execute_result"
    }
   ],
   "source": [
    "response.source_nodes"
   ]
  },
  {
   "cell_type": "code",
   "execution_count": 29,
   "metadata": {},
   "outputs": [
    {
     "name": "stdout",
     "output_type": "stream",
     "text": [
      "\u001b[1;3;38;5;200mSelecting query engine 1: The user's query is a fully-formed question seeking advice on achieving a calm mind and clear schedule..\n",
      "\u001b[0mTo achieve a calm mind, clear schedule, and clear mind, you need to focus on emancipating your mind from old habits, prejudices, and restrictive thought processes. Cultivate an alert mind by being sincere to yourself, which will lead you to a deeper truth and clarity. Additionally, be aware of regurgitated emotional responses and preconceived notions that might cloud your reality, especially in contexts like politics and business.\n",
      "\n",
      "Relevance score: 9/10\n"
     ]
    }
   ],
   "source": [
    "response = await query_engine.aquery(\n",
    "    \"Calm mind, clear schedule, clear mind. What do I need to do to achieve these?\"\n",
    ")\n",
    "print(response)"
   ]
  },
  {
   "cell_type": "code",
   "execution_count": 30,
   "metadata": {},
   "outputs": [
    {
     "data": {
      "text/plain": [
       "[NodeWithScore(node=TextNode(id_='1acaf638-e9ce-4a34-9a35-c3a9bc9d928e', embedding=None, metadata={'page_number': 43, 'file_name': '../data/striking-thoughts.pdf', 'title': 'Striking Thoughts', 'author': 'Bruce Lee'}, excluded_embed_metadata_keys=[], excluded_llm_metadata_keys=[], relationships={<NodeRelationship.SOURCE: '1'>: RelatedNodeInfo(node_id='67165402-0cd1-4609-9caa-71c256e63422', node_type=<ObjectType.DOCUMENT: '4'>, metadata={'page_number': 43, 'file_name': '../data/striking-thoughts.pdf', 'title': 'Striking Thoughts', 'author': 'Bruce Lee'}, hash='c12ac78f3cfe07a229d059a34e23da85f9be6ff77cd680790029cfb171927a0d'), <NodeRelationship.PREVIOUS: '2'>: RelatedNodeInfo(node_id='9c7c99ed-d767-4640-885e-6619146e4a4c', node_type=<ObjectType.TEXT: '1'>, metadata={'page_number': 43, 'file_name': '../data/striking-thoughts.pdf', 'title': 'Striking Thoughts', 'author': 'Bruce Lee'}, hash='6139ebbf8cbdaceb2662105da3e0ba24a01d2d6822277fdeb9f45bc62e7a09a5'), <NodeRelationship.NEXT: '3'>: RelatedNodeInfo(node_id='5d832aca-fcd9-4a72-95bc-72920fa70f11', node_type=<ObjectType.TEXT: '1'>, metadata={}, hash='ef65fd95ceb58e87ba6c0558c34f10eba566e009f31a337ea18926c0074ebb96')}, text='- [To] bring the mind into sharp focus and to make it alert so that it can immediately intuit truth, which is everywhere, the mind must be emancipated from old habits, prejudices, restrictive thought process, and even ordinary thought itself. Cultivate an alert mind. - To be on the alert means to be deadly serious; to be deadly serious means to be sincere to oneself, and it is sincerity that finally leads to the Way.', start_char_idx=613, end_char_idx=1033, text_template='{metadata_str}\\n\\n{content}', metadata_template='{key}: {value}', metadata_seperator='\\n'), score=0.35134849519059996),\n",
       " NodeWithScore(node=TextNode(id_='f4647dcd-7ad9-44d5-b16a-466725cc81ea', embedding=None, metadata={'page_number': 66, 'file_name': '../data/almanack_of_naval_ravikant.pdf', 'title': 'The Almanack of Naval Ravikant', 'author': 'Naval Ravikant'}, excluded_embed_metadata_keys=[], excluded_llm_metadata_keys=[], relationships={<NodeRelationship.SOURCE: '1'>: RelatedNodeInfo(node_id='5ca6457e-cd8a-427f-8f4e-fb885193025c', node_type=<ObjectType.DOCUMENT: '4'>, metadata={'page_number': 66, 'file_name': '../data/almanack_of_naval_ravikant.pdf', 'title': 'The Almanack of Naval Ravikant', 'author': 'Naval Ravikant'}, hash='7fad9e89b47bf14135300b36117f20dd683a70cccd3293bfca25415a5924a6f2'), <NodeRelationship.PREVIOUS: '2'>: RelatedNodeInfo(node_id='3e3a351f-aa1e-4878-8ede-5f7000a03e43', node_type=<ObjectType.TEXT: '1'>, metadata={'page_number': 66, 'file_name': '../data/almanack_of_naval_ravikant.pdf', 'title': 'The Almanack of Naval Ravikant', 'author': 'Naval Ravikant'}, hash='50f0559f6781565ac7cc576a9b95e60d5fe4d26fe650b9d2bb45743c0180697e'), <NodeRelationship.NEXT: '3'>: RelatedNodeInfo(node_id='8432aad7-50b0-4f75-871f-b944abf4fe8d', node_type=<ObjectType.TEXT: '1'>, metadata={}, hash='d71cdbbdc66ac643e2ede2cdd10e6b68af4996d0aa071e6bdc7c805f10fd1711')}, text='The monkey mind will always respond with this regurgitated emotional response to what it thinks the world should be. Those desires will cloud your reality. This happens a lot of times when people are mixing politics and business. The number one thing clouding us from being able to see reality is we have preconceived notions of the way it should be.', start_char_idx=757, end_char_idx=1107, text_template='{metadata_str}\\n\\n{content}', metadata_template='{key}: {value}', metadata_seperator='\\n'), score=0.34519269074366293)]"
      ]
     },
     "execution_count": 30,
     "metadata": {},
     "output_type": "execute_result"
    }
   ],
   "source": [
    "response.source_nodes"
   ]
  }
 ],
 "metadata": {
  "kernelspec": {
   "display_name": "lil_llama_index",
   "language": "python",
   "name": "python3"
  },
  "language_info": {
   "codemirror_mode": {
    "name": "ipython",
    "version": 3
   },
   "file_extension": ".py",
   "mimetype": "text/x-python",
   "name": "python",
   "nbconvert_exporter": "python",
   "pygments_lexer": "ipython3",
   "version": "3.10.14"
  }
 },
 "nbformat": 4,
 "nbformat_minor": 2
}
