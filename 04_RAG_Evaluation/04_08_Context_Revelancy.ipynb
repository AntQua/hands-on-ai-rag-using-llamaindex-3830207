{
 "cells": [
  {
   "cell_type": "code",
   "execution_count": null,
   "metadata": {},
   "outputs": [],
   "source": []
  },
  {
   "cell_type": "code",
   "execution_count": null,
   "metadata": {},
   "outputs": [],
   "source": []
  },
  {
   "cell_type": "code",
   "execution_count": null,
   "metadata": {},
   "outputs": [],
   "source": []
  },
  {
   "cell_type": "markdown",
   "metadata": {},
   "source": [
    "# 🎯 Context Relevancy\n",
    "The goal is to have context that's laser-focused on answering the question, without any unnecessary details.\n",
    "What It Measures: How relevant the retrieved context is to the question.\n",
    "\n",
    "Scoring: 0 to 1 scale, higher is better.\n",
    "\n",
    "How It Works:\n",
    "\n",
    "Identifies sentences in the context that are essential for answering the question.\n",
    "Ideally, all context should be relevant, with no extra information.\n",
    "\n",
    "Example:\n",
    "\n",
    "❓ Question: What is the capital of France?\n",
    "\n",
    "⬆️ High Relevancy: Paris, the capital of France, is famed for its fashion houses, classical art museums including the Louvre and monuments like the Eiffel Tower.\n",
    "\n",
    "⬇️ Low Relevancy: France, in Western Europe, encompasses medieval cities, alpine villages and Mediterranean beaches. Paris, its capital, is famed for its fashion houses, classical art museums including the Louvre and monuments like the Eiffel Tower. The country is also renowned for its wines and sophisticated cuisine. Lascaux's ancient cave drawings, Lyon's Roman theater and the vast Palace of Versailles attest to its rich history."
   ]
  }
 ],
 "metadata": {
  "language_info": {
   "name": "python"
  }
 },
 "nbformat": 4,
 "nbformat_minor": 2
}
