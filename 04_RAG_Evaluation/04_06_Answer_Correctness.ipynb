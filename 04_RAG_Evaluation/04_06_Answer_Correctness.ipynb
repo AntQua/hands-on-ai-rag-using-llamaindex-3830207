{
 "cells": [
  {
   "cell_type": "code",
   "execution_count": null,
   "metadata": {},
   "outputs": [],
   "source": []
  },
  {
   "cell_type": "code",
   "execution_count": null,
   "metadata": {},
   "outputs": [],
   "source": []
  },
  {
   "cell_type": "code",
   "execution_count": null,
   "metadata": {},
   "outputs": [],
   "source": []
  },
  {
   "cell_type": "markdown",
   "metadata": {},
   "source": [
    "# ✅ **Answer Correctness**\n",
    "\n",
    "   - **What It Measures**: This is about straight-up accuracy – how well does the answer align with the ground truth?\n",
    "\n",
    "   - **Scoring**: Judged on a 0 to 1 scale, where higher scores signal a bullseye match with the ground truth.\n",
    "\n",
    "   - **Example**:\n",
    "\n",
    "     - 🟢 Ground Truth: Photosynthesis in plants primarily occurs in the chloroplasts.\n",
    "\n",
    "     - ⬆️ High answer correctness: Photosynthesis takes place in the chloroplasts of plant cells.\n",
    "\n",
    "     - ⬇️ Low answer correctness: Photosynthesis occurs in the mitochondria of plants."
   ]
  }
 ],
 "metadata": {
  "language_info": {
   "name": "python"
  }
 },
 "nbformat": 4,
 "nbformat_minor": 2
}
