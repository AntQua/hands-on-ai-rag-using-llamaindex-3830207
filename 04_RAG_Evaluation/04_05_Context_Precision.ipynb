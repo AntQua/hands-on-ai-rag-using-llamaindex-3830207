{
 "cells": [
  {
   "cell_type": "code",
   "execution_count": null,
   "metadata": {},
   "outputs": [],
   "source": []
  },
  {
   "cell_type": "code",
   "execution_count": null,
   "metadata": {},
   "outputs": [],
   "source": []
  },
  {
   "cell_type": "code",
   "execution_count": null,
   "metadata": {},
   "outputs": [],
   "source": []
  },
  {
   "cell_type": "code",
   "execution_count": null,
   "metadata": {},
   "outputs": [],
   "source": []
  },
  {
   "cell_type": "markdown",
   "metadata": {},
   "source": [
    "# 🪡 **Context Precision**\n",
    "\n",
    "   - **What It Measures**: This one's about whether your model ranks all the relevant bits of information at the top. You want the most important pieces front and center.\n",
    "\n",
    "   - **Scoring**: Once again, it's a 0 to 1 scale. Higher scores indicate your model is doing a great job at prioritizing the right context.\n",
    "\n",
    "   - **Example**:\n",
    "\n",
    "     - ❓ Question: What are the health benefits of regular exercise?\n",
    "\n",
    "     - ⬆️ High precision: The model ranks contexts discussing cardiovascular health, mental well-being, and muscle strength at the top.\n",
    "\n",
    "     - ⬇️ Low precision: The model prioritizes contexts unrelated to health, such as the history of sports."
   ]
  }
 ],
 "metadata": {
  "language_info": {
   "name": "python"
  }
 },
 "nbformat": 4,
 "nbformat_minor": 2
}
