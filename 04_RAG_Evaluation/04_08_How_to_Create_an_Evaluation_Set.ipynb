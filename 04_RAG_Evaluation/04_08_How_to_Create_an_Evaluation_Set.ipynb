{
 "cells": [
  {
   "cell_type": "code",
   "execution_count": null,
   "metadata": {},
   "outputs": [],
   "source": [
    "%%capture\n",
    "!pip install llama-index==0.10.29 ragas==0.1.7 llama-index-embeddings-openai llama-index-llms-openai"
   ]
  },
  {
   "cell_type": "code",
   "execution_count": 40,
   "metadata": {},
   "outputs": [
    {
     "data": {
      "text/plain": [
       "True"
      ]
     },
     "execution_count": 40,
     "metadata": {},
     "output_type": "execute_result"
    }
   ],
   "source": [
    "import os\n",
    "import sys\n",
    "from getpass import getpass\n",
    "import nest_asyncio\n",
    "\n",
    "from dotenv import load_dotenv\n",
    "\n",
    "sys.path.append('../helpers')\n",
    "\n",
    "nest_asyncio.apply()\n",
    "\n",
    "load_dotenv()"
   ]
  },
  {
   "cell_type": "code",
   "execution_count": 2,
   "metadata": {},
   "outputs": [],
   "source": [
    "OPENAI_API_KEY = os.environ['OPENAI_API_KEY'] or getpass(\"Enter your OpenAI API key: \")"
   ]
  },
  {
   "cell_type": "markdown",
   "metadata": {},
   "source": [
    "I'm using OpenAI here because Cohere has rate limits for it's free tier. You don't need to run this code yourself if you don't want to incur costs from OpenAI. I'll upload the dataset to the Hugging Face Hub and I'll show you how to download it from there when we need it."
   ]
  },
  {
   "cell_type": "code",
   "execution_count": 3,
   "metadata": {},
   "outputs": [],
   "source": [
    "from llama_index.llms.openai import OpenAI\n",
    "\n",
    "llm = OpenAI(model=\"gpt-3.5-turbo\")"
   ]
  },
  {
   "cell_type": "markdown",
   "metadata": {},
   "source": [
    "We've already cleaned up our data before. Recall that we've persisted the `Document` objects to disk using a Docstore in such a way that each Document object represents cleaned text from a page of a book."
   ]
  },
  {
   "cell_type": "code",
   "execution_count": 4,
   "metadata": {},
   "outputs": [],
   "source": [
    "from utils import get_documents_from_docstore\n",
    "\n",
    "documents = get_documents_from_docstore(\"../data/words-of-the-senpais\")"
   ]
  },
  {
   "cell_type": "markdown",
   "metadata": {},
   "source": [
    "# Create a set of `Documents` for the evaluation set\n",
    "\n",
    "- 📚 **`group_documents_by_author`**: A utility function that sorts a collection of douments into groups based on who wrote them.\n",
    "\n",
    "- 🗂️ **How It Works**: It creates a  dictionary where each author's name is linked to all the documents they've written.\n",
    "  - Starts with an empty dictionary ready to be filled with author-document pairs.\n",
    "  - Goes through each document, checking the author's name and adding the document under the appropriate author in the dictionary.\n",
    "  - If a document doesn't list an author, it skips adding that document with a warning note.\n",
    "\n",
    "- 📝 **Input**: Takes a list of `Document` objects, each with metadata that includes the `author` field (the name of its author).\n",
    "\n",
    "- 🔖 **Output**: Outputs a dictionary that groups all the documents by their respective authors.\n",
    "  "
   ]
  },
  {
   "cell_type": "code",
   "execution_count": 5,
   "metadata": {},
   "outputs": [],
   "source": [
    "import random\n",
    "from utils import group_documents_by_author\n",
    "\n",
    "random.seed(42)\n",
    "\n",
    "documents_by_author = group_documents_by_author(documents)"
   ]
  },
  {
   "cell_type": "markdown",
   "metadata": {},
   "source": [
    "- 📚 **`sample_documents`**: Picks a set number of documents randomly from each author's collection within a grouped dictionary.\n",
    "\n",
    "- 🎲 **Sampling Logic**: It tries to get a specific number of documents for each author. If an author doesn't have enough documents, it alerts you.\n",
    "  - Begins with an empty list for storing selected samples.\n",
    "  - Loops through each author, considers only docs with >500 characters, checking if there are enough documents to fulfill the sampling requirement.\n",
    "  - Randomly selects the desired number of documents from those available, adding them to the overall sample list.\n",
    "  - Issues a warning if the documents under an author are too few to meet the sampling number.\n",
    "\n",
    "- 📝 **Input**: Receives a dictionary where authors are keys and values are lists of their documents, along with an optional number of documents to sample per author.\n",
    "\n",
    "- 🔖 **Output**: Outputs a list of randomly chosen documents from across all authors, sticking to the specified number per author when possible."
   ]
  },
  {
   "cell_type": "code",
   "execution_count": 6,
   "metadata": {},
   "outputs": [],
   "source": [
    "from utils import sample_documents\n",
    "\n",
    "docs_for_eval_set = sample_documents(documents_by_author, num_samples=25)"
   ]
  },
  {
   "cell_type": "markdown",
   "metadata": {},
   "source": [
    "# Perform a sanity check"
   ]
  },
  {
   "cell_type": "code",
   "execution_count": 7,
   "metadata": {},
   "outputs": [
    {
     "name": "stdout",
     "output_type": "stream",
     "text": [
      "Author 'Naval Ravikant' has 25 documents.\n",
      "Author 'Balaji Srinivasan' has 25 documents.\n",
      "Author 'Paul Graham' has 25 documents.\n",
      "Author 'Nassim Nicholas Taleb' has 25 documents.\n",
      "Author 'Seneca' has 25 documents.\n",
      "Author 'Bruce Lee' has 25 documents.\n"
     ]
    }
   ],
   "source": [
    "from collections import Counter\n",
    "\n",
    "def count_documents_by_author(documents):\n",
    "    \"\"\"\n",
    "    Count the number of documents each author has in a list of document objects.\n",
    "\n",
    "    :param documents: List of document objects with metadata containing 'author'.\n",
    "    :return: A Counter object with authors as keys and counts of their documents as values.\n",
    "    \"\"\"\n",
    "    # Extract the author from each document's metadata and count occurrences\n",
    "    author_counts = Counter(doc.metadata['author'] for doc in documents if 'author' in doc.metadata)\n",
    "    return author_counts\n",
    "\n",
    "author_counts = count_documents_by_author(docs_for_eval_set)\n",
    "for author, count in author_counts.items():\n",
    "    print(f\"Author '{author}' has {count} documents.\")"
   ]
  },
  {
   "cell_type": "code",
   "execution_count": 8,
   "metadata": {},
   "outputs": [
    {
     "data": {
      "text/plain": [
       "150"
      ]
     },
     "execution_count": 8,
     "metadata": {},
     "output_type": "execute_result"
    }
   ],
   "source": [
    "len(docs_for_eval_set)"
   ]
  },
  {
   "cell_type": "code",
   "execution_count": 9,
   "metadata": {},
   "outputs": [],
   "source": [
    "from utils import ingest \n",
    "from llama_index.core.node_parser import TokenTextSplitter\n",
    "\n",
    "splitter = TokenTextSplitter(\n",
    "    chunk_size = 256,\n",
    "    chunk_overlap = 32\n",
    ")\n",
    "\n",
    "transformations = [splitter]\n",
    "\n",
    "docs_for_eval_set = ingest(documents = docs_for_eval_set, transformations = transformations)"
   ]
  },
  {
   "cell_type": "code",
   "execution_count": 10,
   "metadata": {},
   "outputs": [
    {
     "data": {
      "text/plain": [
       "316"
      ]
     },
     "execution_count": 10,
     "metadata": {},
     "output_type": "execute_result"
    }
   ],
   "source": [
    "len(docs_for_eval_set)"
   ]
  },
  {
   "cell_type": "markdown",
   "metadata": {},
   "source": [
    "## Let's create an evaluation set using custom prompts"
   ]
  },
  {
   "cell_type": "code",
   "execution_count": 11,
   "metadata": {},
   "outputs": [
    {
     "name": "stdout",
     "output_type": "stream",
     "text": [
      "Your task is to write a question given a context. Your question must be in the form of an adult mentee seeking advice \n",
      "from a trusted mentor. Formulate your question in the same style as questions users could ask in a search engine. Your question must be \n",
      "answerable with a specific, concise piece of information from the context. \n",
      "\n",
      "The context is below:\n",
      "----------------------\n",
      "{context}\n",
      "----------------------\n",
      "\n",
      "Your question MUST be short, clear, and based on the essence of the context. DO NOT use any qualifiers, relative clauses, or introductory modifiers.  \n",
      "Keep your question short and to the point. Ask your question using the first person perspective, in the form of a student seeking advice from a trusted mentor.\n",
      "\n"
     ]
    }
   ],
   "source": [
    "from llama_index.core.prompts.base import PromptTemplate\n",
    "from prompts import QUESTION_GEN_PROMPT\n",
    "print(QUESTION_GEN_PROMPT)"
   ]
  },
  {
   "cell_type": "code",
   "execution_count": 12,
   "metadata": {},
   "outputs": [],
   "source": [
    "QUESTION_GEN_PROMPT_TEMPLATE = PromptTemplate(QUESTION_GEN_PROMPT)"
   ]
  },
  {
   "cell_type": "code",
   "execution_count": 14,
   "metadata": {},
   "outputs": [
    {
     "name": "stdout",
     "output_type": "stream",
     "text": [
      "How can I work my way up to higher leverage, more accountability, and specific knowledge without risking ruin?\n"
     ]
    }
   ],
   "source": [
    "from llama_index.core import PromptTemplate\n",
    "\n",
    "prompt = QUESTION_GEN_PROMPT_TEMPLATE.format(context=docs_for_eval_set[10].get_content()) \n",
    "\n",
    "response = llm.complete(prompt)\n",
    "\n",
    "print(response)"
   ]
  },
  {
   "cell_type": "markdown",
   "metadata": {},
   "source": [
    "# 🤖 + ❓Generate questions from context\n",
    "\n",
    "We'll use GPT-3.5-Turbo to generate questions from our `Documents`\n",
    "\n",
    "Here's what the function below is doing:\n",
    "\n",
    "- Initialize an empty dictionary results to store the responses and contexts.\n",
    "\n",
    "- Iterate through each document doc in `docs_for_eval_set`.\n",
    "\n",
    "- For each document, we generate the prompt using `QUESTION_GEN_PROMPT_TEMPLATE` and the document's content.\n",
    "\n",
    "- Get the response from the LLM using `question_gen_llm.complete(prompt)`.\n",
    "\n",
    "- Store the response as the key, and the document's content as the value with the key \"context\" in the results dictionary.\n"
   ]
  },
  {
   "cell_type": "code",
   "execution_count": 16,
   "metadata": {},
   "outputs": [],
   "source": [
    "from llama_index.core import PromptTemplate\n",
    "\n",
    "questions = []\n",
    "\n",
    "for doc in docs_for_eval_set:\n",
    "    result_dict = {}\n",
    "    context = doc.get_content()\n",
    "    prompt = QUESTION_GEN_PROMPT_TEMPLATE.format(context=context)\n",
    "    response = llm.complete(prompt)\n",
    "    result_dict['question'] = response.text\n",
    "    result_dict[\"context\"] =  context\n",
    "    questions.append(result_dict)"
   ]
  },
  {
   "cell_type": "code",
   "execution_count": 17,
   "metadata": {},
   "outputs": [
    {
     "data": {
      "text/plain": [
       "316"
      ]
     },
     "execution_count": 17,
     "metadata": {},
     "output_type": "execute_result"
    }
   ],
   "source": [
    "len(questions)"
   ]
  },
  {
   "cell_type": "code",
   "execution_count": 18,
   "metadata": {},
   "outputs": [
    {
     "data": {
      "text/plain": [
       "[{'question': 'How can I leverage coding to multiply my efforts without needing permission or money from others?',\n",
       "  'context': 'This includes books, media, movies, and code. Code is probably the most powerful form of permissionless leverage. All you need is a computeryou dont need anyones permission. Forget rich versus poor, white-collar versus blue. Its now leveraged versus un-leveraged. The most interesting and the most important form of leverage is the idea of products that have no marginal cost of replication. This is the new form of leverage. This was only invented in the last few hundred years. It started with the printing press. It accelerated with broadcast media, and now its really blown up with the internet and with coding. Now, you can multiply your efforts without involving other humans and without needing money from other humans. This book is a form of leverage. Long ago, I would have had to sit in a lecture hall and lecture each of you personally. I would have maybe reached a few hundred people, and that would have been that. This newest form of leverage is where all the new fortunes are made, all the new billionaires. For the last generation,'},\n",
       " {'question': 'How can I leverage code or media to make a fortune like the new generation billionaires?',\n",
       "  'context': 'and that would have been that. This newest form of leverage is where all the new fortunes are made, all the new billionaires. For the last generation, fortunes were made by capital. The people who made fortunes were the Warren Buffetts of the world. But the new generations fortunes are all made through code or media. Joe Rogan making $50 million to $100 million a year from his podcast. Youre going to have PewDiePie. I dont know how much money hes rolling in, but hes bigger than the news. And of course, theres Jeff Bezos, Mark Zuckerberg, Larry Page,'},\n",
       " {'question': 'How can I determine whether to fix a problem or outsource a task based on my hourly rate?',\n",
       "  'context': 'There is no skill called business. Avoid business magazines and business classes. Study microeconomics, game theory, psychology, persuasion, ethics, mathematics, and computers. Reading is faster than listening. Doing is faster than watching. You should be too busy to do coffee while still keeping an uncluttered calendar. Set and enforce an aspirational personal hourly rate. If fixing a problem will save less than your hourly rate, ignore it. If outsourcing a task will cost less than your hourly rate, outsource it. Work as hard as you can. Even though who you work with and what you work on are more important than how hard you work.'},\n",
       " {'question': 'How can I improve my decision-making skills by collecting mental models?',\n",
       "  'context': 'technology and large workforces and capital, our decisions are leveraged more and more. If you can be more right and more rational, youre going to get nonlinear returns in your life. I love the blog Farnam Street because it really focuses on helping you be more accurate, an overall better decision-maker. Decision-making is everything. The more you know, the less you diversify. COLLECT MENTAL MODELS During decision-making, the brain is a memory prediction machine. A lousy way to do memory prediction is X happened in the past, therefore X will happen in the future. Its too based on specific circumstances. What you want is principles. You want mental models. The best mental models I have found came through evolution, game theory, and Charlie Munger. Charlie Munger is Warren Buffetts partner. Very good investor. He has tons and tons of great mental models. Author and trader Nassim Taleb has great mental models. Benjamin Franklin had great mental models. I basically load my head full of mental models. I use my'},\n",
       " {'question': 'How can I effectively use tweets and maxims to compress my learnings and improve recall?',\n",
       "  'context': 'Author and trader Nassim Taleb has great mental models. Benjamin Franklin had great mental models. I basically load my head full of mental models. I use my tweets and other peoples tweets as maxims that help compress my own learnings and recall them. The brain space is finiteyou have finite neuronsso you can almost think'},\n",
       " {'question': 'How can I ensure I am dealing with reality when making decisions?',\n",
       "  'context': 'The really smart thinkers are clear thinkers. They understand the basics at a very, very fundamental level. I would rather understand the basics really well than memorize all kinds of complicated concepts I cant stitch together and cant rederive from the basics. If you cant rederive concepts from the basics as you need them, youre lost. Youre just memorizing. The advanced concepts in a field are less proven. We use them to signal insider knowledge, but wed be better off nailing the basics. Clear thinkers appeal to their own authority. Part of making effective decisions boils down to dealing with reality. How do you make sure youre dealing with reality when youre making decisions? By not having a strong sense of self or judgments or mind presence. The monkey mind will always respond with this regurgitated emotional response to what it thinks the world should be. Those desires will cloud your reality. This happens a lot of times when people are mixing politics and business. The number one thing clouding us from being able to see reality is we have preconceived notions of the way'},\n",
       " {'question': 'How can I avoid ignoring signs that my business is not doing well?',\n",
       "  'context': 'times when people are mixing politics and business. The number one thing clouding us from being able to see reality is we have preconceived notions of the way it should be. One definition of a moment of suffering is the moment when you see things exactly the way they are. This whole time, youve been convinced your business is doing great, and really, youve ignored the signs its not doing well. Then, your business fails,'},\n",
       " {'question': 'How can I become the best in the world at what I do?',\n",
       "  'context': 'became extremely successful. You just had to give them a long enough timescale. It never happens in the timescale you want, or they want, but it does happen. Apply specific knowledge with leverage and eventually, you will get what you deserve. It takes timeeven once you have all of these pieces in place, there is an indeterminate amount of time you have to put in. If youre counting, youll run out of patience before success actually arrives. Everybody wants to get rich immediately, but the world is an efficient place; immediate doesnt work. You do have to put in the time. You do have to put in the hours, and so I think you have to put yourself in the position with the specific knowledge, with accountability, with leverage, with the authentic skill set you have, to be the best in the world at what you do. You have to enjoy it and keep doing it, keep doing it, and keep doing it. Dont keep track, and dont keep count because if you do, you will run out of time.'},\n",
       " {'question': 'How can I truly learn something?',\n",
       "  'context': 'doing it, keep doing it, and keep doing it. Dont keep track, and dont keep count because if you do, you will run out of time. The most common bad advice I hear is: Youre too young. Most of history was built by young people. They just got credit when they were older. The only way to truly learn something is by doing it. Yes, listen to guidance. But dont wait.'},\n",
       " {'question': 'How can I build a successful technology and real estate company with high-risk, high-reward potential?',\n",
       "  'context': 'Obviously, not a single person may know this. You may pull a team together to do it where each have different skill sets, but that combined entity would have specific knowledge in technology and in real estate. It would have massive accountability because that companys name would be a very high-risk, high-reward effort attached to the whole thing, and people would devote their lives to it and take on significant risk. It would have leverage in code with lots of developers. It would have capital with investors putting money in and the founders own capital. It would have some of the highest-quality labor you can find, which is high-quality engineers, designers, and marketers who are working on the company. Then, you may end up with a Trulia, Redfin, or Zillow company, and then the upside could potentially be in the billions of dollars, or the hundreds of millions of dollars. Each level has increasing leverage, increasing accountability, increasingly specific knowledge. Youre adding in moneybased leverage on top of labor-based leverage. Adding in code-based leverage on top of'}]"
      ]
     },
     "execution_count": 18,
     "metadata": {},
     "output_type": "execute_result"
    }
   ],
   "source": [
    "questions[:10]"
   ]
  },
  {
   "cell_type": "markdown",
   "metadata": {},
   "source": [
    "# 🤖 + 💬 Create answers using generated question and context\n",
    "\n",
    "Using GPT-3.5-Turbo (to keep costs down, you can of course use GPT-4-Turbo), we'll generate answers using the questions we just created plus the context."
   ]
  },
  {
   "cell_type": "code",
   "execution_count": 19,
   "metadata": {},
   "outputs": [
    {
     "name": "stdout",
     "output_type": "stream",
     "text": [
      "You're a trusted mentor to an adult mentee. Your mentee is seeking advice in the form of a question.\n",
      "\n",
      "Below is your mentee's question:\n",
      "\n",
      "----------------------\n",
      "{question}\n",
      "----------------------\n",
      "\n",
      "You've previously done some thinking and writing on the exact question your mentee has asked. Your answer MUST be actionable\n",
      "yet concise. It must be based on your thinking and writing, which is below:\n",
      "\n",
      "----------------------\n",
      "{context}\n",
      "----------------------\n",
      "\n",
      "DO NOT use any qualifiers, relative clauses, or introductory modifiers in your answer. Provide your answer question using the second person\n",
      "perspective, speaking directly to your mentee, in the form of a trusted mentor providing actionable advice.\n",
      "\n"
     ]
    }
   ],
   "source": [
    "from prompts import ANSWER_GEN_PROMPT\n",
    "\n",
    "print(ANSWER_GEN_PROMPT)"
   ]
  },
  {
   "cell_type": "code",
   "execution_count": 20,
   "metadata": {},
   "outputs": [],
   "source": [
    "ANSWER_GEN_PROMPT_TEMPLATE = PromptTemplate(ANSWER_GEN_PROMPT)"
   ]
  },
  {
   "cell_type": "code",
   "execution_count": 21,
   "metadata": {},
   "outputs": [
    {
     "name": "stdout",
     "output_type": "stream",
     "text": [
      "Focus on setting clear goals that align with your desires, create a plan with actionable steps to achieve them, and stay committed to your long-term vision. Stay adaptable, seek guidance from mentors, and remember that setbacks are part of the journey. Stay focused, stay determined, and keep moving forward towards your goals.\n"
     ]
    }
   ],
   "source": [
    "prompt = ANSWER_GEN_PROMPT_TEMPLATE.format(question=questions[42]['question'], context=questions[42]['context']) \n",
    "\n",
    "response = llm.complete(prompt)\n",
    "\n",
    "print(response)"
   ]
  },
  {
   "cell_type": "code",
   "execution_count": 22,
   "metadata": {},
   "outputs": [],
   "source": [
    "for question in questions:\n",
    "    prompt = ANSWER_GEN_PROMPT_TEMPLATE.format(question=question['question'], context=question['context']) \n",
    "    response = llm.complete(prompt)\n",
    "    question['answer'] = response.text"
   ]
  },
  {
   "cell_type": "code",
   "execution_count": 23,
   "metadata": {},
   "outputs": [
    {
     "data": {
      "text/plain": [
       "[{'question': 'How can I leverage coding to multiply my efforts without needing permission or money from others?',\n",
       "  'context': 'This includes books, media, movies, and code. Code is probably the most powerful form of permissionless leverage. All you need is a computeryou dont need anyones permission. Forget rich versus poor, white-collar versus blue. Its now leveraged versus un-leveraged. The most interesting and the most important form of leverage is the idea of products that have no marginal cost of replication. This is the new form of leverage. This was only invented in the last few hundred years. It started with the printing press. It accelerated with broadcast media, and now its really blown up with the internet and with coding. Now, you can multiply your efforts without involving other humans and without needing money from other humans. This book is a form of leverage. Long ago, I would have had to sit in a lecture hall and lecture each of you personally. I would have maybe reached a few hundred people, and that would have been that. This newest form of leverage is where all the new fortunes are made, all the new billionaires. For the last generation,',\n",
       "  'answer': 'To leverage coding for permissionless and cost-free multiplication of your efforts, focus on creating products with no marginal cost of replication. This form of leverage is the most powerful and can be achieved independently with just a computer. Start by developing software, apps, or digital content that can be easily replicated and distributed online. This will allow you to reach a wider audience and maximize your impact without relying on others or needing financial resources.'},\n",
       " {'question': 'How can I leverage code or media to make a fortune like the new generation billionaires?',\n",
       "  'context': 'and that would have been that. This newest form of leverage is where all the new fortunes are made, all the new billionaires. For the last generation, fortunes were made by capital. The people who made fortunes were the Warren Buffetts of the world. But the new generations fortunes are all made through code or media. Joe Rogan making $50 million to $100 million a year from his podcast. Youre going to have PewDiePie. I dont know how much money hes rolling in, but hes bigger than the news. And of course, theres Jeff Bezos, Mark Zuckerberg, Larry Page,',\n",
       "  'answer': 'Focus on mastering coding or media skills, creating valuable content, building a strong personal brand, and leveraging technology to reach a wide audience. Monetize your skills through various revenue streams like advertising, sponsorships, and product sales. Stay consistent, adapt to trends, and always prioritize providing value to your audience. Success will come with dedication, innovation, and strategic thinking.'},\n",
       " {'question': 'How can I determine whether to fix a problem or outsource a task based on my hourly rate?',\n",
       "  'context': 'There is no skill called business. Avoid business magazines and business classes. Study microeconomics, game theory, psychology, persuasion, ethics, mathematics, and computers. Reading is faster than listening. Doing is faster than watching. You should be too busy to do coffee while still keeping an uncluttered calendar. Set and enforce an aspirational personal hourly rate. If fixing a problem will save less than your hourly rate, ignore it. If outsourcing a task will cost less than your hourly rate, outsource it. Work as hard as you can. Even though who you work with and what you work on are more important than how hard you work.',\n",
       "  'answer': 'Set and enforce an aspirational personal hourly rate. If fixing a problem will save less than your hourly rate, ignore it. If outsourcing a task will cost less than your hourly rate, outsource it. Work as hard as you can.'},\n",
       " {'question': 'How can I improve my decision-making skills by collecting mental models?',\n",
       "  'context': 'technology and large workforces and capital, our decisions are leveraged more and more. If you can be more right and more rational, youre going to get nonlinear returns in your life. I love the blog Farnam Street because it really focuses on helping you be more accurate, an overall better decision-maker. Decision-making is everything. The more you know, the less you diversify. COLLECT MENTAL MODELS During decision-making, the brain is a memory prediction machine. A lousy way to do memory prediction is X happened in the past, therefore X will happen in the future. Its too based on specific circumstances. What you want is principles. You want mental models. The best mental models I have found came through evolution, game theory, and Charlie Munger. Charlie Munger is Warren Buffetts partner. Very good investor. He has tons and tons of great mental models. Author and trader Nassim Taleb has great mental models. Benjamin Franklin had great mental models. I basically load my head full of mental models. I use my',\n",
       "  'answer': 'Improve your decision-making skills by actively collecting and studying mental models from sources like Farnam Street, Charlie Munger, Nassim Taleb, and Benjamin Franklin. Load your head full of these principles to make more accurate and rational decisions in your life.'},\n",
       " {'question': 'How can I effectively use tweets and maxims to compress my learnings and improve recall?',\n",
       "  'context': 'Author and trader Nassim Taleb has great mental models. Benjamin Franklin had great mental models. I basically load my head full of mental models. I use my tweets and other peoples tweets as maxims that help compress my own learnings and recall them. The brain space is finiteyou have finite neuronsso you can almost think',\n",
       "  'answer': 'Load your head with mental models like Nassim Taleb and Benjamin Franklin. Use tweets and maxims to compress your learnings and improve recall. Your brain space is finite, so make the most of it by condensing information into easily digestible nuggets. Think of tweets as bite-sized wisdom that can help you remember and apply key concepts effectively.'},\n",
       " {'question': 'How can I ensure I am dealing with reality when making decisions?',\n",
       "  'context': 'The really smart thinkers are clear thinkers. They understand the basics at a very, very fundamental level. I would rather understand the basics really well than memorize all kinds of complicated concepts I cant stitch together and cant rederive from the basics. If you cant rederive concepts from the basics as you need them, youre lost. Youre just memorizing. The advanced concepts in a field are less proven. We use them to signal insider knowledge, but wed be better off nailing the basics. Clear thinkers appeal to their own authority. Part of making effective decisions boils down to dealing with reality. How do you make sure youre dealing with reality when youre making decisions? By not having a strong sense of self or judgments or mind presence. The monkey mind will always respond with this regurgitated emotional response to what it thinks the world should be. Those desires will cloud your reality. This happens a lot of times when people are mixing politics and business. The number one thing clouding us from being able to see reality is we have preconceived notions of the way',\n",
       "  'answer': 'Focus on understanding the basics at a fundamental level and avoid relying on complicated concepts. Clear your mind of preconceived notions and desires to see reality clearly. Trust your own authority and appeal to logic rather than emotions when making decisions. Stay present and avoid letting your monkey mind cloud your judgment. Stick to the facts and avoid mixing personal biases with decision-making.'},\n",
       " {'question': 'How can I avoid ignoring signs that my business is not doing well?',\n",
       "  'context': 'times when people are mixing politics and business. The number one thing clouding us from being able to see reality is we have preconceived notions of the way it should be. One definition of a moment of suffering is the moment when you see things exactly the way they are. This whole time, youve been convinced your business is doing great, and really, youve ignored the signs its not doing well. Then, your business fails,',\n",
       "  'answer': 'Pay attention to the facts and data, not just your beliefs. Act quickly when you see signs of trouble. Seek feedback from others and be open to different perspectives. Regularly assess your business performance and make adjustments as needed. Stay vigilant and proactive in addressing any issues that arise.'},\n",
       " {'question': 'How can I become the best in the world at what I do?',\n",
       "  'context': 'became extremely successful. You just had to give them a long enough timescale. It never happens in the timescale you want, or they want, but it does happen. Apply specific knowledge with leverage and eventually, you will get what you deserve. It takes timeeven once you have all of these pieces in place, there is an indeterminate amount of time you have to put in. If youre counting, youll run out of patience before success actually arrives. Everybody wants to get rich immediately, but the world is an efficient place; immediate doesnt work. You do have to put in the time. You do have to put in the hours, and so I think you have to put yourself in the position with the specific knowledge, with accountability, with leverage, with the authentic skill set you have, to be the best in the world at what you do. You have to enjoy it and keep doing it, keep doing it, and keep doing it. Dont keep track, and dont keep count because if you do, you will run out of time.',\n",
       "  'answer': 'Focus on acquiring specific knowledge, leverage it effectively, and be patient with the process. Put in the necessary time and effort consistently without keeping track of progress. Enjoy what you do and keep honing your skills. Success will come with dedication and persistence.'},\n",
       " {'question': 'How can I truly learn something?',\n",
       "  'context': 'doing it, keep doing it, and keep doing it. Dont keep track, and dont keep count because if you do, you will run out of time. The most common bad advice I hear is: Youre too young. Most of history was built by young people. They just got credit when they were older. The only way to truly learn something is by doing it. Yes, listen to guidance. But dont wait.',\n",
       "  'answer': \"Keep doing it. Don't keep track or count. The only way to truly learn something is by doing it. Listen to guidance, but don't wait.\"},\n",
       " {'question': 'How can I build a successful technology and real estate company with high-risk, high-reward potential?',\n",
       "  'context': 'Obviously, not a single person may know this. You may pull a team together to do it where each have different skill sets, but that combined entity would have specific knowledge in technology and in real estate. It would have massive accountability because that companys name would be a very high-risk, high-reward effort attached to the whole thing, and people would devote their lives to it and take on significant risk. It would have leverage in code with lots of developers. It would have capital with investors putting money in and the founders own capital. It would have some of the highest-quality labor you can find, which is high-quality engineers, designers, and marketers who are working on the company. Then, you may end up with a Trulia, Redfin, or Zillow company, and then the upside could potentially be in the billions of dollars, or the hundreds of millions of dollars. Each level has increasing leverage, increasing accountability, increasingly specific knowledge. Youre adding in moneybased leverage on top of labor-based leverage. Adding in code-based leverage on top of',\n",
       "  'answer': 'Build a team with diverse skill sets in technology and real estate. Ensure massive accountability, leverage code with developers, secure capital from investors and founders, and hire high-quality engineers, designers, and marketers. This approach can lead to a successful company with high-risk, high-reward potential like Trulia, Redfin, or Zillow.'}]"
      ]
     },
     "execution_count": 23,
     "metadata": {},
     "output_type": "execute_result"
    }
   ],
   "source": [
    "questions[:10]"
   ]
  },
  {
   "cell_type": "markdown",
   "metadata": {},
   "source": [
    "# 🧐 How good are our questions?\n",
    "\n",
    "I suppose you could do this part before generating answers, if you wanted to...But we'll do it now.\n",
    "\n",
    "Here we're going to use GPT-4-Turbo to judge how good the questions is based on the context. We'll write a prompt that does this and score each question on a scale of 1-5.\n",
    "\n"
   ]
  },
  {
   "cell_type": "code",
   "execution_count": 26,
   "metadata": {},
   "outputs": [],
   "source": [
    "critic_llm = OpenAI(model=\"gpt-4-turbo-2024-04-09\")"
   ]
  },
  {
   "cell_type": "code",
   "execution_count": 61,
   "metadata": {},
   "outputs": [
    {
     "name": "stdout",
     "output_type": "stream",
     "text": [
      "You are given context and a question. Provide a 'total rating' from 1 to 5 indicating \n",
      "the extent to which the question can be answered clearly using the context. 1 = not answerable, 5 = clearly answerable\n",
      "\n",
      "Format your response as:\n",
      "\n",
      "Evaluation: (rationale)\n",
      "Total rating: (a number in the range 1-5)\n",
      "\n",
      "Content and question are below:\n",
      "----------------------\n",
      "Context: {context}\n",
      "Question: {question}\n",
      "----------------------\n",
      "\n"
     ]
    }
   ],
   "source": [
    "from prompts import GROUNDEDNESS_PROMPT\n",
    "\n",
    "print(GROUNDEDNESS_PROMPT)"
   ]
  },
  {
   "cell_type": "code",
   "execution_count": 42,
   "metadata": {},
   "outputs": [],
   "source": [
    "GROUNDEDNESS_PROMPT_TEMPLATE = PromptTemplate(GROUNDEDNESS_PROMPT)"
   ]
  },
  {
   "cell_type": "code",
   "execution_count": 39,
   "metadata": {},
   "outputs": [
    {
     "name": "stdout",
     "output_type": "stream",
     "text": [
      "Evaluation: The context provides a philosophical perspective on puberty, describing it as the onset of desire and the beginning of long-range planning. It suggests that during puberty, individuals start to think more deeply and build their identities and egos to achieve their desires. However, the context does not provide specific strategies or advice on how to navigate these changes effectively. The question asks for guidance on managing these new desires and planning strategies, which the context does not directly address with practical steps or methods.\n",
      "\n",
      "Total rating: 2\n"
     ]
    }
   ],
   "source": [
    "prompt = GROUNDEDNESS_PROMPT_TEMPLATE.format(question=questions[42]['question'], context=questions[42]['context']) \n",
    "\n",
    "response = critic_llm.complete(prompt)\n",
    "\n",
    "print(response)"
   ]
  },
  {
   "cell_type": "code",
   "execution_count": 52,
   "metadata": {},
   "outputs": [],
   "source": [
    "for question in questions:\n",
    "    prompt = GROUNDEDNESS_PROMPT_TEMPLATE.format(question=question['question'], context=question['context']) \n",
    "    response = critic_llm.complete(prompt)\n",
    "    response_string = response.text\n",
    "    try:\n",
    "        score_as_int = int(response_string.split(\"Total rating: \")[-1].strip())\n",
    "        score_rational = response_string.split(\"Total rating: \")[-2].split(\"Evaluation: \")[1]\n",
    "        question['question_groundedness_score'] = score_as_int\n",
    "        question['question_groundedness_score_rationale'] = score_rational\n",
    "    except Exception as e:\n",
    "        question['question_groundedness_score'] = None\n",
    "        question['question_groundedness_score_rationale'] = None"
   ]
  },
  {
   "cell_type": "code",
   "execution_count": 59,
   "metadata": {},
   "outputs": [
    {
     "data": {
      "text/plain": [
       "[{'question': 'How can I cultivate an intelligent mind that is constantly learning and inquiring?',\n",
       "  'context': \"The Mind An intelligent mind is constantly learning. - An intelligent mind is one which is constantly learning, never concluding - styles and patterns have come to conclusion, therefore they [have] ceased to be intelligent. An intelligent mind is an inquiring mind. - An intelligent mind is an INQUIRING mind. It is not satisfied with explanations, with conclusions; nor is it a mind that believes, because belief is again another form of conclusion. The qualities of mind. -To be one thing and not to change is the climax of STILLNESS. To have nothing in one that resists is the climax of EMPTINESS. To remain detached from all outside things is the climax of FINENESS. To have in oneself no contraries is the climax of PURITY. You are the commander of your mind. - I've always been buffeted by circumstances because I thought of myself as a human being [affected by] outside conditioning. Now I realise that I am the power that commands the feeling of my mind and from which circumstances grow. On the value of keeping an open mind. - The usefulness of a cup is in\",\n",
       "  'answer': 'Cultivate an inquiring mind by constantly learning and never concluding. Stay detached from outside influences and be the commander of your mind. Embrace stillness, emptiness, fineness, and purity. Keep an open mind to grow and evolve.',\n",
       "  'question_groundedness_score': 5,\n",
       "  'question_groundedness_score_rationale': \"The context provides a detailed description of the characteristics of an intelligent mind, emphasizing its continuous learning and inquiring nature. It discusses the importance of not settling for conclusions or beliefs and maintaining qualities such as stillness, emptiness, fineness, and purity. Additionally, it touches on self-command over one's mind and the implications of external conditioning. These elements directly support answering the question about cultivating an intelligent mind that is constantly learning and inquiring, as they outline the mindset and attitudes necessary for such a pursuit.\\n\\n\"},\n",
       " {'question': 'How can I free my mind from attachment to oppositional notions and the influence of the external world?',\n",
       "  'context': 'the power that commands the feeling of my mind and from which circumstances grow. On the value of keeping an open mind. - The usefulness of a cup is in its emptiness. Emptiness = Totality. Totality of mind; totality of physical structure. To free the mind. - In order that the mind may function naturally and harmoniously it must be freed from all attachment to oppositional notions. The mind should be freed from the influence of the external world. To let the mind take its course unhindered among phenomena. Not the cultivated innocence of a',\n",
       "  'answer': 'Free your mind by letting go of attachment to oppositional notions and the influence of the external world. Embrace emptiness and totality of mind and physical structure. Allow your mind to function naturally and harmoniously by letting it take its course unhindered among phenomena. Stay open-minded and cultivate a sense of innocence in your approach.',\n",
       "  'question_groundedness_score': 5,\n",
       "  'question_groundedness_score_rationale': 'The context provides philosophical insights on the importance of maintaining an open mind and the concept of emptiness as a state of totality, both mentally and physically. It discusses the necessity of freeing the mind from attachments to oppositional notions and external influences to allow it to function naturally and harmoniously. This directly addresses the question about how to free the mind from such attachments and influences, suggesting that understanding and practicing the concept of emptiness and totality as described might be a method to achieve this.\\n\\n'},\n",
       " {'question': 'How can I effectively discipline my children without resorting to physical punishment?',\n",
       "  'context': \"On Raising Children The highest standards of conduct. - Through all [my children's] education will run the Confucianist philosophy that the highest standards of conduct consist of treating others as you wish to be treated, plus loyalty, intelligence, and the fullest development of the individual in the five chief relationships of life: government and those who are governed, father and son, elder and younger brother, husband and wife, friend and friend. Equipped in that way, I don't think [they] can go far wrong. Never strike a child. - My father never struck me - though my mother sometimes spanked me good! - and I'm not planning to strike [my children]. I think a father can control the situation by swinging with it. Disciplining children. - I will play with my [children] and joke with my [children], but business is business. When the subject is a serious one, you don't go around trying to keep from hurting [their] feelings. You say what must be said and set the rules which must be set without worrying about whether [they] like it or\",\n",
       "  'answer': 'Set clear expectations and rules for your children, and consistently enforce consequences when those rules are broken. Focus on positive reinforcement for good behavior and use non-physical consequences such as time-outs, loss of privileges, or extra chores for discipline. Communicate openly and honestly with your children about why their behavior is unacceptable and guide them towards understanding and improving their actions. Remember, discipline is about teaching and guiding, not punishment.',\n",
       "  'question_groundedness_score': 5,\n",
       "  'question_groundedness_score_rationale': 'The context provides a clear stance on disciplining children without physical punishment, emphasizing the importance of high standards of conduct and the use of non-physical methods. It mentions the philosophy of treating others as one would like to be treated and setting clear rules without physical punishment. The context also highlights the importance of serious communication when necessary, indicating that discipline can be effectively managed through clear communication and setting boundaries.\\n\\n'},\n",
       " {'question': \"How can I set rules and speak honestly without worrying about hurting someone's feelings?\",\n",
       "  'context': \"keep from hurting [their] feelings. You say what must be said and set the rules which must be set without worrying about whether [they] like it or not. You are judged by your acts. - If you make an ass out of yourself, there'll always be someone ready to ride you. Showing off is the fool's idea of glory.\",\n",
       "  'answer': \"Set clear rules and speak honestly without worrying about hurting someone's feelings. Your actions speak louder than words, so be direct and assertive. Remember, showing off is not the path to true respect.\",\n",
       "  'question_groundedness_score': 5,\n",
       "  'question_groundedness_score_rationale': \"The context directly addresses the question by suggesting that one should say what must be said and set the rules that must be set without worrying about whether others like it or not. It emphasizes the importance of being judged by one's actions rather than worrying about others' opinions. This directly correlates with the inquiry about how to set rules and speak honestly without hurting someone's feelings, by implying that one should focus on the necessity and correctness of their actions rather than the emotional reactions they might provoke.\\n\\n\"},\n",
       " {'question': 'How can I better understand the role of reason in knowledge according to Rationalism and Empiricism?',\n",
       "  'context': \"Rationalism. -Rationalism is related to Intuitionism. The rationalist holds that reason is capable of grasping basic truths intuitively and deriving other truths from them by rational procedures, logical demonstration. In less extreme forms, reason and reason's evidence are necessary to distill out of sense experience, or impart to sense experience universal necessary laws. Empiricism. - Empiricism emphasises the importance of experience in knowledge. Recent empiricists tend to give a larger role to reason in the organisation of knowledge, stressing scientific method (with its theoretical, mathematical, conceptual structure, as well as its experimental approach) as contrasted with simple perception. They emphasise the tentative, hypotheticalexperimental, and self-corrective character of science. On Existentialism. - Existentialism wants to do away with concepts, and to work on the awareness principle, on phenomenology. The set back with the present existentialist philosophies is that they need their support from somewhere else. If you look at the existentialists, they say that they are nonconceptual, but if you look at the\",\n",
       "  'answer': \"To better understand the role of reason in knowledge according to Rationalism and Empiricism, focus on how rationalists believe in intuitive grasp of basic truths and logical derivation, while empiricists emphasize the importance of experience in knowledge. Consider how reason organizes knowledge in scientific method and the self-corrective nature of science. Reflect on existentialism's emphasis on awareness and phenomenology, but be aware of the need for external support in some existentialist philosophies.\",\n",
       "  'question_groundedness_score': 5,\n",
       "  'question_groundedness_score_rationale': 'The context provided offers a clear explanation of the role of reason in both Rationalism and Empiricism. It describes how rationalists view reason as a tool for intuitively grasping basic truths and deriving other truths logically, while empiricists emphasize the role of reason in organizing knowledge through scientific methods, which includes theoretical and experimental approaches. This detailed explanation allows for a comprehensive understanding of how reason is perceived and utilized differently in these two philosophical approaches to knowledge.\\n\\n'},\n",
       " {'question': 'Where can I find support for my beliefs outside of my own concepts?',\n",
       "  'context': 'that they need their support from somewhere else. If you look at the existentialists, they say that they are nonconceptual, but if you look at the people, they all borrow concepts from other sources. Buber from Judaism, Tillich from Protestantism, Sartre from Socialism, Heidegger from language, Binswanger from psychoanalysis.',\n",
       "  'answer': 'Seek support for your beliefs by exploring different sources outside of your own concepts. Look to diverse perspectives such as philosophy, religion, politics, language, or psychology to find inspiration and validation for your beliefs. Engage with these sources to broaden your understanding and strengthen your convictions.',\n",
       "  'question_groundedness_score': 5,\n",
       "  'question_groundedness_score_rationale': \"The context discusses various existentialists and the sources from which they derive their concepts, suggesting that individuals often look outside their own original ideas to develop their beliefs. This directly relates to the question about finding support for beliefs outside of one's own concepts, as it provides examples of notable thinkers who have done exactly that, each drawing from different external sources like religion, philosophy, or other fields.\\n\\n\"},\n",
       " {'question': 'How can I respond to the totality with a partial, fragmentary pattern?',\n",
       "  'context': 'Totality Do not cling to partiality. -Do not cling to partiality, however fantastic - see things from TOTALITY. Be affected by the totality of creative energy. -Move \"playfully serious\" from the creative tide (primordial creative energy) affected by it totally and not a mere fragment. Totality and enlightenment. - To obtain enlightenment means the extinction of everything which obscures the \"true knowledge,\" the \"real life;\" at the same time, it implies \"boundless expansion,\" and, indeed emphasis should fall not on the cultivation of the \"particular department which merges into the totality,\" but rather on \"the totality that enters and unites that particular department!\" There is no effective segment of a totality. - There is no such thing as an effective segment of a totality. How can one respond to the totality with [a] partial, fragmentary pattern? In the greater the lesser is, but in the lesser the greater is not. The way to freedom is through totality. -Fluidity leads to interchangeability. Self-knowledge leads to awareness.',\n",
       "  'answer': 'Respond to the totality with a partial, fragmentary pattern by embracing the creative energy fully, moving playfully serious from the primordial creative tide. Focus on the totality that enters and unites the particular department, rather than just cultivating a fragment. Remember, there is no effective segment of a totality. The way to freedom is through totality, so embrace fluidity and self-knowledge to achieve awareness.',\n",
       "  'question_groundedness_score': 5,\n",
       "  'question_groundedness_score_rationale': 'The context explicitly states that responding to the totality with a partial, fragmentary pattern is not effective or feasible. It emphasizes the importance of embracing totality and avoiding partiality to achieve enlightenment and true knowledge. The question directly contradicts the principles laid out in the context, making it clear that such a response is not recommended or possible according to the given philosophical perspective.\\n\\n'},\n",
       " {'question': 'How can I achieve ultimate freedom?',\n",
       "  'context': 'in the lesser the greater is not. The way to freedom is through totality. -Fluidity leads to interchangeability. Self-knowledge leads to awareness. Totality leads to ultimate freedom. Beyond liking and disliking. -You will then see it without like or dislike, you simply see, and in this seeing, the whole is presented and not the partial.',\n",
       "  'answer': 'Achieve ultimate freedom through totality, fluidity, and self-knowledge. See without like or dislike, simply observe the whole. This awareness will lead you to ultimate freedom.',\n",
       "  'question_groundedness_score': 4,\n",
       "  'question_groundedness_score_rationale': \"The context provides a philosophical perspective on achieving ultimate freedom, emphasizing the importance of totality, self-knowledge, and moving beyond personal preferences (liking and disliking). It suggests that ultimate freedom is reached through a comprehensive understanding and acceptance of oneself and one's circumstances, without partiality. The question directly asks for a method to achieve this state, which aligns well with the provided context that outlines a general pathway towards this goal.\\n\\n\"},\n",
       " {'question': 'How does humility lead to honor?',\n",
       "  'context': \"Where does good or bad action derive from? What makes an action bad or good? The trouble of man. - Honor and disgrace are alike a cause of excitement. The trouble of man lies in the love for self. Poverty and peace. - Any poor country or person is hostile while they are down. If you have nothing, you can afford to be hostile. But wait until they, too, become more prosperous. They will soon quiet down and want peace just like the rest of the world. Humility leads to honor. - Humility forms the basis of honor, just as the low ground forms the foundation of a high elevation. The four ethical theories. - There are four different ethical theories: Objective Theory of Ethics - that goodness is objective (Plato's theory) and cannot be further deduced. Consequential Theory of Ethics - that what makes an action good is its outcome (utilitarianism for instance); the most pleasure for the most people (more believable than objectivism as mentioned). Motivational Theory of Ethics - that moral character of an action springs from a motive of the actor - it is not\",\n",
       "  'answer': 'Humility leads to honor by forming the foundation of honor, just as the low ground forms the basis of a high elevation. Stay humble in your actions and interactions, and honor will naturally follow.',\n",
       "  'question_groundedness_score': 5,\n",
       "  'question_groundedness_score_rationale': 'The context directly addresses the question by stating, \"Humility leads to honor. - Humility forms the basis of honor, just as the low ground forms the foundation of a high elevation.\" This statement provides a clear and direct explanation of how humility is foundational to achieving honor, using the metaphor of low ground supporting a high elevation to illustrate the concept. This metaphor implies that humility, by keeping one grounded, prepares and positions a person to rise to honor, much like low ground supports and gives rise to higher elevations. Therefore, the context provides a sufficient basis to answer the question clearly.\\n\\n'},\n",
       " {'question': 'How can I determine if an action is good or bad based on the approval of others?',\n",
       "  'context': 'believable than objectivism as mentioned). Motivational Theory of Ethics - that moral character of an action springs from a motive of the actor - it is not a bad action so long as a person has good intentions (Immanuel Kant is one of the motivational theorists; he said do not perform any action that you cannot rationalise for people to act all the time.\") Approbative Theory of Ethics - to say that an action is good or bad depends on the approval of others.',\n",
       "  'answer': 'To determine if an action is good or bad based on the approval of others, consider the Motivational Theory of Ethics. Focus on the intentions behind the action rather than external opinions. Ask yourself if your motives are good and if you can rationalize your actions to others. This will help guide you in making ethical decisions.',\n",
       "  'question_groundedness_score': 5,\n",
       "  'question_groundedness_score_rationale': \"The context provides a brief explanation of the Approbative Theory of Ethics, which states that the moral quality of an action depends on the approval of others. This directly addresses the question about determining the goodness or badness of an action based on others' approval. The context succinctly explains that an action is considered good or bad depending on whether it is approved by others, which is exactly what the question is asking.\\n\\n\"}]"
      ]
     },
     "execution_count": 59,
     "metadata": {},
     "output_type": "execute_result"
    }
   ],
   "source": [
    "questions[-10:]"
   ]
  },
  {
   "cell_type": "code",
   "execution_count": 62,
   "metadata": {},
   "outputs": [],
   "source": [
    "from datasets import Dataset\n",
    "\n",
    "rag_eval_set = Dataset.from_list(questions)"
   ]
  },
  {
   "cell_type": "markdown",
   "metadata": {},
   "source": [
    "# You can find the dataset on Hugging Face\n",
    "\n",
    "You don't have to run the examples here if you don't want to incur costs from OpenAI. \n",
    "\n",
    "I've made the dataset available on Hugging Face, and I'll show you how to load it when we need to make use of it. \n",
    "\n",
    "[Here's the dataset](https://huggingface.co/datasets/harpreetsahota/LI_Learning_RAG_Eval_Set). You can click around and explore using the dataset viewer. If you sign-up for an account on Hugging Face, feel free to [follow me](https://huggingface.co/harpreetsahota)!\n",
    "\n"
   ]
  },
  {
   "cell_type": "code",
   "execution_count": null,
   "metadata": {},
   "outputs": [],
   "source": [
    "rag_eval_set.push_to_hub(repo_id=\"harpreetsahota/LI_Learning_RAG_Eval_Set\")"
   ]
  }
 ],
 "metadata": {
  "kernelspec": {
   "display_name": "lil_llama_index",
   "language": "python",
   "name": "python3"
  },
  "language_info": {
   "codemirror_mode": {
    "name": "ipython",
    "version": 3
   },
   "file_extension": ".py",
   "mimetype": "text/x-python",
   "name": "python",
   "nbconvert_exporter": "python",
   "pygments_lexer": "ipython3",
   "version": "3.10.14"
  }
 },
 "nbformat": 4,
 "nbformat_minor": 2
}
