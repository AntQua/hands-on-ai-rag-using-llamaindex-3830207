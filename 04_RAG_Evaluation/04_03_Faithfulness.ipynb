{
 "cells": [
  {
   "cell_type": "code",
   "execution_count": null,
   "metadata": {},
   "outputs": [],
   "source": []
  },
  {
   "cell_type": "code",
   "execution_count": null,
   "metadata": {},
   "outputs": [],
   "source": []
  },
  {
   "cell_type": "code",
   "execution_count": null,
   "metadata": {},
   "outputs": [],
   "source": []
  },
  {
   "cell_type": "markdown",
   "metadata": {},
   "source": [
    "# 🤝 **Faithfulness**\n",
    "\n",
    "   - **What It Measures**: Here, you're checking if the answers stick to the facts provided in the context. It's all about staying true to the source.\n",
    "\n",
    "   - **Scoring**: Also on a scale of 0 to 1. Higher values mean your answer is a faithful representation of the context.\n",
    "\n",
    "   - **Example**:\n",
    "\n",
    "     - ❓ Question: What is the significance of the Apollo 11 mission?\n",
    "\n",
    "     - 📑 Context: Apollo 11 was the first manned mission to land on the Moon in 1969.\n",
    "\n",
    "     - ⬆️ High faithfulness answer: Apollo 11 is significant as it was the first mission to bring humans to the Moon.\n",
    "\n",
    "     - ⬇️ Low faithfulness answer: Apollo 11 was significant for its study of Mars."
   ]
  }
 ],
 "metadata": {
  "language_info": {
   "name": "python"
  }
 },
 "nbformat": 4,
 "nbformat_minor": 2
}
