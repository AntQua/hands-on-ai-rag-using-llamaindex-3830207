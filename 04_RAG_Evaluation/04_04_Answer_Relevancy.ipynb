{
 "cells": [
  {
   "cell_type": "code",
   "execution_count": null,
   "metadata": {},
   "outputs": [],
   "source": []
  },
  {
   "cell_type": "code",
   "execution_count": null,
   "metadata": {},
   "outputs": [],
   "source": []
  },
  {
   "cell_type": "code",
   "execution_count": null,
   "metadata": {},
   "outputs": [],
   "source": []
  },
  {
   "cell_type": "markdown",
   "metadata": {},
   "source": [
    "# 🔍 **Answer Relevancy**\n",
    "\n",
    "   - **What It Measures**: This metric assesses how pertinent your RAG model's answer is to the given prompt. You're looking for answers that hit the nail on the head, not ones that beat around the bush.\n",
    "\n",
    "   - **Scoring**: It's a game of precision, with scores ranging from 0 to 1. Higher scores mean your model's answers are right on target.\n",
    "\n",
    "   - **Example**:\n",
    "\n",
    "     - ❓ Question: What causes seasonal changes?\n",
    "\n",
    "     - ⬇️ Low relevance answer: The Earth's climate varies throughout the year\n",
    "\n",
    "     - ⬆️ High relevance answer: Seasonal changes are caused by the tilt of the Earth's axis and its orbit around the Sun."
   ]
  }
 ],
 "metadata": {
  "language_info": {
   "name": "python"
  }
 },
 "nbformat": 4,
 "nbformat_minor": 2
}
