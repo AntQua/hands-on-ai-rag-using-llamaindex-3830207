{
 "cells": [
  {
   "cell_type": "code",
   "execution_count": null,
   "metadata": {},
   "outputs": [],
   "source": [
    "%%capture\n",
    "!pip install llama-index==0.10.37 llama-index-embeddings-openai==0.1.9 qdrant-client==1.9.1 llama-index-vector-stores-qdrant==0.2.8 llama-index-llms-cohere==0.2.0"
   ]
  },
  {
   "cell_type": "code",
   "execution_count": 1,
   "metadata": {},
   "outputs": [
    {
     "data": {
      "text/plain": [
       "True"
      ]
     },
     "execution_count": 1,
     "metadata": {},
     "output_type": "execute_result"
    }
   ],
   "source": [
    "import os\n",
    "from dotenv import load_dotenv\n",
    "from getpass import getpass\n",
    "\n",
    "import nest_asyncio\n",
    "\n",
    "nest_asyncio.apply()\n",
    "load_dotenv()"
   ]
  },
  {
   "cell_type": "code",
   "execution_count": 2,
   "metadata": {},
   "outputs": [],
   "source": [
    "CO_API_KEY = os.environ['CO_API_KEY'] or getpass(\"Enter your Cohere API key: \")"
   ]
  },
  {
   "cell_type": "code",
   "execution_count": 3,
   "metadata": {},
   "outputs": [],
   "source": [
    "OPENAI_API_KEY = os.environ['OPENAI_API_KEY'] or getpass(\"Enter your OpenAI API key: \")"
   ]
  },
  {
   "cell_type": "code",
   "execution_count": 4,
   "metadata": {},
   "outputs": [],
   "source": [
    "QDRANT_URL = os.environ['QDRANT_URL'] or getpass(\"Enter your Qdrant URL:\")"
   ]
  },
  {
   "cell_type": "code",
   "execution_count": 5,
   "metadata": {},
   "outputs": [],
   "source": [
    "QDRANT_API_KEY = os.environ['QDRANT_API_KEY'] or  getpass(\"Enter your Qdrant API Key:\")"
   ]
  },
  {
   "cell_type": "markdown",
   "metadata": {},
   "source": [
    "# Query Pipelines\n",
    "\n",
    "<img src=\"https://docs.llamaindex.ai/en/stable/_static/query/pipeline_rag_example.png\">\n",
    "\n",
    "Source: [LlamaIndex Docs](https://docs.llamaindex.ai/en/stable/module_guides/querying/pipeline/)\n",
    "\n",
    "LlamaIndex offers a query API for chaining modules to manage data workflows easily. It revolves around the QueryPipeline, where you link various modules like LLMs, prompts, and retrievers in a sequence or DAG for end-to-end execution.\n",
    "\n",
    "You can streamline workflows efficiently using QueryPipeline, reducing code complexity and enhancing readability. Additionally, a declarative interface ensures easy serialization of pipeline components for portability and deployment across systems in the future."
   ]
  },
  {
   "cell_type": "code",
   "execution_count": 6,
   "metadata": {},
   "outputs": [
    {
     "name": "stderr",
     "output_type": "stream",
     "text": [
      "[nltk_data] Downloading package punkt_tab to\n",
      "[nltk_data]     /opt/conda/envs/lil_llama_index/lib/python3.10/site-\n",
      "[nltk_data]     packages/llama_index/core/_static/nltk_cache...\n",
      "[nltk_data]   Package punkt_tab is already up-to-date!\n"
     ]
    }
   ],
   "source": [
    "from llama_index.core.settings import Settings\n",
    "from llama_index.llms.cohere import Cohere\n",
    "from llama_index.embeddings.openai import OpenAIEmbedding\n",
    "\n",
    "Settings.llm = Cohere(model=\"command-r-plus\", api_key=CO_API_KEY)\n",
    "\n",
    "Settings.embed_model = OpenAIEmbedding(model_name=\"text-embedding-3-small\", api_key=OPENAI_API_KEY)"
   ]
  },
  {
   "cell_type": "code",
   "execution_count": 7,
   "metadata": {},
   "outputs": [],
   "source": [
    "from qdrant_client import QdrantClient\n",
    "from llama_index.core import VectorStoreIndex, StorageContext\n",
    "from llama_index.vector_stores.qdrant import QdrantVectorStore\n",
    "\n",
    "# Create a Qdrant client\n",
    "client = QdrantClient(\n",
    "    url=QDRANT_URL, \n",
    "    api_key=QDRANT_API_KEY,\n",
    ")\n",
    "\n",
    "# Create a Qdrant vector store\n",
    "vector_store = QdrantVectorStore(\n",
    "    client=client, \n",
    "    collection_name=\"it_can_be_done\"\n",
    "    )\n",
    "\n",
    "# Create a vector store index\n",
    "index = VectorStoreIndex.from_vector_store(\n",
    "    vector_store=vector_store,\n",
    "    embed_model=Settings.embed_model,\n",
    ")"
   ]
  },
  {
   "cell_type": "markdown",
   "metadata": {},
   "source": [
    "# A RAG Pipeline with PromptTemplate\n",
    "\n",
    "I'm going to kick it off with a slightly complex workflow where the input is passes through two prompts before initiating retrieval.\n",
    "\n",
    "1. Retrieve question about given topic.\n",
    "\n",
    "2. Rephrase the context\n",
    "\n",
    "Each prompt only takes in one input, so `QueryPipeline` will automatically chain LLM outputs into the prompt and then into the LLM.\n",
    "\n",
    "You'll see how to define links more explicitly in the next section."
   ]
  },
  {
   "cell_type": "code",
   "execution_count": 8,
   "metadata": {},
   "outputs": [],
   "source": [
    "from llama_index.core.query_pipeline import QueryPipeline\n",
    "from llama_index.core import PromptTemplate\n",
    "from llama_index.core import PromptTemplate\n",
    "\n",
    "# generate question regarding topic\n",
    "prompt_str1 = \"Retrieve context about the following topic: {topic}\"\n",
    "prompt_tmpl1 = PromptTemplate(prompt_str1)\n",
    "\n",
    "prompt_str2 = \"\"\"Syntesize the context provided into an answer using modern slang, while still quoting the sources.\n",
    "\n",
    "Context:\n",
    "\n",
    "{query_str}\n",
    "\n",
    "Syntesized response:\n",
    "\"\"\"\n",
    "\n",
    "prompt_tmpl2 = PromptTemplate(prompt_str2)\n",
    "\n",
    "retriever = index.as_retriever(similarity_top_k=5)\n",
    "\n",
    "p = QueryPipeline(\n",
    "    chain=[\n",
    "        prompt_tmpl1, \n",
    "        retriever,\n",
    "        prompt_tmpl2, \n",
    "        Settings.llm, \n",
    "        ], \n",
    "        verbose=True\n",
    ")"
   ]
  },
  {
   "cell_type": "code",
   "execution_count": 9,
   "metadata": {},
   "outputs": [
    {
     "name": "stdout",
     "output_type": "stream",
     "text": [
      "\u001b[1;3;38;2;155;135;227m> Running module dfb467f2-feb4-455d-a00e-b5e94beb15cd with input: \n",
      "topic: Working hard to achieve your goals even when you doubt yourself and your chances of success\n",
      "\n",
      "\u001b[0m\u001b[1;3;38;2;155;135;227m> Running module 4301c46b-40fa-4e59-b7d1-a6b516617158 with input: \n",
      "input: Retrieve context about the following topic: Working hard to achieve your goals even when you doubt yourself and your chances of success\n",
      "\n",
      "\u001b[0m\u001b[1;3;38;2;155;135;227m> Running module 7e9c4087-ee0c-4a50-84d0-04124f8406f5 with input: \n",
      "query_str: [NodeWithScore(node=TextNode(id_='2a7697b2-b94f-4a28-96e4-f6ff49ca081d', embedding=None, metadata={'file_path': '../02_Fundamental_Concepts_in_LlamaIndex/data/pg10763.txt', 'file_name': 'pg10763.txt',...\n",
      "\n",
      "\u001b[0m\u001b[1;3;38;2;155;135;227m> Running module a1367bdc-63de-41cc-af0d-5369d45504fa with input: \n",
      "messages: Syntesize the context provided into an answer using modern slang, while still quoting the sources.\n",
      "\n",
      "Context:\n",
      "\n",
      "[\"mountain with a\\r\\nmere pick and spade. We must assemble for the task great mechanical\\r...\n",
      "\n",
      "\u001b[0m"
     ]
    }
   ],
   "source": [
    "response = p.run(topic=\"Working hard to achieve your goals even when you doubt yourself and your chances of success\")"
   ]
  },
  {
   "cell_type": "code",
   "execution_count": 10,
   "metadata": {},
   "outputs": [
    {
     "name": "stdout",
     "output_type": "stream",
     "text": [
      "assistant: So, like, there's this dude, Edgar A. Guest, and he's like, \"Yo, if you wanna climb a mountain, you gotta bring more than just a pick and a spade, feel me? You gotta come correct with some major mechanical engineering, straight up.\" And I'm like, \"Word?\" But then he drops some knowledge about how our willpower is like a power tool – you bring a basic tool, you get a basic result. You bring a beast machine, you get beast mode results. \n",
      "\n",
      "So, then he's like, \"How y'all approach your daily grind? You scared of the work, or you facing it head-on?\" And he's right, ya feel? Like, if you're scared of your own potential, you ain't gonna get far. But if you believe in yourself and go hard, you can make that dream come true. He's like, \"You can do anything you put your mind to, but you gotta put your mind to it first.\" And that's real talk. \n",
      "\n",
      "Then this other poet, Miriam Teichner, steps up and is like, \"Yeah, we all wanna be heroes fighting dragons and stuff, but most days we just pushing through the 9-5, trying to make ends meet.\" And it's true, ya feel? Like, sometimes you just dreaming of doing something epic, but then you're back at your desk, typing away. But that's the grind, and we still gotta find that courage to keep pushing. \n",
      "\n",
      "And then Edgar A. Guest comes back like, \"Yo, if your football coach told you the other team was gonna crush y'all, you'd be like, 'Nah, we out.' But a real coach would be like, 'They tough, but we tougher.' And that's how we gotta approach our goals – we might face challenges, but we can't let that stop us.\" \n",
      "\n",
      "So, like, the message is: don't fear the grind, embrace it. Believe in yourself and your abilities, and don't let nobody tell you that you can't achieve your dreams. It's all about that mindset, ya feel? \n",
      "\n",
      "Word. \n",
      "\n",
      "(Sources: Edgar A. Guest, \"A Heap o' Livin'\" and \"Just Folks\"; Miriam Teichner)\n"
     ]
    }
   ],
   "source": [
    "print(response)"
   ]
  },
  {
   "cell_type": "markdown",
   "metadata": {},
   "source": [
    "You can debug the pipeline by viewing intermediate inputs and outputs"
   ]
  },
  {
   "cell_type": "code",
   "execution_count": 11,
   "metadata": {},
   "outputs": [
    {
     "name": "stdout",
     "output_type": "stream",
     "text": [
      "\u001b[1;3;38;2;155;135;227m> Running module dfb467f2-feb4-455d-a00e-b5e94beb15cd with input: \n",
      "topic: Working hard to achieve your goals even when you doubt yourself and your chances of success\n",
      "\n",
      "\u001b[0m\u001b[1;3;38;2;155;135;227m> Running module 4301c46b-40fa-4e59-b7d1-a6b516617158 with input: \n",
      "input: Retrieve context about the following topic: Working hard to achieve your goals even when you doubt yourself and your chances of success\n",
      "\n",
      "\u001b[0m\u001b[1;3;38;2;155;135;227m> Running module 7e9c4087-ee0c-4a50-84d0-04124f8406f5 with input: \n",
      "query_str: [NodeWithScore(node=TextNode(id_='2a7697b2-b94f-4a28-96e4-f6ff49ca081d', embedding=None, metadata={'file_path': '../02_Fundamental_Concepts_in_LlamaIndex/data/pg10763.txt', 'file_name': 'pg10763.txt',...\n",
      "\n",
      "\u001b[0m\u001b[1;3;38;2;155;135;227m> Running module a1367bdc-63de-41cc-af0d-5369d45504fa with input: \n",
      "messages: Syntesize the context provided into an answer using modern slang, while still quoting the sources.\n",
      "\n",
      "Context:\n",
      "\n",
      "[\"mountain with a\\r\\nmere pick and spade. We must assemble for the task great mechanical\\r...\n",
      "\n",
      "\u001b[0m"
     ]
    }
   ],
   "source": [
    "output, intermediates  = p.run_with_intermediates(topic=\"Working hard to achieve your goals even when you doubt yourself and your chances of success\")"
   ]
  },
  {
   "cell_type": "code",
   "execution_count": 12,
   "metadata": {},
   "outputs": [
    {
     "data": {
      "text/plain": [
       "{'message': ChatMessage(role=<MessageRole.ASSISTANT: 'assistant'>, content='So, like, there\\'s this dude, Edgar A. Guest, and he\\'s like, \"Yo, if you wanna climb a mountain, you gotta bring more than just a pick and a spade, feel me? You gotta come correct with some major mechanical engineering, straight up.\" And I\\'m like, \"Word?\" But then he drops some knowledge about how our willpower is like a power tool – you bring a basic tool, you get a basic result. You bring a beast machine, you get beast mode results.\\n\\nAnd then he\\'s like, \"How y\\'all approach your daily grind? You scared of the work, or you facing it head-on? You feeling those dread vibes, or you out here manifesting that boss energy?\" And I\\'m just like, \"Sheeesh, deep.\" \\'Cause like, it\\'s true, if you ain\\'t feeling yourself, you ain\\'t gonna get far. That\\'s on period.\\n\\nThen this other poet, Miriam Teichner, slides in and starts spitting fire about how we all wanna be St. George, dragon-slaying and whatnot, but in reality, we out here fighting mundane battles, and it\\'s the persistence and courage that matter in those everyday struggles. Like, you might wanna go ham and flex your muscles, but sometimes you gotta chill and let your skills do the talking, whether it\\'s typing on a keyboard or crunching numbers.\\n\\nAnd then Edgar A. Guest comes back with another verse, basically asking if the world got you down, are you gonna let it hold you back, or are you gonna bounce back and climb to success like so many others? It\\'s all about that mindset, ya feel?\\n\\nSo, in conclusion, these poets are basically reminding us that we gotta bring the right tools, physical and mental, to climb our mountains. We gotta believe in ourselves and not be scared of the work. It\\'s all about that positive mindset, and knowing that we can achieve whatever we set our minds to. Straight facts.', additional_kwargs={}),\n",
       " 'raw': {'text': 'So, like, there\\'s this dude, Edgar A. Guest, and he\\'s like, \"Yo, if you wanna climb a mountain, you gotta bring more than just a pick and a spade, feel me? You gotta come correct with some major mechanical engineering, straight up.\" And I\\'m like, \"Word?\" But then he drops some knowledge about how our willpower is like a power tool – you bring a basic tool, you get a basic result. You bring a beast machine, you get beast mode results.\\n\\nAnd then he\\'s like, \"How y\\'all approach your daily grind? You scared of the work, or you facing it head-on? You feeling those dread vibes, or you out here manifesting that boss energy?\" And I\\'m just like, \"Sheeesh, deep.\" \\'Cause like, it\\'s true, if you ain\\'t feeling yourself, you ain\\'t gonna get far. That\\'s on period.\\n\\nThen this other poet, Miriam Teichner, slides in and starts spitting fire about how we all wanna be St. George, dragon-slaying and whatnot, but in reality, we out here fighting mundane battles, and it\\'s the persistence and courage that matter in those everyday struggles. Like, you might wanna go ham and flex your muscles, but sometimes you gotta chill and let your skills do the talking, whether it\\'s typing on a keyboard or crunching numbers.\\n\\nAnd then Edgar A. Guest comes back with another verse, basically asking if the world got you down, are you gonna let it hold you back, or are you gonna bounce back and climb to success like so many others? It\\'s all about that mindset, ya feel?\\n\\nSo, in conclusion, these poets are basically reminding us that we gotta bring the right tools, physical and mental, to climb our mountains. We gotta believe in ourselves and not be scared of the work. It\\'s all about that positive mindset, and knowing that we can achieve whatever we set our minds to. Straight facts.',\n",
       "  'generation_id': 'a605cea2-7ea9-4a73-bb75-f721a4a65db7',\n",
       "  'citations': None,\n",
       "  'documents': None,\n",
       "  'is_search_required': None,\n",
       "  'search_queries': None,\n",
       "  'search_results': None,\n",
       "  'finish_reason': 'COMPLETE',\n",
       "  'tool_calls': None,\n",
       "  'chat_history': [Message_User(message='Syntesize the context provided into an answer using modern slang, while still quoting the sources.\\n\\nContext:\\n\\n[\"mountain with a\\\\r\\\\nmere pick and spade. We must assemble for the task great mechanical\\\\r\\\\ncontrivances. And so with our energies of will; a slight tool means a\\\\r\\\\nslight achievement; a huge, aggressive engine, driving on at full blast,\\\\r\\\\nmeans corresponding bigness of results.\\\\r\\\\n\\\\r\\\\n\\\\r\\\\n  How do you tackle your work each day?\\\\r\\\\n    Are you scared of the job you find?\\\\r\\\\n  Do you grapple the task that comes your way\\\\r\\\\n    With a confident, easy mind?\\\\r\\\\n  Do you stand right up to the work ahead\\\\r\\\\n    Or fearfully pause to view it?\\\\r\\\\n  Do you start to toil with a sense of dread\\\\r\\\\n    Or feel that you\\'re going to do it?\\\\r\\\\n\\\\r\\\\n  You can do as much as you think you can,\\\\r\\\\n    But you\\'ll never accomplish more;\\\\r\\\\n  If you\\'re afraid of yourself, young man,\\\\r\\\\n    There\\'s little for you in store.\\\\r\\\\n  For failure comes from the inside first,\\\\r\\\\n    It\\'s there if we only knew it,\\\\r\\\\n  And you can win, though you face the worst,\", \\'Whatever the goal you are seeking, keep trying\\\\r\\\\n    And answer this demon by saying: \"I _can_.\"\\\\r\\\\n\\\\r\\\\n\\\\r\\\\n_Edgar A. Guest._\\\\r\\\\n\\\\r\\\\nFrom \"A Heap o\\\\\\' Livin\\\\\\'.\"\\\\r\\\\n\\\\r\\\\n\\\\r\\\\n\\\\r\\\\n\\\\r\\\\nTHE STRUGGLE\\\\r\\\\n\\\\r\\\\n\\\\r\\\\nWe all dream of being St. Georges and fighting dragons amid glamor and\\\\r\\\\nglory and the applause of the world. But our real fights are mostly\\\\r\\\\ncommonplace, routine battles, where no great victory is ours at the end\\\\r\\\\nof the day. To persist in them requires quiet strength and unfaltering\\\\r\\\\ncourage.\\\\r\\\\n\\\\r\\\\n\\\\r\\\\n  Did you ever want to take your two bare hands,\\\\r\\\\n    And choke out of the world your big success?\\\\r\\\\n  Beat, torn fists bleeding, pathways rugged, grand,\\\\r\\\\n    By sheer brute strength and bigness, nothing less?\\\\r\\\\n  So at the last, triumphant, battered, strong,\\\\r\\\\n    You might gaze down on what you choked and beat,\\\\r\\\\n  And say, \"Ah, world, you\\\\\\'ve wrought to do me wrong;\\\\r\\\\n    And thus have I accepted my defeat.\"\\\\r\\\\n\\\\r\\\\n  Have you ever dreamed of\\', \\'And thus have I accepted my defeat.\"\\\\r\\\\n\\\\r\\\\n  Have you ever dreamed of virile deeds, and vast,\\\\r\\\\n    And then come back from dreams with wobbly knees,\\\\r\\\\n  To find your way (the braver vision past),\\\\r\\\\n    By picking meekly at typewriter keys;\\\\r\\\\n  By bending o\\\\\\'er a ledger, day by day,\\\\r\\\\n    By some machine-like drudging? No great woe\\\\r\\\\n  To grapple with. Slow, painful is the way,\\\\r\\\\n    And still, the bravest fight and conquer so.\\\\r\\\\n\\\\r\\\\n\\\\r\\\\n_Miriam Teichner._\\\\r\\\\n\\\\r\\\\n\\\\r\\\\n\\\\r\\\\n\\\\r\\\\nHOLD FAST\\\\r\\\\n\\\\r\\\\n\\\\r\\\\nA football coach who told his players that their rivals were too strong\\\\r\\\\nfor them would be seeking a new position the next year. If the opposing\\\\r\\\\nteam is formidable, he says so; if his men have their work cut out for\\\\r\\\\nthem, he admits it; but he mentions these things as incitements to\\\\r\\\\neffort. Merely saying of victory that it can be won is among the surest\\\\r\\\\nways of winning it.\\\\r\\\\n\\\\r\\\\n\\\\r\\\\n  When you\\\\\\'re nearly drowned in trouble, and the world is dark\\', \\'Yet he got to the top. Was the world against him?\\\\r\\\\n\\\\r\\\\n  \"I could name you a dozen, yes, hundreds, I guess,\\\\r\\\\n  Of poor boys who\\\\\\'ve patiently climbed to success;\\\\r\\\\n  All boys who were down and who struggled alone,\\\\r\\\\n  Who\\\\\\'d have thought themselves rich if your fortune they\\\\\\'d known;\\\\r\\\\n  Yet they rose in the world you\\\\\\'re so quick to condemn,\\\\r\\\\n  And I\\\\\\'m asking you now, was the world against them?\"\\\\r\\\\n\\\\r\\\\n\\\\r\\\\n_Edgar A. Guest._\\\\r\\\\n\\\\r\\\\nFrom \"Just Folks.\"\\\\r\\\\n\\\\r\\\\n\\\\r\\\\n\\\\r\\\\n\\\\r\\\\nSAY NOT THE STRUGGLE NOUGHT AVAILETH\\\\r\\\\n\\\\r\\\\n\\\\r\\\\nIn any large or prolonged enterprise we are likely to take too limited a\\\\r\\\\nview of the progress we are making. The obstacles do not yield at some\\\\r\\\\ngiven point; we therefore imagine we have made no headway. The poet here\\\\r\\\\nuses three comparisons to show the folly of accepting this hasty and\\\\r\\\\npartial evidence. A soldier may think, from the little part of the\\\\r\\\\nbattle he can see, that the day is going against him; but by holding his\\\\r\\\\nground stoutly he may help his comrades in another quarter to win\\', \\'And you can win, though you face the worst,\\\\r\\\\n    If you feel that you\\\\\\'re going to do it.\\\\r\\\\n\\\\r\\\\n  Success! It\\\\\\'s found in the soul of you,\\\\r\\\\n    And not in the realm of luck!\\\\r\\\\n  The world will furnish the work to do,\\\\r\\\\n    But you must provide the pluck.\\\\r\\\\n  You can do whatever you think you can,\\\\r\\\\n    It\\\\\\'s all in the way you view it.\\\\r\\\\n  It\\\\\\'s all in the start you make, young man:\\\\r\\\\n    You must feel that you\\\\\\'re going to do it.\\\\r\\\\n\\\\r\\\\n  How do you tackle your work each day?\\\\r\\\\n    With confidence clear, or dread?\\\\r\\\\n  What to yourself do you stop and say\\\\r\\\\n    When a new task lies ahead?\\\\r\\\\n  What is the thought that is in your mind?\\\\r\\\\n    Is fear ever running through it?\\\\r\\\\n  If so, just tackle the next you find\\\\r\\\\n    By thinking you\\\\\\'re going to do it.\\\\r\\\\n\\\\r\\\\n\\\\r\\\\n_Edgar A. Guest._\\\\r\\\\n\\\\r\\\\nFrom \"A Heap o\\\\\\' Livin\\\\\\'.\"\\\\r\\\\n\\\\r\\\\n\\\\r\\\\n\\\\r\\\\n\\\\r\\\\nMAN OR MANIKIN\\\\r\\\\n\\\\r\\\\n\\\\r\\\\nThe world does not\\']\\n\\nSyntesized response:\\n', tool_calls=None, role='USER'),\n",
       "   Message_Chatbot(message='So, like, there\\'s this dude, Edgar A. Guest, and he\\'s like, \"Yo, if you wanna climb a mountain, you gotta bring more than just a pick and a spade, feel me? You gotta come correct with some major mechanical engineering, straight up.\" And I\\'m like, \"Word?\" But then he drops some knowledge about how our willpower is like a power tool – you bring a basic tool, you get a basic result. You bring a beast machine, you get beast mode results.\\n\\nAnd then he\\'s like, \"How y\\'all approach your daily grind? You scared of the work, or you facing it head-on? You feeling those dread vibes, or you out here manifesting that boss energy?\" And I\\'m just like, \"Sheeesh, deep.\" \\'Cause like, it\\'s true, if you ain\\'t feeling yourself, you ain\\'t gonna get far. That\\'s on period.\\n\\nThen this other poet, Miriam Teichner, slides in and starts spitting fire about how we all wanna be St. George, dragon-slaying and whatnot, but in reality, we out here fighting mundane battles, and it\\'s the persistence and courage that matter in those everyday struggles. Like, you might wanna go ham and flex your muscles, but sometimes you gotta chill and let your skills do the talking, whether it\\'s typing on a keyboard or crunching numbers.\\n\\nAnd then Edgar A. Guest comes back with another verse, basically asking if the world got you down, are you gonna let it hold you back, or are you gonna bounce back and climb to success like so many others? It\\'s all about that mindset, ya feel?\\n\\nSo, in conclusion, these poets are basically reminding us that we gotta bring the right tools, physical and mental, to climb our mountains. We gotta believe in ourselves and not be scared of the work. It\\'s all about that positive mindset, and knowing that we can achieve whatever we set our minds to. Straight facts.', tool_calls=None, role='CHATBOT')],\n",
       "  'prompt': None,\n",
       "  'meta': ApiMeta(api_version=ApiMetaApiVersion(version='1', is_deprecated=None, is_experimental=None), billed_units=ApiMetaBilledUnits(input_tokens=1620, output_tokens=415, search_units=None, classifications=None), tokens=ApiMetaTokens(input_tokens=1813, output_tokens=415), warnings=None),\n",
       "  'response_id': '2b7902f6-b72d-4a7a-b8db-3d74ef156f1b'},\n",
       " 'delta': None,\n",
       " 'logprobs': None,\n",
       " 'additional_kwargs': {}}"
      ]
     },
     "execution_count": 12,
     "metadata": {},
     "output_type": "execute_result"
    }
   ],
   "source": [
    "output.__dict__"
   ]
  },
  {
   "cell_type": "code",
   "execution_count": 13,
   "metadata": {},
   "outputs": [
    {
     "data": {
      "text/plain": [
       "{'dfb467f2-feb4-455d-a00e-b5e94beb15cd': ComponentIntermediates(inputs={'topic': 'Working hard to achieve your goals even when you doubt yourself and your chances of success'}, outputs={'prompt': 'Retrieve context about the following topic: Working hard to achieve your goals even when you doubt yourself and your chances of success'}),\n",
       " '4301c46b-40fa-4e59-b7d1-a6b516617158': ComponentIntermediates(inputs={'input': 'Retrieve context about the following topic: Working hard to achieve your goals even when you doubt yourself and your chances of success'}, outputs={'output': [NodeWithScore(node=TextNode(id_='2a7697b2-b94f-4a28-96e4-f6ff49ca081d', embedding=None, metadata={'file_path': '../02_Fundamental_Concepts_in_LlamaIndex/data/pg10763.txt', 'file_name': 'pg10763.txt', 'file_type': 'text/plain', 'file_size': 405245, 'creation_date': '2025-02-04', 'last_modified_date': '2024-11-05'}, excluded_embed_metadata_keys=['file_name', 'file_type', 'file_size', 'creation_date', 'last_modified_date', 'last_accessed_date'], excluded_llm_metadata_keys=['file_name', 'file_type', 'file_size', 'creation_date', 'last_modified_date', 'last_accessed_date'], relationships={<NodeRelationship.SOURCE: '1'>: RelatedNodeInfo(node_id='../02_Fundamental_Concepts_in_LlamaIndex/data/pg10763.txt', node_type=<ObjectType.DOCUMENT: '4'>, metadata={'file_path': '../02_Fundamental_Concepts_in_LlamaIndex/data/pg10763.txt', 'file_name': 'pg10763.txt', 'file_type': 'text/plain', 'file_size': 405245, 'creation_date': '2025-02-04', 'last_modified_date': '2024-11-05'}, hash='03c9452d9f7c86ced8da0f7fb21a2349522f9cab467a0210d1200d4e507d0453'), <NodeRelationship.PREVIOUS: '2'>: RelatedNodeInfo(node_id='dc97a9d6-228f-41c7-a60b-16d54a505c42', node_type=<ObjectType.TEXT: '1'>, metadata={'file_path': '../02_Fundamental_Concepts_in_LlamaIndex/data/pg10763.txt', 'file_name': 'pg10763.txt', 'file_type': 'text/plain', 'file_size': 405245, 'creation_date': '2025-02-04', 'last_modified_date': '2024-11-05'}, hash='c259df40de9ee7d240d394032e35f3ecd6b296880f6b48459df90d18d048d6e3'), <NodeRelationship.NEXT: '3'>: RelatedNodeInfo(node_id='7fdacc92-31d7-4fa3-a98d-60e1ddde78c4', node_type=<ObjectType.TEXT: '1'>, metadata={}, hash='dfe1e5fb3c38c61bdb9e083c0a5768c26c2d4eee8becb36ee33b264cf2419d6f')}, text=\"mountain with a\\r\\nmere pick and spade. We must assemble for the task great mechanical\\r\\ncontrivances. And so with our energies of will; a slight tool means a\\r\\nslight achievement; a huge, aggressive engine, driving on at full blast,\\r\\nmeans corresponding bigness of results.\\r\\n\\r\\n\\r\\n  How do you tackle your work each day?\\r\\n    Are you scared of the job you find?\\r\\n  Do you grapple the task that comes your way\\r\\n    With a confident, easy mind?\\r\\n  Do you stand right up to the work ahead\\r\\n    Or fearfully pause to view it?\\r\\n  Do you start to toil with a sense of dread\\r\\n    Or feel that you're going to do it?\\r\\n\\r\\n  You can do as much as you think you can,\\r\\n    But you'll never accomplish more;\\r\\n  If you're afraid of yourself, young man,\\r\\n    There's little for you in store.\\r\\n  For failure comes from the inside first,\\r\\n    It's there if we only knew it,\\r\\n  And you can win, though you face the worst,\", mimetype='text/plain', start_char_idx=88627, end_char_idx=89524, text_template='{metadata_str}\\n\\n{content}', metadata_template='{key}: {value}', metadata_seperator='\\n'), score=0.4744336), NodeWithScore(node=TextNode(id_='de3f72b6-26d6-4813-af01-ed7190295012', embedding=None, metadata={'file_path': '../02_Fundamental_Concepts_in_LlamaIndex/data/pg10763.txt', 'file_name': 'pg10763.txt', 'file_type': 'text/plain', 'file_size': 405245, 'creation_date': '2025-02-04', 'last_modified_date': '2024-11-05'}, excluded_embed_metadata_keys=['file_name', 'file_type', 'file_size', 'creation_date', 'last_modified_date', 'last_accessed_date'], excluded_llm_metadata_keys=['file_name', 'file_type', 'file_size', 'creation_date', 'last_modified_date', 'last_accessed_date'], relationships={<NodeRelationship.SOURCE: '1'>: RelatedNodeInfo(node_id='../02_Fundamental_Concepts_in_LlamaIndex/data/pg10763.txt', node_type=<ObjectType.DOCUMENT: '4'>, metadata={'file_path': '../02_Fundamental_Concepts_in_LlamaIndex/data/pg10763.txt', 'file_name': 'pg10763.txt', 'file_type': 'text/plain', 'file_size': 405245, 'creation_date': '2025-02-04', 'last_modified_date': '2024-11-05'}, hash='03c9452d9f7c86ced8da0f7fb21a2349522f9cab467a0210d1200d4e507d0453'), <NodeRelationship.PREVIOUS: '2'>: RelatedNodeInfo(node_id='72d8b647-78ca-4db5-9d46-48cf969a2a70', node_type=<ObjectType.TEXT: '1'>, metadata={'file_path': '../02_Fundamental_Concepts_in_LlamaIndex/data/pg10763.txt', 'file_name': 'pg10763.txt', 'file_type': 'text/plain', 'file_size': 405245, 'creation_date': '2025-02-04', 'last_modified_date': '2024-11-05'}, hash='4260693ab50c46e8eb353c82e65ebc96e3d82fb982d4310906377f5776a3542c'), <NodeRelationship.NEXT: '3'>: RelatedNodeInfo(node_id='3825fdc6-c120-4804-8ee1-24bdc187c885', node_type=<ObjectType.TEXT: '1'>, metadata={}, hash='b180771f04068d16332552504655f3265c261d56cb57543503539db451b55d30')}, text='Whatever the goal you are seeking, keep trying\\r\\n    And answer this demon by saying: \"I _can_.\"\\r\\n\\r\\n\\r\\n_Edgar A. Guest._\\r\\n\\r\\nFrom \"A Heap o\\' Livin\\'.\"\\r\\n\\r\\n\\r\\n\\r\\n\\r\\nTHE STRUGGLE\\r\\n\\r\\n\\r\\nWe all dream of being St. Georges and fighting dragons amid glamor and\\r\\nglory and the applause of the world. But our real fights are mostly\\r\\ncommonplace, routine battles, where no great victory is ours at the end\\r\\nof the day. To persist in them requires quiet strength and unfaltering\\r\\ncourage.\\r\\n\\r\\n\\r\\n  Did you ever want to take your two bare hands,\\r\\n    And choke out of the world your big success?\\r\\n  Beat, torn fists bleeding, pathways rugged, grand,\\r\\n    By sheer brute strength and bigness, nothing less?\\r\\n  So at the last, triumphant, battered, strong,\\r\\n    You might gaze down on what you choked and beat,\\r\\n  And say, \"Ah, world, you\\'ve wrought to do me wrong;\\r\\n    And thus have I accepted my defeat.\"\\r\\n\\r\\n  Have you ever dreamed of', mimetype='text/plain', start_char_idx=166804, end_char_idx=167716, text_template='{metadata_str}\\n\\n{content}', metadata_template='{key}: {value}', metadata_seperator='\\n'), score=0.4495641), NodeWithScore(node=TextNode(id_='3825fdc6-c120-4804-8ee1-24bdc187c885', embedding=None, metadata={'file_path': '../02_Fundamental_Concepts_in_LlamaIndex/data/pg10763.txt', 'file_name': 'pg10763.txt', 'file_type': 'text/plain', 'file_size': 405245, 'creation_date': '2025-02-04', 'last_modified_date': '2024-11-05'}, excluded_embed_metadata_keys=['file_name', 'file_type', 'file_size', 'creation_date', 'last_modified_date', 'last_accessed_date'], excluded_llm_metadata_keys=['file_name', 'file_type', 'file_size', 'creation_date', 'last_modified_date', 'last_accessed_date'], relationships={<NodeRelationship.SOURCE: '1'>: RelatedNodeInfo(node_id='../02_Fundamental_Concepts_in_LlamaIndex/data/pg10763.txt', node_type=<ObjectType.DOCUMENT: '4'>, metadata={'file_path': '../02_Fundamental_Concepts_in_LlamaIndex/data/pg10763.txt', 'file_name': 'pg10763.txt', 'file_type': 'text/plain', 'file_size': 405245, 'creation_date': '2025-02-04', 'last_modified_date': '2024-11-05'}, hash='03c9452d9f7c86ced8da0f7fb21a2349522f9cab467a0210d1200d4e507d0453'), <NodeRelationship.PREVIOUS: '2'>: RelatedNodeInfo(node_id='de3f72b6-26d6-4813-af01-ed7190295012', node_type=<ObjectType.TEXT: '1'>, metadata={'file_path': '../02_Fundamental_Concepts_in_LlamaIndex/data/pg10763.txt', 'file_name': 'pg10763.txt', 'file_type': 'text/plain', 'file_size': 405245, 'creation_date': '2025-02-04', 'last_modified_date': '2024-11-05'}, hash='ef8c65528762a1935186d1775b71da2821d73a772e570879b36d41ebbb55a656'), <NodeRelationship.NEXT: '3'>: RelatedNodeInfo(node_id='7ca12c71-00d9-4b44-b6db-fee50c601357', node_type=<ObjectType.TEXT: '1'>, metadata={}, hash='0b4568b7ab9df864ca3d6b70110ed6aea4ce8530d63cbeb98871be98f025881e')}, text='And thus have I accepted my defeat.\"\\r\\n\\r\\n  Have you ever dreamed of virile deeds, and vast,\\r\\n    And then come back from dreams with wobbly knees,\\r\\n  To find your way (the braver vision past),\\r\\n    By picking meekly at typewriter keys;\\r\\n  By bending o\\'er a ledger, day by day,\\r\\n    By some machine-like drudging? No great woe\\r\\n  To grapple with. Slow, painful is the way,\\r\\n    And still, the bravest fight and conquer so.\\r\\n\\r\\n\\r\\n_Miriam Teichner._\\r\\n\\r\\n\\r\\n\\r\\n\\r\\nHOLD FAST\\r\\n\\r\\n\\r\\nA football coach who told his players that their rivals were too strong\\r\\nfor them would be seeking a new position the next year. If the opposing\\r\\nteam is formidable, he says so; if his men have their work cut out for\\r\\nthem, he admits it; but he mentions these things as incitements to\\r\\neffort. Merely saying of victory that it can be won is among the surest\\r\\nways of winning it.\\r\\n\\r\\n\\r\\n  When you\\'re nearly drowned in trouble, and the world is dark', mimetype='text/plain', start_char_idx=167650, end_char_idx=168565, text_template='{metadata_str}\\n\\n{content}', metadata_template='{key}: {value}', metadata_seperator='\\n'), score=0.43347555), NodeWithScore(node=TextNode(id_='a5f68ae7-7161-4530-b3e2-ac61a036215c', embedding=None, metadata={'file_path': '../02_Fundamental_Concepts_in_LlamaIndex/data/pg10763.txt', 'file_name': 'pg10763.txt', 'file_type': 'text/plain', 'file_size': 405245, 'creation_date': '2025-02-04', 'last_modified_date': '2024-11-05'}, excluded_embed_metadata_keys=['file_name', 'file_type', 'file_size', 'creation_date', 'last_modified_date', 'last_accessed_date'], excluded_llm_metadata_keys=['file_name', 'file_type', 'file_size', 'creation_date', 'last_modified_date', 'last_accessed_date'], relationships={<NodeRelationship.SOURCE: '1'>: RelatedNodeInfo(node_id='../02_Fundamental_Concepts_in_LlamaIndex/data/pg10763.txt', node_type=<ObjectType.DOCUMENT: '4'>, metadata={'file_path': '../02_Fundamental_Concepts_in_LlamaIndex/data/pg10763.txt', 'file_name': 'pg10763.txt', 'file_type': 'text/plain', 'file_size': 405245, 'creation_date': '2025-02-04', 'last_modified_date': '2024-11-05'}, hash='03c9452d9f7c86ced8da0f7fb21a2349522f9cab467a0210d1200d4e507d0453'), <NodeRelationship.PREVIOUS: '2'>: RelatedNodeInfo(node_id='6663d6b0-6166-4659-b35d-17bab94d3aa1', node_type=<ObjectType.TEXT: '1'>, metadata={'file_path': '../02_Fundamental_Concepts_in_LlamaIndex/data/pg10763.txt', 'file_name': 'pg10763.txt', 'file_type': 'text/plain', 'file_size': 405245, 'creation_date': '2025-02-04', 'last_modified_date': '2024-11-05'}, hash='186253d3cf5c302e7337b1e9d64c7dbee82d4ceffe8d025d331b5923764fca71'), <NodeRelationship.NEXT: '3'>: RelatedNodeInfo(node_id='375ebd70-72a7-483d-bf92-a981d08ff345', node_type=<ObjectType.TEXT: '1'>, metadata={}, hash='22da648f42ac03eaa5168f2b143b4ef7a62154118aec4af5c4e2e4a1df2d4565')}, text='Yet he got to the top. Was the world against him?\\r\\n\\r\\n  \"I could name you a dozen, yes, hundreds, I guess,\\r\\n  Of poor boys who\\'ve patiently climbed to success;\\r\\n  All boys who were down and who struggled alone,\\r\\n  Who\\'d have thought themselves rich if your fortune they\\'d known;\\r\\n  Yet they rose in the world you\\'re so quick to condemn,\\r\\n  And I\\'m asking you now, was the world against them?\"\\r\\n\\r\\n\\r\\n_Edgar A. Guest._\\r\\n\\r\\nFrom \"Just Folks.\"\\r\\n\\r\\n\\r\\n\\r\\n\\r\\nSAY NOT THE STRUGGLE NOUGHT AVAILETH\\r\\n\\r\\n\\r\\nIn any large or prolonged enterprise we are likely to take too limited a\\r\\nview of the progress we are making. The obstacles do not yield at some\\r\\ngiven point; we therefore imagine we have made no headway. The poet here\\r\\nuses three comparisons to show the folly of accepting this hasty and\\r\\npartial evidence. A soldier may think, from the little part of the\\r\\nbattle he can see, that the day is going against him; but by holding his\\r\\nground stoutly he may help his comrades in another quarter to win', mimetype='text/plain', start_char_idx=55394, end_char_idx=56379, text_template='{metadata_str}\\n\\n{content}', metadata_template='{key}: {value}', metadata_seperator='\\n'), score=0.42585036), NodeWithScore(node=TextNode(id_='7fdacc92-31d7-4fa3-a98d-60e1ddde78c4', embedding=None, metadata={'file_path': '../02_Fundamental_Concepts_in_LlamaIndex/data/pg10763.txt', 'file_name': 'pg10763.txt', 'file_type': 'text/plain', 'file_size': 405245, 'creation_date': '2025-02-04', 'last_modified_date': '2024-11-05'}, excluded_embed_metadata_keys=['file_name', 'file_type', 'file_size', 'creation_date', 'last_modified_date', 'last_accessed_date'], excluded_llm_metadata_keys=['file_name', 'file_type', 'file_size', 'creation_date', 'last_modified_date', 'last_accessed_date'], relationships={<NodeRelationship.SOURCE: '1'>: RelatedNodeInfo(node_id='../02_Fundamental_Concepts_in_LlamaIndex/data/pg10763.txt', node_type=<ObjectType.DOCUMENT: '4'>, metadata={'file_path': '../02_Fundamental_Concepts_in_LlamaIndex/data/pg10763.txt', 'file_name': 'pg10763.txt', 'file_type': 'text/plain', 'file_size': 405245, 'creation_date': '2025-02-04', 'last_modified_date': '2024-11-05'}, hash='03c9452d9f7c86ced8da0f7fb21a2349522f9cab467a0210d1200d4e507d0453'), <NodeRelationship.PREVIOUS: '2'>: RelatedNodeInfo(node_id='2a7697b2-b94f-4a28-96e4-f6ff49ca081d', node_type=<ObjectType.TEXT: '1'>, metadata={'file_path': '../02_Fundamental_Concepts_in_LlamaIndex/data/pg10763.txt', 'file_name': 'pg10763.txt', 'file_type': 'text/plain', 'file_size': 405245, 'creation_date': '2025-02-04', 'last_modified_date': '2024-11-05'}, hash='13ab895c1b03dd52d45f08a80696a525dd8239653987668a27aadd9000450e4a'), <NodeRelationship.NEXT: '3'>: RelatedNodeInfo(node_id='f04f467a-291e-47f2-b968-c34310f3f1ad', node_type=<ObjectType.TEXT: '1'>, metadata={}, hash='2f185e44af03f8f92c2197156951d11b93c045b74cb956e16fb657467fec4b3a')}, text='And you can win, though you face the worst,\\r\\n    If you feel that you\\'re going to do it.\\r\\n\\r\\n  Success! It\\'s found in the soul of you,\\r\\n    And not in the realm of luck!\\r\\n  The world will furnish the work to do,\\r\\n    But you must provide the pluck.\\r\\n  You can do whatever you think you can,\\r\\n    It\\'s all in the way you view it.\\r\\n  It\\'s all in the start you make, young man:\\r\\n    You must feel that you\\'re going to do it.\\r\\n\\r\\n  How do you tackle your work each day?\\r\\n    With confidence clear, or dread?\\r\\n  What to yourself do you stop and say\\r\\n    When a new task lies ahead?\\r\\n  What is the thought that is in your mind?\\r\\n    Is fear ever running through it?\\r\\n  If so, just tackle the next you find\\r\\n    By thinking you\\'re going to do it.\\r\\n\\r\\n\\r\\n_Edgar A. Guest._\\r\\n\\r\\nFrom \"A Heap o\\' Livin\\'.\"\\r\\n\\r\\n\\r\\n\\r\\n\\r\\nMAN OR MANIKIN\\r\\n\\r\\n\\r\\nThe world does not', mimetype='text/plain', start_char_idx=89481, end_char_idx=90317, text_template='{metadata_str}\\n\\n{content}', metadata_template='{key}: {value}', metadata_seperator='\\n'), score=0.42004955)]}),\n",
       " '7e9c4087-ee0c-4a50-84d0-04124f8406f5': ComponentIntermediates(inputs={'query_str': [NodeWithScore(node=TextNode(id_='2a7697b2-b94f-4a28-96e4-f6ff49ca081d', embedding=None, metadata={'file_path': '../02_Fundamental_Concepts_in_LlamaIndex/data/pg10763.txt', 'file_name': 'pg10763.txt', 'file_type': 'text/plain', 'file_size': 405245, 'creation_date': '2025-02-04', 'last_modified_date': '2024-11-05'}, excluded_embed_metadata_keys=['file_name', 'file_type', 'file_size', 'creation_date', 'last_modified_date', 'last_accessed_date'], excluded_llm_metadata_keys=['file_name', 'file_type', 'file_size', 'creation_date', 'last_modified_date', 'last_accessed_date'], relationships={<NodeRelationship.SOURCE: '1'>: RelatedNodeInfo(node_id='../02_Fundamental_Concepts_in_LlamaIndex/data/pg10763.txt', node_type=<ObjectType.DOCUMENT: '4'>, metadata={'file_path': '../02_Fundamental_Concepts_in_LlamaIndex/data/pg10763.txt', 'file_name': 'pg10763.txt', 'file_type': 'text/plain', 'file_size': 405245, 'creation_date': '2025-02-04', 'last_modified_date': '2024-11-05'}, hash='03c9452d9f7c86ced8da0f7fb21a2349522f9cab467a0210d1200d4e507d0453'), <NodeRelationship.PREVIOUS: '2'>: RelatedNodeInfo(node_id='dc97a9d6-228f-41c7-a60b-16d54a505c42', node_type=<ObjectType.TEXT: '1'>, metadata={'file_path': '../02_Fundamental_Concepts_in_LlamaIndex/data/pg10763.txt', 'file_name': 'pg10763.txt', 'file_type': 'text/plain', 'file_size': 405245, 'creation_date': '2025-02-04', 'last_modified_date': '2024-11-05'}, hash='c259df40de9ee7d240d394032e35f3ecd6b296880f6b48459df90d18d048d6e3'), <NodeRelationship.NEXT: '3'>: RelatedNodeInfo(node_id='7fdacc92-31d7-4fa3-a98d-60e1ddde78c4', node_type=<ObjectType.TEXT: '1'>, metadata={}, hash='dfe1e5fb3c38c61bdb9e083c0a5768c26c2d4eee8becb36ee33b264cf2419d6f')}, text=\"mountain with a\\r\\nmere pick and spade. We must assemble for the task great mechanical\\r\\ncontrivances. And so with our energies of will; a slight tool means a\\r\\nslight achievement; a huge, aggressive engine, driving on at full blast,\\r\\nmeans corresponding bigness of results.\\r\\n\\r\\n\\r\\n  How do you tackle your work each day?\\r\\n    Are you scared of the job you find?\\r\\n  Do you grapple the task that comes your way\\r\\n    With a confident, easy mind?\\r\\n  Do you stand right up to the work ahead\\r\\n    Or fearfully pause to view it?\\r\\n  Do you start to toil with a sense of dread\\r\\n    Or feel that you're going to do it?\\r\\n\\r\\n  You can do as much as you think you can,\\r\\n    But you'll never accomplish more;\\r\\n  If you're afraid of yourself, young man,\\r\\n    There's little for you in store.\\r\\n  For failure comes from the inside first,\\r\\n    It's there if we only knew it,\\r\\n  And you can win, though you face the worst,\", mimetype='text/plain', start_char_idx=88627, end_char_idx=89524, text_template='{metadata_str}\\n\\n{content}', metadata_template='{key}: {value}', metadata_seperator='\\n'), score=0.4744336), NodeWithScore(node=TextNode(id_='de3f72b6-26d6-4813-af01-ed7190295012', embedding=None, metadata={'file_path': '../02_Fundamental_Concepts_in_LlamaIndex/data/pg10763.txt', 'file_name': 'pg10763.txt', 'file_type': 'text/plain', 'file_size': 405245, 'creation_date': '2025-02-04', 'last_modified_date': '2024-11-05'}, excluded_embed_metadata_keys=['file_name', 'file_type', 'file_size', 'creation_date', 'last_modified_date', 'last_accessed_date'], excluded_llm_metadata_keys=['file_name', 'file_type', 'file_size', 'creation_date', 'last_modified_date', 'last_accessed_date'], relationships={<NodeRelationship.SOURCE: '1'>: RelatedNodeInfo(node_id='../02_Fundamental_Concepts_in_LlamaIndex/data/pg10763.txt', node_type=<ObjectType.DOCUMENT: '4'>, metadata={'file_path': '../02_Fundamental_Concepts_in_LlamaIndex/data/pg10763.txt', 'file_name': 'pg10763.txt', 'file_type': 'text/plain', 'file_size': 405245, 'creation_date': '2025-02-04', 'last_modified_date': '2024-11-05'}, hash='03c9452d9f7c86ced8da0f7fb21a2349522f9cab467a0210d1200d4e507d0453'), <NodeRelationship.PREVIOUS: '2'>: RelatedNodeInfo(node_id='72d8b647-78ca-4db5-9d46-48cf969a2a70', node_type=<ObjectType.TEXT: '1'>, metadata={'file_path': '../02_Fundamental_Concepts_in_LlamaIndex/data/pg10763.txt', 'file_name': 'pg10763.txt', 'file_type': 'text/plain', 'file_size': 405245, 'creation_date': '2025-02-04', 'last_modified_date': '2024-11-05'}, hash='4260693ab50c46e8eb353c82e65ebc96e3d82fb982d4310906377f5776a3542c'), <NodeRelationship.NEXT: '3'>: RelatedNodeInfo(node_id='3825fdc6-c120-4804-8ee1-24bdc187c885', node_type=<ObjectType.TEXT: '1'>, metadata={}, hash='b180771f04068d16332552504655f3265c261d56cb57543503539db451b55d30')}, text='Whatever the goal you are seeking, keep trying\\r\\n    And answer this demon by saying: \"I _can_.\"\\r\\n\\r\\n\\r\\n_Edgar A. Guest._\\r\\n\\r\\nFrom \"A Heap o\\' Livin\\'.\"\\r\\n\\r\\n\\r\\n\\r\\n\\r\\nTHE STRUGGLE\\r\\n\\r\\n\\r\\nWe all dream of being St. Georges and fighting dragons amid glamor and\\r\\nglory and the applause of the world. But our real fights are mostly\\r\\ncommonplace, routine battles, where no great victory is ours at the end\\r\\nof the day. To persist in them requires quiet strength and unfaltering\\r\\ncourage.\\r\\n\\r\\n\\r\\n  Did you ever want to take your two bare hands,\\r\\n    And choke out of the world your big success?\\r\\n  Beat, torn fists bleeding, pathways rugged, grand,\\r\\n    By sheer brute strength and bigness, nothing less?\\r\\n  So at the last, triumphant, battered, strong,\\r\\n    You might gaze down on what you choked and beat,\\r\\n  And say, \"Ah, world, you\\'ve wrought to do me wrong;\\r\\n    And thus have I accepted my defeat.\"\\r\\n\\r\\n  Have you ever dreamed of', mimetype='text/plain', start_char_idx=166804, end_char_idx=167716, text_template='{metadata_str}\\n\\n{content}', metadata_template='{key}: {value}', metadata_seperator='\\n'), score=0.4495641), NodeWithScore(node=TextNode(id_='3825fdc6-c120-4804-8ee1-24bdc187c885', embedding=None, metadata={'file_path': '../02_Fundamental_Concepts_in_LlamaIndex/data/pg10763.txt', 'file_name': 'pg10763.txt', 'file_type': 'text/plain', 'file_size': 405245, 'creation_date': '2025-02-04', 'last_modified_date': '2024-11-05'}, excluded_embed_metadata_keys=['file_name', 'file_type', 'file_size', 'creation_date', 'last_modified_date', 'last_accessed_date'], excluded_llm_metadata_keys=['file_name', 'file_type', 'file_size', 'creation_date', 'last_modified_date', 'last_accessed_date'], relationships={<NodeRelationship.SOURCE: '1'>: RelatedNodeInfo(node_id='../02_Fundamental_Concepts_in_LlamaIndex/data/pg10763.txt', node_type=<ObjectType.DOCUMENT: '4'>, metadata={'file_path': '../02_Fundamental_Concepts_in_LlamaIndex/data/pg10763.txt', 'file_name': 'pg10763.txt', 'file_type': 'text/plain', 'file_size': 405245, 'creation_date': '2025-02-04', 'last_modified_date': '2024-11-05'}, hash='03c9452d9f7c86ced8da0f7fb21a2349522f9cab467a0210d1200d4e507d0453'), <NodeRelationship.PREVIOUS: '2'>: RelatedNodeInfo(node_id='de3f72b6-26d6-4813-af01-ed7190295012', node_type=<ObjectType.TEXT: '1'>, metadata={'file_path': '../02_Fundamental_Concepts_in_LlamaIndex/data/pg10763.txt', 'file_name': 'pg10763.txt', 'file_type': 'text/plain', 'file_size': 405245, 'creation_date': '2025-02-04', 'last_modified_date': '2024-11-05'}, hash='ef8c65528762a1935186d1775b71da2821d73a772e570879b36d41ebbb55a656'), <NodeRelationship.NEXT: '3'>: RelatedNodeInfo(node_id='7ca12c71-00d9-4b44-b6db-fee50c601357', node_type=<ObjectType.TEXT: '1'>, metadata={}, hash='0b4568b7ab9df864ca3d6b70110ed6aea4ce8530d63cbeb98871be98f025881e')}, text='And thus have I accepted my defeat.\"\\r\\n\\r\\n  Have you ever dreamed of virile deeds, and vast,\\r\\n    And then come back from dreams with wobbly knees,\\r\\n  To find your way (the braver vision past),\\r\\n    By picking meekly at typewriter keys;\\r\\n  By bending o\\'er a ledger, day by day,\\r\\n    By some machine-like drudging? No great woe\\r\\n  To grapple with. Slow, painful is the way,\\r\\n    And still, the bravest fight and conquer so.\\r\\n\\r\\n\\r\\n_Miriam Teichner._\\r\\n\\r\\n\\r\\n\\r\\n\\r\\nHOLD FAST\\r\\n\\r\\n\\r\\nA football coach who told his players that their rivals were too strong\\r\\nfor them would be seeking a new position the next year. If the opposing\\r\\nteam is formidable, he says so; if his men have their work cut out for\\r\\nthem, he admits it; but he mentions these things as incitements to\\r\\neffort. Merely saying of victory that it can be won is among the surest\\r\\nways of winning it.\\r\\n\\r\\n\\r\\n  When you\\'re nearly drowned in trouble, and the world is dark', mimetype='text/plain', start_char_idx=167650, end_char_idx=168565, text_template='{metadata_str}\\n\\n{content}', metadata_template='{key}: {value}', metadata_seperator='\\n'), score=0.43347555), NodeWithScore(node=TextNode(id_='a5f68ae7-7161-4530-b3e2-ac61a036215c', embedding=None, metadata={'file_path': '../02_Fundamental_Concepts_in_LlamaIndex/data/pg10763.txt', 'file_name': 'pg10763.txt', 'file_type': 'text/plain', 'file_size': 405245, 'creation_date': '2025-02-04', 'last_modified_date': '2024-11-05'}, excluded_embed_metadata_keys=['file_name', 'file_type', 'file_size', 'creation_date', 'last_modified_date', 'last_accessed_date'], excluded_llm_metadata_keys=['file_name', 'file_type', 'file_size', 'creation_date', 'last_modified_date', 'last_accessed_date'], relationships={<NodeRelationship.SOURCE: '1'>: RelatedNodeInfo(node_id='../02_Fundamental_Concepts_in_LlamaIndex/data/pg10763.txt', node_type=<ObjectType.DOCUMENT: '4'>, metadata={'file_path': '../02_Fundamental_Concepts_in_LlamaIndex/data/pg10763.txt', 'file_name': 'pg10763.txt', 'file_type': 'text/plain', 'file_size': 405245, 'creation_date': '2025-02-04', 'last_modified_date': '2024-11-05'}, hash='03c9452d9f7c86ced8da0f7fb21a2349522f9cab467a0210d1200d4e507d0453'), <NodeRelationship.PREVIOUS: '2'>: RelatedNodeInfo(node_id='6663d6b0-6166-4659-b35d-17bab94d3aa1', node_type=<ObjectType.TEXT: '1'>, metadata={'file_path': '../02_Fundamental_Concepts_in_LlamaIndex/data/pg10763.txt', 'file_name': 'pg10763.txt', 'file_type': 'text/plain', 'file_size': 405245, 'creation_date': '2025-02-04', 'last_modified_date': '2024-11-05'}, hash='186253d3cf5c302e7337b1e9d64c7dbee82d4ceffe8d025d331b5923764fca71'), <NodeRelationship.NEXT: '3'>: RelatedNodeInfo(node_id='375ebd70-72a7-483d-bf92-a981d08ff345', node_type=<ObjectType.TEXT: '1'>, metadata={}, hash='22da648f42ac03eaa5168f2b143b4ef7a62154118aec4af5c4e2e4a1df2d4565')}, text='Yet he got to the top. Was the world against him?\\r\\n\\r\\n  \"I could name you a dozen, yes, hundreds, I guess,\\r\\n  Of poor boys who\\'ve patiently climbed to success;\\r\\n  All boys who were down and who struggled alone,\\r\\n  Who\\'d have thought themselves rich if your fortune they\\'d known;\\r\\n  Yet they rose in the world you\\'re so quick to condemn,\\r\\n  And I\\'m asking you now, was the world against them?\"\\r\\n\\r\\n\\r\\n_Edgar A. Guest._\\r\\n\\r\\nFrom \"Just Folks.\"\\r\\n\\r\\n\\r\\n\\r\\n\\r\\nSAY NOT THE STRUGGLE NOUGHT AVAILETH\\r\\n\\r\\n\\r\\nIn any large or prolonged enterprise we are likely to take too limited a\\r\\nview of the progress we are making. The obstacles do not yield at some\\r\\ngiven point; we therefore imagine we have made no headway. The poet here\\r\\nuses three comparisons to show the folly of accepting this hasty and\\r\\npartial evidence. A soldier may think, from the little part of the\\r\\nbattle he can see, that the day is going against him; but by holding his\\r\\nground stoutly he may help his comrades in another quarter to win', mimetype='text/plain', start_char_idx=55394, end_char_idx=56379, text_template='{metadata_str}\\n\\n{content}', metadata_template='{key}: {value}', metadata_seperator='\\n'), score=0.42585036), NodeWithScore(node=TextNode(id_='7fdacc92-31d7-4fa3-a98d-60e1ddde78c4', embedding=None, metadata={'file_path': '../02_Fundamental_Concepts_in_LlamaIndex/data/pg10763.txt', 'file_name': 'pg10763.txt', 'file_type': 'text/plain', 'file_size': 405245, 'creation_date': '2025-02-04', 'last_modified_date': '2024-11-05'}, excluded_embed_metadata_keys=['file_name', 'file_type', 'file_size', 'creation_date', 'last_modified_date', 'last_accessed_date'], excluded_llm_metadata_keys=['file_name', 'file_type', 'file_size', 'creation_date', 'last_modified_date', 'last_accessed_date'], relationships={<NodeRelationship.SOURCE: '1'>: RelatedNodeInfo(node_id='../02_Fundamental_Concepts_in_LlamaIndex/data/pg10763.txt', node_type=<ObjectType.DOCUMENT: '4'>, metadata={'file_path': '../02_Fundamental_Concepts_in_LlamaIndex/data/pg10763.txt', 'file_name': 'pg10763.txt', 'file_type': 'text/plain', 'file_size': 405245, 'creation_date': '2025-02-04', 'last_modified_date': '2024-11-05'}, hash='03c9452d9f7c86ced8da0f7fb21a2349522f9cab467a0210d1200d4e507d0453'), <NodeRelationship.PREVIOUS: '2'>: RelatedNodeInfo(node_id='2a7697b2-b94f-4a28-96e4-f6ff49ca081d', node_type=<ObjectType.TEXT: '1'>, metadata={'file_path': '../02_Fundamental_Concepts_in_LlamaIndex/data/pg10763.txt', 'file_name': 'pg10763.txt', 'file_type': 'text/plain', 'file_size': 405245, 'creation_date': '2025-02-04', 'last_modified_date': '2024-11-05'}, hash='13ab895c1b03dd52d45f08a80696a525dd8239653987668a27aadd9000450e4a'), <NodeRelationship.NEXT: '3'>: RelatedNodeInfo(node_id='f04f467a-291e-47f2-b968-c34310f3f1ad', node_type=<ObjectType.TEXT: '1'>, metadata={}, hash='2f185e44af03f8f92c2197156951d11b93c045b74cb956e16fb657467fec4b3a')}, text='And you can win, though you face the worst,\\r\\n    If you feel that you\\'re going to do it.\\r\\n\\r\\n  Success! It\\'s found in the soul of you,\\r\\n    And not in the realm of luck!\\r\\n  The world will furnish the work to do,\\r\\n    But you must provide the pluck.\\r\\n  You can do whatever you think you can,\\r\\n    It\\'s all in the way you view it.\\r\\n  It\\'s all in the start you make, young man:\\r\\n    You must feel that you\\'re going to do it.\\r\\n\\r\\n  How do you tackle your work each day?\\r\\n    With confidence clear, or dread?\\r\\n  What to yourself do you stop and say\\r\\n    When a new task lies ahead?\\r\\n  What is the thought that is in your mind?\\r\\n    Is fear ever running through it?\\r\\n  If so, just tackle the next you find\\r\\n    By thinking you\\'re going to do it.\\r\\n\\r\\n\\r\\n_Edgar A. Guest._\\r\\n\\r\\nFrom \"A Heap o\\' Livin\\'.\"\\r\\n\\r\\n\\r\\n\\r\\n\\r\\nMAN OR MANIKIN\\r\\n\\r\\n\\r\\nThe world does not', mimetype='text/plain', start_char_idx=89481, end_char_idx=90317, text_template='{metadata_str}\\n\\n{content}', metadata_template='{key}: {value}', metadata_seperator='\\n'), score=0.42004955)]}, outputs={'prompt': 'Syntesize the context provided into an answer using modern slang, while still quoting the sources.\\n\\nContext:\\n\\n[\"mountain with a\\\\r\\\\nmere pick and spade. We must assemble for the task great mechanical\\\\r\\\\ncontrivances. And so with our energies of will; a slight tool means a\\\\r\\\\nslight achievement; a huge, aggressive engine, driving on at full blast,\\\\r\\\\nmeans corresponding bigness of results.\\\\r\\\\n\\\\r\\\\n\\\\r\\\\n  How do you tackle your work each day?\\\\r\\\\n    Are you scared of the job you find?\\\\r\\\\n  Do you grapple the task that comes your way\\\\r\\\\n    With a confident, easy mind?\\\\r\\\\n  Do you stand right up to the work ahead\\\\r\\\\n    Or fearfully pause to view it?\\\\r\\\\n  Do you start to toil with a sense of dread\\\\r\\\\n    Or feel that you\\'re going to do it?\\\\r\\\\n\\\\r\\\\n  You can do as much as you think you can,\\\\r\\\\n    But you\\'ll never accomplish more;\\\\r\\\\n  If you\\'re afraid of yourself, young man,\\\\r\\\\n    There\\'s little for you in store.\\\\r\\\\n  For failure comes from the inside first,\\\\r\\\\n    It\\'s there if we only knew it,\\\\r\\\\n  And you can win, though you face the worst,\", \\'Whatever the goal you are seeking, keep trying\\\\r\\\\n    And answer this demon by saying: \"I _can_.\"\\\\r\\\\n\\\\r\\\\n\\\\r\\\\n_Edgar A. Guest._\\\\r\\\\n\\\\r\\\\nFrom \"A Heap o\\\\\\' Livin\\\\\\'.\"\\\\r\\\\n\\\\r\\\\n\\\\r\\\\n\\\\r\\\\n\\\\r\\\\nTHE STRUGGLE\\\\r\\\\n\\\\r\\\\n\\\\r\\\\nWe all dream of being St. Georges and fighting dragons amid glamor and\\\\r\\\\nglory and the applause of the world. But our real fights are mostly\\\\r\\\\ncommonplace, routine battles, where no great victory is ours at the end\\\\r\\\\nof the day. To persist in them requires quiet strength and unfaltering\\\\r\\\\ncourage.\\\\r\\\\n\\\\r\\\\n\\\\r\\\\n  Did you ever want to take your two bare hands,\\\\r\\\\n    And choke out of the world your big success?\\\\r\\\\n  Beat, torn fists bleeding, pathways rugged, grand,\\\\r\\\\n    By sheer brute strength and bigness, nothing less?\\\\r\\\\n  So at the last, triumphant, battered, strong,\\\\r\\\\n    You might gaze down on what you choked and beat,\\\\r\\\\n  And say, \"Ah, world, you\\\\\\'ve wrought to do me wrong;\\\\r\\\\n    And thus have I accepted my defeat.\"\\\\r\\\\n\\\\r\\\\n  Have you ever dreamed of\\', \\'And thus have I accepted my defeat.\"\\\\r\\\\n\\\\r\\\\n  Have you ever dreamed of virile deeds, and vast,\\\\r\\\\n    And then come back from dreams with wobbly knees,\\\\r\\\\n  To find your way (the braver vision past),\\\\r\\\\n    By picking meekly at typewriter keys;\\\\r\\\\n  By bending o\\\\\\'er a ledger, day by day,\\\\r\\\\n    By some machine-like drudging? No great woe\\\\r\\\\n  To grapple with. Slow, painful is the way,\\\\r\\\\n    And still, the bravest fight and conquer so.\\\\r\\\\n\\\\r\\\\n\\\\r\\\\n_Miriam Teichner._\\\\r\\\\n\\\\r\\\\n\\\\r\\\\n\\\\r\\\\n\\\\r\\\\nHOLD FAST\\\\r\\\\n\\\\r\\\\n\\\\r\\\\nA football coach who told his players that their rivals were too strong\\\\r\\\\nfor them would be seeking a new position the next year. If the opposing\\\\r\\\\nteam is formidable, he says so; if his men have their work cut out for\\\\r\\\\nthem, he admits it; but he mentions these things as incitements to\\\\r\\\\neffort. Merely saying of victory that it can be won is among the surest\\\\r\\\\nways of winning it.\\\\r\\\\n\\\\r\\\\n\\\\r\\\\n  When you\\\\\\'re nearly drowned in trouble, and the world is dark\\', \\'Yet he got to the top. Was the world against him?\\\\r\\\\n\\\\r\\\\n  \"I could name you a dozen, yes, hundreds, I guess,\\\\r\\\\n  Of poor boys who\\\\\\'ve patiently climbed to success;\\\\r\\\\n  All boys who were down and who struggled alone,\\\\r\\\\n  Who\\\\\\'d have thought themselves rich if your fortune they\\\\\\'d known;\\\\r\\\\n  Yet they rose in the world you\\\\\\'re so quick to condemn,\\\\r\\\\n  And I\\\\\\'m asking you now, was the world against them?\"\\\\r\\\\n\\\\r\\\\n\\\\r\\\\n_Edgar A. Guest._\\\\r\\\\n\\\\r\\\\nFrom \"Just Folks.\"\\\\r\\\\n\\\\r\\\\n\\\\r\\\\n\\\\r\\\\n\\\\r\\\\nSAY NOT THE STRUGGLE NOUGHT AVAILETH\\\\r\\\\n\\\\r\\\\n\\\\r\\\\nIn any large or prolonged enterprise we are likely to take too limited a\\\\r\\\\nview of the progress we are making. The obstacles do not yield at some\\\\r\\\\ngiven point; we therefore imagine we have made no headway. The poet here\\\\r\\\\nuses three comparisons to show the folly of accepting this hasty and\\\\r\\\\npartial evidence. A soldier may think, from the little part of the\\\\r\\\\nbattle he can see, that the day is going against him; but by holding his\\\\r\\\\nground stoutly he may help his comrades in another quarter to win\\', \\'And you can win, though you face the worst,\\\\r\\\\n    If you feel that you\\\\\\'re going to do it.\\\\r\\\\n\\\\r\\\\n  Success! It\\\\\\'s found in the soul of you,\\\\r\\\\n    And not in the realm of luck!\\\\r\\\\n  The world will furnish the work to do,\\\\r\\\\n    But you must provide the pluck.\\\\r\\\\n  You can do whatever you think you can,\\\\r\\\\n    It\\\\\\'s all in the way you view it.\\\\r\\\\n  It\\\\\\'s all in the start you make, young man:\\\\r\\\\n    You must feel that you\\\\\\'re going to do it.\\\\r\\\\n\\\\r\\\\n  How do you tackle your work each day?\\\\r\\\\n    With confidence clear, or dread?\\\\r\\\\n  What to yourself do you stop and say\\\\r\\\\n    When a new task lies ahead?\\\\r\\\\n  What is the thought that is in your mind?\\\\r\\\\n    Is fear ever running through it?\\\\r\\\\n  If so, just tackle the next you find\\\\r\\\\n    By thinking you\\\\\\'re going to do it.\\\\r\\\\n\\\\r\\\\n\\\\r\\\\n_Edgar A. Guest._\\\\r\\\\n\\\\r\\\\nFrom \"A Heap o\\\\\\' Livin\\\\\\'.\"\\\\r\\\\n\\\\r\\\\n\\\\r\\\\n\\\\r\\\\n\\\\r\\\\nMAN OR MANIKIN\\\\r\\\\n\\\\r\\\\n\\\\r\\\\nThe world does not\\']\\n\\nSyntesized response:\\n'}),\n",
       " 'a1367bdc-63de-41cc-af0d-5369d45504fa': ComponentIntermediates(inputs={'messages': 'Syntesize the context provided into an answer using modern slang, while still quoting the sources.\\n\\nContext:\\n\\n[\"mountain with a\\\\r\\\\nmere pick and spade. We must assemble for the task great mechanical\\\\r\\\\ncontrivances. And so with our energies of will; a slight tool means a\\\\r\\\\nslight achievement; a huge, aggressive engine, driving on at full blast,\\\\r\\\\nmeans corresponding bigness of results.\\\\r\\\\n\\\\r\\\\n\\\\r\\\\n  How do you tackle your work each day?\\\\r\\\\n    Are you scared of the job you find?\\\\r\\\\n  Do you grapple the task that comes your way\\\\r\\\\n    With a confident, easy mind?\\\\r\\\\n  Do you stand right up to the work ahead\\\\r\\\\n    Or fearfully pause to view it?\\\\r\\\\n  Do you start to toil with a sense of dread\\\\r\\\\n    Or feel that you\\'re going to do it?\\\\r\\\\n\\\\r\\\\n  You can do as much as you think you can,\\\\r\\\\n    But you\\'ll never accomplish more;\\\\r\\\\n  If you\\'re afraid of yourself, young man,\\\\r\\\\n    There\\'s little for you in store.\\\\r\\\\n  For failure comes from the inside first,\\\\r\\\\n    It\\'s there if we only knew it,\\\\r\\\\n  And you can win, though you face the worst,\", \\'Whatever the goal you are seeking, keep trying\\\\r\\\\n    And answer this demon by saying: \"I _can_.\"\\\\r\\\\n\\\\r\\\\n\\\\r\\\\n_Edgar A. Guest._\\\\r\\\\n\\\\r\\\\nFrom \"A Heap o\\\\\\' Livin\\\\\\'.\"\\\\r\\\\n\\\\r\\\\n\\\\r\\\\n\\\\r\\\\n\\\\r\\\\nTHE STRUGGLE\\\\r\\\\n\\\\r\\\\n\\\\r\\\\nWe all dream of being St. Georges and fighting dragons amid glamor and\\\\r\\\\nglory and the applause of the world. But our real fights are mostly\\\\r\\\\ncommonplace, routine battles, where no great victory is ours at the end\\\\r\\\\nof the day. To persist in them requires quiet strength and unfaltering\\\\r\\\\ncourage.\\\\r\\\\n\\\\r\\\\n\\\\r\\\\n  Did you ever want to take your two bare hands,\\\\r\\\\n    And choke out of the world your big success?\\\\r\\\\n  Beat, torn fists bleeding, pathways rugged, grand,\\\\r\\\\n    By sheer brute strength and bigness, nothing less?\\\\r\\\\n  So at the last, triumphant, battered, strong,\\\\r\\\\n    You might gaze down on what you choked and beat,\\\\r\\\\n  And say, \"Ah, world, you\\\\\\'ve wrought to do me wrong;\\\\r\\\\n    And thus have I accepted my defeat.\"\\\\r\\\\n\\\\r\\\\n  Have you ever dreamed of\\', \\'And thus have I accepted my defeat.\"\\\\r\\\\n\\\\r\\\\n  Have you ever dreamed of virile deeds, and vast,\\\\r\\\\n    And then come back from dreams with wobbly knees,\\\\r\\\\n  To find your way (the braver vision past),\\\\r\\\\n    By picking meekly at typewriter keys;\\\\r\\\\n  By bending o\\\\\\'er a ledger, day by day,\\\\r\\\\n    By some machine-like drudging? No great woe\\\\r\\\\n  To grapple with. Slow, painful is the way,\\\\r\\\\n    And still, the bravest fight and conquer so.\\\\r\\\\n\\\\r\\\\n\\\\r\\\\n_Miriam Teichner._\\\\r\\\\n\\\\r\\\\n\\\\r\\\\n\\\\r\\\\n\\\\r\\\\nHOLD FAST\\\\r\\\\n\\\\r\\\\n\\\\r\\\\nA football coach who told his players that their rivals were too strong\\\\r\\\\nfor them would be seeking a new position the next year. If the opposing\\\\r\\\\nteam is formidable, he says so; if his men have their work cut out for\\\\r\\\\nthem, he admits it; but he mentions these things as incitements to\\\\r\\\\neffort. Merely saying of victory that it can be won is among the surest\\\\r\\\\nways of winning it.\\\\r\\\\n\\\\r\\\\n\\\\r\\\\n  When you\\\\\\'re nearly drowned in trouble, and the world is dark\\', \\'Yet he got to the top. Was the world against him?\\\\r\\\\n\\\\r\\\\n  \"I could name you a dozen, yes, hundreds, I guess,\\\\r\\\\n  Of poor boys who\\\\\\'ve patiently climbed to success;\\\\r\\\\n  All boys who were down and who struggled alone,\\\\r\\\\n  Who\\\\\\'d have thought themselves rich if your fortune they\\\\\\'d known;\\\\r\\\\n  Yet they rose in the world you\\\\\\'re so quick to condemn,\\\\r\\\\n  And I\\\\\\'m asking you now, was the world against them?\"\\\\r\\\\n\\\\r\\\\n\\\\r\\\\n_Edgar A. Guest._\\\\r\\\\n\\\\r\\\\nFrom \"Just Folks.\"\\\\r\\\\n\\\\r\\\\n\\\\r\\\\n\\\\r\\\\n\\\\r\\\\nSAY NOT THE STRUGGLE NOUGHT AVAILETH\\\\r\\\\n\\\\r\\\\n\\\\r\\\\nIn any large or prolonged enterprise we are likely to take too limited a\\\\r\\\\nview of the progress we are making. The obstacles do not yield at some\\\\r\\\\ngiven point; we therefore imagine we have made no headway. The poet here\\\\r\\\\nuses three comparisons to show the folly of accepting this hasty and\\\\r\\\\npartial evidence. A soldier may think, from the little part of the\\\\r\\\\nbattle he can see, that the day is going against him; but by holding his\\\\r\\\\nground stoutly he may help his comrades in another quarter to win\\', \\'And you can win, though you face the worst,\\\\r\\\\n    If you feel that you\\\\\\'re going to do it.\\\\r\\\\n\\\\r\\\\n  Success! It\\\\\\'s found in the soul of you,\\\\r\\\\n    And not in the realm of luck!\\\\r\\\\n  The world will furnish the work to do,\\\\r\\\\n    But you must provide the pluck.\\\\r\\\\n  You can do whatever you think you can,\\\\r\\\\n    It\\\\\\'s all in the way you view it.\\\\r\\\\n  It\\\\\\'s all in the start you make, young man:\\\\r\\\\n    You must feel that you\\\\\\'re going to do it.\\\\r\\\\n\\\\r\\\\n  How do you tackle your work each day?\\\\r\\\\n    With confidence clear, or dread?\\\\r\\\\n  What to yourself do you stop and say\\\\r\\\\n    When a new task lies ahead?\\\\r\\\\n  What is the thought that is in your mind?\\\\r\\\\n    Is fear ever running through it?\\\\r\\\\n  If so, just tackle the next you find\\\\r\\\\n    By thinking you\\\\\\'re going to do it.\\\\r\\\\n\\\\r\\\\n\\\\r\\\\n_Edgar A. Guest._\\\\r\\\\n\\\\r\\\\nFrom \"A Heap o\\\\\\' Livin\\\\\\'.\"\\\\r\\\\n\\\\r\\\\n\\\\r\\\\n\\\\r\\\\n\\\\r\\\\nMAN OR MANIKIN\\\\r\\\\n\\\\r\\\\n\\\\r\\\\nThe world does not\\']\\n\\nSyntesized response:\\n'}, outputs={'output': ChatResponse(message=ChatMessage(role=<MessageRole.ASSISTANT: 'assistant'>, content='So, like, there\\'s this dude, Edgar A. Guest, and he\\'s like, \"Yo, if you wanna climb a mountain, you gotta bring more than just a pick and a spade, feel me? You gotta come correct with some major mechanical engineering, straight up.\" And I\\'m like, \"Word?\" But then he drops some knowledge about how our willpower is like a power tool – you bring a basic tool, you get a basic result. You bring a beast machine, you get beast mode results.\\n\\nAnd then he\\'s like, \"How y\\'all approach your daily grind? You scared of the work, or you facing it head-on? You feeling those dread vibes, or you out here manifesting that boss energy?\" And I\\'m just like, \"Sheeesh, deep.\" \\'Cause like, it\\'s true, if you ain\\'t feeling yourself, you ain\\'t gonna get far. That\\'s on period.\\n\\nThen this other poet, Miriam Teichner, slides in and starts spitting fire about how we all wanna be St. George, dragon-slaying and whatnot, but in reality, we out here fighting mundane battles, and it\\'s the persistence and courage that matter in those everyday struggles. Like, you might wanna go ham and flex your muscles, but sometimes you gotta chill and let your skills do the talking, whether it\\'s typing on a keyboard or crunching numbers.\\n\\nAnd then Edgar A. Guest comes back with another verse, basically asking if the world got you down, are you gonna let it hold you back, or are you gonna bounce back and climb to success like so many others? It\\'s all about that mindset, ya feel?\\n\\nSo, in conclusion, these poets are basically reminding us that we gotta bring the right tools, physical and mental, to climb our mountains. We gotta believe in ourselves and not be scared of the work. It\\'s all about that positive mindset, and knowing that we can achieve whatever we set our minds to. Straight facts.', additional_kwargs={}), raw={'text': 'So, like, there\\'s this dude, Edgar A. Guest, and he\\'s like, \"Yo, if you wanna climb a mountain, you gotta bring more than just a pick and a spade, feel me? You gotta come correct with some major mechanical engineering, straight up.\" And I\\'m like, \"Word?\" But then he drops some knowledge about how our willpower is like a power tool – you bring a basic tool, you get a basic result. You bring a beast machine, you get beast mode results.\\n\\nAnd then he\\'s like, \"How y\\'all approach your daily grind? You scared of the work, or you facing it head-on? You feeling those dread vibes, or you out here manifesting that boss energy?\" And I\\'m just like, \"Sheeesh, deep.\" \\'Cause like, it\\'s true, if you ain\\'t feeling yourself, you ain\\'t gonna get far. That\\'s on period.\\n\\nThen this other poet, Miriam Teichner, slides in and starts spitting fire about how we all wanna be St. George, dragon-slaying and whatnot, but in reality, we out here fighting mundane battles, and it\\'s the persistence and courage that matter in those everyday struggles. Like, you might wanna go ham and flex your muscles, but sometimes you gotta chill and let your skills do the talking, whether it\\'s typing on a keyboard or crunching numbers.\\n\\nAnd then Edgar A. Guest comes back with another verse, basically asking if the world got you down, are you gonna let it hold you back, or are you gonna bounce back and climb to success like so many others? It\\'s all about that mindset, ya feel?\\n\\nSo, in conclusion, these poets are basically reminding us that we gotta bring the right tools, physical and mental, to climb our mountains. We gotta believe in ourselves and not be scared of the work. It\\'s all about that positive mindset, and knowing that we can achieve whatever we set our minds to. Straight facts.', 'generation_id': 'a605cea2-7ea9-4a73-bb75-f721a4a65db7', 'citations': None, 'documents': None, 'is_search_required': None, 'search_queries': None, 'search_results': None, 'finish_reason': 'COMPLETE', 'tool_calls': None, 'chat_history': [Message_User(message='Syntesize the context provided into an answer using modern slang, while still quoting the sources.\\n\\nContext:\\n\\n[\"mountain with a\\\\r\\\\nmere pick and spade. We must assemble for the task great mechanical\\\\r\\\\ncontrivances. And so with our energies of will; a slight tool means a\\\\r\\\\nslight achievement; a huge, aggressive engine, driving on at full blast,\\\\r\\\\nmeans corresponding bigness of results.\\\\r\\\\n\\\\r\\\\n\\\\r\\\\n  How do you tackle your work each day?\\\\r\\\\n    Are you scared of the job you find?\\\\r\\\\n  Do you grapple the task that comes your way\\\\r\\\\n    With a confident, easy mind?\\\\r\\\\n  Do you stand right up to the work ahead\\\\r\\\\n    Or fearfully pause to view it?\\\\r\\\\n  Do you start to toil with a sense of dread\\\\r\\\\n    Or feel that you\\'re going to do it?\\\\r\\\\n\\\\r\\\\n  You can do as much as you think you can,\\\\r\\\\n    But you\\'ll never accomplish more;\\\\r\\\\n  If you\\'re afraid of yourself, young man,\\\\r\\\\n    There\\'s little for you in store.\\\\r\\\\n  For failure comes from the inside first,\\\\r\\\\n    It\\'s there if we only knew it,\\\\r\\\\n  And you can win, though you face the worst,\", \\'Whatever the goal you are seeking, keep trying\\\\r\\\\n    And answer this demon by saying: \"I _can_.\"\\\\r\\\\n\\\\r\\\\n\\\\r\\\\n_Edgar A. Guest._\\\\r\\\\n\\\\r\\\\nFrom \"A Heap o\\\\\\' Livin\\\\\\'.\"\\\\r\\\\n\\\\r\\\\n\\\\r\\\\n\\\\r\\\\n\\\\r\\\\nTHE STRUGGLE\\\\r\\\\n\\\\r\\\\n\\\\r\\\\nWe all dream of being St. Georges and fighting dragons amid glamor and\\\\r\\\\nglory and the applause of the world. But our real fights are mostly\\\\r\\\\ncommonplace, routine battles, where no great victory is ours at the end\\\\r\\\\nof the day. To persist in them requires quiet strength and unfaltering\\\\r\\\\ncourage.\\\\r\\\\n\\\\r\\\\n\\\\r\\\\n  Did you ever want to take your two bare hands,\\\\r\\\\n    And choke out of the world your big success?\\\\r\\\\n  Beat, torn fists bleeding, pathways rugged, grand,\\\\r\\\\n    By sheer brute strength and bigness, nothing less?\\\\r\\\\n  So at the last, triumphant, battered, strong,\\\\r\\\\n    You might gaze down on what you choked and beat,\\\\r\\\\n  And say, \"Ah, world, you\\\\\\'ve wrought to do me wrong;\\\\r\\\\n    And thus have I accepted my defeat.\"\\\\r\\\\n\\\\r\\\\n  Have you ever dreamed of\\', \\'And thus have I accepted my defeat.\"\\\\r\\\\n\\\\r\\\\n  Have you ever dreamed of virile deeds, and vast,\\\\r\\\\n    And then come back from dreams with wobbly knees,\\\\r\\\\n  To find your way (the braver vision past),\\\\r\\\\n    By picking meekly at typewriter keys;\\\\r\\\\n  By bending o\\\\\\'er a ledger, day by day,\\\\r\\\\n    By some machine-like drudging? No great woe\\\\r\\\\n  To grapple with. Slow, painful is the way,\\\\r\\\\n    And still, the bravest fight and conquer so.\\\\r\\\\n\\\\r\\\\n\\\\r\\\\n_Miriam Teichner._\\\\r\\\\n\\\\r\\\\n\\\\r\\\\n\\\\r\\\\n\\\\r\\\\nHOLD FAST\\\\r\\\\n\\\\r\\\\n\\\\r\\\\nA football coach who told his players that their rivals were too strong\\\\r\\\\nfor them would be seeking a new position the next year. If the opposing\\\\r\\\\nteam is formidable, he says so; if his men have their work cut out for\\\\r\\\\nthem, he admits it; but he mentions these things as incitements to\\\\r\\\\neffort. Merely saying of victory that it can be won is among the surest\\\\r\\\\nways of winning it.\\\\r\\\\n\\\\r\\\\n\\\\r\\\\n  When you\\\\\\'re nearly drowned in trouble, and the world is dark\\', \\'Yet he got to the top. Was the world against him?\\\\r\\\\n\\\\r\\\\n  \"I could name you a dozen, yes, hundreds, I guess,\\\\r\\\\n  Of poor boys who\\\\\\'ve patiently climbed to success;\\\\r\\\\n  All boys who were down and who struggled alone,\\\\r\\\\n  Who\\\\\\'d have thought themselves rich if your fortune they\\\\\\'d known;\\\\r\\\\n  Yet they rose in the world you\\\\\\'re so quick to condemn,\\\\r\\\\n  And I\\\\\\'m asking you now, was the world against them?\"\\\\r\\\\n\\\\r\\\\n\\\\r\\\\n_Edgar A. Guest._\\\\r\\\\n\\\\r\\\\nFrom \"Just Folks.\"\\\\r\\\\n\\\\r\\\\n\\\\r\\\\n\\\\r\\\\n\\\\r\\\\nSAY NOT THE STRUGGLE NOUGHT AVAILETH\\\\r\\\\n\\\\r\\\\n\\\\r\\\\nIn any large or prolonged enterprise we are likely to take too limited a\\\\r\\\\nview of the progress we are making. The obstacles do not yield at some\\\\r\\\\ngiven point; we therefore imagine we have made no headway. The poet here\\\\r\\\\nuses three comparisons to show the folly of accepting this hasty and\\\\r\\\\npartial evidence. A soldier may think, from the little part of the\\\\r\\\\nbattle he can see, that the day is going against him; but by holding his\\\\r\\\\nground stoutly he may help his comrades in another quarter to win\\', \\'And you can win, though you face the worst,\\\\r\\\\n    If you feel that you\\\\\\'re going to do it.\\\\r\\\\n\\\\r\\\\n  Success! It\\\\\\'s found in the soul of you,\\\\r\\\\n    And not in the realm of luck!\\\\r\\\\n  The world will furnish the work to do,\\\\r\\\\n    But you must provide the pluck.\\\\r\\\\n  You can do whatever you think you can,\\\\r\\\\n    It\\\\\\'s all in the way you view it.\\\\r\\\\n  It\\\\\\'s all in the start you make, young man:\\\\r\\\\n    You must feel that you\\\\\\'re going to do it.\\\\r\\\\n\\\\r\\\\n  How do you tackle your work each day?\\\\r\\\\n    With confidence clear, or dread?\\\\r\\\\n  What to yourself do you stop and say\\\\r\\\\n    When a new task lies ahead?\\\\r\\\\n  What is the thought that is in your mind?\\\\r\\\\n    Is fear ever running through it?\\\\r\\\\n  If so, just tackle the next you find\\\\r\\\\n    By thinking you\\\\\\'re going to do it.\\\\r\\\\n\\\\r\\\\n\\\\r\\\\n_Edgar A. Guest._\\\\r\\\\n\\\\r\\\\nFrom \"A Heap o\\\\\\' Livin\\\\\\'.\"\\\\r\\\\n\\\\r\\\\n\\\\r\\\\n\\\\r\\\\n\\\\r\\\\nMAN OR MANIKIN\\\\r\\\\n\\\\r\\\\n\\\\r\\\\nThe world does not\\']\\n\\nSyntesized response:\\n', tool_calls=None, role='USER'), Message_Chatbot(message='So, like, there\\'s this dude, Edgar A. Guest, and he\\'s like, \"Yo, if you wanna climb a mountain, you gotta bring more than just a pick and a spade, feel me? You gotta come correct with some major mechanical engineering, straight up.\" And I\\'m like, \"Word?\" But then he drops some knowledge about how our willpower is like a power tool – you bring a basic tool, you get a basic result. You bring a beast machine, you get beast mode results.\\n\\nAnd then he\\'s like, \"How y\\'all approach your daily grind? You scared of the work, or you facing it head-on? You feeling those dread vibes, or you out here manifesting that boss energy?\" And I\\'m just like, \"Sheeesh, deep.\" \\'Cause like, it\\'s true, if you ain\\'t feeling yourself, you ain\\'t gonna get far. That\\'s on period.\\n\\nThen this other poet, Miriam Teichner, slides in and starts spitting fire about how we all wanna be St. George, dragon-slaying and whatnot, but in reality, we out here fighting mundane battles, and it\\'s the persistence and courage that matter in those everyday struggles. Like, you might wanna go ham and flex your muscles, but sometimes you gotta chill and let your skills do the talking, whether it\\'s typing on a keyboard or crunching numbers.\\n\\nAnd then Edgar A. Guest comes back with another verse, basically asking if the world got you down, are you gonna let it hold you back, or are you gonna bounce back and climb to success like so many others? It\\'s all about that mindset, ya feel?\\n\\nSo, in conclusion, these poets are basically reminding us that we gotta bring the right tools, physical and mental, to climb our mountains. We gotta believe in ourselves and not be scared of the work. It\\'s all about that positive mindset, and knowing that we can achieve whatever we set our minds to. Straight facts.', tool_calls=None, role='CHATBOT')], 'prompt': None, 'meta': ApiMeta(api_version=ApiMetaApiVersion(version='1', is_deprecated=None, is_experimental=None), billed_units=ApiMetaBilledUnits(input_tokens=1620, output_tokens=415, search_units=None, classifications=None), tokens=ApiMetaTokens(input_tokens=1813, output_tokens=415), warnings=None), 'response_id': '2b7902f6-b72d-4a7a-b8db-3d74ef156f1b'}, delta=None, logprobs=None, additional_kwargs={})})}"
      ]
     },
     "execution_count": 13,
     "metadata": {},
     "output_type": "execute_result"
    }
   ],
   "source": [
    "intermediates"
   ]
  },
  {
   "cell_type": "code",
   "execution_count": 15,
   "metadata": {},
   "outputs": [
    {
     "data": {
      "text/plain": [
       "ComponentIntermediates(inputs={'topic': 'Working hard to achieve your goals even when you doubt yourself and your chances of success'}, outputs={'prompt': 'Retrieve context about the following topic: Working hard to achieve your goals even when you doubt yourself and your chances of success'})"
      ]
     },
     "execution_count": 15,
     "metadata": {},
     "output_type": "execute_result"
    }
   ],
   "source": [
    "intermediates['dfb467f2-feb4-455d-a00e-b5e94beb15cd']"
   ]
  },
  {
   "cell_type": "markdown",
   "metadata": {},
   "source": [
    "### Another RAG Pipeline\n",
    "\n",
    "Here we setup a RAG pipeline without the query rewriting step.\n",
    "\n",
    "Here we need a way to link the input query to both the retriever and summarizer. \n",
    "\n",
    "We can do this by defining a special `InputComponent`, allowing us to link the inputs to multiple downstream modules."
   ]
  },
  {
   "cell_type": "code",
   "execution_count": 17,
   "metadata": {},
   "outputs": [],
   "source": [
    "from llama_index.core.response_synthesizers import TreeSummarize\n",
    "from llama_index.core.query_pipeline import InputComponent\n",
    "from llama_index.llms.openai import OpenAI\n",
    "\n",
    "input = InputComponent()\n",
    "\n",
    "retriever = index.as_retriever(similarity_top_k=5)\n",
    "\n",
    "llm = OpenAI(model=\"gpt-4o\")\n",
    "\n",
    "tree_summarizer = TreeSummarize(llm=llm)"
   ]
  },
  {
   "cell_type": "code",
   "execution_count": 18,
   "metadata": {},
   "outputs": [],
   "source": [
    "p = QueryPipeline(verbose=True, show_progress=True)\n",
    "\n",
    "p.add_modules(\n",
    "    {\n",
    "        \"input\": input,\n",
    "        \"retriever\": retriever,\n",
    "        \"tree_summarizer\": tree_summarizer,\n",
    "    }\n",
    ")\n",
    "p.add_link(\"input\", \"retriever\")\n",
    "p.add_link(\"input\", \"tree_summarizer\", dest_key=\"query_str\")\n",
    "p.add_link(\"retriever\", \"tree_summarizer\", dest_key=\"nodes\")"
   ]
  },
  {
   "cell_type": "code",
   "execution_count": 19,
   "metadata": {},
   "outputs": [
    {
     "name": "stdout",
     "output_type": "stream",
     "text": [
      "\u001b[1;3;38;2;155;135;227m> Running module input with input: \n",
      "input: Working hard to achieve your goals even when you doubt yourself and your chances of success\n",
      "\n",
      "\u001b[0m\u001b[1;3;38;2;155;135;227m> Running module retriever with input: \n",
      "input: Working hard to achieve your goals even when you doubt yourself and your chances of success\n",
      "\n",
      "\u001b[0m\u001b[1;3;38;2;155;135;227m> Running module tree_summarizer with input: \n",
      "query_str: Working hard to achieve your goals even when you doubt yourself and your chances of success\n",
      "nodes: [NodeWithScore(node=TextNode(id_='2a7697b2-b94f-4a28-96e4-f6ff49ca081d', embedding=None, metadata={'file_path': '../02_Fundamental_Concepts_in_LlamaIndex/data/pg10763.txt', 'file_name': 'pg10763.txt',...\n",
      "\n",
      "\u001b[0m"
     ]
    }
   ],
   "source": [
    "response = p.run(input=\"Working hard to achieve your goals even when you doubt yourself and your chances of success\")"
   ]
  },
  {
   "cell_type": "code",
   "execution_count": 20,
   "metadata": {},
   "outputs": [
    {
     "name": "stdout",
     "output_type": "stream",
     "text": [
      "Achieving your goals despite self-doubt and uncertain chances of success involves persistence, courage, and a strong will. It's about tackling each task with confidence and not letting fear or doubt hold you back. Success often requires quiet strength and unfaltering courage, even when the path is slow and painful. It's important to keep fighting against doubts and fears, as this struggle keeps your spirit strong and hopes alive. Progress may be slow, and victories might seem small, but maintaining a fighting spirit is crucial. Even when circumstances spoil your dreams or plans, continuing to strive and fight can eventually lead to success.\n"
     ]
    }
   ],
   "source": [
    "print(str(response))"
   ]
  },
  {
   "cell_type": "code",
   "execution_count": 21,
   "metadata": {},
   "outputs": [
    {
     "data": {
      "text/plain": [
       "{'response': \"Achieving your goals despite self-doubt and uncertain chances of success involves persistence, courage, and a strong will. It's about tackling each task with confidence and not letting fear or doubt hold you back. Success often requires quiet strength and unfaltering courage, even when the path is slow and painful. It's important to keep fighting against doubts and fears, as this struggle keeps your spirit strong and hopes alive. Progress may be slow, and victories might seem small, but maintaining a fighting spirit is crucial. Even when circumstances spoil your dreams or plans, continuing to strive and fight can eventually lead to success.\",\n",
       " 'source_nodes': [NodeWithScore(node=TextNode(id_='2a7697b2-b94f-4a28-96e4-f6ff49ca081d', embedding=None, metadata={'file_path': '../02_Fundamental_Concepts_in_LlamaIndex/data/pg10763.txt', 'file_name': 'pg10763.txt', 'file_type': 'text/plain', 'file_size': 405245, 'creation_date': '2025-02-04', 'last_modified_date': '2024-11-05'}, excluded_embed_metadata_keys=['file_name', 'file_type', 'file_size', 'creation_date', 'last_modified_date', 'last_accessed_date'], excluded_llm_metadata_keys=['file_name', 'file_type', 'file_size', 'creation_date', 'last_modified_date', 'last_accessed_date'], relationships={<NodeRelationship.SOURCE: '1'>: RelatedNodeInfo(node_id='../02_Fundamental_Concepts_in_LlamaIndex/data/pg10763.txt', node_type=<ObjectType.DOCUMENT: '4'>, metadata={'file_path': '../02_Fundamental_Concepts_in_LlamaIndex/data/pg10763.txt', 'file_name': 'pg10763.txt', 'file_type': 'text/plain', 'file_size': 405245, 'creation_date': '2025-02-04', 'last_modified_date': '2024-11-05'}, hash='03c9452d9f7c86ced8da0f7fb21a2349522f9cab467a0210d1200d4e507d0453'), <NodeRelationship.PREVIOUS: '2'>: RelatedNodeInfo(node_id='dc97a9d6-228f-41c7-a60b-16d54a505c42', node_type=<ObjectType.TEXT: '1'>, metadata={'file_path': '../02_Fundamental_Concepts_in_LlamaIndex/data/pg10763.txt', 'file_name': 'pg10763.txt', 'file_type': 'text/plain', 'file_size': 405245, 'creation_date': '2025-02-04', 'last_modified_date': '2024-11-05'}, hash='c259df40de9ee7d240d394032e35f3ecd6b296880f6b48459df90d18d048d6e3'), <NodeRelationship.NEXT: '3'>: RelatedNodeInfo(node_id='7fdacc92-31d7-4fa3-a98d-60e1ddde78c4', node_type=<ObjectType.TEXT: '1'>, metadata={}, hash='dfe1e5fb3c38c61bdb9e083c0a5768c26c2d4eee8becb36ee33b264cf2419d6f')}, text=\"mountain with a\\r\\nmere pick and spade. We must assemble for the task great mechanical\\r\\ncontrivances. And so with our energies of will; a slight tool means a\\r\\nslight achievement; a huge, aggressive engine, driving on at full blast,\\r\\nmeans corresponding bigness of results.\\r\\n\\r\\n\\r\\n  How do you tackle your work each day?\\r\\n    Are you scared of the job you find?\\r\\n  Do you grapple the task that comes your way\\r\\n    With a confident, easy mind?\\r\\n  Do you stand right up to the work ahead\\r\\n    Or fearfully pause to view it?\\r\\n  Do you start to toil with a sense of dread\\r\\n    Or feel that you're going to do it?\\r\\n\\r\\n  You can do as much as you think you can,\\r\\n    But you'll never accomplish more;\\r\\n  If you're afraid of yourself, young man,\\r\\n    There's little for you in store.\\r\\n  For failure comes from the inside first,\\r\\n    It's there if we only knew it,\\r\\n  And you can win, though you face the worst,\", mimetype='text/plain', start_char_idx=88627, end_char_idx=89524, text_template='{metadata_str}\\n\\n{content}', metadata_template='{key}: {value}', metadata_seperator='\\n'), score=0.45188597),\n",
       "  NodeWithScore(node=TextNode(id_='de3f72b6-26d6-4813-af01-ed7190295012', embedding=None, metadata={'file_path': '../02_Fundamental_Concepts_in_LlamaIndex/data/pg10763.txt', 'file_name': 'pg10763.txt', 'file_type': 'text/plain', 'file_size': 405245, 'creation_date': '2025-02-04', 'last_modified_date': '2024-11-05'}, excluded_embed_metadata_keys=['file_name', 'file_type', 'file_size', 'creation_date', 'last_modified_date', 'last_accessed_date'], excluded_llm_metadata_keys=['file_name', 'file_type', 'file_size', 'creation_date', 'last_modified_date', 'last_accessed_date'], relationships={<NodeRelationship.SOURCE: '1'>: RelatedNodeInfo(node_id='../02_Fundamental_Concepts_in_LlamaIndex/data/pg10763.txt', node_type=<ObjectType.DOCUMENT: '4'>, metadata={'file_path': '../02_Fundamental_Concepts_in_LlamaIndex/data/pg10763.txt', 'file_name': 'pg10763.txt', 'file_type': 'text/plain', 'file_size': 405245, 'creation_date': '2025-02-04', 'last_modified_date': '2024-11-05'}, hash='03c9452d9f7c86ced8da0f7fb21a2349522f9cab467a0210d1200d4e507d0453'), <NodeRelationship.PREVIOUS: '2'>: RelatedNodeInfo(node_id='72d8b647-78ca-4db5-9d46-48cf969a2a70', node_type=<ObjectType.TEXT: '1'>, metadata={'file_path': '../02_Fundamental_Concepts_in_LlamaIndex/data/pg10763.txt', 'file_name': 'pg10763.txt', 'file_type': 'text/plain', 'file_size': 405245, 'creation_date': '2025-02-04', 'last_modified_date': '2024-11-05'}, hash='4260693ab50c46e8eb353c82e65ebc96e3d82fb982d4310906377f5776a3542c'), <NodeRelationship.NEXT: '3'>: RelatedNodeInfo(node_id='3825fdc6-c120-4804-8ee1-24bdc187c885', node_type=<ObjectType.TEXT: '1'>, metadata={}, hash='b180771f04068d16332552504655f3265c261d56cb57543503539db451b55d30')}, text='Whatever the goal you are seeking, keep trying\\r\\n    And answer this demon by saying: \"I _can_.\"\\r\\n\\r\\n\\r\\n_Edgar A. Guest._\\r\\n\\r\\nFrom \"A Heap o\\' Livin\\'.\"\\r\\n\\r\\n\\r\\n\\r\\n\\r\\nTHE STRUGGLE\\r\\n\\r\\n\\r\\nWe all dream of being St. Georges and fighting dragons amid glamor and\\r\\nglory and the applause of the world. But our real fights are mostly\\r\\ncommonplace, routine battles, where no great victory is ours at the end\\r\\nof the day. To persist in them requires quiet strength and unfaltering\\r\\ncourage.\\r\\n\\r\\n\\r\\n  Did you ever want to take your two bare hands,\\r\\n    And choke out of the world your big success?\\r\\n  Beat, torn fists bleeding, pathways rugged, grand,\\r\\n    By sheer brute strength and bigness, nothing less?\\r\\n  So at the last, triumphant, battered, strong,\\r\\n    You might gaze down on what you choked and beat,\\r\\n  And say, \"Ah, world, you\\'ve wrought to do me wrong;\\r\\n    And thus have I accepted my defeat.\"\\r\\n\\r\\n  Have you ever dreamed of', mimetype='text/plain', start_char_idx=166804, end_char_idx=167716, text_template='{metadata_str}\\n\\n{content}', metadata_template='{key}: {value}', metadata_seperator='\\n'), score=0.43589804),\n",
       "  NodeWithScore(node=TextNode(id_='3825fdc6-c120-4804-8ee1-24bdc187c885', embedding=None, metadata={'file_path': '../02_Fundamental_Concepts_in_LlamaIndex/data/pg10763.txt', 'file_name': 'pg10763.txt', 'file_type': 'text/plain', 'file_size': 405245, 'creation_date': '2025-02-04', 'last_modified_date': '2024-11-05'}, excluded_embed_metadata_keys=['file_name', 'file_type', 'file_size', 'creation_date', 'last_modified_date', 'last_accessed_date'], excluded_llm_metadata_keys=['file_name', 'file_type', 'file_size', 'creation_date', 'last_modified_date', 'last_accessed_date'], relationships={<NodeRelationship.SOURCE: '1'>: RelatedNodeInfo(node_id='../02_Fundamental_Concepts_in_LlamaIndex/data/pg10763.txt', node_type=<ObjectType.DOCUMENT: '4'>, metadata={'file_path': '../02_Fundamental_Concepts_in_LlamaIndex/data/pg10763.txt', 'file_name': 'pg10763.txt', 'file_type': 'text/plain', 'file_size': 405245, 'creation_date': '2025-02-04', 'last_modified_date': '2024-11-05'}, hash='03c9452d9f7c86ced8da0f7fb21a2349522f9cab467a0210d1200d4e507d0453'), <NodeRelationship.PREVIOUS: '2'>: RelatedNodeInfo(node_id='de3f72b6-26d6-4813-af01-ed7190295012', node_type=<ObjectType.TEXT: '1'>, metadata={'file_path': '../02_Fundamental_Concepts_in_LlamaIndex/data/pg10763.txt', 'file_name': 'pg10763.txt', 'file_type': 'text/plain', 'file_size': 405245, 'creation_date': '2025-02-04', 'last_modified_date': '2024-11-05'}, hash='ef8c65528762a1935186d1775b71da2821d73a772e570879b36d41ebbb55a656'), <NodeRelationship.NEXT: '3'>: RelatedNodeInfo(node_id='7ca12c71-00d9-4b44-b6db-fee50c601357', node_type=<ObjectType.TEXT: '1'>, metadata={}, hash='0b4568b7ab9df864ca3d6b70110ed6aea4ce8530d63cbeb98871be98f025881e')}, text='And thus have I accepted my defeat.\"\\r\\n\\r\\n  Have you ever dreamed of virile deeds, and vast,\\r\\n    And then come back from dreams with wobbly knees,\\r\\n  To find your way (the braver vision past),\\r\\n    By picking meekly at typewriter keys;\\r\\n  By bending o\\'er a ledger, day by day,\\r\\n    By some machine-like drudging? No great woe\\r\\n  To grapple with. Slow, painful is the way,\\r\\n    And still, the bravest fight and conquer so.\\r\\n\\r\\n\\r\\n_Miriam Teichner._\\r\\n\\r\\n\\r\\n\\r\\n\\r\\nHOLD FAST\\r\\n\\r\\n\\r\\nA football coach who told his players that their rivals were too strong\\r\\nfor them would be seeking a new position the next year. If the opposing\\r\\nteam is formidable, he says so; if his men have their work cut out for\\r\\nthem, he admits it; but he mentions these things as incitements to\\r\\neffort. Merely saying of victory that it can be won is among the surest\\r\\nways of winning it.\\r\\n\\r\\n\\r\\n  When you\\'re nearly drowned in trouble, and the world is dark', mimetype='text/plain', start_char_idx=167650, end_char_idx=168565, text_template='{metadata_str}\\n\\n{content}', metadata_template='{key}: {value}', metadata_seperator='\\n'), score=0.4151551),\n",
       "  NodeWithScore(node=TextNode(id_='1651e9e2-f80c-4597-b369-df3d675192ef', embedding=None, metadata={'file_path': '../02_Fundamental_Concepts_in_LlamaIndex/data/pg10763.txt', 'file_name': 'pg10763.txt', 'file_type': 'text/plain', 'file_size': 405245, 'creation_date': '2025-02-04', 'last_modified_date': '2024-11-05'}, excluded_embed_metadata_keys=['file_name', 'file_type', 'file_size', 'creation_date', 'last_modified_date', 'last_accessed_date'], excluded_llm_metadata_keys=['file_name', 'file_type', 'file_size', 'creation_date', 'last_modified_date', 'last_accessed_date'], relationships={<NodeRelationship.SOURCE: '1'>: RelatedNodeInfo(node_id='../02_Fundamental_Concepts_in_LlamaIndex/data/pg10763.txt', node_type=<ObjectType.DOCUMENT: '4'>, metadata={'file_path': '../02_Fundamental_Concepts_in_LlamaIndex/data/pg10763.txt', 'file_name': 'pg10763.txt', 'file_type': 'text/plain', 'file_size': 405245, 'creation_date': '2025-02-04', 'last_modified_date': '2024-11-05'}, hash='03c9452d9f7c86ced8da0f7fb21a2349522f9cab467a0210d1200d4e507d0453'), <NodeRelationship.PREVIOUS: '2'>: RelatedNodeInfo(node_id='82a48083-0e05-47d5-8e89-966110da922c', node_type=<ObjectType.TEXT: '1'>, metadata={'file_path': '../02_Fundamental_Concepts_in_LlamaIndex/data/pg10763.txt', 'file_name': 'pg10763.txt', 'file_type': 'text/plain', 'file_size': 405245, 'creation_date': '2025-02-04', 'last_modified_date': '2024-11-05'}, hash='99a17bfaf8b1510b0c0823cc7397a2c25567c515dee03ab73fa59d9f40eab4d7'), <NodeRelationship.NEXT: '3'>: RelatedNodeInfo(node_id='65e2e877-11f5-469e-8a32-5bdac0617241', node_type=<ObjectType.TEXT: '1'>, metadata={}, hash='a38a6b1885765c3bb1929860f99393e75a50ddf27ee940747e280ae1481ba0f6')}, text=\"never clear!\\r\\n  I must forever be on guard\\r\\n    Against the doubts that skulk along;\\r\\n  I get ahead by fighting hard,\\r\\n    But fighting keeps my spirit strong.\\r\\n\\r\\n  I hear the croakings of Despair,\\r\\n    The dark predictions of the weak;\\r\\n  I find myself pursued by Care,\\r\\n    No matter what the end I seek;\\r\\n  My victories are small and few,\\r\\n    It matters not how hard I strive;\\r\\n  Each day the fight begins anew,\\r\\n    But fighting keeps my hopes alive.\\r\\n\\r\\n  My dreams are spoiled by circumstance,\\r\\n    My plans are wrecked by Fate or Luck;\\r\\n  Some hour, perhaps, will bring my chance,\\r\\n    But that great hour has never struck;\\r\\n  My progress has been slow and hard,\\r\\n    I've had to climb and crawl and swim,\\r\\n  Fighting for every stubborn yard,\\r\\n    But I have kept in fighting trim.\\r\\n\\r\\n  I have to fight my doubts away,\\r\\n    And be on guard against my fears;\\r\\n  The feeble croaking of Dismay\\r\\n    Has\", mimetype='text/plain', start_char_idx=162626, end_char_idx=163532, text_template='{metadata_str}\\n\\n{content}', metadata_template='{key}: {value}', metadata_seperator='\\n'), score=0.4055341),\n",
       "  NodeWithScore(node=TextNode(id_='a5f68ae7-7161-4530-b3e2-ac61a036215c', embedding=None, metadata={'file_path': '../02_Fundamental_Concepts_in_LlamaIndex/data/pg10763.txt', 'file_name': 'pg10763.txt', 'file_type': 'text/plain', 'file_size': 405245, 'creation_date': '2025-02-04', 'last_modified_date': '2024-11-05'}, excluded_embed_metadata_keys=['file_name', 'file_type', 'file_size', 'creation_date', 'last_modified_date', 'last_accessed_date'], excluded_llm_metadata_keys=['file_name', 'file_type', 'file_size', 'creation_date', 'last_modified_date', 'last_accessed_date'], relationships={<NodeRelationship.SOURCE: '1'>: RelatedNodeInfo(node_id='../02_Fundamental_Concepts_in_LlamaIndex/data/pg10763.txt', node_type=<ObjectType.DOCUMENT: '4'>, metadata={'file_path': '../02_Fundamental_Concepts_in_LlamaIndex/data/pg10763.txt', 'file_name': 'pg10763.txt', 'file_type': 'text/plain', 'file_size': 405245, 'creation_date': '2025-02-04', 'last_modified_date': '2024-11-05'}, hash='03c9452d9f7c86ced8da0f7fb21a2349522f9cab467a0210d1200d4e507d0453'), <NodeRelationship.PREVIOUS: '2'>: RelatedNodeInfo(node_id='6663d6b0-6166-4659-b35d-17bab94d3aa1', node_type=<ObjectType.TEXT: '1'>, metadata={'file_path': '../02_Fundamental_Concepts_in_LlamaIndex/data/pg10763.txt', 'file_name': 'pg10763.txt', 'file_type': 'text/plain', 'file_size': 405245, 'creation_date': '2025-02-04', 'last_modified_date': '2024-11-05'}, hash='186253d3cf5c302e7337b1e9d64c7dbee82d4ceffe8d025d331b5923764fca71'), <NodeRelationship.NEXT: '3'>: RelatedNodeInfo(node_id='375ebd70-72a7-483d-bf92-a981d08ff345', node_type=<ObjectType.TEXT: '1'>, metadata={}, hash='22da648f42ac03eaa5168f2b143b4ef7a62154118aec4af5c4e2e4a1df2d4565')}, text='Yet he got to the top. Was the world against him?\\r\\n\\r\\n  \"I could name you a dozen, yes, hundreds, I guess,\\r\\n  Of poor boys who\\'ve patiently climbed to success;\\r\\n  All boys who were down and who struggled alone,\\r\\n  Who\\'d have thought themselves rich if your fortune they\\'d known;\\r\\n  Yet they rose in the world you\\'re so quick to condemn,\\r\\n  And I\\'m asking you now, was the world against them?\"\\r\\n\\r\\n\\r\\n_Edgar A. Guest._\\r\\n\\r\\nFrom \"Just Folks.\"\\r\\n\\r\\n\\r\\n\\r\\n\\r\\nSAY NOT THE STRUGGLE NOUGHT AVAILETH\\r\\n\\r\\n\\r\\nIn any large or prolonged enterprise we are likely to take too limited a\\r\\nview of the progress we are making. The obstacles do not yield at some\\r\\ngiven point; we therefore imagine we have made no headway. The poet here\\r\\nuses three comparisons to show the folly of accepting this hasty and\\r\\npartial evidence. A soldier may think, from the little part of the\\r\\nbattle he can see, that the day is going against him; but by holding his\\r\\nground stoutly he may help his comrades in another quarter to win', mimetype='text/plain', start_char_idx=55394, end_char_idx=56379, text_template='{metadata_str}\\n\\n{content}', metadata_template='{key}: {value}', metadata_seperator='\\n'), score=0.39387605)],\n",
       " 'metadata': {'2a7697b2-b94f-4a28-96e4-f6ff49ca081d': {'file_path': '../02_Fundamental_Concepts_in_LlamaIndex/data/pg10763.txt',\n",
       "   'file_name': 'pg10763.txt',\n",
       "   'file_type': 'text/plain',\n",
       "   'file_size': 405245,\n",
       "   'creation_date': '2025-02-04',\n",
       "   'last_modified_date': '2024-11-05'},\n",
       "  'de3f72b6-26d6-4813-af01-ed7190295012': {'file_path': '../02_Fundamental_Concepts_in_LlamaIndex/data/pg10763.txt',\n",
       "   'file_name': 'pg10763.txt',\n",
       "   'file_type': 'text/plain',\n",
       "   'file_size': 405245,\n",
       "   'creation_date': '2025-02-04',\n",
       "   'last_modified_date': '2024-11-05'},\n",
       "  '3825fdc6-c120-4804-8ee1-24bdc187c885': {'file_path': '../02_Fundamental_Concepts_in_LlamaIndex/data/pg10763.txt',\n",
       "   'file_name': 'pg10763.txt',\n",
       "   'file_type': 'text/plain',\n",
       "   'file_size': 405245,\n",
       "   'creation_date': '2025-02-04',\n",
       "   'last_modified_date': '2024-11-05'},\n",
       "  '1651e9e2-f80c-4597-b369-df3d675192ef': {'file_path': '../02_Fundamental_Concepts_in_LlamaIndex/data/pg10763.txt',\n",
       "   'file_name': 'pg10763.txt',\n",
       "   'file_type': 'text/plain',\n",
       "   'file_size': 405245,\n",
       "   'creation_date': '2025-02-04',\n",
       "   'last_modified_date': '2024-11-05'},\n",
       "  'a5f68ae7-7161-4530-b3e2-ac61a036215c': {'file_path': '../02_Fundamental_Concepts_in_LlamaIndex/data/pg10763.txt',\n",
       "   'file_name': 'pg10763.txt',\n",
       "   'file_type': 'text/plain',\n",
       "   'file_size': 405245,\n",
       "   'creation_date': '2025-02-04',\n",
       "   'last_modified_date': '2024-11-05'}},\n",
       " '__pydantic_initialised__': True}"
      ]
     },
     "execution_count": 21,
     "metadata": {},
     "output_type": "execute_result"
    }
   ],
   "source": [
    "response.__dict__"
   ]
  },
  {
   "cell_type": "code",
   "execution_count": null,
   "metadata": {},
   "outputs": [],
   "source": []
  }
 ],
 "metadata": {
  "kernelspec": {
   "display_name": "lil_llama_index",
   "language": "python",
   "name": "python3"
  },
  "language_info": {
   "codemirror_mode": {
    "name": "ipython",
    "version": 3
   },
   "file_extension": ".py",
   "mimetype": "text/x-python",
   "name": "python",
   "nbconvert_exporter": "python",
   "pygments_lexer": "ipython3",
   "version": "3.10.16"
  }
 },
 "nbformat": 4,
 "nbformat_minor": 2
}
