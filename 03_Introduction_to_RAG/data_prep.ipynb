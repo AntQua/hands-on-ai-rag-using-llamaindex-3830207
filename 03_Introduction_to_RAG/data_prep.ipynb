{
 "cells": [
  {
   "cell_type": "code",
   "execution_count": 2,
   "metadata": {},
   "outputs": [],
   "source": [
    "import os\n",
    "import getpass\n",
    "\n",
    "CO_API_KEY = os.environ['CO_API_KEY'] or getpass(\"Enter your Cohere API key: \")"
   ]
  },
  {
   "cell_type": "code",
   "execution_count": 3,
   "metadata": {},
   "outputs": [],
   "source": [
    "from llama_index.core import (\n",
    "    SimpleDirectoryReader,\n",
    "    VectorStoreIndex,\n",
    "    download_loader,\n",
    "    RAKEKeywordTableIndex,\n",
    ")"
   ]
  },
  {
   "cell_type": "code",
   "execution_count": 9,
   "metadata": {},
   "outputs": [],
   "source": [
    "from llama_index.llms.cohere import Cohere\n",
    "from llama_index.embeddings.cohere import CohereEmbedding\n",
    "llm=Cohere(model=\"command-r\")\n",
    "\n",
    "embed_model = CohereEmbedding()"
   ]
  },
  {
   "cell_type": "code",
   "execution_count": 6,
   "metadata": {},
   "outputs": [],
   "source": [
    "reader = SimpleDirectoryReader(input_files=[\"/Users/harpreetsahota/workspace/hands-on-ai-rag-using-llamaindex-3830207/data/almanack_of_naval_ravikant.pdf\"])\n",
    "data = reader.load_data()"
   ]
  },
  {
   "cell_type": "code",
   "execution_count": 23,
   "metadata": {},
   "outputs": [
    {
     "data": {
      "text/plain": [
       "{'id_': '61eb10f0-d80e-4c27-9d2f-0cfb4a3a2a57',\n",
       " 'embedding': None,\n",
       " 'metadata': {'page_label': '30',\n",
       "  'file_name': 'almanack_of_naval_ravikant.pdf',\n",
       "  'file_path': '/Users/harpreetsahota/workspace/hands-on-ai-rag-using-llamaindex-3830207/data/almanack_of_naval_ravikant.pdf',\n",
       "  'file_type': 'application/pdf',\n",
       "  'file_size': 1884309,\n",
       "  'creation_date': '2024-03-28',\n",
       "  'last_modified_date': '2024-03-21'},\n",
       " 'excluded_embed_metadata_keys': ['file_name',\n",
       "  'file_type',\n",
       "  'file_size',\n",
       "  'creation_date',\n",
       "  'last_modified_date',\n",
       "  'last_accessed_date'],\n",
       " 'excluded_llm_metadata_keys': ['file_name',\n",
       "  'file_type',\n",
       "  'file_size',\n",
       "  'creation_date',\n",
       "  'last_modified_date',\n",
       "  'last_accessed_date'],\n",
       " 'relationships': {},\n",
       " 'text': '30 · THE ALMANACK OF NAVAL RAVIKANTUNDERSTAND HOW WEALTH IS CREATED\\nI like to think that if I lost all my money and you dropped me \\non a random street in any English-speaking country, within \\nfive or ten years I’d be wealthy again because it’ s just a skillset \\nI’ve developed that anyone can develop.\\xa0[78]\\nIt’ s not really about hard work. You can work in a restaurant \\neighty hours a week, and you’re not going to get rich. Getting \\nrich is about knowing what to do, who to do it with, and when \\nto do it. It is much more about understanding than purely hard \\nwork. Yes, hard work matters, and you can’t skimp on it. But \\nit has to be directed in the right way.\\nIf you don’t know yet what you should work on, the most \\nimportant thing is to figure it out. You should not grind at a \\nlot of hard work until you figure out what you should be work -\\ning on.\\nI came up with the principles in my tweetstorm (below) for \\nmyself when I was really young, around thirteen or fourteen. \\nI’ve been carrying them in my head for thirty years, and I’ve \\nbeen living them. Over time (sadly or fortunately), the thing I \\ngot really good at was looking at businesses and figuring out \\nthe point of maximum leverage to actually create wealth and \\ncapture some of that created wealth.\\nThis is exactly what I did my famous tweetstorm about. Of \\ncourse, every one of these tweets can be extrapolated into an \\nhour’ s worth of conversation. The tweetstorm below is a good \\nstarting point. The tweetstorm tries to be information-dense, \\nvery concise, high-impact, and timeless. It has all the informa -\\ntion and principles, so if you absorb these and you work hard \\nover ten years, you’ll get what you want.\\xa0[77]',\n",
       " 'start_char_idx': None,\n",
       " 'end_char_idx': None,\n",
       " 'text_template': '{metadata_str}\\n\\n{content}',\n",
       " 'metadata_template': '{key}: {value}',\n",
       " 'metadata_seperator': '\\n'}"
      ]
     },
     "execution_count": 23,
     "metadata": {},
     "output_type": "execute_result"
    }
   ],
   "source": [
    "data[29].__dict__"
   ]
  },
  {
   "cell_type": "code",
   "execution_count": 11,
   "metadata": {},
   "outputs": [],
   "source": [
    "index = VectorStoreIndex.from_documents(data, embed_model=embed_model, )\n",
    "query_engine = index.as_query_engine(\n",
    "    llm=llm,\n",
    "    embed_model=embed_model, \n",
    "    streaming=True, similarity_top_k=3\n",
    "    )"
   ]
  },
  {
   "cell_type": "code",
   "execution_count": 12,
   "metadata": {},
   "outputs": [
    {
     "name": "stdout",
     "output_type": "stream",
     "text": [
      "You can get rich without getting lucky by seeking wealth instead of money or status. Wealth is having assets that earn for you even while you sleep. To get rich, give society what it wants but does not know how to get, at scale. You can also get an edge over others by becoming the best in your field, which will cause opportunity to seek you out. Luck then becomes destiny."
     ]
    }
   ],
   "source": [
    "response = query_engine.query(\"How can you get rich without getting lucky?\")\n",
    "response.print_response_stream()"
   ]
  },
  {
   "cell_type": "code",
   "execution_count": 13,
   "metadata": {},
   "outputs": [
    {
     "name": "stdout",
     "output_type": "stream",
     "text": [
      "-----\n",
      "Text:\t BUILDING  WEALTH ·  31How to Get Rich (Without Getting Lucky): ↓ Seek wealth, not money or status. Wealth is having assets  that earn while you sleep. Money is how we transfer time  and wealth. Status is your place in the social hierarchy. ↓ Understand ethical wealth creation is possible. If you secretly  despise wealth, it will elude you. ↓ Ignore people playing status games. They gain status by  attacking people playing wealth creation games. ↓ You’re not going to get rich renting out your time. You must  own equity—a piece of a business—to gain your financial  freedom. ↓ You will get rich by giving society what it wants but does not  yet know how to get. At scale. ↓ ...\n",
      "Metadata:\t {'page_label': '31', 'file_name': 'almanack_of_naval_ravikant.pdf', 'file_path': '/Users/harpreetsahota/workspace/hands-on-ai-rag-using-llamaindex-3830207/data/almanack_of_naval_ravikant.pdf', 'file_type': 'application/pdf', 'file_size': 1884309, 'creation_date': '2024-03-28', 'last_modified_date': '2024-03-21'}\n",
      "Score:\t 0.654\n",
      "-----\n",
      "Text:\t 84 · THE ALMANACK OF NAVAL RAVIKANTfinds a sunken treasure ship off the coast they can’t get to.  Well, their luck just became your luck, because they’re going  to come to you to get to the treasure, and you’re going to get  paid for it. This is an extreme example, but it shows how one person had  blind luck finding the treasure. Them coming to you to extract  it and give you half is not blind luck. You created your own luck.  You put yourself in a position to capitalize on luck or to attract  luck when nobody else created the opportunity for themselves.  To get rich without getting lucky, we want to be deterministic.  We don’t want to leave it to chance. [78] Ways to get lucky: • Hope luck finds you. • Hustle until you stumble into it. • Prepare the mind and be sensitive to chances others miss. • Become the best at what you do. Refine what you do until  this is true. Opportunity will seek you out. Luck becomes  your destiny. It starts becoming so deterministic, it stops being luck. Th ...\n",
      "Metadata:\t {'page_label': '84', 'file_name': 'almanack_of_naval_ravikant.pdf', 'file_path': '/Users/harpreetsahota/workspace/hands-on-ai-rag-using-llamaindex-3830207/data/almanack_of_naval_ravikant.pdf', 'file_type': 'application/pdf', 'file_size': 1884309, 'creation_date': '2024-03-28', 'last_modified_date': '2024-03-21'}\n",
      "Score:\t 0.586\n",
      "-----\n",
      "Text:\t BUILDING  WEALTH ·  83In 1,000 parallel universes, you want to be wealthy in 999 of  them. You don’t want to be wealthy in the fifty of them where  you got lucky, so we want to factor luck out of it. But getting lucky would help, right? Just recently, Babak Nivi, my co-founder, and I were talking  on Twitter about how one gets lucky, and there are really four  kinds of luck we were talking about. The first kind of luck is blind luck where one just gets lucky  because something completely out of their control happened.  This includes fortune, fate, etc. Then, there’ s luck through persistence, hard work, hustle, and  motion. This is when you’re running around creating opportu - nities. You’re generating a lot of energy, you’re doing a lot to stir  things up. It’ s almost like mixing a petri dish or mixing a bunch  of reagents and seeing what combines. You’re just generating  enough force, hustle, and energy for luck to find you. A third way is you become very good at spotting luck. If y ...\n",
      "Metadata:\t {'page_label': '83', 'file_name': 'almanack_of_naval_ravikant.pdf', 'file_path': '/Users/harpreetsahota/workspace/hands-on-ai-rag-using-llamaindex-3830207/data/almanack_of_naval_ravikant.pdf', 'file_type': 'application/pdf', 'file_size': 1884309, 'creation_date': '2024-03-28', 'last_modified_date': '2024-03-21'}\n",
      "Score:\t 0.549\n"
     ]
    }
   ],
   "source": [
    "for node in response.source_nodes:\n",
    "    print(\"-----\")\n",
    "    text_fmt = node.node.get_content().strip().replace(\"\\n\", \" \")[:1000]\n",
    "    print(f\"Text:\\t {text_fmt} ...\")\n",
    "    print(f\"Metadata:\\t {node.node.metadata}\")\n",
    "    print(f\"Score:\\t {node.score:.3f}\")"
   ]
  },
  {
   "cell_type": "code",
   "execution_count": null,
   "metadata": {},
   "outputs": [],
   "source": []
  }
 ],
 "metadata": {
  "kernelspec": {
   "display_name": "lil_llama_index",
   "language": "python",
   "name": "python3"
  },
  "language_info": {
   "codemirror_mode": {
    "name": "ipython",
    "version": 3
   },
   "file_extension": ".py",
   "mimetype": "text/x-python",
   "name": "python",
   "nbconvert_exporter": "python",
   "pygments_lexer": "ipython3",
   "version": "3.10.14"
  }
 },
 "nbformat": 4,
 "nbformat_minor": 2
}
