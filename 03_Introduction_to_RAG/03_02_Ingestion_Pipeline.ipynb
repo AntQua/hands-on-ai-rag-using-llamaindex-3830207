{
 "cells": [
  {
   "cell_type": "code",
   "execution_count": null,
   "metadata": {},
   "outputs": [],
   "source": [
    "%%capture\n",
    "!pip install llama-index==0.10.37 llama-index-embeddings-openai==0.1.9 qdrant-client==1.9.1 llama-index-vector-stores-qdrant==0.2.8 llama-index-llms-cohere==0.2.0"
   ]
  },
  {
   "cell_type": "code",
   "execution_count": 1,
   "metadata": {},
   "outputs": [
    {
     "data": {
      "text/plain": [
       "True"
      ]
     },
     "execution_count": 1,
     "metadata": {},
     "output_type": "execute_result"
    }
   ],
   "source": [
    "import os\n",
    "from dotenv import load_dotenv\n",
    "from getpass import getpass\n",
    "\n",
    "import nest_asyncio\n",
    "\n",
    "nest_asyncio.apply()\n",
    "load_dotenv()"
   ]
  },
  {
   "cell_type": "code",
   "execution_count": 2,
   "metadata": {},
   "outputs": [],
   "source": [
    "CO_API_KEY = os.environ['CO_API_KEY'] or getpass(\"Enter your Cohere API key: \")"
   ]
  },
  {
   "cell_type": "code",
   "execution_count": 3,
   "metadata": {},
   "outputs": [],
   "source": [
    "OPENAI_API_KEY = os.environ['OPENAI_API_KEY'] or getpass(\"Enter your OpenAI API key: \")"
   ]
  },
  {
   "cell_type": "code",
   "execution_count": 4,
   "metadata": {},
   "outputs": [],
   "source": [
    "QDRANT_URL = os.environ['QDRANT_URL'] or getpass(\"Enter your Qdrant URL:\")"
   ]
  },
  {
   "cell_type": "code",
   "execution_count": 5,
   "metadata": {},
   "outputs": [],
   "source": [
    "QDRANT_API_KEY = os.environ['QDRANT_API_KEY'] or  getpass(\"Enter your Qdrant API Key:\")"
   ]
  },
  {
   "cell_type": "code",
   "execution_count": 6,
   "metadata": {},
   "outputs": [
    {
     "name": "stderr",
     "output_type": "stream",
     "text": [
      "[nltk_data] Downloading package punkt_tab to\n",
      "[nltk_data]     /opt/conda/envs/lil_llama_index/lib/python3.10/site-\n",
      "[nltk_data]     packages/llama_index/core/_static/nltk_cache...\n",
      "[nltk_data]   Package punkt_tab is already up-to-date!\n"
     ]
    }
   ],
   "source": [
    "from llama_index.core.settings import Settings\n",
    "from llama_index.llms.cohere import Cohere\n",
    "from llama_index.embeddings.openai import OpenAIEmbedding\n",
    "\n",
    "Settings.llm = Cohere(model=\"command-r-plus\", api_key=CO_API_KEY)\n",
    "\n",
    "Settings.embed_model = OpenAIEmbedding(model_name=\"text-embedding-3-small\")"
   ]
  },
  {
   "cell_type": "markdown",
   "metadata": {},
   "source": [
    "# Ingestion Pipeline\n",
    "\n",
    "- 🔄 **IngestionPipeline Overview**: Utilizes `Transformations` applied to input data, modifying data into nodes, which are returned or inserted to a vector database.\n",
    "\n",
    "- 💾 **Caching Mechanism**: Each node+transformation pair is cached, enhancing efficiency for identical subsequent operations by utilizing cached results.\n",
    "\n",
    "\n",
    "### Using an `IngestionPipeline`\n",
    "\n",
    "First, let's read in some data. "
   ]
  },
  {
   "cell_type": "code",
   "execution_count": 7,
   "metadata": {},
   "outputs": [],
   "source": [
    "from llama_index.core import SimpleDirectoryReader\n",
    "\n",
    "documents = SimpleDirectoryReader(\n",
    "    input_files = [\"../02_Fundamental_Concepts_in_LlamaIndex/data/pg10763.txt\"], \n",
    "    filename_as_id=True).load_data()"
   ]
  },
  {
   "cell_type": "markdown",
   "metadata": {},
   "source": [
    "# Ingestion Pipeline with Document Management\n",
    "\n",
    "\n",
    " •  💾 **Caching in IngestionPipeline**: Hashes and stores each node + transformation combination to speed up future processes with identical data.\n",
    "\n",
    " •  📁 **Local Cache Management**: The input nodes list and transformation pair are cached in the pipeline. When we apply the same transformation to that list of nodes again, the output nodes are retrieved from the cache.\n",
    "\n",
    " •  📚 **Docstore Attachment**:  Enables document management in the ingestion pipeline, using `doc_id` or `node.ref_doc_id` for identification. Prevents running a transformation on the same document multiple times by using the document ID and the hash of the document content to manage duplicates.\n",
    "\n",
    " •  🗂️ **Duplicate Handling**:\n",
    "  - Maintains a `doc_id` to `document_hash` map to identify duplicates.\n",
    "\n",
    "  - Re-processes documents if the same `doc_id` is found with a changed hash.\n",
    "\n",
    "  - Skips documents if the same `doc_id` is found but the hash remains unchanged.\n",
    "\n",
    " •  🚫 **Without Vector Store**:\n",
    "  - Limited to checking and removing duplicate inputs.\n",
    "\n",
    " •  ✨ **With Vector Store**:\n",
    "  - Enables handling of upserts for updated documents, offering advanced management capabilities."
   ]
  },
  {
   "cell_type": "code",
   "execution_count": 8,
   "metadata": {},
   "outputs": [],
   "source": [
    "from qdrant_client import QdrantClient\n",
    "\n",
    "from llama_index.core import StorageContext, VectorStoreIndex\n",
    "from llama_index.core.ingestion import IngestionCache, IngestionPipeline\n",
    "from llama_index.core.node_parser import TokenTextSplitter\n",
    "from llama_index.core.storage.docstore import SimpleDocumentStore\n",
    "from llama_index.vector_stores.qdrant import QdrantVectorStore\n",
    "\n",
    "client = QdrantClient(\n",
    "    url=QDRANT_URL, \n",
    "    api_key=QDRANT_API_KEY,\n",
    ")\n",
    "\n",
    "vector_store = QdrantVectorStore(\n",
    "    client=client, \n",
    "    collection_name=\"it_can_be_done\")\n",
    "\n",
    "ingest_cache = IngestionCache(\n",
    "    collection=\"it_can_be_done\",\n",
    ")\n",
    "\n",
    "# create pipeline with transformations\n",
    "pipeline = IngestionPipeline(\n",
    "    transformations=[\n",
    "        TokenTextSplitter(chunk_size=256, chunk_overlap=16),\n",
    "        Settings.embed_model\n",
    "    ],\n",
    "    docstore=SimpleDocumentStore(),\n",
    "    vector_store=vector_store,\n",
    "    cache=ingest_cache,\n",
    ")\n",
    "\n",
    "# run the pipeline\n",
    "nodes = pipeline.run(documents = documents)"
   ]
  },
  {
   "cell_type": "code",
   "execution_count": 9,
   "metadata": {},
   "outputs": [
    {
     "data": {
      "text/plain": [
       "dict_keys(['id_', 'embedding', 'metadata', 'excluded_embed_metadata_keys', 'excluded_llm_metadata_keys', 'relationships', 'text', 'mimetype', 'start_char_idx', 'end_char_idx', 'text_template', 'metadata_template', 'metadata_seperator'])"
      ]
     },
     "execution_count": 9,
     "metadata": {},
     "output_type": "execute_result"
    }
   ],
   "source": [
    "nodes[0].__dict__.keys()"
   ]
  },
  {
   "cell_type": "code",
   "execution_count": 10,
   "metadata": {},
   "outputs": [],
   "source": [
    "index = VectorStoreIndex.from_vector_store(vector_store=vector_store)"
   ]
  },
  {
   "cell_type": "code",
   "execution_count": 11,
   "metadata": {},
   "outputs": [],
   "source": [
    "retriever = index.as_retriever(\n",
    "    similarity_top_k=7, \n",
    "    return_sources=True\n",
    "    )"
   ]
  },
  {
   "cell_type": "code",
   "execution_count": 12,
   "metadata": {},
   "outputs": [],
   "source": [
    "retrieved_nodes = retriever.retrieve(\"Poems about starting where you stand, and not making dreams your master\")"
   ]
  },
  {
   "cell_type": "code",
   "execution_count": 13,
   "metadata": {},
   "outputs": [
    {
     "data": {
      "text/plain": [
       "[NodeWithScore(node=TextNode(id_='dd774cd3-f86e-49d3-ae4a-3a762e74ce17', embedding=None, metadata={'file_path': '../02_Fundamental_Concepts_in_LlamaIndex/data/pg10763.txt', 'file_name': 'pg10763.txt', 'file_type': 'text/plain', 'file_size': 405245, 'creation_date': '2025-02-04', 'last_modified_date': '2024-11-05'}, excluded_embed_metadata_keys=['file_name', 'file_type', 'file_size', 'creation_date', 'last_modified_date', 'last_accessed_date'], excluded_llm_metadata_keys=['file_name', 'file_type', 'file_size', 'creation_date', 'last_modified_date', 'last_accessed_date'], relationships={<NodeRelationship.SOURCE: '1'>: RelatedNodeInfo(node_id='../02_Fundamental_Concepts_in_LlamaIndex/data/pg10763.txt', node_type=<ObjectType.DOCUMENT: '4'>, metadata={'file_path': '../02_Fundamental_Concepts_in_LlamaIndex/data/pg10763.txt', 'file_name': 'pg10763.txt', 'file_type': 'text/plain', 'file_size': 405245, 'creation_date': '2025-02-04', 'last_modified_date': '2024-11-05'}, hash='03c9452d9f7c86ced8da0f7fb21a2349522f9cab467a0210d1200d4e507d0453'), <NodeRelationship.PREVIOUS: '2'>: RelatedNodeInfo(node_id='ef5e2ead-9c21-4f72-a42b-88ecfabc4578', node_type=<ObjectType.TEXT: '1'>, metadata={'file_path': '../02_Fundamental_Concepts_in_LlamaIndex/data/pg10763.txt', 'file_name': 'pg10763.txt', 'file_type': 'text/plain', 'file_size': 405245, 'creation_date': '2025-02-04', 'last_modified_date': '2024-11-05'}, hash='4da04646b277e47e736d102032ff14be41ef7f6403e9988687d9a4fd8c1b7a4e'), <NodeRelationship.NEXT: '3'>: RelatedNodeInfo(node_id='8cdd0fba-b46f-42f1-9b5a-d9647d741ab0', node_type=<ObjectType.TEXT: '1'>, metadata={}, hash='64e2a70442e8c469e26af6eeb7d971e07576325ca93a5b5e16c680dc1db2e206')}, text='the right way.\"\\r\\n\\r\\n  Then shall I see it not too great, nor small\\r\\n    To suit my spirit and to prove my powers;\\r\\n    Then shall I cheerful greet the laboring hours,\\r\\n  And cheerful turn, when the long shadows fall\\r\\n  At eventide, to play and love and rest,\\r\\n  Because I know for me my work is best.\\r\\n\\r\\n\\r\\n_Henry Van Dyke._\\r\\n\\r\\nFrom \"Collected Poems.\"\\r\\n\\r\\n\\r\\n\\r\\n\\r\\nSTART WHERE YOU STAND\\r\\n\\r\\n\\r\\nWhen a man who had been in the penitentiary applied to Henry Ford for\\r\\nemployment, he started to tell Mr. Ford his story. \"Never mind,\" said\\r\\nMr. Ford, \"I don\\'t care about the past. Start where you stand!\"--Author\\'s\\r\\nnote.\\r\\n\\r\\n\\r\\n  Start where you stand and never mind the past,\\r\\n    The past won\\'t help you in beginning new,\\r\\n  If you have left it all behind at last\\r\\n    Why, that\\'s enough, you\\'re done with it, you\\'re through;\\r\\n  This is another chapter in the book,\\r\\n    This is another race that you', mimetype='text/plain', start_char_idx=112007, end_char_idx=112895, text_template='{metadata_str}\\n\\n{content}', metadata_template='{key}: {value}', metadata_seperator='\\n'), score=0.5852867),\n",
       " NodeWithScore(node=TextNode(id_='b1ac41e1-3e82-4841-a2b3-14e001f67e2d', embedding=None, metadata={'file_path': '../02_Fundamental_Concepts_in_LlamaIndex/data/pg10763.txt', 'file_name': 'pg10763.txt', 'file_type': 'text/plain', 'file_size': 405245, 'creation_date': '2025-02-04', 'last_modified_date': '2024-11-05'}, excluded_embed_metadata_keys=['file_name', 'file_type', 'file_size', 'creation_date', 'last_modified_date', 'last_accessed_date'], excluded_llm_metadata_keys=['file_name', 'file_type', 'file_size', 'creation_date', 'last_modified_date', 'last_accessed_date'], relationships={<NodeRelationship.SOURCE: '1'>: RelatedNodeInfo(node_id='../02_Fundamental_Concepts_in_LlamaIndex/data/pg10763.txt', node_type=<ObjectType.DOCUMENT: '4'>, metadata={'file_path': '../02_Fundamental_Concepts_in_LlamaIndex/data/pg10763.txt', 'file_name': 'pg10763.txt', 'file_type': 'text/plain', 'file_size': 405245, 'creation_date': '2025-02-04', 'last_modified_date': '2024-11-05'}, hash='03c9452d9f7c86ced8da0f7fb21a2349522f9cab467a0210d1200d4e507d0453'), <NodeRelationship.PREVIOUS: '2'>: RelatedNodeInfo(node_id='875b5abd-d562-4ef9-bdf9-4e52868e0bc2', node_type=<ObjectType.TEXT: '1'>, metadata={'file_path': '../02_Fundamental_Concepts_in_LlamaIndex/data/pg10763.txt', 'file_name': 'pg10763.txt', 'file_type': 'text/plain', 'file_size': 405245, 'creation_date': '2025-02-04', 'last_modified_date': '2024-11-05'}, hash='0cd2524a00a5261e91d842604918b0deae89d3e5c3e1bfca2d1c79733f468f80'), <NodeRelationship.NEXT: '3'>: RelatedNodeInfo(node_id='28f2c6fa-c8a5-42f8-84c4-d7917e3c77d9', node_type=<ObjectType.TEXT: '1'>, metadata={}, hash='464885b082a64ee19402885969f12b089192100be1bbba689be276cc18c37d04')}, text='pray;\\r\\n  But our feet must rise, or we fall again.\\r\\n\\r\\n  Only in dreams is a ladder thrown\\r\\n    From the weary earth to the sapphire walls;\\r\\n    But the dreams depart, and the vision falls,\\r\\n  And the sleeper wakes on his pillow of stone.\\r\\n\\r\\n  Heaven is not reached at a single bound;\\r\\n    But we build the ladder by which we rise\\r\\n    From the lowly earth to the vaulted skies,\\r\\n  And we mount to its summit, round by round.\\r\\n\\r\\n\\r\\n_J.G. Holland._\\r\\n\\r\\nFrom \"Complete Poetical Writings.\"\\r\\n\\r\\n\\r\\n\\r\\n\\r\\nRULES FOR THE ROAD\\r\\n\\r\\n\\r\\nArdor of sinew and spirit--what else do we need to make our journey\\r\\nprosperous and happy?\\r\\n\\r\\n\\r\\n  Stand straight:\\r\\n  Step firmly, throw your weight:\\r\\n  The heaven is high above your head,\\r\\n  The good gray road is faithful to your tread.\\r\\n\\r\\n  Be strong:\\r\\n  Sing to your heart a battle song:\\r\\n  Though hidden foemen lie in wait,\\r\\n  Something is in you that can smile at Fate.\\r\\n\\r\\n  Press through:\\r\\n  Nothing can harm if you', mimetype='text/plain', start_char_idx=297484, end_char_idx=298421, text_template='{metadata_str}\\n\\n{content}', metadata_template='{key}: {value}', metadata_seperator='\\n'), score=0.5042332),\n",
       " NodeWithScore(node=TextNode(id_='8cdd0fba-b46f-42f1-9b5a-d9647d741ab0', embedding=None, metadata={'file_path': '../02_Fundamental_Concepts_in_LlamaIndex/data/pg10763.txt', 'file_name': 'pg10763.txt', 'file_type': 'text/plain', 'file_size': 405245, 'creation_date': '2025-02-04', 'last_modified_date': '2024-11-05'}, excluded_embed_metadata_keys=['file_name', 'file_type', 'file_size', 'creation_date', 'last_modified_date', 'last_accessed_date'], excluded_llm_metadata_keys=['file_name', 'file_type', 'file_size', 'creation_date', 'last_modified_date', 'last_accessed_date'], relationships={<NodeRelationship.SOURCE: '1'>: RelatedNodeInfo(node_id='../02_Fundamental_Concepts_in_LlamaIndex/data/pg10763.txt', node_type=<ObjectType.DOCUMENT: '4'>, metadata={'file_path': '../02_Fundamental_Concepts_in_LlamaIndex/data/pg10763.txt', 'file_name': 'pg10763.txt', 'file_type': 'text/plain', 'file_size': 405245, 'creation_date': '2025-02-04', 'last_modified_date': '2024-11-05'}, hash='03c9452d9f7c86ced8da0f7fb21a2349522f9cab467a0210d1200d4e507d0453'), <NodeRelationship.PREVIOUS: '2'>: RelatedNodeInfo(node_id='dd774cd3-f86e-49d3-ae4a-3a762e74ce17', node_type=<ObjectType.TEXT: '1'>, metadata={'file_path': '../02_Fundamental_Concepts_in_LlamaIndex/data/pg10763.txt', 'file_name': 'pg10763.txt', 'file_type': 'text/plain', 'file_size': 405245, 'creation_date': '2025-02-04', 'last_modified_date': '2024-11-05'}, hash='59cfc52955dbb415b72c694974cfbdaed61a811499d3c73f6ad2ae3206ce6e60'), <NodeRelationship.NEXT: '3'>: RelatedNodeInfo(node_id='83b0e502-0d9a-45a6-839c-213a0b46e83c', node_type=<ObjectType.TEXT: '1'>, metadata={}, hash='7c4dc2a720eb20b38a76b4c6afa2d3b9c3d7f60fb127d91a1174d849b6d785dd')}, text=\"is another chapter in the book,\\r\\n    This is another race that you have planned,\\r\\n  Don't give the vanished days a backward look,\\r\\n    Start where you stand.\\r\\n\\r\\n  The world won't care about your old defeats\\r\\n    If you can start anew and win success,\\r\\n  The future is your time, and time is fleet\\r\\n    And there is much of work and strain and stress;\\r\\n  Forget the buried woes and dead despairs,\\r\\n    Here is a brand new trial right at hand,\\r\\n  The future is for him who does and dares,\\r\\n    Start where you stand.\\r\\n\\r\\n  Old failures will not halt, old triumphs aid,\\r\\n    To-day's the thing, to-morrow soon will be;\\r\\n  Get in the fight and face it unafraid,\\r\\n    And leave the past to ancient history;\\r\\n  What has been, has been; yesterday is dead\\r\\n    And by it you are neither blessed nor banned,\\r\\n  Take courage, man, be brave and drive ahead,\\r\\n    Start where you stand.\\r\\n\\r\\n\\r\\n_Berton Braley._\\r\\n\\r\\nFrom\", mimetype='text/plain', start_char_idx=112829, end_char_idx=113732, text_template='{metadata_str}\\n\\n{content}', metadata_template='{key}: {value}', metadata_seperator='\\n'), score=0.49829304),\n",
       " NodeWithScore(node=TextNode(id_='d5f4df2b-f4e5-478d-a629-631c420f4d50', embedding=None, metadata={'file_path': '../02_Fundamental_Concepts_in_LlamaIndex/data/pg10763.txt', 'file_name': 'pg10763.txt', 'file_type': 'text/plain', 'file_size': 405245, 'creation_date': '2025-02-04', 'last_modified_date': '2024-11-05'}, excluded_embed_metadata_keys=['file_name', 'file_type', 'file_size', 'creation_date', 'last_modified_date', 'last_accessed_date'], excluded_llm_metadata_keys=['file_name', 'file_type', 'file_size', 'creation_date', 'last_modified_date', 'last_accessed_date'], relationships={<NodeRelationship.SOURCE: '1'>: RelatedNodeInfo(node_id='../02_Fundamental_Concepts_in_LlamaIndex/data/pg10763.txt', node_type=<ObjectType.DOCUMENT: '4'>, metadata={'file_path': '../02_Fundamental_Concepts_in_LlamaIndex/data/pg10763.txt', 'file_name': 'pg10763.txt', 'file_type': 'text/plain', 'file_size': 405245, 'creation_date': '2025-02-04', 'last_modified_date': '2024-11-05'}, hash='03c9452d9f7c86ced8da0f7fb21a2349522f9cab467a0210d1200d4e507d0453'), <NodeRelationship.PREVIOUS: '2'>: RelatedNodeInfo(node_id='eb16cfbd-5f3d-4f8b-bb06-3303a58e437e', node_type=<ObjectType.TEXT: '1'>, metadata={'file_path': '../02_Fundamental_Concepts_in_LlamaIndex/data/pg10763.txt', 'file_name': 'pg10763.txt', 'file_type': 'text/plain', 'file_size': 405245, 'creation_date': '2025-02-04', 'last_modified_date': '2024-11-05'}, hash='e0e86881a563c3213c09c7eebde7bf5b2486e5e7ea0cedf1126009728834c7cb'), <NodeRelationship.NEXT: '3'>: RelatedNodeInfo(node_id='00adf36b-b4cb-4147-86e7-592b965e1b1c', node_type=<ObjectType.TEXT: '1'>, metadata={}, hash='adbcb159f5f9da7dda0d0ec64b13396c2480e04827c5508c41f6a6c3b43ac01a')}, text='Let me live in my house by the side of the road\\r\\n    And be a friend to man.\\r\\n\\r\\n\\r\\n_Sam Walter Foss._\\r\\n\\r\\nFrom \"Dreams in Homespun.\"\\r\\n\\r\\n\\r\\n\\r\\n\\r\\nFOUR THINGS\\r\\n\\r\\n\\r\\nWhat are the qualities of ideal manhood? Various people have given\\r\\nvarious answers to this question. Here the poet states what qualities he\\r\\nthinks indispensable.\\r\\n\\r\\n\\r\\n  Four things a man must learn to do\\r\\n  If he would make his record true:\\r\\n  To think without confusion clearly;\\r\\n  To love his fellow-men sincerely;\\r\\n  To act from honest motives purely;\\r\\n  To trust in God and Heaven securely.\\r\\n\\r\\n\\r\\n_Henry Van Dyke._\\r\\n\\r\\nFrom \"Collected Poems.\"\\r\\n\\r\\n\\r\\n\\r\\n\\r\\nIF\\r\\n\\r\\n\\r\\nThe central idea of this poem is that success comes from self-control\\r\\nand a true sense of the values of things. In extremes lies danger. A man\\r\\nmust not lose heart because of doubts or opposition, yet he must do his\\r\\nbest to see the grounds for both. He must not be deceived into thinking\\r\\neither triumph or disaster final; he must use each wisely--and push on.\\r\\nIn all', mimetype='text/plain', start_char_idx=21461, end_char_idx=22452, text_template='{metadata_str}\\n\\n{content}', metadata_template='{key}: {value}', metadata_seperator='\\n'), score=0.49612242),\n",
       " NodeWithScore(node=TextNode(id_='1195d450-238a-4cbe-976a-957336b0876c', embedding=None, metadata={'file_path': '../02_Fundamental_Concepts_in_LlamaIndex/data/pg10763.txt', 'file_name': 'pg10763.txt', 'file_type': 'text/plain', 'file_size': 405245, 'creation_date': '2025-02-04', 'last_modified_date': '2024-11-05'}, excluded_embed_metadata_keys=['file_name', 'file_type', 'file_size', 'creation_date', 'last_modified_date', 'last_accessed_date'], excluded_llm_metadata_keys=['file_name', 'file_type', 'file_size', 'creation_date', 'last_modified_date', 'last_accessed_date'], relationships={<NodeRelationship.SOURCE: '1'>: RelatedNodeInfo(node_id='../02_Fundamental_Concepts_in_LlamaIndex/data/pg10763.txt', node_type=<ObjectType.DOCUMENT: '4'>, metadata={'file_path': '../02_Fundamental_Concepts_in_LlamaIndex/data/pg10763.txt', 'file_name': 'pg10763.txt', 'file_type': 'text/plain', 'file_size': 405245, 'creation_date': '2025-02-04', 'last_modified_date': '2024-11-05'}, hash='03c9452d9f7c86ced8da0f7fb21a2349522f9cab467a0210d1200d4e507d0453'), <NodeRelationship.PREVIOUS: '2'>: RelatedNodeInfo(node_id='e7b21a40-20b6-4276-ac21-a783788bfe07', node_type=<ObjectType.TEXT: '1'>, metadata={'file_path': '../02_Fundamental_Concepts_in_LlamaIndex/data/pg10763.txt', 'file_name': 'pg10763.txt', 'file_type': 'text/plain', 'file_size': 405245, 'creation_date': '2025-02-04', 'last_modified_date': '2024-11-05'}, hash='779b5bd19961b198925d59335ebad39ec66071fce593c1dcca5a01eda0af6a60'), <NodeRelationship.NEXT: '3'>: RelatedNodeInfo(node_id='36302864-de5d-4a15-b4d2-255a76cc7691', node_type=<ObjectType.TEXT: '1'>, metadata={}, hash='9162012d0961b2916ce76f10c90a0a0d9305420a4380cd9cb557c8db0e6a1fe5')}, text=\"leisure;\\r\\n  But here, by this lone stream,\\r\\n  Lie down with us and dream\\r\\n    Of starry treasure.\\r\\n\\r\\n  We dream: do thou the same:\\r\\n    We love--forever;\\r\\n  We laugh; yet few we shame,\\r\\n    The gentle, never.\\r\\n  Stay, then, till Sorrow dies;\\r\\n  _Then_--hope and happy skies\\r\\n    Are thine forever!\\r\\n\\r\\n\\r\\n_Bryan Waller Procter._\\r\\n\\r\\n\\r\\n\\r\\n\\r\\nSONG OF ENDEAVOR\\r\\n\\r\\n\\r\\nDon Quixote discovered that there are no eggs in last year's\\r\\nbird's-nests. Many of us waste our time in regrets for the past, without\\r\\nseeming to perceive that hope lies only in endeavor for the future.\\r\\n\\r\\n\\r\\n  'Tis not by wishing that we gain the prize,\\r\\n    Nor yet by ruing,\\r\\n  But from our falling, learning how to rise,\\r\\n    And tireless doing.\\r\\n\\r\\n  The idols broken, nor our tears and sighs,\\r\\n    May yet restore them.\\r\\n  Regret is only for fools; the wise\\r\\n    Look but before\", mimetype='text/plain', start_char_idx=331578, end_char_idx=332419, text_template='{metadata_str}\\n\\n{content}', metadata_template='{key}: {value}', metadata_seperator='\\n'), score=0.49576735),\n",
       " NodeWithScore(node=TextNode(id_='395bcf27-1c76-4408-afbe-837c3a5bc637', embedding=None, metadata={'file_path': '../02_Fundamental_Concepts_in_LlamaIndex/data/pg10763.txt', 'file_name': 'pg10763.txt', 'file_type': 'text/plain', 'file_size': 405245, 'creation_date': '2025-02-04', 'last_modified_date': '2024-11-05'}, excluded_embed_metadata_keys=['file_name', 'file_type', 'file_size', 'creation_date', 'last_modified_date', 'last_accessed_date'], excluded_llm_metadata_keys=['file_name', 'file_type', 'file_size', 'creation_date', 'last_modified_date', 'last_accessed_date'], relationships={<NodeRelationship.SOURCE: '1'>: RelatedNodeInfo(node_id='../02_Fundamental_Concepts_in_LlamaIndex/data/pg10763.txt', node_type=<ObjectType.DOCUMENT: '4'>, metadata={'file_path': '../02_Fundamental_Concepts_in_LlamaIndex/data/pg10763.txt', 'file_name': 'pg10763.txt', 'file_type': 'text/plain', 'file_size': 405245, 'creation_date': '2025-02-04', 'last_modified_date': '2024-11-05'}, hash='03c9452d9f7c86ced8da0f7fb21a2349522f9cab467a0210d1200d4e507d0453'), <NodeRelationship.PREVIOUS: '2'>: RelatedNodeInfo(node_id='db134fd0-7a07-4619-86ef-e8f38a8e75a1', node_type=<ObjectType.TEXT: '1'>, metadata={'file_path': '../02_Fundamental_Concepts_in_LlamaIndex/data/pg10763.txt', 'file_name': 'pg10763.txt', 'file_type': 'text/plain', 'file_size': 405245, 'creation_date': '2025-02-04', 'last_modified_date': '2024-11-05'}, hash='62bf36437469ef0f5362d02edb4b35b18684c90432d95581e428c1f0b5ae143d'), <NodeRelationship.NEXT: '3'>: RelatedNodeInfo(node_id='ccda2f43-ecb3-4e83-bd00-9c81780df5f9', node_type=<ObjectType.TEXT: '1'>, metadata={}, hash='b2b65e80b9c9422af4bb35c91b6b524a3d40853025bd20e9c6d8b5156c0a0515')}, text='yet he greeteth a million morns.\\r\\n\\r\\n  He whom a dream hath possessed knoweth no more of roaming;\\r\\n  All roads and the flowing of waves and the speediest flight he knows,\\r\\n  But wherever his feet are set, his soul is forever homing,\\r\\n  And going, he comes, and coming he heareth a call and goes.\\r\\n\\r\\n  He whom a dream hath possessed knoweth no more of sorrow,\\r\\n  At death and the dropping of leaves and the fading of suns he smiles,\\r\\n  For a dream remembers no past and scorns the desire of a morrow,\\r\\n  And a dream in a sea of doom sets surely the ultimate isles.\\r\\n\\r\\n  He whom a dream hath possessed treads the impalpable marches,\\r\\n  From the dust of the day\\'s long road he leaps to a laughing star,\\r\\n  And the ruin of worlds that fall he views from eternal arches,\\r\\n  And rides God\\'s battlefield in a flashing and golden car.\\r\\n\\r\\n\\r\\n_Sheamus O Sheel._\\r\\n\\r\\nFrom \"The Lyric Year.\"\\r\\n\\r\\n\\r\\n\\r\\n\\r\\nSUCCESS\\r\\n\\r\\n\\r\\nAs necessity is the mother of invention, strong desire is the mother of\\r\\nattainment.', mimetype='text/plain', start_char_idx=241392, end_char_idx=242374, text_template='{metadata_str}\\n\\n{content}', metadata_template='{key}: {value}', metadata_seperator='\\n'), score=0.49513102),\n",
       " NodeWithScore(node=TextNode(id_='f45f7cbb-a133-41e6-95f1-131e6268a703', embedding=None, metadata={'file_path': '../02_Fundamental_Concepts_in_LlamaIndex/data/pg10763.txt', 'file_name': 'pg10763.txt', 'file_type': 'text/plain', 'file_size': 405245, 'creation_date': '2025-02-04', 'last_modified_date': '2024-11-05'}, excluded_embed_metadata_keys=['file_name', 'file_type', 'file_size', 'creation_date', 'last_modified_date', 'last_accessed_date'], excluded_llm_metadata_keys=['file_name', 'file_type', 'file_size', 'creation_date', 'last_modified_date', 'last_accessed_date'], relationships={<NodeRelationship.SOURCE: '1'>: RelatedNodeInfo(node_id='../02_Fundamental_Concepts_in_LlamaIndex/data/pg10763.txt', node_type=<ObjectType.DOCUMENT: '4'>, metadata={'file_path': '../02_Fundamental_Concepts_in_LlamaIndex/data/pg10763.txt', 'file_name': 'pg10763.txt', 'file_type': 'text/plain', 'file_size': 405245, 'creation_date': '2025-02-04', 'last_modified_date': '2024-11-05'}, hash='03c9452d9f7c86ced8da0f7fb21a2349522f9cab467a0210d1200d4e507d0453'), <NodeRelationship.PREVIOUS: '2'>: RelatedNodeInfo(node_id='ca6705dc-0f1f-4889-a5f1-570e4144250b', node_type=<ObjectType.TEXT: '1'>, metadata={'file_path': '../02_Fundamental_Concepts_in_LlamaIndex/data/pg10763.txt', 'file_name': 'pg10763.txt', 'file_type': 'text/plain', 'file_size': 405245, 'creation_date': '2025-02-04', 'last_modified_date': '2024-11-05'}, hash='5805a46007ec43ce9b148d0d77ffb85cee0dc403f3d5e5e779b30510d63dfb49'), <NodeRelationship.NEXT: '3'>: RelatedNodeInfo(node_id='e6b8a7f3-78c2-48b2-b961-aabe4230a86f', node_type=<ObjectType.TEXT: '1'>, metadata={}, hash='d4107358f1af66e78f6ae656cdc0425eba2ac61f53baa59414698c2ef1501cdb')}, text=\"do;\\r\\n  Yet Fame hath crowned with her success\\r\\n  The selfsame gifts that you possess.\\r\\n\\r\\n  The great were young as you,\\r\\n  Dreaming the very dreams you hold,\\r\\n  Longing yet fearing to be bold,\\r\\n  Doubting that they themselves possessed\\r\\n  The strength and skill for every test,\\r\\n  Uncertain of the truths they knew,\\r\\n  Not sure that they could stand to fate\\r\\n  With all the courage of the great.\\r\\n\\r\\n  Then came a day when they\\r\\n  Their first bold venture made,\\r\\n  Scorning to cry for aid.\\r\\n  They dared to stand to fight alone,\\r\\n  Took up the gauntlet life had thrown,\\r\\n  Charged full-front to the fray,\\r\\n  Mastered their fear of self, and then\\r\\n  Learned that our great men are but men.\\r\\n\\r\\n  Oh, Youth, go forth and do!\\r\\n  You, too, to fame may rise;\\r\\n  You can be strong and wise.\\r\\n  Stand up to life and play the man--\\r\\n  You can if you'll but think you can;\\r\\n  The great were once as you.\\r\\n  You envy them their proud success?\\r\\n  'Twas won with gifts\", mimetype='text/plain', start_char_idx=328260, end_char_idx=329214, text_template='{metadata_str}\\n\\n{content}', metadata_template='{key}: {value}', metadata_seperator='\\n'), score=0.49425083)]"
      ]
     },
     "execution_count": 13,
     "metadata": {},
     "output_type": "execute_result"
    }
   ],
   "source": [
    "retrieved_nodes"
   ]
  },
  {
   "cell_type": "code",
   "execution_count": 14,
   "metadata": {},
   "outputs": [
    {
     "name": "stdout",
     "output_type": "stream",
     "text": [
      "the right way.\"\n",
      "\n",
      "  Then shall I see it not too great, nor small\n",
      "    To suit my spirit and to prove my powers;\n",
      "    Then shall I cheerful greet the laboring hours,\n",
      "  And cheerful turn, when the long shadows fall\n",
      "  At eventide, to play and love and rest,\n",
      "  Because I know for me my work is best.\n",
      "\n",
      "\n",
      "_Henry Van Dyke._\n",
      "\n",
      "From \"Collected Poems.\"\n",
      "\n",
      "\n",
      "\n",
      "\n",
      "START WHERE YOU STAND\n",
      "\n",
      "\n",
      "When a man who had been in the penitentiary applied to Henry Ford for\n",
      "employment, he started to tell Mr. Ford his story. \"Never mind,\" said\n",
      "Mr. Ford, \"I don't care about the past. Start where you stand!\"--Author's\n",
      "note.\n",
      "\n",
      "\n",
      "  Start where you stand and never mind the past,\n",
      "    The past won't help you in beginning new,\n",
      "  If you have left it all behind at last\n",
      "    Why, that's enough, you're done with it, you're through;\n",
      "  This is another chapter in the book,\n",
      "    This is another race that you\n"
     ]
    }
   ],
   "source": [
    "print(retrieved_nodes[0].get_text())"
   ]
  },
  {
   "cell_type": "code",
   "execution_count": 15,
   "metadata": {},
   "outputs": [
    {
     "name": "stdout",
     "output_type": "stream",
     "text": [
      "0.5852867\n"
     ]
    }
   ],
   "source": [
    "print(retrieved_nodes[0].get_score())"
   ]
  },
  {
   "cell_type": "markdown",
   "metadata": {},
   "source": [
    "The ingestion pipeline allows for saves the cache and docstore to a default folder `(./pipeline_storage)`. \n",
    "\n",
    "When running the pipeline, it reuses the cache, skips duplicate documents in the docstore.\n",
    "\n"
   ]
  },
  {
   "cell_type": "code",
   "execution_count": 16,
   "metadata": {},
   "outputs": [],
   "source": [
    "pipeline.persist('./pipeline_storage')"
   ]
  }
 ],
 "metadata": {
  "kernelspec": {
   "display_name": "lil_llama_index",
   "language": "python",
   "name": "python3"
  },
  "language_info": {
   "codemirror_mode": {
    "name": "ipython",
    "version": 3
   },
   "file_extension": ".py",
   "mimetype": "text/x-python",
   "name": "python",
   "nbconvert_exporter": "python",
   "pygments_lexer": "ipython3",
   "version": "3.10.16"
  }
 },
 "nbformat": 4,
 "nbformat_minor": 2
}
